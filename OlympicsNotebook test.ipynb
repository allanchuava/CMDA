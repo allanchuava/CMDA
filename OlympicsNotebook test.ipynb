



<!DOCTYPE html>
<html lang="en" class="">
  <head prefix="og: http://ogp.me/ns# fb: http://ogp.me/ns/fb# object: http://ogp.me/ns/object# article: http://ogp.me/ns/article# profile: http://ogp.me/ns/profile#">
    <meta charset='utf-8'>
    <meta http-equiv="X-UA-Compatible" content="IE=edge">
    <meta http-equiv="Content-Language" content="en">
    
    
    <title>CMDA3764-Final-Project/OlympicsNotebook.ipynb at master · ojmhetar/CMDA3764-Final-Project</title>
    <link rel="search" type="application/opensearchdescription+xml" href="/opensearch.xml" title="GitHub">
    <link rel="fluid-icon" href="https://github.com/fluidicon.png" title="GitHub">
    <link rel="apple-touch-icon" sizes="57x57" href="/apple-touch-icon-114.png">
    <link rel="apple-touch-icon" sizes="114x114" href="/apple-touch-icon-114.png">
    <link rel="apple-touch-icon" sizes="72x72" href="/apple-touch-icon-144.png">
    <link rel="apple-touch-icon" sizes="144x144" href="/apple-touch-icon-144.png">
    <meta property="fb:app_id" content="1401488693436528">

      <meta content="@github" name="twitter:site" /><meta content="summary" name="twitter:card" /><meta content="ojmhetar/CMDA3764-Final-Project" name="twitter:title" /><meta content="Contribute to CMDA3764-Final-Project development by creating an account on GitHub." name="twitter:description" /><meta content="https://avatars1.githubusercontent.com/u/6435307?v=3&amp;s=400" name="twitter:image:src" />
<meta content="GitHub" property="og:site_name" /><meta content="object" property="og:type" /><meta content="https://avatars1.githubusercontent.com/u/6435307?v=3&amp;s=400" property="og:image" /><meta content="ojmhetar/CMDA3764-Final-Project" property="og:title" /><meta content="https://github.com/ojmhetar/CMDA3764-Final-Project" property="og:url" /><meta content="Contribute to CMDA3764-Final-Project development by creating an account on GitHub." property="og:description" />

      <meta name="browser-stats-url" content="/_stats">
    <link rel="assets" href="https://assets-cdn.github.com/">
    <link rel="conduit-xhr" href="https://ghconduit.com:25035">
    <link rel="xhr-socket" href="/_sockets">
    <meta name="pjax-timeout" content="1000">
    <link rel="sudo-modal" href="/sessions/sudo_modal">

    <meta name="msapplication-TileImage" content="/windows-tile.png">
    <meta name="msapplication-TileColor" content="#ffffff">
    <meta name="selected-link" value="repo_source" data-pjax-transient>
      <meta name="google-analytics" content="UA-3769691-2">

    <meta content="collector.githubapp.com" name="octolytics-host" /><meta content="collector-cdn.github.com" name="octolytics-script-host" /><meta content="github" name="octolytics-app-id" /><meta content="62F905F1:0F97:155577EE:548545D8" name="octolytics-dimension-request_id" /><meta content="8611275" name="octolytics-actor-id" /><meta content="allanchuava" name="octolytics-actor-login" /><meta content="a5df510f3f4a4efd21fb4e847a4716a14e37dc366664cc343ed99a048d9ad2a2" name="octolytics-actor-hash" />
    
    <meta content="Rails, view, blob#show" name="analytics-event" />

    
    
    <link rel="icon" type="image/x-icon" href="https://assets-cdn.github.com/favicon.ico">


    <meta content="authenticity_token" name="csrf-param" />
<meta content="4k58bVWMUvglAzAbjf4UV5mcmEjJRq3XjaSI+ji33f5zqmKQgyvGahGikx4Xz3Vp6ST3MRFMjx/Rp3OepVNvdQ==" name="csrf-token" />

    <link href="https://assets-cdn.github.com/assets/github-2a88a7bf0ff1b660d7ff29c3220a68751650b37fc53d40d3a7068e835fd213ec.css" media="all" rel="stylesheet" type="text/css" />
    <link href="https://assets-cdn.github.com/assets/github2-ee4170e0122d252766e3edc8c97b6cc6ae381c974013b5047ed5ad8895c56fe0.css" media="all" rel="stylesheet" type="text/css" />
    
    


    <meta http-equiv="x-pjax-version" content="41958266624bf574cf788503efcc1eef">

      
  <meta name="description" content="Contribute to CMDA3764-Final-Project development by creating an account on GitHub.">
  <meta name="go-import" content="github.com/ojmhetar/CMDA3764-Final-Project git https://github.com/ojmhetar/CMDA3764-Final-Project.git">

  <meta content="6435307" name="octolytics-dimension-user_id" /><meta content="ojmhetar" name="octolytics-dimension-user_login" /><meta content="26243371" name="octolytics-dimension-repository_id" /><meta content="ojmhetar/CMDA3764-Final-Project" name="octolytics-dimension-repository_nwo" /><meta content="true" name="octolytics-dimension-repository_public" /><meta content="false" name="octolytics-dimension-repository_is_fork" /><meta content="26243371" name="octolytics-dimension-repository_network_root_id" /><meta content="ojmhetar/CMDA3764-Final-Project" name="octolytics-dimension-repository_network_root_nwo" />
  <link href="https://github.com/ojmhetar/CMDA3764-Final-Project/commits/master.atom" rel="alternate" title="Recent Commits to CMDA3764-Final-Project:master" type="application/atom+xml">

  </head>


  <body class="logged_in  env-production windows vis-public page-blob">
    <a href="#start-of-content" tabindex="1" class="accessibility-aid js-skip-to-content">Skip to content</a>
    <div class="wrapper">
      
      
      
      


      <div class="header header-logged-in true" role="banner">
  <div class="container clearfix">

    <a class="header-logo-invertocat" href="https://github.com/" data-hotkey="g d" aria-label="Homepage" ga-data-click="Header, go to dashboard, icon:logo">
  <span class="mega-octicon octicon-mark-github"></span>
</a>


      <div class="site-search repo-scope js-site-search" role="search">
          <form accept-charset="UTF-8" action="/ojmhetar/CMDA3764-Final-Project/search" class="js-site-search-form" data-global-search-url="/search" data-repo-search-url="/ojmhetar/CMDA3764-Final-Project/search" method="get"><div style="margin:0;padding:0;display:inline"><input name="utf8" type="hidden" value="&#x2713;" /></div>
  <input type="text"
    class="js-site-search-field is-clearable"
    data-hotkey="s"
    name="q"
    placeholder="Search"
    data-global-scope-placeholder="Search GitHub"
    data-repo-scope-placeholder="Search"
    tabindex="1"
    autocapitalize="off">
  <div class="scope-badge">This repository</div>
</form>
      </div>
      <ul class="header-nav left" role="navigation">
        <li class="header-nav-item explore">
          <a class="header-nav-link" href="/explore" data-ga-click="Header, go to explore, text:explore">Explore</a>
        </li>
          <li class="header-nav-item">
            <a class="header-nav-link" href="https://gist.github.com" data-ga-click="Header, go to gist, text:gist">Gist</a>
          </li>
          <li class="header-nav-item">
            <a class="header-nav-link" href="/blog" data-ga-click="Header, go to blog, text:blog">Blog</a>
          </li>
        <li class="header-nav-item">
          <a class="header-nav-link" href="https://help.github.com" data-ga-click="Header, go to help, text:help">Help</a>
        </li>
      </ul>

    
<ul class="header-nav user-nav right" id="user-links">
  <li class="header-nav-item dropdown js-menu-container">
    <a class="header-nav-link name" href="/allanchuava" data-ga-click="Header, go to profile, text:username">
      <img alt="allanchuava" class="avatar" data-user="8611275" height="20" src="https://avatars1.githubusercontent.com/u/8611275?v=3&amp;s=40" width="20" />
      <span class="css-truncate">
        <span class="css-truncate-target">allanchuava</span>
      </span>
    </a>
  </li>

  <li class="header-nav-item dropdown js-menu-container">
    <a class="header-nav-link js-menu-target tooltipped tooltipped-s" href="#" aria-label="Create new..." data-ga-click="Header, create new, icon:add">
      <span class="octicon octicon-plus"></span>
      <span class="dropdown-caret"></span>
    </a>

    <div class="dropdown-menu-content js-menu-content">
      
<ul class="dropdown-menu">
  <li>
    <a href="/new"><span class="octicon octicon-repo"></span> New repository</a>
  </li>
  <li>
    <a href="/organizations/new"><span class="octicon octicon-organization"></span> New organization</a>
  </li>


    <li class="dropdown-divider"></li>
    <li class="dropdown-header">
      <span title="ojmhetar/CMDA3764-Final-Project">This repository</span>
    </li>
      <li>
        <a href="/ojmhetar/CMDA3764-Final-Project/issues/new"><span class="octicon octicon-issue-opened"></span> New issue</a>
      </li>
</ul>

    </div>
  </li>

  <li class="header-nav-item">
        <a href="/notifications" aria-label="You have no unread notifications" class="header-nav-link notification-indicator tooltipped tooltipped-s" data-ga-click="Header, go to notifications, icon:read" data-hotkey="g n">
        <span class="mail-status all-read"></span>
        <span class="octicon octicon-inbox"></span>
</a>
  </li>

  <li class="header-nav-item">
    <a class="header-nav-link tooltipped tooltipped-s" href="/settings/profile" id="account_settings" aria-label="Settings" data-ga-click="Header, go to settings, icon:settings">
      <span class="octicon octicon-gear"></span>
    </a>
  </li>

  <li class="header-nav-item">
    <form accept-charset="UTF-8" action="/logout" class="logout-form" method="post"><div style="margin:0;padding:0;display:inline"><input name="utf8" type="hidden" value="&#x2713;" /><input name="authenticity_token" type="hidden" value="cF/TMBWskyIKak+kvxvKuV4noaCI3zHucKazOysG+1geyG1F/WE+ZY7xa9hDTNnSqrCUp8hw5bccWC46AqK36Q==" /></div>
      <button class="header-nav-link sign-out-button tooltipped tooltipped-s" aria-label="Sign out" data-ga-click="Header, sign out, icon:logout">
        <span class="octicon octicon-sign-out"></span>
      </button>
</form>  </li>

</ul>


    
  </div>
</div>

      

        


      <div id="start-of-content" class="accessibility-aid"></div>
          <div class="site" itemscope itemtype="http://schema.org/WebPage">
    <div id="js-flash-container">
      
    </div>
    <div class="pagehead repohead instapaper_ignore readability-menu">
      <div class="container">
        
<ul class="pagehead-actions">

    <li class="subscription">
      <form accept-charset="UTF-8" action="/notifications/subscribe" class="js-social-container" data-autosubmit="true" data-remote="true" method="post"><div style="margin:0;padding:0;display:inline"><input name="utf8" type="hidden" value="&#x2713;" /><input name="authenticity_token" type="hidden" value="21mnksTDkF6TOJLctJgEUd13iRgjU7lv+lf4DVNIUkX++piqIlJoRMMEagnRMSfrSRH7Gd4rtNyRTy0+8aVx/w==" /></div>  <input id="repository_id" name="repository_id" type="hidden" value="26243371" />

    <div class="select-menu js-menu-container js-select-menu">
      <a class="social-count js-social-count" href="/ojmhetar/CMDA3764-Final-Project/watchers">
        4
      </a>
      <a href="/ojmhetar/CMDA3764-Final-Project/subscription"
        class="minibutton select-menu-button with-count js-menu-target" role="button" tabindex="0" aria-haspopup="true">
        <span class="js-select-button">
          <span class="octicon octicon-eye"></span>
          Unwatch
        </span>
      </a>

      <div class="select-menu-modal-holder">
        <div class="select-menu-modal subscription-menu-modal js-menu-content" aria-hidden="true">
          <div class="select-menu-header">
            <span class="select-menu-title">Notifications</span>
            <span class="octicon octicon-x js-menu-close" role="button" aria-label="Close"></span>
          </div> <!-- /.select-menu-header -->

          <div class="select-menu-list js-navigation-container" role="menu">

            <div class="select-menu-item js-navigation-item " role="menuitem" tabindex="0">
              <span class="select-menu-item-icon octicon octicon-check"></span>
              <div class="select-menu-item-text">
                <input id="do_included" name="do" type="radio" value="included" />
                <h4>Not watching</h4>
                <span class="description">Be notified when participating or @mentioned.</span>
                <span class="js-select-button-text hidden-select-button-text">
                  <span class="octicon octicon-eye"></span>
                  Watch
                </span>
              </div>
            </div> <!-- /.select-menu-item -->

            <div class="select-menu-item js-navigation-item selected" role="menuitem" tabindex="0">
              <span class="select-menu-item-icon octicon octicon octicon-check"></span>
              <div class="select-menu-item-text">
                <input checked="checked" id="do_subscribed" name="do" type="radio" value="subscribed" />
                <h4>Watching</h4>
                <span class="description">Be notified of all conversations.</span>
                <span class="js-select-button-text hidden-select-button-text">
                  <span class="octicon octicon-eye"></span>
                  Unwatch
                </span>
              </div>
            </div> <!-- /.select-menu-item -->

            <div class="select-menu-item js-navigation-item " role="menuitem" tabindex="0">
              <span class="select-menu-item-icon octicon octicon-check"></span>
              <div class="select-menu-item-text">
                <input id="do_ignore" name="do" type="radio" value="ignore" />
                <h4>Ignoring</h4>
                <span class="description">Never be notified.</span>
                <span class="js-select-button-text hidden-select-button-text">
                  <span class="octicon octicon-mute"></span>
                  Stop ignoring
                </span>
              </div>
            </div> <!-- /.select-menu-item -->

          </div> <!-- /.select-menu-list -->

        </div> <!-- /.select-menu-modal -->
      </div> <!-- /.select-menu-modal-holder -->
    </div> <!-- /.select-menu -->

</form>
    </li>

  <li>
    
  <div class="js-toggler-container js-social-container starring-container ">

    <form accept-charset="UTF-8" action="/ojmhetar/CMDA3764-Final-Project/unstar" class="js-toggler-form starred js-unstar-button" data-remote="true" method="post"><div style="margin:0;padding:0;display:inline"><input name="utf8" type="hidden" value="&#x2713;" /><input name="authenticity_token" type="hidden" value="HXwY7BVKJgPNYmFprTglm4lWkxf+yPU0aFSkdPV8noLOrS2O/9F+W7U3WJpowoowqQ+GnmeztPtlf6aJenhmeA==" /></div>
      <button
        class="minibutton with-count js-toggler-target star-button"
        aria-label="Unstar this repository" title="Unstar ojmhetar/CMDA3764-Final-Project">
        <span class="octicon octicon-star"></span>
        Unstar
      </button>
        <a class="social-count js-social-count" href="/ojmhetar/CMDA3764-Final-Project/stargazers">
          0
        </a>
</form>
    <form accept-charset="UTF-8" action="/ojmhetar/CMDA3764-Final-Project/star" class="js-toggler-form unstarred js-star-button" data-remote="true" method="post"><div style="margin:0;padding:0;display:inline"><input name="utf8" type="hidden" value="&#x2713;" /><input name="authenticity_token" type="hidden" value="FjWBIyoRMgSKKSV+NkYJnwP89AOz7fw5VxN2pH2tWfvHx0lUfj3cwQ3VzW67diX7NsocnL2QQsa0i3vq4PBmQA==" /></div>
      <button
        class="minibutton with-count js-toggler-target star-button"
        aria-label="Star this repository" title="Star ojmhetar/CMDA3764-Final-Project">
        <span class="octicon octicon-star"></span>
        Star
      </button>
        <a class="social-count js-social-count" href="/ojmhetar/CMDA3764-Final-Project/stargazers">
          0
        </a>
</form>  </div>

  </li>


        <li>
          <a href="/ojmhetar/CMDA3764-Final-Project/fork" class="minibutton with-count js-toggler-target fork-button tooltipped-n" title="Fork your own copy of ojmhetar/CMDA3764-Final-Project to your account" aria-label="Fork your own copy of ojmhetar/CMDA3764-Final-Project to your account" rel="nofollow" data-method="post">
            <span class="octicon octicon-repo-forked"></span>
            Fork
          </a>
          <a href="/ojmhetar/CMDA3764-Final-Project/network" class="social-count">0</a>
        </li>

</ul>

        <h1 itemscope itemtype="http://data-vocabulary.org/Breadcrumb" class="entry-title public">
          <span class="mega-octicon octicon-repo"></span>
          <span class="author"><a href="/ojmhetar" class="url fn" itemprop="url" rel="author"><span itemprop="title">ojmhetar</span></a></span><!--
       --><span class="path-divider">/</span><!--
       --><strong><a href="/ojmhetar/CMDA3764-Final-Project" class="js-current-repository" data-pjax="#js-repo-pjax-container">CMDA3764-Final-Project</a></strong>

          <span class="page-context-loader">
            <img alt="" height="16" src="https://assets-cdn.github.com/images/spinners/octocat-spinner-32.gif" width="16" />
          </span>

        </h1>
      </div><!-- /.container -->
    </div><!-- /.repohead -->

    <div class="container">
      <div class="repository-with-sidebar repo-container new-discussion-timeline  ">
        <div class="repository-sidebar clearfix">
            
<nav class="sunken-menu repo-nav js-repo-nav js-sidenav-container-pjax js-octicon-loaders"
     role="navigation"
     data-pjax="#js-repo-pjax-container"
     data-issue-count-url="/ojmhetar/CMDA3764-Final-Project/issues/counts">
  <ul class="sunken-menu-group">
    <li class="tooltipped tooltipped-w" aria-label="Code">
      <a href="/ojmhetar/CMDA3764-Final-Project" aria-label="Code" class="selected js-selected-navigation-item sunken-menu-item" data-hotkey="g c" data-selected-links="repo_source repo_downloads repo_commits repo_releases repo_tags repo_branches /ojmhetar/CMDA3764-Final-Project">
        <span class="octicon octicon-code"></span> <span class="full-word">Code</span>
        <img alt="" class="mini-loader" height="16" src="https://assets-cdn.github.com/images/spinners/octocat-spinner-32.gif" width="16" />
</a>    </li>

      <li class="tooltipped tooltipped-w" aria-label="Issues">
        <a href="/ojmhetar/CMDA3764-Final-Project/issues" aria-label="Issues" class="js-selected-navigation-item sunken-menu-item" data-hotkey="g i" data-selected-links="repo_issues repo_labels repo_milestones /ojmhetar/CMDA3764-Final-Project/issues">
          <span class="octicon octicon-issue-opened"></span> <span class="full-word">Issues</span>
          <span class="js-issue-replace-counter"></span>
          <img alt="" class="mini-loader" height="16" src="https://assets-cdn.github.com/images/spinners/octocat-spinner-32.gif" width="16" />
</a>      </li>

    <li class="tooltipped tooltipped-w" aria-label="Pull Requests">
      <a href="/ojmhetar/CMDA3764-Final-Project/pulls" aria-label="Pull Requests" class="js-selected-navigation-item sunken-menu-item" data-hotkey="g p" data-selected-links="repo_pulls /ojmhetar/CMDA3764-Final-Project/pulls">
          <span class="octicon octicon-git-pull-request"></span> <span class="full-word">Pull Requests</span>
          <span class="js-pull-replace-counter"></span>
          <img alt="" class="mini-loader" height="16" src="https://assets-cdn.github.com/images/spinners/octocat-spinner-32.gif" width="16" />
</a>    </li>


      <li class="tooltipped tooltipped-w" aria-label="Wiki">
        <a href="/ojmhetar/CMDA3764-Final-Project/wiki" aria-label="Wiki" class="js-selected-navigation-item sunken-menu-item" data-hotkey="g w" data-selected-links="repo_wiki /ojmhetar/CMDA3764-Final-Project/wiki">
          <span class="octicon octicon-book"></span> <span class="full-word">Wiki</span>
          <img alt="" class="mini-loader" height="16" src="https://assets-cdn.github.com/images/spinners/octocat-spinner-32.gif" width="16" />
</a>      </li>
  </ul>
  <div class="sunken-menu-separator"></div>
  <ul class="sunken-menu-group">

    <li class="tooltipped tooltipped-w" aria-label="Pulse">
      <a href="/ojmhetar/CMDA3764-Final-Project/pulse" aria-label="Pulse" class="js-selected-navigation-item sunken-menu-item" data-selected-links="pulse /ojmhetar/CMDA3764-Final-Project/pulse">
        <span class="octicon octicon-pulse"></span> <span class="full-word">Pulse</span>
        <img alt="" class="mini-loader" height="16" src="https://assets-cdn.github.com/images/spinners/octocat-spinner-32.gif" width="16" />
</a>    </li>

    <li class="tooltipped tooltipped-w" aria-label="Graphs">
      <a href="/ojmhetar/CMDA3764-Final-Project/graphs" aria-label="Graphs" class="js-selected-navigation-item sunken-menu-item" data-selected-links="repo_graphs repo_contributors /ojmhetar/CMDA3764-Final-Project/graphs">
        <span class="octicon octicon-graph"></span> <span class="full-word">Graphs</span>
        <img alt="" class="mini-loader" height="16" src="https://assets-cdn.github.com/images/spinners/octocat-spinner-32.gif" width="16" />
</a>    </li>
  </ul>


</nav>

              <div class="only-with-full-nav">
                
  
<div class="clone-url open"
  data-protocol-type="http"
  data-url="/users/set_protocol?protocol_selector=http&amp;protocol_type=clone">
  <h3><span class="text-emphasized">HTTPS</span> clone URL</h3>
  <div class="input-group js-zeroclipboard-container">
    <input type="text" class="input-mini input-monospace js-url-field js-zeroclipboard-target"
           value="https://github.com/ojmhetar/CMDA3764-Final-Project.git" readonly="readonly">
    <span class="input-group-button">
      <button aria-label="Copy to clipboard" class="js-zeroclipboard minibutton zeroclipboard-button" data-copied-hint="Copied!" type="button"><span class="octicon octicon-clippy"></span></button>
    </span>
  </div>
</div>

  
<div class="clone-url "
  data-protocol-type="ssh"
  data-url="/users/set_protocol?protocol_selector=ssh&amp;protocol_type=clone">
  <h3><span class="text-emphasized">SSH</span> clone URL</h3>
  <div class="input-group js-zeroclipboard-container">
    <input type="text" class="input-mini input-monospace js-url-field js-zeroclipboard-target"
           value="git@github.com:ojmhetar/CMDA3764-Final-Project.git" readonly="readonly">
    <span class="input-group-button">
      <button aria-label="Copy to clipboard" class="js-zeroclipboard minibutton zeroclipboard-button" data-copied-hint="Copied!" type="button"><span class="octicon octicon-clippy"></span></button>
    </span>
  </div>
</div>

  
<div class="clone-url "
  data-protocol-type="subversion"
  data-url="/users/set_protocol?protocol_selector=subversion&amp;protocol_type=clone">
  <h3><span class="text-emphasized">Subversion</span> checkout URL</h3>
  <div class="input-group js-zeroclipboard-container">
    <input type="text" class="input-mini input-monospace js-url-field js-zeroclipboard-target"
           value="https://github.com/ojmhetar/CMDA3764-Final-Project" readonly="readonly">
    <span class="input-group-button">
      <button aria-label="Copy to clipboard" class="js-zeroclipboard minibutton zeroclipboard-button" data-copied-hint="Copied!" type="button"><span class="octicon octicon-clippy"></span></button>
    </span>
  </div>
</div>



<p class="clone-options">You can clone with
  <a href="#" class="js-clone-selector" data-protocol="http">HTTPS</a>, <a href="#" class="js-clone-selector" data-protocol="ssh">SSH</a>, or <a href="#" class="js-clone-selector" data-protocol="subversion">Subversion</a>.
  <a href="https://help.github.com/articles/which-remote-url-should-i-use" class="help tooltipped tooltipped-n" aria-label="Get help on which URL is right for you.">
    <span class="octicon octicon-question"></span>
  </a>
</p>


  <a href="github-windows://openRepo/https://github.com/ojmhetar/CMDA3764-Final-Project" class="minibutton sidebar-button" title="Save ojmhetar/CMDA3764-Final-Project to your computer and use it in GitHub Desktop." aria-label="Save ojmhetar/CMDA3764-Final-Project to your computer and use it in GitHub Desktop.">
    <span class="octicon octicon-device-desktop"></span>
    Clone in Desktop
  </a>

                <a href="/ojmhetar/CMDA3764-Final-Project/archive/master.zip"
                   class="minibutton sidebar-button"
                   aria-label="Download the contents of ojmhetar/CMDA3764-Final-Project as a zip file"
                   title="Download the contents of ojmhetar/CMDA3764-Final-Project as a zip file"
                   rel="nofollow">
                  <span class="octicon octicon-cloud-download"></span>
                  Download ZIP
                </a>
              </div>
        </div><!-- /.repository-sidebar -->

        <div id="js-repo-pjax-container" class="repository-content context-loader-container" data-pjax-container>
          

<a href="/ojmhetar/CMDA3764-Final-Project/blob/fdfa19dad02f92caadf1633cac7a815358fe3d2f/OlympicsNotebook.ipynb" class="hidden js-permalink-shortcut" data-hotkey="y">Permalink</a>

<!-- blob contrib key: blob_contributors:v21:37540c58d5bb09ab5beb942349522122 -->

<div class="file-navigation js-zeroclipboard-container">
  
<div class="select-menu js-menu-container js-select-menu left">
  <span class="minibutton select-menu-button js-menu-target css-truncate" data-hotkey="w"
    data-master-branch="master"
    data-ref="master"
    title="master"
    role="button" aria-label="Switch branches or tags" tabindex="0" aria-haspopup="true">
    <span class="octicon octicon-git-branch"></span>
    <i>branch:</i>
    <span class="js-select-button css-truncate-target">master</span>
  </span>

  <div class="select-menu-modal-holder js-menu-content js-navigation-container" data-pjax aria-hidden="true">

    <div class="select-menu-modal">
      <div class="select-menu-header">
        <span class="select-menu-title">Switch branches/tags</span>
        <span class="octicon octicon-x js-menu-close" role="button" aria-label="Close"></span>
      </div> <!-- /.select-menu-header -->

      <div class="select-menu-filters">
        <div class="select-menu-text-filter">
          <input type="text" aria-label="Find or create a branch…" id="context-commitish-filter-field" class="js-filterable-field js-navigation-enable" placeholder="Find or create a branch…">
        </div>
        <div class="select-menu-tabs">
          <ul>
            <li class="select-menu-tab">
              <a href="#" data-tab-filter="branches" class="js-select-menu-tab">Branches</a>
            </li>
            <li class="select-menu-tab">
              <a href="#" data-tab-filter="tags" class="js-select-menu-tab">Tags</a>
            </li>
          </ul>
        </div><!-- /.select-menu-tabs -->
      </div><!-- /.select-menu-filters -->

      <div class="select-menu-list select-menu-tab-bucket js-select-menu-tab-bucket" data-tab-filter="branches">

        <div data-filterable-for="context-commitish-filter-field" data-filterable-type="substring">


            <div class="select-menu-item js-navigation-item selected">
              <span class="select-menu-item-icon octicon octicon-check"></span>
              <a href="/ojmhetar/CMDA3764-Final-Project/blob/master/OlympicsNotebook.ipynb"
                 data-name="master"
                 data-skip-pjax="true"
                 rel="nofollow"
                 class="js-navigation-open select-menu-item-text css-truncate-target"
                 title="master">master</a>
            </div> <!-- /.select-menu-item -->
        </div>

          <form accept-charset="UTF-8" action="/ojmhetar/CMDA3764-Final-Project/branches" class="js-create-branch select-menu-item select-menu-new-item-form js-navigation-item js-new-item-form" method="post"><div style="margin:0;padding:0;display:inline"><input name="utf8" type="hidden" value="&#x2713;" /><input name="authenticity_token" type="hidden" value="Wtt7q16dVrXln9Q5F4mVC4Xf5XimpXoPOuKH//Vm+KU0PCv7/ViOCSqHmW2zLVUF1yhD4XLTjhAZVoZvUdVbTw==" /></div>
            <span class="octicon octicon-git-branch select-menu-item-icon"></span>
            <div class="select-menu-item-text">
              <h4>Create branch: <span class="js-new-item-name"></span></h4>
              <span class="description">from ‘master’</span>
            </div>
            <input type="hidden" name="name" id="name" class="js-new-item-value">
            <input type="hidden" name="branch" id="branch" value="master">
            <input type="hidden" name="path" id="path" value="OlympicsNotebook.ipynb">
          </form> <!-- /.select-menu-item -->

      </div> <!-- /.select-menu-list -->

      <div class="select-menu-list select-menu-tab-bucket js-select-menu-tab-bucket" data-tab-filter="tags">
        <div data-filterable-for="context-commitish-filter-field" data-filterable-type="substring">


        </div>

        <div class="select-menu-no-results">Nothing to show</div>
      </div> <!-- /.select-menu-list -->

    </div> <!-- /.select-menu-modal -->
  </div> <!-- /.select-menu-modal-holder -->
</div> <!-- /.select-menu -->

  <div class="button-group right">
    <a href="/ojmhetar/CMDA3764-Final-Project/find/master"
          class="js-show-file-finder minibutton empty-icon tooltipped tooltipped-s"
          data-pjax
          data-hotkey="t"
          aria-label="Quickly jump between files">
      <span class="octicon octicon-list-unordered"></span>
    </a>
    <button aria-label="Copy file path to clipboard" class="js-zeroclipboard minibutton zeroclipboard-button" data-copied-hint="Copied!" type="button"><span class="octicon octicon-clippy"></span></button>
  </div>

  <div class="breadcrumb js-zeroclipboard-target">
    <span class='repo-root js-repo-root'><span itemscope="" itemtype="http://data-vocabulary.org/Breadcrumb"><a href="/ojmhetar/CMDA3764-Final-Project" class="" data-branch="master" data-direction="back" data-pjax="true" itemscope="url"><span itemprop="title">CMDA3764-Final-Project</span></a></span></span><span class="separator">/</span><strong class="final-path">OlympicsNotebook.ipynb</strong>
  </div>
</div>


  <div class="commit file-history-tease">
    <div class="file-history-tease-header">
        <img alt="Ryan Connors" class="avatar" data-user="916687" height="24" src="https://avatars2.githubusercontent.com/u/916687?v=3&amp;s=48" width="24" />
        <span class="author"><a href="/rconnors" rel="contributor">rconnors</a></span>
        <time datetime="2014-12-06T23:17:35Z" is="relative-time">Dec 6, 2014</time>
        <div class="commit-title">
            <a href="/ojmhetar/CMDA3764-Final-Project/commit/fee9d8bae89fa251e64d6860dc23c33cf19f1107" class="message" data-pjax="true" title="Final commit">Final commit</a>
        </div>
    </div>

    <div class="participation">
      <p class="quickstat">
        <a href="#blob_contributors_box" rel="facebox">
          <strong>1</strong>
           contributor
        </a>
      </p>
      
    </div>
    <div id="blob_contributors_box" style="display:none">
      <h2 class="facebox-header">Users who have contributed to this file</h2>
      <ul class="facebox-user-list">
          <li class="facebox-user-list-item">
            <img alt="Ryan Connors" data-user="916687" height="24" src="https://avatars2.githubusercontent.com/u/916687?v=3&amp;s=48" width="24" />
            <a href="/rconnors">rconnors</a>
          </li>
      </ul>
    </div>
  </div>

<div class="file-box">
  <div class="file">
    <div class="meta clearfix">
      <div class="info file-name">
          <span>2569 lines (2569 sloc)</span>
          <span class="meta-divider"></span>
        <span>248.931 kb</span>
      </div>
      <div class="actions">
        <div class="button-group">
          <a href="/ojmhetar/CMDA3764-Final-Project/raw/master/OlympicsNotebook.ipynb" class="minibutton " id="raw-url">Raw</a>
            <a href="/ojmhetar/CMDA3764-Final-Project/blame/master/OlympicsNotebook.ipynb" class="minibutton js-update-url-with-hash">Blame</a>
          <a href="/ojmhetar/CMDA3764-Final-Project/commits/master/OlympicsNotebook.ipynb" class="minibutton " rel="nofollow">History</a>
        </div><!-- /.button-group -->

          <a class="octicon-button tooltipped tooltipped-nw"
             href="github-windows://openRepo/https://github.com/ojmhetar/CMDA3764-Final-Project?branch=master&amp;filepath=OlympicsNotebook.ipynb" aria-label="Open this file in GitHub for Windows">
              <span class="octicon octicon-device-desktop"></span>
          </a>

              <a class="octicon-button js-update-url-with-hash"
                 href="/ojmhetar/CMDA3764-Final-Project/edit/master/OlympicsNotebook.ipynb"
                 aria-label="Edit this file"
                 data-method="post" rel="nofollow" data-hotkey="e"><span class="octicon octicon-pencil"></span></a>

            <a class="octicon-button danger"
               href="/ojmhetar/CMDA3764-Final-Project/delete/master/OlympicsNotebook.ipynb"
               aria-label="Delete this file"
               data-method="post" data-test-id="delete-blob-file" rel="nofollow">
          <span class="octicon octicon-trashcan"></span>
        </a>
      </div><!-- /.actions -->
    </div>
    

  <div class="blob-wrapper data type-text">
      <table class="highlight tab-size-8 js-file-line-container">
      <tr>
        <td id="L1" class="blob-num js-line-number" data-line-number="1"></td>
        <td id="LC1" class="blob-code js-file-line">{</td>
      </tr>
      <tr>
        <td id="L2" class="blob-num js-line-number" data-line-number="2"></td>
        <td id="LC2" class="blob-code js-file-line"> &quot;metadata&quot;: {</td>
      </tr>
      <tr>
        <td id="L3" class="blob-num js-line-number" data-line-number="3"></td>
        <td id="LC3" class="blob-code js-file-line">  &quot;name&quot;: &quot;&quot;,</td>
      </tr>
      <tr>
        <td id="L4" class="blob-num js-line-number" data-line-number="4"></td>
        <td id="LC4" class="blob-code js-file-line">  &quot;signature&quot;: &quot;sha256:b7cf4265c0f58c403b2b89177b401854a03258c93047377ad620ab9eb65ff0ee&quot;</td>
      </tr>
      <tr>
        <td id="L5" class="blob-num js-line-number" data-line-number="5"></td>
        <td id="LC5" class="blob-code js-file-line"> },</td>
      </tr>
      <tr>
        <td id="L6" class="blob-num js-line-number" data-line-number="6"></td>
        <td id="LC6" class="blob-code js-file-line"> &quot;nbformat&quot;: 3,</td>
      </tr>
      <tr>
        <td id="L7" class="blob-num js-line-number" data-line-number="7"></td>
        <td id="LC7" class="blob-code js-file-line"> &quot;nbformat_minor&quot;: 0,</td>
      </tr>
      <tr>
        <td id="L8" class="blob-num js-line-number" data-line-number="8"></td>
        <td id="LC8" class="blob-code js-file-line"> &quot;worksheets&quot;: [</td>
      </tr>
      <tr>
        <td id="L9" class="blob-num js-line-number" data-line-number="9"></td>
        <td id="LC9" class="blob-code js-file-line">  {</td>
      </tr>
      <tr>
        <td id="L10" class="blob-num js-line-number" data-line-number="10"></td>
        <td id="LC10" class="blob-code js-file-line">   &quot;cells&quot;: [</td>
      </tr>
      <tr>
        <td id="L11" class="blob-num js-line-number" data-line-number="11"></td>
        <td id="LC11" class="blob-code js-file-line">    {</td>
      </tr>
      <tr>
        <td id="L12" class="blob-num js-line-number" data-line-number="12"></td>
        <td id="LC12" class="blob-code js-file-line">     &quot;cell_type&quot;: &quot;markdown&quot;,</td>
      </tr>
      <tr>
        <td id="L13" class="blob-num js-line-number" data-line-number="13"></td>
        <td id="LC13" class="blob-code js-file-line">     &quot;metadata&quot;: {},</td>
      </tr>
      <tr>
        <td id="L14" class="blob-num js-line-number" data-line-number="14"></td>
        <td id="LC14" class="blob-code js-file-line">     &quot;source&quot;: [</td>
      </tr>
      <tr>
        <td id="L15" class="blob-num js-line-number" data-line-number="15"></td>
        <td id="LC15" class="blob-code js-file-line">      &quot;# CMDA-3654 Final Project\n&quot;,</td>
      </tr>
      <tr>
        <td id="L16" class="blob-num js-line-number" data-line-number="16"></td>
        <td id="LC16" class="blob-code js-file-line">      &quot;## Team-08 | Olympics Data\n&quot;,</td>
      </tr>
      <tr>
        <td id="L17" class="blob-num js-line-number" data-line-number="17"></td>
        <td id="LC17" class="blob-code js-file-line">      &quot;#### Ryan Connors | Ojas Mhetar | Allan Chua | Omar Malik&quot;</td>
      </tr>
      <tr>
        <td id="L18" class="blob-num js-line-number" data-line-number="18"></td>
        <td id="LC18" class="blob-code js-file-line">     ]</td>
      </tr>
      <tr>
        <td id="L19" class="blob-num js-line-number" data-line-number="19"></td>
        <td id="LC19" class="blob-code js-file-line">    },</td>
      </tr>
      <tr>
        <td id="L20" class="blob-num js-line-number" data-line-number="20"></td>
        <td id="LC20" class="blob-code js-file-line">    {</td>
      </tr>
      <tr>
        <td id="L21" class="blob-num js-line-number" data-line-number="21"></td>
        <td id="LC21" class="blob-code js-file-line">     &quot;cell_type&quot;: &quot;markdown&quot;,</td>
      </tr>
      <tr>
        <td id="L22" class="blob-num js-line-number" data-line-number="22"></td>
        <td id="LC22" class="blob-code js-file-line">     &quot;metadata&quot;: {},</td>
      </tr>
      <tr>
        <td id="L23" class="blob-num js-line-number" data-line-number="23"></td>
        <td id="LC23" class="blob-code js-file-line">     &quot;source&quot;: [</td>
      </tr>
      <tr>
        <td id="L24" class="blob-num js-line-number" data-line-number="24"></td>
        <td id="LC24" class="blob-code js-file-line">      &quot;# Setup and library imports &quot;</td>
      </tr>
      <tr>
        <td id="L25" class="blob-num js-line-number" data-line-number="25"></td>
        <td id="LC25" class="blob-code js-file-line">     ]</td>
      </tr>
      <tr>
        <td id="L26" class="blob-num js-line-number" data-line-number="26"></td>
        <td id="LC26" class="blob-code js-file-line">    },</td>
      </tr>
      <tr>
        <td id="L27" class="blob-num js-line-number" data-line-number="27"></td>
        <td id="LC27" class="blob-code js-file-line">    {</td>
      </tr>
      <tr>
        <td id="L28" class="blob-num js-line-number" data-line-number="28"></td>
        <td id="LC28" class="blob-code js-file-line">     &quot;cell_type&quot;: &quot;code&quot;,</td>
      </tr>
      <tr>
        <td id="L29" class="blob-num js-line-number" data-line-number="29"></td>
        <td id="LC29" class="blob-code js-file-line">     &quot;collapsed&quot;: false,</td>
      </tr>
      <tr>
        <td id="L30" class="blob-num js-line-number" data-line-number="30"></td>
        <td id="LC30" class="blob-code js-file-line">     &quot;input&quot;: [</td>
      </tr>
      <tr>
        <td id="L31" class="blob-num js-line-number" data-line-number="31"></td>
        <td id="LC31" class="blob-code js-file-line">      &quot;# enable inline plotting\n&quot;,</td>
      </tr>
      <tr>
        <td id="L32" class="blob-num js-line-number" data-line-number="32"></td>
        <td id="LC32" class="blob-code js-file-line">      &quot;%pylab inline\n&quot;,</td>
      </tr>
      <tr>
        <td id="L33" class="blob-num js-line-number" data-line-number="33"></td>
        <td id="LC33" class="blob-code js-file-line">      &quot;\n&quot;,</td>
      </tr>
      <tr>
        <td id="L34" class="blob-num js-line-number" data-line-number="34"></td>
        <td id="LC34" class="blob-code js-file-line">      &quot;# import libraries\n&quot;,</td>
      </tr>
      <tr>
        <td id="L35" class="blob-num js-line-number" data-line-number="35"></td>
        <td id="LC35" class="blob-code js-file-line">      &quot;import pandas as pd\n&quot;,</td>
      </tr>
      <tr>
        <td id="L36" class="blob-num js-line-number" data-line-number="36"></td>
        <td id="LC36" class="blob-code js-file-line">      &quot;import matplotlib as mp\n&quot;,</td>
      </tr>
      <tr>
        <td id="L37" class="blob-num js-line-number" data-line-number="37"></td>
        <td id="LC37" class="blob-code js-file-line">      &quot;import matplotlib.pyplot as plt\n&quot;,</td>
      </tr>
      <tr>
        <td id="L38" class="blob-num js-line-number" data-line-number="38"></td>
        <td id="LC38" class="blob-code js-file-line">      &quot;import pylab as pl\n&quot;,</td>
      </tr>
      <tr>
        <td id="L39" class="blob-num js-line-number" data-line-number="39"></td>
        <td id="LC39" class="blob-code js-file-line">      &quot;import pickle\n&quot;,</td>
      </tr>
      <tr>
        <td id="L40" class="blob-num js-line-number" data-line-number="40"></td>
        <td id="LC40" class="blob-code js-file-line">      &quot;import xlrd&quot;</td>
      </tr>
      <tr>
        <td id="L41" class="blob-num js-line-number" data-line-number="41"></td>
        <td id="LC41" class="blob-code js-file-line">     ],</td>
      </tr>
      <tr>
        <td id="L42" class="blob-num js-line-number" data-line-number="42"></td>
        <td id="LC42" class="blob-code js-file-line">     &quot;language&quot;: &quot;python&quot;,</td>
      </tr>
      <tr>
        <td id="L43" class="blob-num js-line-number" data-line-number="43"></td>
        <td id="LC43" class="blob-code js-file-line">     &quot;metadata&quot;: {},</td>
      </tr>
      <tr>
        <td id="L44" class="blob-num js-line-number" data-line-number="44"></td>
        <td id="LC44" class="blob-code js-file-line">     &quot;outputs&quot;: [</td>
      </tr>
      <tr>
        <td id="L45" class="blob-num js-line-number" data-line-number="45"></td>
        <td id="LC45" class="blob-code js-file-line">      {</td>
      </tr>
      <tr>
        <td id="L46" class="blob-num js-line-number" data-line-number="46"></td>
        <td id="LC46" class="blob-code js-file-line">       &quot;output_type&quot;: &quot;stream&quot;,</td>
      </tr>
      <tr>
        <td id="L47" class="blob-num js-line-number" data-line-number="47"></td>
        <td id="LC47" class="blob-code js-file-line">       &quot;stream&quot;: &quot;stdout&quot;,</td>
      </tr>
      <tr>
        <td id="L48" class="blob-num js-line-number" data-line-number="48"></td>
        <td id="LC48" class="blob-code js-file-line">       &quot;text&quot;: [</td>
      </tr>
      <tr>
        <td id="L49" class="blob-num js-line-number" data-line-number="49"></td>
        <td id="LC49" class="blob-code js-file-line">        &quot;Populating the interactive namespace from numpy and matplotlib\n&quot;</td>
      </tr>
      <tr>
        <td id="L50" class="blob-num js-line-number" data-line-number="50"></td>
        <td id="LC50" class="blob-code js-file-line">       ]</td>
      </tr>
      <tr>
        <td id="L51" class="blob-num js-line-number" data-line-number="51"></td>
        <td id="LC51" class="blob-code js-file-line">      },</td>
      </tr>
      <tr>
        <td id="L52" class="blob-num js-line-number" data-line-number="52"></td>
        <td id="LC52" class="blob-code js-file-line">      {</td>
      </tr>
      <tr>
        <td id="L53" class="blob-num js-line-number" data-line-number="53"></td>
        <td id="LC53" class="blob-code js-file-line">       &quot;output_type&quot;: &quot;stream&quot;,</td>
      </tr>
      <tr>
        <td id="L54" class="blob-num js-line-number" data-line-number="54"></td>
        <td id="LC54" class="blob-code js-file-line">       &quot;stream&quot;: &quot;stderr&quot;,</td>
      </tr>
      <tr>
        <td id="L55" class="blob-num js-line-number" data-line-number="55"></td>
        <td id="LC55" class="blob-code js-file-line">       &quot;text&quot;: [</td>
      </tr>
      <tr>
        <td id="L56" class="blob-num js-line-number" data-line-number="56"></td>
        <td id="LC56" class="blob-code js-file-line">        &quot;WARNING: pylab import has clobbered these variables: [&#39;axes&#39;, &#39;colors&#39;, &#39;clf&#39;]\n&quot;,</td>
      </tr>
      <tr>
        <td id="L57" class="blob-num js-line-number" data-line-number="57"></td>
        <td id="LC57" class="blob-code js-file-line">        &quot;`%matplotlib` prevents importing * from pylab and numpy\n&quot;</td>
      </tr>
      <tr>
        <td id="L58" class="blob-num js-line-number" data-line-number="58"></td>
        <td id="LC58" class="blob-code js-file-line">       ]</td>
      </tr>
      <tr>
        <td id="L59" class="blob-num js-line-number" data-line-number="59"></td>
        <td id="LC59" class="blob-code js-file-line">      }</td>
      </tr>
      <tr>
        <td id="L60" class="blob-num js-line-number" data-line-number="60"></td>
        <td id="LC60" class="blob-code js-file-line">     ],</td>
      </tr>
      <tr>
        <td id="L61" class="blob-num js-line-number" data-line-number="61"></td>
        <td id="LC61" class="blob-code js-file-line">     &quot;prompt_number&quot;: 109</td>
      </tr>
      <tr>
        <td id="L62" class="blob-num js-line-number" data-line-number="62"></td>
        <td id="LC62" class="blob-code js-file-line">    },</td>
      </tr>
      <tr>
        <td id="L63" class="blob-num js-line-number" data-line-number="63"></td>
        <td id="LC63" class="blob-code js-file-line">    {</td>
      </tr>
      <tr>
        <td id="L64" class="blob-num js-line-number" data-line-number="64"></td>
        <td id="LC64" class="blob-code js-file-line">     &quot;cell_type&quot;: &quot;markdown&quot;,</td>
      </tr>
      <tr>
        <td id="L65" class="blob-num js-line-number" data-line-number="65"></td>
        <td id="LC65" class="blob-code js-file-line">     &quot;metadata&quot;: {},</td>
      </tr>
      <tr>
        <td id="L66" class="blob-num js-line-number" data-line-number="66"></td>
        <td id="LC66" class="blob-code js-file-line">     &quot;source&quot;: [</td>
      </tr>
      <tr>
        <td id="L67" class="blob-num js-line-number" data-line-number="67"></td>
        <td id="LC67" class="blob-code js-file-line">      &quot;# Import data from csv file and data set to pandas.&quot;</td>
      </tr>
      <tr>
        <td id="L68" class="blob-num js-line-number" data-line-number="68"></td>
        <td id="LC68" class="blob-code js-file-line">     ]</td>
      </tr>
      <tr>
        <td id="L69" class="blob-num js-line-number" data-line-number="69"></td>
        <td id="LC69" class="blob-code js-file-line">    },</td>
      </tr>
      <tr>
        <td id="L70" class="blob-num js-line-number" data-line-number="70"></td>
        <td id="LC70" class="blob-code js-file-line">    {</td>
      </tr>
      <tr>
        <td id="L71" class="blob-num js-line-number" data-line-number="71"></td>
        <td id="LC71" class="blob-code js-file-line">     &quot;cell_type&quot;: &quot;code&quot;,</td>
      </tr>
      <tr>
        <td id="L72" class="blob-num js-line-number" data-line-number="72"></td>
        <td id="LC72" class="blob-code js-file-line">     &quot;collapsed&quot;: false,</td>
      </tr>
      <tr>
        <td id="L73" class="blob-num js-line-number" data-line-number="73"></td>
        <td id="LC73" class="blob-code js-file-line">     &quot;input&quot;: [</td>
      </tr>
      <tr>
        <td id="L74" class="blob-num js-line-number" data-line-number="74"></td>
        <td id="LC74" class="blob-code js-file-line">      &quot;olympics = pd.read_csv(&#39;Data/OlympicAthletes.csv&#39;, header=0, names=[&#39;Athlete&#39;,&#39;Age&#39;,&#39;Country&#39;,&#39;Year&#39;,&#39;Closing_Date&#39;,&#39;Sport&#39;,&#39;Gold&#39;,&#39;Silver&#39;,&#39;Bronze&#39;,&#39;Total&#39;])&quot;</td>
      </tr>
      <tr>
        <td id="L75" class="blob-num js-line-number" data-line-number="75"></td>
        <td id="LC75" class="blob-code js-file-line">     ],</td>
      </tr>
      <tr>
        <td id="L76" class="blob-num js-line-number" data-line-number="76"></td>
        <td id="LC76" class="blob-code js-file-line">     &quot;language&quot;: &quot;python&quot;,</td>
      </tr>
      <tr>
        <td id="L77" class="blob-num js-line-number" data-line-number="77"></td>
        <td id="LC77" class="blob-code js-file-line">     &quot;metadata&quot;: {},</td>
      </tr>
      <tr>
        <td id="L78" class="blob-num js-line-number" data-line-number="78"></td>
        <td id="LC78" class="blob-code js-file-line">     &quot;outputs&quot;: [],</td>
      </tr>
      <tr>
        <td id="L79" class="blob-num js-line-number" data-line-number="79"></td>
        <td id="LC79" class="blob-code js-file-line">     &quot;prompt_number&quot;: 110</td>
      </tr>
      <tr>
        <td id="L80" class="blob-num js-line-number" data-line-number="80"></td>
        <td id="LC80" class="blob-code js-file-line">    },</td>
      </tr>
      <tr>
        <td id="L81" class="blob-num js-line-number" data-line-number="81"></td>
        <td id="LC81" class="blob-code js-file-line">    {</td>
      </tr>
      <tr>
        <td id="L82" class="blob-num js-line-number" data-line-number="82"></td>
        <td id="LC82" class="blob-code js-file-line">     &quot;cell_type&quot;: &quot;markdown&quot;,</td>
      </tr>
      <tr>
        <td id="L83" class="blob-num js-line-number" data-line-number="83"></td>
        <td id="LC83" class="blob-code js-file-line">     &quot;metadata&quot;: {},</td>
      </tr>
      <tr>
        <td id="L84" class="blob-num js-line-number" data-line-number="84"></td>
        <td id="LC84" class="blob-code js-file-line">     &quot;source&quot;: [</td>
      </tr>
      <tr>
        <td id="L85" class="blob-num js-line-number" data-line-number="85"></td>
        <td id="LC85" class="blob-code js-file-line">      &quot;# Reshape Date Data from 1904 Date System&quot;</td>
      </tr>
      <tr>
        <td id="L86" class="blob-num js-line-number" data-line-number="86"></td>
        <td id="LC86" class="blob-code js-file-line">     ]</td>
      </tr>
      <tr>
        <td id="L87" class="blob-num js-line-number" data-line-number="87"></td>
        <td id="LC87" class="blob-code js-file-line">    },</td>
      </tr>
      <tr>
        <td id="L88" class="blob-num js-line-number" data-line-number="88"></td>
        <td id="LC88" class="blob-code js-file-line">    {</td>
      </tr>
      <tr>
        <td id="L89" class="blob-num js-line-number" data-line-number="89"></td>
        <td id="LC89" class="blob-code js-file-line">     &quot;cell_type&quot;: &quot;code&quot;,</td>
      </tr>
      <tr>
        <td id="L90" class="blob-num js-line-number" data-line-number="90"></td>
        <td id="LC90" class="blob-code js-file-line">     &quot;collapsed&quot;: false,</td>
      </tr>
      <tr>
        <td id="L91" class="blob-num js-line-number" data-line-number="91"></td>
        <td id="LC91" class="blob-code js-file-line">     &quot;input&quot;: [</td>
      </tr>
      <tr>
        <td id="L92" class="blob-num js-line-number" data-line-number="92"></td>
        <td id="LC92" class="blob-code js-file-line">      &quot;olympics.head()&quot;</td>
      </tr>
      <tr>
        <td id="L93" class="blob-num js-line-number" data-line-number="93"></td>
        <td id="LC93" class="blob-code js-file-line">     ],</td>
      </tr>
      <tr>
        <td id="L94" class="blob-num js-line-number" data-line-number="94"></td>
        <td id="LC94" class="blob-code js-file-line">     &quot;language&quot;: &quot;python&quot;,</td>
      </tr>
      <tr>
        <td id="L95" class="blob-num js-line-number" data-line-number="95"></td>
        <td id="LC95" class="blob-code js-file-line">     &quot;metadata&quot;: {},</td>
      </tr>
      <tr>
        <td id="L96" class="blob-num js-line-number" data-line-number="96"></td>
        <td id="LC96" class="blob-code js-file-line">     &quot;outputs&quot;: [</td>
      </tr>
      <tr>
        <td id="L97" class="blob-num js-line-number" data-line-number="97"></td>
        <td id="LC97" class="blob-code js-file-line">      {</td>
      </tr>
      <tr>
        <td id="L98" class="blob-num js-line-number" data-line-number="98"></td>
        <td id="LC98" class="blob-code js-file-line">       &quot;html&quot;: [</td>
      </tr>
      <tr>
        <td id="L99" class="blob-num js-line-number" data-line-number="99"></td>
        <td id="LC99" class="blob-code js-file-line">        &quot;&lt;div style=\&quot;max-height:1000px;max-width:1500px;overflow:auto;\&quot;&gt;\n&quot;,</td>
      </tr>
      <tr>
        <td id="L100" class="blob-num js-line-number" data-line-number="100"></td>
        <td id="LC100" class="blob-code js-file-line">        &quot;&lt;table border=\&quot;1\&quot; class=\&quot;dataframe\&quot;&gt;\n&quot;,</td>
      </tr>
      <tr>
        <td id="L101" class="blob-num js-line-number" data-line-number="101"></td>
        <td id="LC101" class="blob-code js-file-line">        &quot;  &lt;thead&gt;\n&quot;,</td>
      </tr>
      <tr>
        <td id="L102" class="blob-num js-line-number" data-line-number="102"></td>
        <td id="LC102" class="blob-code js-file-line">        &quot;    &lt;tr style=\&quot;text-align: right;\&quot;&gt;\n&quot;,</td>
      </tr>
      <tr>
        <td id="L103" class="blob-num js-line-number" data-line-number="103"></td>
        <td id="LC103" class="blob-code js-file-line">        &quot;      &lt;th&gt;&lt;/th&gt;\n&quot;,</td>
      </tr>
      <tr>
        <td id="L104" class="blob-num js-line-number" data-line-number="104"></td>
        <td id="LC104" class="blob-code js-file-line">        &quot;      &lt;th&gt;Athlete&lt;/th&gt;\n&quot;,</td>
      </tr>
      <tr>
        <td id="L105" class="blob-num js-line-number" data-line-number="105"></td>
        <td id="LC105" class="blob-code js-file-line">        &quot;      &lt;th&gt;Age&lt;/th&gt;\n&quot;,</td>
      </tr>
      <tr>
        <td id="L106" class="blob-num js-line-number" data-line-number="106"></td>
        <td id="LC106" class="blob-code js-file-line">        &quot;      &lt;th&gt;Country&lt;/th&gt;\n&quot;,</td>
      </tr>
      <tr>
        <td id="L107" class="blob-num js-line-number" data-line-number="107"></td>
        <td id="LC107" class="blob-code js-file-line">        &quot;      &lt;th&gt;Year&lt;/th&gt;\n&quot;,</td>
      </tr>
      <tr>
        <td id="L108" class="blob-num js-line-number" data-line-number="108"></td>
        <td id="LC108" class="blob-code js-file-line">        &quot;      &lt;th&gt;Closing_Date&lt;/th&gt;\n&quot;,</td>
      </tr>
      <tr>
        <td id="L109" class="blob-num js-line-number" data-line-number="109"></td>
        <td id="LC109" class="blob-code js-file-line">        &quot;      &lt;th&gt;Sport&lt;/th&gt;\n&quot;,</td>
      </tr>
      <tr>
        <td id="L110" class="blob-num js-line-number" data-line-number="110"></td>
        <td id="LC110" class="blob-code js-file-line">        &quot;      &lt;th&gt;Gold&lt;/th&gt;\n&quot;,</td>
      </tr>
      <tr>
        <td id="L111" class="blob-num js-line-number" data-line-number="111"></td>
        <td id="LC111" class="blob-code js-file-line">        &quot;      &lt;th&gt;Silver&lt;/th&gt;\n&quot;,</td>
      </tr>
      <tr>
        <td id="L112" class="blob-num js-line-number" data-line-number="112"></td>
        <td id="LC112" class="blob-code js-file-line">        &quot;      &lt;th&gt;Bronze&lt;/th&gt;\n&quot;,</td>
      </tr>
      <tr>
        <td id="L113" class="blob-num js-line-number" data-line-number="113"></td>
        <td id="LC113" class="blob-code js-file-line">        &quot;      &lt;th&gt;Total&lt;/th&gt;\n&quot;,</td>
      </tr>
      <tr>
        <td id="L114" class="blob-num js-line-number" data-line-number="114"></td>
        <td id="LC114" class="blob-code js-file-line">        &quot;    &lt;/tr&gt;\n&quot;,</td>
      </tr>
      <tr>
        <td id="L115" class="blob-num js-line-number" data-line-number="115"></td>
        <td id="LC115" class="blob-code js-file-line">        &quot;  &lt;/thead&gt;\n&quot;,</td>
      </tr>
      <tr>
        <td id="L116" class="blob-num js-line-number" data-line-number="116"></td>
        <td id="LC116" class="blob-code js-file-line">        &quot;  &lt;tbody&gt;\n&quot;,</td>
      </tr>
      <tr>
        <td id="L117" class="blob-num js-line-number" data-line-number="117"></td>
        <td id="LC117" class="blob-code js-file-line">        &quot;    &lt;tr&gt;\n&quot;,</td>
      </tr>
      <tr>
        <td id="L118" class="blob-num js-line-number" data-line-number="118"></td>
        <td id="LC118" class="blob-code js-file-line">        &quot;      &lt;th&gt;0&lt;/th&gt;\n&quot;,</td>
      </tr>
      <tr>
        <td id="L119" class="blob-num js-line-number" data-line-number="119"></td>
        <td id="LC119" class="blob-code js-file-line">        &quot;      &lt;td&gt;   Michael Phelps&lt;/td&gt;\n&quot;,</td>
      </tr>
      <tr>
        <td id="L120" class="blob-num js-line-number" data-line-number="120"></td>
        <td id="LC120" class="blob-code js-file-line">        &quot;      &lt;td&gt; 23&lt;/td&gt;\n&quot;,</td>
      </tr>
      <tr>
        <td id="L121" class="blob-num js-line-number" data-line-number="121"></td>
        <td id="LC121" class="blob-code js-file-line">        &quot;      &lt;td&gt; United States&lt;/td&gt;\n&quot;,</td>
      </tr>
      <tr>
        <td id="L122" class="blob-num js-line-number" data-line-number="122"></td>
        <td id="LC122" class="blob-code js-file-line">        &quot;      &lt;td&gt; 2008&lt;/td&gt;\n&quot;,</td>
      </tr>
      <tr>
        <td id="L123" class="blob-num js-line-number" data-line-number="123"></td>
        <td id="LC123" class="blob-code js-file-line">        &quot;      &lt;td&gt; 39684&lt;/td&gt;\n&quot;,</td>
      </tr>
      <tr>
        <td id="L124" class="blob-num js-line-number" data-line-number="124"></td>
        <td id="LC124" class="blob-code js-file-line">        &quot;      &lt;td&gt;   Swimming&lt;/td&gt;\n&quot;,</td>
      </tr>
      <tr>
        <td id="L125" class="blob-num js-line-number" data-line-number="125"></td>
        <td id="LC125" class="blob-code js-file-line">        &quot;      &lt;td&gt; 8&lt;/td&gt;\n&quot;,</td>
      </tr>
      <tr>
        <td id="L126" class="blob-num js-line-number" data-line-number="126"></td>
        <td id="LC126" class="blob-code js-file-line">        &quot;      &lt;td&gt; 0&lt;/td&gt;\n&quot;,</td>
      </tr>
      <tr>
        <td id="L127" class="blob-num js-line-number" data-line-number="127"></td>
        <td id="LC127" class="blob-code js-file-line">        &quot;      &lt;td&gt; 0&lt;/td&gt;\n&quot;,</td>
      </tr>
      <tr>
        <td id="L128" class="blob-num js-line-number" data-line-number="128"></td>
        <td id="LC128" class="blob-code js-file-line">        &quot;      &lt;td&gt; 8&lt;/td&gt;\n&quot;,</td>
      </tr>
      <tr>
        <td id="L129" class="blob-num js-line-number" data-line-number="129"></td>
        <td id="LC129" class="blob-code js-file-line">        &quot;    &lt;/tr&gt;\n&quot;,</td>
      </tr>
      <tr>
        <td id="L130" class="blob-num js-line-number" data-line-number="130"></td>
        <td id="LC130" class="blob-code js-file-line">        &quot;    &lt;tr&gt;\n&quot;,</td>
      </tr>
      <tr>
        <td id="L131" class="blob-num js-line-number" data-line-number="131"></td>
        <td id="LC131" class="blob-code js-file-line">        &quot;      &lt;th&gt;1&lt;/th&gt;\n&quot;,</td>
      </tr>
      <tr>
        <td id="L132" class="blob-num js-line-number" data-line-number="132"></td>
        <td id="LC132" class="blob-code js-file-line">        &quot;      &lt;td&gt;   Michael Phelps&lt;/td&gt;\n&quot;,</td>
      </tr>
      <tr>
        <td id="L133" class="blob-num js-line-number" data-line-number="133"></td>
        <td id="LC133" class="blob-code js-file-line">        &quot;      &lt;td&gt; 19&lt;/td&gt;\n&quot;,</td>
      </tr>
      <tr>
        <td id="L134" class="blob-num js-line-number" data-line-number="134"></td>
        <td id="LC134" class="blob-code js-file-line">        &quot;      &lt;td&gt; United States&lt;/td&gt;\n&quot;,</td>
      </tr>
      <tr>
        <td id="L135" class="blob-num js-line-number" data-line-number="135"></td>
        <td id="LC135" class="blob-code js-file-line">        &quot;      &lt;td&gt; 2004&lt;/td&gt;\n&quot;,</td>
      </tr>
      <tr>
        <td id="L136" class="blob-num js-line-number" data-line-number="136"></td>
        <td id="LC136" class="blob-code js-file-line">        &quot;      &lt;td&gt; 38228&lt;/td&gt;\n&quot;,</td>
      </tr>
      <tr>
        <td id="L137" class="blob-num js-line-number" data-line-number="137"></td>
        <td id="LC137" class="blob-code js-file-line">        &quot;      &lt;td&gt;   Swimming&lt;/td&gt;\n&quot;,</td>
      </tr>
      <tr>
        <td id="L138" class="blob-num js-line-number" data-line-number="138"></td>
        <td id="LC138" class="blob-code js-file-line">        &quot;      &lt;td&gt; 6&lt;/td&gt;\n&quot;,</td>
      </tr>
      <tr>
        <td id="L139" class="blob-num js-line-number" data-line-number="139"></td>
        <td id="LC139" class="blob-code js-file-line">        &quot;      &lt;td&gt; 0&lt;/td&gt;\n&quot;,</td>
      </tr>
      <tr>
        <td id="L140" class="blob-num js-line-number" data-line-number="140"></td>
        <td id="LC140" class="blob-code js-file-line">        &quot;      &lt;td&gt; 2&lt;/td&gt;\n&quot;,</td>
      </tr>
      <tr>
        <td id="L141" class="blob-num js-line-number" data-line-number="141"></td>
        <td id="LC141" class="blob-code js-file-line">        &quot;      &lt;td&gt; 8&lt;/td&gt;\n&quot;,</td>
      </tr>
      <tr>
        <td id="L142" class="blob-num js-line-number" data-line-number="142"></td>
        <td id="LC142" class="blob-code js-file-line">        &quot;    &lt;/tr&gt;\n&quot;,</td>
      </tr>
      <tr>
        <td id="L143" class="blob-num js-line-number" data-line-number="143"></td>
        <td id="LC143" class="blob-code js-file-line">        &quot;    &lt;tr&gt;\n&quot;,</td>
      </tr>
      <tr>
        <td id="L144" class="blob-num js-line-number" data-line-number="144"></td>
        <td id="LC144" class="blob-code js-file-line">        &quot;      &lt;th&gt;2&lt;/th&gt;\n&quot;,</td>
      </tr>
      <tr>
        <td id="L145" class="blob-num js-line-number" data-line-number="145"></td>
        <td id="LC145" class="blob-code js-file-line">        &quot;      &lt;td&gt;   Michael Phelps&lt;/td&gt;\n&quot;,</td>
      </tr>
      <tr>
        <td id="L146" class="blob-num js-line-number" data-line-number="146"></td>
        <td id="LC146" class="blob-code js-file-line">        &quot;      &lt;td&gt; 27&lt;/td&gt;\n&quot;,</td>
      </tr>
      <tr>
        <td id="L147" class="blob-num js-line-number" data-line-number="147"></td>
        <td id="LC147" class="blob-code js-file-line">        &quot;      &lt;td&gt; United States&lt;/td&gt;\n&quot;,</td>
      </tr>
      <tr>
        <td id="L148" class="blob-num js-line-number" data-line-number="148"></td>
        <td id="LC148" class="blob-code js-file-line">        &quot;      &lt;td&gt; 2012&lt;/td&gt;\n&quot;,</td>
      </tr>
      <tr>
        <td id="L149" class="blob-num js-line-number" data-line-number="149"></td>
        <td id="LC149" class="blob-code js-file-line">        &quot;      &lt;td&gt; 41133&lt;/td&gt;\n&quot;,</td>
      </tr>
      <tr>
        <td id="L150" class="blob-num js-line-number" data-line-number="150"></td>
        <td id="LC150" class="blob-code js-file-line">        &quot;      &lt;td&gt;   Swimming&lt;/td&gt;\n&quot;,</td>
      </tr>
      <tr>
        <td id="L151" class="blob-num js-line-number" data-line-number="151"></td>
        <td id="LC151" class="blob-code js-file-line">        &quot;      &lt;td&gt; 4&lt;/td&gt;\n&quot;,</td>
      </tr>
      <tr>
        <td id="L152" class="blob-num js-line-number" data-line-number="152"></td>
        <td id="LC152" class="blob-code js-file-line">        &quot;      &lt;td&gt; 2&lt;/td&gt;\n&quot;,</td>
      </tr>
      <tr>
        <td id="L153" class="blob-num js-line-number" data-line-number="153"></td>
        <td id="LC153" class="blob-code js-file-line">        &quot;      &lt;td&gt; 0&lt;/td&gt;\n&quot;,</td>
      </tr>
      <tr>
        <td id="L154" class="blob-num js-line-number" data-line-number="154"></td>
        <td id="LC154" class="blob-code js-file-line">        &quot;      &lt;td&gt; 6&lt;/td&gt;\n&quot;,</td>
      </tr>
      <tr>
        <td id="L155" class="blob-num js-line-number" data-line-number="155"></td>
        <td id="LC155" class="blob-code js-file-line">        &quot;    &lt;/tr&gt;\n&quot;,</td>
      </tr>
      <tr>
        <td id="L156" class="blob-num js-line-number" data-line-number="156"></td>
        <td id="LC156" class="blob-code js-file-line">        &quot;    &lt;tr&gt;\n&quot;,</td>
      </tr>
      <tr>
        <td id="L157" class="blob-num js-line-number" data-line-number="157"></td>
        <td id="LC157" class="blob-code js-file-line">        &quot;      &lt;th&gt;3&lt;/th&gt;\n&quot;,</td>
      </tr>
      <tr>
        <td id="L158" class="blob-num js-line-number" data-line-number="158"></td>
        <td id="LC158" class="blob-code js-file-line">        &quot;      &lt;td&gt; Natalie Coughlin&lt;/td&gt;\n&quot;,</td>
      </tr>
      <tr>
        <td id="L159" class="blob-num js-line-number" data-line-number="159"></td>
        <td id="LC159" class="blob-code js-file-line">        &quot;      &lt;td&gt; 25&lt;/td&gt;\n&quot;,</td>
      </tr>
      <tr>
        <td id="L160" class="blob-num js-line-number" data-line-number="160"></td>
        <td id="LC160" class="blob-code js-file-line">        &quot;      &lt;td&gt; United States&lt;/td&gt;\n&quot;,</td>
      </tr>
      <tr>
        <td id="L161" class="blob-num js-line-number" data-line-number="161"></td>
        <td id="LC161" class="blob-code js-file-line">        &quot;      &lt;td&gt; 2008&lt;/td&gt;\n&quot;,</td>
      </tr>
      <tr>
        <td id="L162" class="blob-num js-line-number" data-line-number="162"></td>
        <td id="LC162" class="blob-code js-file-line">        &quot;      &lt;td&gt; 39684&lt;/td&gt;\n&quot;,</td>
      </tr>
      <tr>
        <td id="L163" class="blob-num js-line-number" data-line-number="163"></td>
        <td id="LC163" class="blob-code js-file-line">        &quot;      &lt;td&gt;   Swimming&lt;/td&gt;\n&quot;,</td>
      </tr>
      <tr>
        <td id="L164" class="blob-num js-line-number" data-line-number="164"></td>
        <td id="LC164" class="blob-code js-file-line">        &quot;      &lt;td&gt; 1&lt;/td&gt;\n&quot;,</td>
      </tr>
      <tr>
        <td id="L165" class="blob-num js-line-number" data-line-number="165"></td>
        <td id="LC165" class="blob-code js-file-line">        &quot;      &lt;td&gt; 2&lt;/td&gt;\n&quot;,</td>
      </tr>
      <tr>
        <td id="L166" class="blob-num js-line-number" data-line-number="166"></td>
        <td id="LC166" class="blob-code js-file-line">        &quot;      &lt;td&gt; 3&lt;/td&gt;\n&quot;,</td>
      </tr>
      <tr>
        <td id="L167" class="blob-num js-line-number" data-line-number="167"></td>
        <td id="LC167" class="blob-code js-file-line">        &quot;      &lt;td&gt; 6&lt;/td&gt;\n&quot;,</td>
      </tr>
      <tr>
        <td id="L168" class="blob-num js-line-number" data-line-number="168"></td>
        <td id="LC168" class="blob-code js-file-line">        &quot;    &lt;/tr&gt;\n&quot;,</td>
      </tr>
      <tr>
        <td id="L169" class="blob-num js-line-number" data-line-number="169"></td>
        <td id="LC169" class="blob-code js-file-line">        &quot;    &lt;tr&gt;\n&quot;,</td>
      </tr>
      <tr>
        <td id="L170" class="blob-num js-line-number" data-line-number="170"></td>
        <td id="LC170" class="blob-code js-file-line">        &quot;      &lt;th&gt;4&lt;/th&gt;\n&quot;,</td>
      </tr>
      <tr>
        <td id="L171" class="blob-num js-line-number" data-line-number="171"></td>
        <td id="LC171" class="blob-code js-file-line">        &quot;      &lt;td&gt;    Aleksey Nemov&lt;/td&gt;\n&quot;,</td>
      </tr>
      <tr>
        <td id="L172" class="blob-num js-line-number" data-line-number="172"></td>
        <td id="LC172" class="blob-code js-file-line">        &quot;      &lt;td&gt; 24&lt;/td&gt;\n&quot;,</td>
      </tr>
      <tr>
        <td id="L173" class="blob-num js-line-number" data-line-number="173"></td>
        <td id="LC173" class="blob-code js-file-line">        &quot;      &lt;td&gt;        Russia&lt;/td&gt;\n&quot;,</td>
      </tr>
      <tr>
        <td id="L174" class="blob-num js-line-number" data-line-number="174"></td>
        <td id="LC174" class="blob-code js-file-line">        &quot;      &lt;td&gt; 2000&lt;/td&gt;\n&quot;,</td>
      </tr>
      <tr>
        <td id="L175" class="blob-num js-line-number" data-line-number="175"></td>
        <td id="LC175" class="blob-code js-file-line">        &quot;      &lt;td&gt; 36800&lt;/td&gt;\n&quot;,</td>
      </tr>
      <tr>
        <td id="L176" class="blob-num js-line-number" data-line-number="176"></td>
        <td id="LC176" class="blob-code js-file-line">        &quot;      &lt;td&gt; Gymnastics&lt;/td&gt;\n&quot;,</td>
      </tr>
      <tr>
        <td id="L177" class="blob-num js-line-number" data-line-number="177"></td>
        <td id="LC177" class="blob-code js-file-line">        &quot;      &lt;td&gt; 2&lt;/td&gt;\n&quot;,</td>
      </tr>
      <tr>
        <td id="L178" class="blob-num js-line-number" data-line-number="178"></td>
        <td id="LC178" class="blob-code js-file-line">        &quot;      &lt;td&gt; 1&lt;/td&gt;\n&quot;,</td>
      </tr>
      <tr>
        <td id="L179" class="blob-num js-line-number" data-line-number="179"></td>
        <td id="LC179" class="blob-code js-file-line">        &quot;      &lt;td&gt; 3&lt;/td&gt;\n&quot;,</td>
      </tr>
      <tr>
        <td id="L180" class="blob-num js-line-number" data-line-number="180"></td>
        <td id="LC180" class="blob-code js-file-line">        &quot;      &lt;td&gt; 6&lt;/td&gt;\n&quot;,</td>
      </tr>
      <tr>
        <td id="L181" class="blob-num js-line-number" data-line-number="181"></td>
        <td id="LC181" class="blob-code js-file-line">        &quot;    &lt;/tr&gt;\n&quot;,</td>
      </tr>
      <tr>
        <td id="L182" class="blob-num js-line-number" data-line-number="182"></td>
        <td id="LC182" class="blob-code js-file-line">        &quot;  &lt;/tbody&gt;\n&quot;,</td>
      </tr>
      <tr>
        <td id="L183" class="blob-num js-line-number" data-line-number="183"></td>
        <td id="LC183" class="blob-code js-file-line">        &quot;&lt;/table&gt;\n&quot;,</td>
      </tr>
      <tr>
        <td id="L184" class="blob-num js-line-number" data-line-number="184"></td>
        <td id="LC184" class="blob-code js-file-line">        &quot;&lt;/div&gt;&quot;</td>
      </tr>
      <tr>
        <td id="L185" class="blob-num js-line-number" data-line-number="185"></td>
        <td id="LC185" class="blob-code js-file-line">       ],</td>
      </tr>
      <tr>
        <td id="L186" class="blob-num js-line-number" data-line-number="186"></td>
        <td id="LC186" class="blob-code js-file-line">       &quot;metadata&quot;: {},</td>
      </tr>
      <tr>
        <td id="L187" class="blob-num js-line-number" data-line-number="187"></td>
        <td id="LC187" class="blob-code js-file-line">       &quot;output_type&quot;: &quot;pyout&quot;,</td>
      </tr>
      <tr>
        <td id="L188" class="blob-num js-line-number" data-line-number="188"></td>
        <td id="LC188" class="blob-code js-file-line">       &quot;prompt_number&quot;: 111,</td>
      </tr>
      <tr>
        <td id="L189" class="blob-num js-line-number" data-line-number="189"></td>
        <td id="LC189" class="blob-code js-file-line">       &quot;text&quot;: [</td>
      </tr>
      <tr>
        <td id="L190" class="blob-num js-line-number" data-line-number="190"></td>
        <td id="LC190" class="blob-code js-file-line">        &quot;            Athlete  Age        Country  Year  Closing_Date       Sport  Gold  \\\n&quot;,</td>
      </tr>
      <tr>
        <td id="L191" class="blob-num js-line-number" data-line-number="191"></td>
        <td id="LC191" class="blob-code js-file-line">        &quot;0    Michael Phelps   23  United States  2008         39684    Swimming     8   \n&quot;,</td>
      </tr>
      <tr>
        <td id="L192" class="blob-num js-line-number" data-line-number="192"></td>
        <td id="LC192" class="blob-code js-file-line">        &quot;1    Michael Phelps   19  United States  2004         38228    Swimming     6   \n&quot;,</td>
      </tr>
      <tr>
        <td id="L193" class="blob-num js-line-number" data-line-number="193"></td>
        <td id="LC193" class="blob-code js-file-line">        &quot;2    Michael Phelps   27  United States  2012         41133    Swimming     4   \n&quot;,</td>
      </tr>
      <tr>
        <td id="L194" class="blob-num js-line-number" data-line-number="194"></td>
        <td id="LC194" class="blob-code js-file-line">        &quot;3  Natalie Coughlin   25  United States  2008         39684    Swimming     1   \n&quot;,</td>
      </tr>
      <tr>
        <td id="L195" class="blob-num js-line-number" data-line-number="195"></td>
        <td id="LC195" class="blob-code js-file-line">        &quot;4     Aleksey Nemov   24         Russia  2000         36800  Gymnastics     2   \n&quot;,</td>
      </tr>
      <tr>
        <td id="L196" class="blob-num js-line-number" data-line-number="196"></td>
        <td id="LC196" class="blob-code js-file-line">        &quot;\n&quot;,</td>
      </tr>
      <tr>
        <td id="L197" class="blob-num js-line-number" data-line-number="197"></td>
        <td id="LC197" class="blob-code js-file-line">        &quot;   Silver  Bronze  Total  \n&quot;,</td>
      </tr>
      <tr>
        <td id="L198" class="blob-num js-line-number" data-line-number="198"></td>
        <td id="LC198" class="blob-code js-file-line">        &quot;0       0       0      8  \n&quot;,</td>
      </tr>
      <tr>
        <td id="L199" class="blob-num js-line-number" data-line-number="199"></td>
        <td id="LC199" class="blob-code js-file-line">        &quot;1       0       2      8  \n&quot;,</td>
      </tr>
      <tr>
        <td id="L200" class="blob-num js-line-number" data-line-number="200"></td>
        <td id="LC200" class="blob-code js-file-line">        &quot;2       2       0      6  \n&quot;,</td>
      </tr>
      <tr>
        <td id="L201" class="blob-num js-line-number" data-line-number="201"></td>
        <td id="LC201" class="blob-code js-file-line">        &quot;3       2       3      6  \n&quot;,</td>
      </tr>
      <tr>
        <td id="L202" class="blob-num js-line-number" data-line-number="202"></td>
        <td id="LC202" class="blob-code js-file-line">        &quot;4       1       3      6  &quot;</td>
      </tr>
      <tr>
        <td id="L203" class="blob-num js-line-number" data-line-number="203"></td>
        <td id="LC203" class="blob-code js-file-line">       ]</td>
      </tr>
      <tr>
        <td id="L204" class="blob-num js-line-number" data-line-number="204"></td>
        <td id="LC204" class="blob-code js-file-line">      }</td>
      </tr>
      <tr>
        <td id="L205" class="blob-num js-line-number" data-line-number="205"></td>
        <td id="LC205" class="blob-code js-file-line">     ],</td>
      </tr>
      <tr>
        <td id="L206" class="blob-num js-line-number" data-line-number="206"></td>
        <td id="LC206" class="blob-code js-file-line">     &quot;prompt_number&quot;: 111</td>
      </tr>
      <tr>
        <td id="L207" class="blob-num js-line-number" data-line-number="207"></td>
        <td id="LC207" class="blob-code js-file-line">    },</td>
      </tr>
      <tr>
        <td id="L208" class="blob-num js-line-number" data-line-number="208"></td>
        <td id="LC208" class="blob-code js-file-line">    {</td>
      </tr>
      <tr>
        <td id="L209" class="blob-num js-line-number" data-line-number="209"></td>
        <td id="LC209" class="blob-code js-file-line">     &quot;cell_type&quot;: &quot;markdown&quot;,</td>
      </tr>
      <tr>
        <td id="L210" class="blob-num js-line-number" data-line-number="210"></td>
        <td id="LC210" class="blob-code js-file-line">     &quot;metadata&quot;: {},</td>
      </tr>
      <tr>
        <td id="L211" class="blob-num js-line-number" data-line-number="211"></td>
        <td id="LC211" class="blob-code js-file-line">     &quot;source&quot;: [</td>
      </tr>
      <tr>
        <td id="L212" class="blob-num js-line-number" data-line-number="212"></td>
        <td id="LC212" class="blob-code js-file-line">      &quot;#### Looking at the head of the data set we can see the Closing_Date variable is not a proper date&quot;</td>
      </tr>
      <tr>
        <td id="L213" class="blob-num js-line-number" data-line-number="213"></td>
        <td id="LC213" class="blob-code js-file-line">     ]</td>
      </tr>
      <tr>
        <td id="L214" class="blob-num js-line-number" data-line-number="214"></td>
        <td id="LC214" class="blob-code js-file-line">    },</td>
      </tr>
      <tr>
        <td id="L215" class="blob-num js-line-number" data-line-number="215"></td>
        <td id="LC215" class="blob-code js-file-line">    {</td>
      </tr>
      <tr>
        <td id="L216" class="blob-num js-line-number" data-line-number="216"></td>
        <td id="LC216" class="blob-code js-file-line">     &quot;cell_type&quot;: &quot;markdown&quot;,</td>
      </tr>
      <tr>
        <td id="L217" class="blob-num js-line-number" data-line-number="217"></td>
        <td id="LC217" class="blob-code js-file-line">     &quot;metadata&quot;: {},</td>
      </tr>
      <tr>
        <td id="L218" class="blob-num js-line-number" data-line-number="218"></td>
        <td id="LC218" class="blob-code js-file-line">     &quot;source&quot;: [</td>
      </tr>
      <tr>
        <td id="L219" class="blob-num js-line-number" data-line-number="219"></td>
        <td id="LC219" class="blob-code js-file-line">      &quot;#### The Macintosh default 1904-based date system counts 1904-01-02 as day one and 1904-01-01 as day zero. To clean up the data, we must convert each of the values in &#39;Closing Ceremony Date&#39; to a relevant python datetime object&quot;</td>
      </tr>
      <tr>
        <td id="L220" class="blob-num js-line-number" data-line-number="220"></td>
        <td id="LC220" class="blob-code js-file-line">     ]</td>
      </tr>
      <tr>
        <td id="L221" class="blob-num js-line-number" data-line-number="221"></td>
        <td id="LC221" class="blob-code js-file-line">    },</td>
      </tr>
      <tr>
        <td id="L222" class="blob-num js-line-number" data-line-number="222"></td>
        <td id="LC222" class="blob-code js-file-line">    {</td>
      </tr>
      <tr>
        <td id="L223" class="blob-num js-line-number" data-line-number="223"></td>
        <td id="LC223" class="blob-code js-file-line">     &quot;cell_type&quot;: &quot;code&quot;,</td>
      </tr>
      <tr>
        <td id="L224" class="blob-num js-line-number" data-line-number="224"></td>
        <td id="LC224" class="blob-code js-file-line">     &quot;collapsed&quot;: false,</td>
      </tr>
      <tr>
        <td id="L225" class="blob-num js-line-number" data-line-number="225"></td>
        <td id="LC225" class="blob-code js-file-line">     &quot;input&quot;: [</td>
      </tr>
      <tr>
        <td id="L226" class="blob-num js-line-number" data-line-number="226"></td>
        <td id="LC226" class="blob-code js-file-line">      &quot;# get the Closing Ceremony Dates variable from the data\n&quot;,</td>
      </tr>
      <tr>
        <td id="L227" class="blob-num js-line-number" data-line-number="227"></td>
        <td id="LC227" class="blob-code js-file-line">      &quot;closing_dates = olympics[&#39;Closing_Date&#39;]\n&quot;,</td>
      </tr>
      <tr>
        <td id="L228" class="blob-num js-line-number" data-line-number="228"></td>
        <td id="LC228" class="blob-code js-file-line">      &quot;\n&quot;,</td>
      </tr>
      <tr>
        <td id="L229" class="blob-num js-line-number" data-line-number="229"></td>
        <td id="LC229" class="blob-code js-file-line">      &quot;# create a list for holding the new date values\n&quot;,</td>
      </tr>
      <tr>
        <td id="L230" class="blob-num js-line-number" data-line-number="230"></td>
        <td id="LC230" class="blob-code js-file-line">      &quot;closing_dates_fix = []\n&quot;,</td>
      </tr>
      <tr>
        <td id="L231" class="blob-num js-line-number" data-line-number="231"></td>
        <td id="LC231" class="blob-code js-file-line">      &quot;\n&quot;,</td>
      </tr>
      <tr>
        <td id="L232" class="blob-num js-line-number" data-line-number="232"></td>
        <td id="LC232" class="blob-code js-file-line">      &quot;# convert each 1904-based date to a datetime object and store it in closing_dates_fix\n&quot;,</td>
      </tr>
      <tr>
        <td id="L233" class="blob-num js-line-number" data-line-number="233"></td>
        <td id="LC233" class="blob-code js-file-line">      &quot;for i in range(0, len(closing_dates)):\n&quot;,</td>
      </tr>
      <tr>
        <td id="L234" class="blob-num js-line-number" data-line-number="234"></td>
        <td id="LC234" class="blob-code js-file-line">      &quot;    t = xlrd.xldate_as_tuple(olympics[&#39;Closing_Date&#39;][i], 0)\n&quot;,</td>
      </tr>
      <tr>
        <td id="L235" class="blob-num js-line-number" data-line-number="235"></td>
        <td id="LC235" class="blob-code js-file-line">      &quot;    closing_dates_fix.append(datetime.date(t[0], t[1], t[2]))\n&quot;,</td>
      </tr>
      <tr>
        <td id="L236" class="blob-num js-line-number" data-line-number="236"></td>
        <td id="LC236" class="blob-code js-file-line">      &quot;    \n&quot;,</td>
      </tr>
      <tr>
        <td id="L237" class="blob-num js-line-number" data-line-number="237"></td>
        <td id="LC237" class="blob-code js-file-line">      &quot;# replaces the values in the DataFrame\n&quot;,</td>
      </tr>
      <tr>
        <td id="L238" class="blob-num js-line-number" data-line-number="238"></td>
        <td id="LC238" class="blob-code js-file-line">      &quot;olympics[&#39;Closing_Date&#39;] = closing_dates_fix&quot;</td>
      </tr>
      <tr>
        <td id="L239" class="blob-num js-line-number" data-line-number="239"></td>
        <td id="LC239" class="blob-code js-file-line">     ],</td>
      </tr>
      <tr>
        <td id="L240" class="blob-num js-line-number" data-line-number="240"></td>
        <td id="LC240" class="blob-code js-file-line">     &quot;language&quot;: &quot;python&quot;,</td>
      </tr>
      <tr>
        <td id="L241" class="blob-num js-line-number" data-line-number="241"></td>
        <td id="LC241" class="blob-code js-file-line">     &quot;metadata&quot;: {},</td>
      </tr>
      <tr>
        <td id="L242" class="blob-num js-line-number" data-line-number="242"></td>
        <td id="LC242" class="blob-code js-file-line">     &quot;outputs&quot;: [],</td>
      </tr>
      <tr>
        <td id="L243" class="blob-num js-line-number" data-line-number="243"></td>
        <td id="LC243" class="blob-code js-file-line">     &quot;prompt_number&quot;: 112</td>
      </tr>
      <tr>
        <td id="L244" class="blob-num js-line-number" data-line-number="244"></td>
        <td id="LC244" class="blob-code js-file-line">    },</td>
      </tr>
      <tr>
        <td id="L245" class="blob-num js-line-number" data-line-number="245"></td>
        <td id="LC245" class="blob-code js-file-line">    {</td>
      </tr>
      <tr>
        <td id="L246" class="blob-num js-line-number" data-line-number="246"></td>
        <td id="LC246" class="blob-code js-file-line">     &quot;cell_type&quot;: &quot;markdown&quot;,</td>
      </tr>
      <tr>
        <td id="L247" class="blob-num js-line-number" data-line-number="247"></td>
        <td id="LC247" class="blob-code js-file-line">     &quot;metadata&quot;: {},</td>
      </tr>
      <tr>
        <td id="L248" class="blob-num js-line-number" data-line-number="248"></td>
        <td id="LC248" class="blob-code js-file-line">     &quot;source&quot;: [</td>
      </tr>
      <tr>
        <td id="L249" class="blob-num js-line-number" data-line-number="249"></td>
        <td id="LC249" class="blob-code js-file-line">      &quot;#### Here we can verify that the Closing Ceremony Date data has been formatted correctly&quot;</td>
      </tr>
      <tr>
        <td id="L250" class="blob-num js-line-number" data-line-number="250"></td>
        <td id="LC250" class="blob-code js-file-line">     ]</td>
      </tr>
      <tr>
        <td id="L251" class="blob-num js-line-number" data-line-number="251"></td>
        <td id="LC251" class="blob-code js-file-line">    },</td>
      </tr>
      <tr>
        <td id="L252" class="blob-num js-line-number" data-line-number="252"></td>
        <td id="LC252" class="blob-code js-file-line">    {</td>
      </tr>
      <tr>
        <td id="L253" class="blob-num js-line-number" data-line-number="253"></td>
        <td id="LC253" class="blob-code js-file-line">     &quot;cell_type&quot;: &quot;code&quot;,</td>
      </tr>
      <tr>
        <td id="L254" class="blob-num js-line-number" data-line-number="254"></td>
        <td id="LC254" class="blob-code js-file-line">     &quot;collapsed&quot;: false,</td>
      </tr>
      <tr>
        <td id="L255" class="blob-num js-line-number" data-line-number="255"></td>
        <td id="LC255" class="blob-code js-file-line">     &quot;input&quot;: [</td>
      </tr>
      <tr>
        <td id="L256" class="blob-num js-line-number" data-line-number="256"></td>
        <td id="LC256" class="blob-code js-file-line">      &quot;olympics.head()&quot;</td>
      </tr>
      <tr>
        <td id="L257" class="blob-num js-line-number" data-line-number="257"></td>
        <td id="LC257" class="blob-code js-file-line">     ],</td>
      </tr>
      <tr>
        <td id="L258" class="blob-num js-line-number" data-line-number="258"></td>
        <td id="LC258" class="blob-code js-file-line">     &quot;language&quot;: &quot;python&quot;,</td>
      </tr>
      <tr>
        <td id="L259" class="blob-num js-line-number" data-line-number="259"></td>
        <td id="LC259" class="blob-code js-file-line">     &quot;metadata&quot;: {},</td>
      </tr>
      <tr>
        <td id="L260" class="blob-num js-line-number" data-line-number="260"></td>
        <td id="LC260" class="blob-code js-file-line">     &quot;outputs&quot;: [</td>
      </tr>
      <tr>
        <td id="L261" class="blob-num js-line-number" data-line-number="261"></td>
        <td id="LC261" class="blob-code js-file-line">      {</td>
      </tr>
      <tr>
        <td id="L262" class="blob-num js-line-number" data-line-number="262"></td>
        <td id="LC262" class="blob-code js-file-line">       &quot;html&quot;: [</td>
      </tr>
      <tr>
        <td id="L263" class="blob-num js-line-number" data-line-number="263"></td>
        <td id="LC263" class="blob-code js-file-line">        &quot;&lt;div style=\&quot;max-height:1000px;max-width:1500px;overflow:auto;\&quot;&gt;\n&quot;,</td>
      </tr>
      <tr>
        <td id="L264" class="blob-num js-line-number" data-line-number="264"></td>
        <td id="LC264" class="blob-code js-file-line">        &quot;&lt;table border=\&quot;1\&quot; class=\&quot;dataframe\&quot;&gt;\n&quot;,</td>
      </tr>
      <tr>
        <td id="L265" class="blob-num js-line-number" data-line-number="265"></td>
        <td id="LC265" class="blob-code js-file-line">        &quot;  &lt;thead&gt;\n&quot;,</td>
      </tr>
      <tr>
        <td id="L266" class="blob-num js-line-number" data-line-number="266"></td>
        <td id="LC266" class="blob-code js-file-line">        &quot;    &lt;tr style=\&quot;text-align: right;\&quot;&gt;\n&quot;,</td>
      </tr>
      <tr>
        <td id="L267" class="blob-num js-line-number" data-line-number="267"></td>
        <td id="LC267" class="blob-code js-file-line">        &quot;      &lt;th&gt;&lt;/th&gt;\n&quot;,</td>
      </tr>
      <tr>
        <td id="L268" class="blob-num js-line-number" data-line-number="268"></td>
        <td id="LC268" class="blob-code js-file-line">        &quot;      &lt;th&gt;Athlete&lt;/th&gt;\n&quot;,</td>
      </tr>
      <tr>
        <td id="L269" class="blob-num js-line-number" data-line-number="269"></td>
        <td id="LC269" class="blob-code js-file-line">        &quot;      &lt;th&gt;Age&lt;/th&gt;\n&quot;,</td>
      </tr>
      <tr>
        <td id="L270" class="blob-num js-line-number" data-line-number="270"></td>
        <td id="LC270" class="blob-code js-file-line">        &quot;      &lt;th&gt;Country&lt;/th&gt;\n&quot;,</td>
      </tr>
      <tr>
        <td id="L271" class="blob-num js-line-number" data-line-number="271"></td>
        <td id="LC271" class="blob-code js-file-line">        &quot;      &lt;th&gt;Year&lt;/th&gt;\n&quot;,</td>
      </tr>
      <tr>
        <td id="L272" class="blob-num js-line-number" data-line-number="272"></td>
        <td id="LC272" class="blob-code js-file-line">        &quot;      &lt;th&gt;Closing_Date&lt;/th&gt;\n&quot;,</td>
      </tr>
      <tr>
        <td id="L273" class="blob-num js-line-number" data-line-number="273"></td>
        <td id="LC273" class="blob-code js-file-line">        &quot;      &lt;th&gt;Sport&lt;/th&gt;\n&quot;,</td>
      </tr>
      <tr>
        <td id="L274" class="blob-num js-line-number" data-line-number="274"></td>
        <td id="LC274" class="blob-code js-file-line">        &quot;      &lt;th&gt;Gold&lt;/th&gt;\n&quot;,</td>
      </tr>
      <tr>
        <td id="L275" class="blob-num js-line-number" data-line-number="275"></td>
        <td id="LC275" class="blob-code js-file-line">        &quot;      &lt;th&gt;Silver&lt;/th&gt;\n&quot;,</td>
      </tr>
      <tr>
        <td id="L276" class="blob-num js-line-number" data-line-number="276"></td>
        <td id="LC276" class="blob-code js-file-line">        &quot;      &lt;th&gt;Bronze&lt;/th&gt;\n&quot;,</td>
      </tr>
      <tr>
        <td id="L277" class="blob-num js-line-number" data-line-number="277"></td>
        <td id="LC277" class="blob-code js-file-line">        &quot;      &lt;th&gt;Total&lt;/th&gt;\n&quot;,</td>
      </tr>
      <tr>
        <td id="L278" class="blob-num js-line-number" data-line-number="278"></td>
        <td id="LC278" class="blob-code js-file-line">        &quot;    &lt;/tr&gt;\n&quot;,</td>
      </tr>
      <tr>
        <td id="L279" class="blob-num js-line-number" data-line-number="279"></td>
        <td id="LC279" class="blob-code js-file-line">        &quot;  &lt;/thead&gt;\n&quot;,</td>
      </tr>
      <tr>
        <td id="L280" class="blob-num js-line-number" data-line-number="280"></td>
        <td id="LC280" class="blob-code js-file-line">        &quot;  &lt;tbody&gt;\n&quot;,</td>
      </tr>
      <tr>
        <td id="L281" class="blob-num js-line-number" data-line-number="281"></td>
        <td id="LC281" class="blob-code js-file-line">        &quot;    &lt;tr&gt;\n&quot;,</td>
      </tr>
      <tr>
        <td id="L282" class="blob-num js-line-number" data-line-number="282"></td>
        <td id="LC282" class="blob-code js-file-line">        &quot;      &lt;th&gt;0&lt;/th&gt;\n&quot;,</td>
      </tr>
      <tr>
        <td id="L283" class="blob-num js-line-number" data-line-number="283"></td>
        <td id="LC283" class="blob-code js-file-line">        &quot;      &lt;td&gt;   Michael Phelps&lt;/td&gt;\n&quot;,</td>
      </tr>
      <tr>
        <td id="L284" class="blob-num js-line-number" data-line-number="284"></td>
        <td id="LC284" class="blob-code js-file-line">        &quot;      &lt;td&gt; 23&lt;/td&gt;\n&quot;,</td>
      </tr>
      <tr>
        <td id="L285" class="blob-num js-line-number" data-line-number="285"></td>
        <td id="LC285" class="blob-code js-file-line">        &quot;      &lt;td&gt; United States&lt;/td&gt;\n&quot;,</td>
      </tr>
      <tr>
        <td id="L286" class="blob-num js-line-number" data-line-number="286"></td>
        <td id="LC286" class="blob-code js-file-line">        &quot;      &lt;td&gt; 2008&lt;/td&gt;\n&quot;,</td>
      </tr>
      <tr>
        <td id="L287" class="blob-num js-line-number" data-line-number="287"></td>
        <td id="LC287" class="blob-code js-file-line">        &quot;      &lt;td&gt; 2008-08-24&lt;/td&gt;\n&quot;,</td>
      </tr>
      <tr>
        <td id="L288" class="blob-num js-line-number" data-line-number="288"></td>
        <td id="LC288" class="blob-code js-file-line">        &quot;      &lt;td&gt;   Swimming&lt;/td&gt;\n&quot;,</td>
      </tr>
      <tr>
        <td id="L289" class="blob-num js-line-number" data-line-number="289"></td>
        <td id="LC289" class="blob-code js-file-line">        &quot;      &lt;td&gt; 8&lt;/td&gt;\n&quot;,</td>
      </tr>
      <tr>
        <td id="L290" class="blob-num js-line-number" data-line-number="290"></td>
        <td id="LC290" class="blob-code js-file-line">        &quot;      &lt;td&gt; 0&lt;/td&gt;\n&quot;,</td>
      </tr>
      <tr>
        <td id="L291" class="blob-num js-line-number" data-line-number="291"></td>
        <td id="LC291" class="blob-code js-file-line">        &quot;      &lt;td&gt; 0&lt;/td&gt;\n&quot;,</td>
      </tr>
      <tr>
        <td id="L292" class="blob-num js-line-number" data-line-number="292"></td>
        <td id="LC292" class="blob-code js-file-line">        &quot;      &lt;td&gt; 8&lt;/td&gt;\n&quot;,</td>
      </tr>
      <tr>
        <td id="L293" class="blob-num js-line-number" data-line-number="293"></td>
        <td id="LC293" class="blob-code js-file-line">        &quot;    &lt;/tr&gt;\n&quot;,</td>
      </tr>
      <tr>
        <td id="L294" class="blob-num js-line-number" data-line-number="294"></td>
        <td id="LC294" class="blob-code js-file-line">        &quot;    &lt;tr&gt;\n&quot;,</td>
      </tr>
      <tr>
        <td id="L295" class="blob-num js-line-number" data-line-number="295"></td>
        <td id="LC295" class="blob-code js-file-line">        &quot;      &lt;th&gt;1&lt;/th&gt;\n&quot;,</td>
      </tr>
      <tr>
        <td id="L296" class="blob-num js-line-number" data-line-number="296"></td>
        <td id="LC296" class="blob-code js-file-line">        &quot;      &lt;td&gt;   Michael Phelps&lt;/td&gt;\n&quot;,</td>
      </tr>
      <tr>
        <td id="L297" class="blob-num js-line-number" data-line-number="297"></td>
        <td id="LC297" class="blob-code js-file-line">        &quot;      &lt;td&gt; 19&lt;/td&gt;\n&quot;,</td>
      </tr>
      <tr>
        <td id="L298" class="blob-num js-line-number" data-line-number="298"></td>
        <td id="LC298" class="blob-code js-file-line">        &quot;      &lt;td&gt; United States&lt;/td&gt;\n&quot;,</td>
      </tr>
      <tr>
        <td id="L299" class="blob-num js-line-number" data-line-number="299"></td>
        <td id="LC299" class="blob-code js-file-line">        &quot;      &lt;td&gt; 2004&lt;/td&gt;\n&quot;,</td>
      </tr>
      <tr>
        <td id="L300" class="blob-num js-line-number" data-line-number="300"></td>
        <td id="LC300" class="blob-code js-file-line">        &quot;      &lt;td&gt; 2004-08-29&lt;/td&gt;\n&quot;,</td>
      </tr>
      <tr>
        <td id="L301" class="blob-num js-line-number" data-line-number="301"></td>
        <td id="LC301" class="blob-code js-file-line">        &quot;      &lt;td&gt;   Swimming&lt;/td&gt;\n&quot;,</td>
      </tr>
      <tr>
        <td id="L302" class="blob-num js-line-number" data-line-number="302"></td>
        <td id="LC302" class="blob-code js-file-line">        &quot;      &lt;td&gt; 6&lt;/td&gt;\n&quot;,</td>
      </tr>
      <tr>
        <td id="L303" class="blob-num js-line-number" data-line-number="303"></td>
        <td id="LC303" class="blob-code js-file-line">        &quot;      &lt;td&gt; 0&lt;/td&gt;\n&quot;,</td>
      </tr>
      <tr>
        <td id="L304" class="blob-num js-line-number" data-line-number="304"></td>
        <td id="LC304" class="blob-code js-file-line">        &quot;      &lt;td&gt; 2&lt;/td&gt;\n&quot;,</td>
      </tr>
      <tr>
        <td id="L305" class="blob-num js-line-number" data-line-number="305"></td>
        <td id="LC305" class="blob-code js-file-line">        &quot;      &lt;td&gt; 8&lt;/td&gt;\n&quot;,</td>
      </tr>
      <tr>
        <td id="L306" class="blob-num js-line-number" data-line-number="306"></td>
        <td id="LC306" class="blob-code js-file-line">        &quot;    &lt;/tr&gt;\n&quot;,</td>
      </tr>
      <tr>
        <td id="L307" class="blob-num js-line-number" data-line-number="307"></td>
        <td id="LC307" class="blob-code js-file-line">        &quot;    &lt;tr&gt;\n&quot;,</td>
      </tr>
      <tr>
        <td id="L308" class="blob-num js-line-number" data-line-number="308"></td>
        <td id="LC308" class="blob-code js-file-line">        &quot;      &lt;th&gt;2&lt;/th&gt;\n&quot;,</td>
      </tr>
      <tr>
        <td id="L309" class="blob-num js-line-number" data-line-number="309"></td>
        <td id="LC309" class="blob-code js-file-line">        &quot;      &lt;td&gt;   Michael Phelps&lt;/td&gt;\n&quot;,</td>
      </tr>
      <tr>
        <td id="L310" class="blob-num js-line-number" data-line-number="310"></td>
        <td id="LC310" class="blob-code js-file-line">        &quot;      &lt;td&gt; 27&lt;/td&gt;\n&quot;,</td>
      </tr>
      <tr>
        <td id="L311" class="blob-num js-line-number" data-line-number="311"></td>
        <td id="LC311" class="blob-code js-file-line">        &quot;      &lt;td&gt; United States&lt;/td&gt;\n&quot;,</td>
      </tr>
      <tr>
        <td id="L312" class="blob-num js-line-number" data-line-number="312"></td>
        <td id="LC312" class="blob-code js-file-line">        &quot;      &lt;td&gt; 2012&lt;/td&gt;\n&quot;,</td>
      </tr>
      <tr>
        <td id="L313" class="blob-num js-line-number" data-line-number="313"></td>
        <td id="LC313" class="blob-code js-file-line">        &quot;      &lt;td&gt; 2012-08-12&lt;/td&gt;\n&quot;,</td>
      </tr>
      <tr>
        <td id="L314" class="blob-num js-line-number" data-line-number="314"></td>
        <td id="LC314" class="blob-code js-file-line">        &quot;      &lt;td&gt;   Swimming&lt;/td&gt;\n&quot;,</td>
      </tr>
      <tr>
        <td id="L315" class="blob-num js-line-number" data-line-number="315"></td>
        <td id="LC315" class="blob-code js-file-line">        &quot;      &lt;td&gt; 4&lt;/td&gt;\n&quot;,</td>
      </tr>
      <tr>
        <td id="L316" class="blob-num js-line-number" data-line-number="316"></td>
        <td id="LC316" class="blob-code js-file-line">        &quot;      &lt;td&gt; 2&lt;/td&gt;\n&quot;,</td>
      </tr>
      <tr>
        <td id="L317" class="blob-num js-line-number" data-line-number="317"></td>
        <td id="LC317" class="blob-code js-file-line">        &quot;      &lt;td&gt; 0&lt;/td&gt;\n&quot;,</td>
      </tr>
      <tr>
        <td id="L318" class="blob-num js-line-number" data-line-number="318"></td>
        <td id="LC318" class="blob-code js-file-line">        &quot;      &lt;td&gt; 6&lt;/td&gt;\n&quot;,</td>
      </tr>
      <tr>
        <td id="L319" class="blob-num js-line-number" data-line-number="319"></td>
        <td id="LC319" class="blob-code js-file-line">        &quot;    &lt;/tr&gt;\n&quot;,</td>
      </tr>
      <tr>
        <td id="L320" class="blob-num js-line-number" data-line-number="320"></td>
        <td id="LC320" class="blob-code js-file-line">        &quot;    &lt;tr&gt;\n&quot;,</td>
      </tr>
      <tr>
        <td id="L321" class="blob-num js-line-number" data-line-number="321"></td>
        <td id="LC321" class="blob-code js-file-line">        &quot;      &lt;th&gt;3&lt;/th&gt;\n&quot;,</td>
      </tr>
      <tr>
        <td id="L322" class="blob-num js-line-number" data-line-number="322"></td>
        <td id="LC322" class="blob-code js-file-line">        &quot;      &lt;td&gt; Natalie Coughlin&lt;/td&gt;\n&quot;,</td>
      </tr>
      <tr>
        <td id="L323" class="blob-num js-line-number" data-line-number="323"></td>
        <td id="LC323" class="blob-code js-file-line">        &quot;      &lt;td&gt; 25&lt;/td&gt;\n&quot;,</td>
      </tr>
      <tr>
        <td id="L324" class="blob-num js-line-number" data-line-number="324"></td>
        <td id="LC324" class="blob-code js-file-line">        &quot;      &lt;td&gt; United States&lt;/td&gt;\n&quot;,</td>
      </tr>
      <tr>
        <td id="L325" class="blob-num js-line-number" data-line-number="325"></td>
        <td id="LC325" class="blob-code js-file-line">        &quot;      &lt;td&gt; 2008&lt;/td&gt;\n&quot;,</td>
      </tr>
      <tr>
        <td id="L326" class="blob-num js-line-number" data-line-number="326"></td>
        <td id="LC326" class="blob-code js-file-line">        &quot;      &lt;td&gt; 2008-08-24&lt;/td&gt;\n&quot;,</td>
      </tr>
      <tr>
        <td id="L327" class="blob-num js-line-number" data-line-number="327"></td>
        <td id="LC327" class="blob-code js-file-line">        &quot;      &lt;td&gt;   Swimming&lt;/td&gt;\n&quot;,</td>
      </tr>
      <tr>
        <td id="L328" class="blob-num js-line-number" data-line-number="328"></td>
        <td id="LC328" class="blob-code js-file-line">        &quot;      &lt;td&gt; 1&lt;/td&gt;\n&quot;,</td>
      </tr>
      <tr>
        <td id="L329" class="blob-num js-line-number" data-line-number="329"></td>
        <td id="LC329" class="blob-code js-file-line">        &quot;      &lt;td&gt; 2&lt;/td&gt;\n&quot;,</td>
      </tr>
      <tr>
        <td id="L330" class="blob-num js-line-number" data-line-number="330"></td>
        <td id="LC330" class="blob-code js-file-line">        &quot;      &lt;td&gt; 3&lt;/td&gt;\n&quot;,</td>
      </tr>
      <tr>
        <td id="L331" class="blob-num js-line-number" data-line-number="331"></td>
        <td id="LC331" class="blob-code js-file-line">        &quot;      &lt;td&gt; 6&lt;/td&gt;\n&quot;,</td>
      </tr>
      <tr>
        <td id="L332" class="blob-num js-line-number" data-line-number="332"></td>
        <td id="LC332" class="blob-code js-file-line">        &quot;    &lt;/tr&gt;\n&quot;,</td>
      </tr>
      <tr>
        <td id="L333" class="blob-num js-line-number" data-line-number="333"></td>
        <td id="LC333" class="blob-code js-file-line">        &quot;    &lt;tr&gt;\n&quot;,</td>
      </tr>
      <tr>
        <td id="L334" class="blob-num js-line-number" data-line-number="334"></td>
        <td id="LC334" class="blob-code js-file-line">        &quot;      &lt;th&gt;4&lt;/th&gt;\n&quot;,</td>
      </tr>
      <tr>
        <td id="L335" class="blob-num js-line-number" data-line-number="335"></td>
        <td id="LC335" class="blob-code js-file-line">        &quot;      &lt;td&gt;    Aleksey Nemov&lt;/td&gt;\n&quot;,</td>
      </tr>
      <tr>
        <td id="L336" class="blob-num js-line-number" data-line-number="336"></td>
        <td id="LC336" class="blob-code js-file-line">        &quot;      &lt;td&gt; 24&lt;/td&gt;\n&quot;,</td>
      </tr>
      <tr>
        <td id="L337" class="blob-num js-line-number" data-line-number="337"></td>
        <td id="LC337" class="blob-code js-file-line">        &quot;      &lt;td&gt;        Russia&lt;/td&gt;\n&quot;,</td>
      </tr>
      <tr>
        <td id="L338" class="blob-num js-line-number" data-line-number="338"></td>
        <td id="LC338" class="blob-code js-file-line">        &quot;      &lt;td&gt; 2000&lt;/td&gt;\n&quot;,</td>
      </tr>
      <tr>
        <td id="L339" class="blob-num js-line-number" data-line-number="339"></td>
        <td id="LC339" class="blob-code js-file-line">        &quot;      &lt;td&gt; 2000-10-01&lt;/td&gt;\n&quot;,</td>
      </tr>
      <tr>
        <td id="L340" class="blob-num js-line-number" data-line-number="340"></td>
        <td id="LC340" class="blob-code js-file-line">        &quot;      &lt;td&gt; Gymnastics&lt;/td&gt;\n&quot;,</td>
      </tr>
      <tr>
        <td id="L341" class="blob-num js-line-number" data-line-number="341"></td>
        <td id="LC341" class="blob-code js-file-line">        &quot;      &lt;td&gt; 2&lt;/td&gt;\n&quot;,</td>
      </tr>
      <tr>
        <td id="L342" class="blob-num js-line-number" data-line-number="342"></td>
        <td id="LC342" class="blob-code js-file-line">        &quot;      &lt;td&gt; 1&lt;/td&gt;\n&quot;,</td>
      </tr>
      <tr>
        <td id="L343" class="blob-num js-line-number" data-line-number="343"></td>
        <td id="LC343" class="blob-code js-file-line">        &quot;      &lt;td&gt; 3&lt;/td&gt;\n&quot;,</td>
      </tr>
      <tr>
        <td id="L344" class="blob-num js-line-number" data-line-number="344"></td>
        <td id="LC344" class="blob-code js-file-line">        &quot;      &lt;td&gt; 6&lt;/td&gt;\n&quot;,</td>
      </tr>
      <tr>
        <td id="L345" class="blob-num js-line-number" data-line-number="345"></td>
        <td id="LC345" class="blob-code js-file-line">        &quot;    &lt;/tr&gt;\n&quot;,</td>
      </tr>
      <tr>
        <td id="L346" class="blob-num js-line-number" data-line-number="346"></td>
        <td id="LC346" class="blob-code js-file-line">        &quot;  &lt;/tbody&gt;\n&quot;,</td>
      </tr>
      <tr>
        <td id="L347" class="blob-num js-line-number" data-line-number="347"></td>
        <td id="LC347" class="blob-code js-file-line">        &quot;&lt;/table&gt;\n&quot;,</td>
      </tr>
      <tr>
        <td id="L348" class="blob-num js-line-number" data-line-number="348"></td>
        <td id="LC348" class="blob-code js-file-line">        &quot;&lt;/div&gt;&quot;</td>
      </tr>
      <tr>
        <td id="L349" class="blob-num js-line-number" data-line-number="349"></td>
        <td id="LC349" class="blob-code js-file-line">       ],</td>
      </tr>
      <tr>
        <td id="L350" class="blob-num js-line-number" data-line-number="350"></td>
        <td id="LC350" class="blob-code js-file-line">       &quot;metadata&quot;: {},</td>
      </tr>
      <tr>
        <td id="L351" class="blob-num js-line-number" data-line-number="351"></td>
        <td id="LC351" class="blob-code js-file-line">       &quot;output_type&quot;: &quot;pyout&quot;,</td>
      </tr>
      <tr>
        <td id="L352" class="blob-num js-line-number" data-line-number="352"></td>
        <td id="LC352" class="blob-code js-file-line">       &quot;prompt_number&quot;: 113,</td>
      </tr>
      <tr>
        <td id="L353" class="blob-num js-line-number" data-line-number="353"></td>
        <td id="LC353" class="blob-code js-file-line">       &quot;text&quot;: [</td>
      </tr>
      <tr>
        <td id="L354" class="blob-num js-line-number" data-line-number="354"></td>
        <td id="LC354" class="blob-code js-file-line">        &quot;            Athlete  Age        Country  Year Closing_Date       Sport  Gold  \\\n&quot;,</td>
      </tr>
      <tr>
        <td id="L355" class="blob-num js-line-number" data-line-number="355"></td>
        <td id="LC355" class="blob-code js-file-line">        &quot;0    Michael Phelps   23  United States  2008   2008-08-24    Swimming     8   \n&quot;,</td>
      </tr>
      <tr>
        <td id="L356" class="blob-num js-line-number" data-line-number="356"></td>
        <td id="LC356" class="blob-code js-file-line">        &quot;1    Michael Phelps   19  United States  2004   2004-08-29    Swimming     6   \n&quot;,</td>
      </tr>
      <tr>
        <td id="L357" class="blob-num js-line-number" data-line-number="357"></td>
        <td id="LC357" class="blob-code js-file-line">        &quot;2    Michael Phelps   27  United States  2012   2012-08-12    Swimming     4   \n&quot;,</td>
      </tr>
      <tr>
        <td id="L358" class="blob-num js-line-number" data-line-number="358"></td>
        <td id="LC358" class="blob-code js-file-line">        &quot;3  Natalie Coughlin   25  United States  2008   2008-08-24    Swimming     1   \n&quot;,</td>
      </tr>
      <tr>
        <td id="L359" class="blob-num js-line-number" data-line-number="359"></td>
        <td id="LC359" class="blob-code js-file-line">        &quot;4     Aleksey Nemov   24         Russia  2000   2000-10-01  Gymnastics     2   \n&quot;,</td>
      </tr>
      <tr>
        <td id="L360" class="blob-num js-line-number" data-line-number="360"></td>
        <td id="LC360" class="blob-code js-file-line">        &quot;\n&quot;,</td>
      </tr>
      <tr>
        <td id="L361" class="blob-num js-line-number" data-line-number="361"></td>
        <td id="LC361" class="blob-code js-file-line">        &quot;   Silver  Bronze  Total  \n&quot;,</td>
      </tr>
      <tr>
        <td id="L362" class="blob-num js-line-number" data-line-number="362"></td>
        <td id="LC362" class="blob-code js-file-line">        &quot;0       0       0      8  \n&quot;,</td>
      </tr>
      <tr>
        <td id="L363" class="blob-num js-line-number" data-line-number="363"></td>
        <td id="LC363" class="blob-code js-file-line">        &quot;1       0       2      8  \n&quot;,</td>
      </tr>
      <tr>
        <td id="L364" class="blob-num js-line-number" data-line-number="364"></td>
        <td id="LC364" class="blob-code js-file-line">        &quot;2       2       0      6  \n&quot;,</td>
      </tr>
      <tr>
        <td id="L365" class="blob-num js-line-number" data-line-number="365"></td>
        <td id="LC365" class="blob-code js-file-line">        &quot;3       2       3      6  \n&quot;,</td>
      </tr>
      <tr>
        <td id="L366" class="blob-num js-line-number" data-line-number="366"></td>
        <td id="LC366" class="blob-code js-file-line">        &quot;4       1       3      6  &quot;</td>
      </tr>
      <tr>
        <td id="L367" class="blob-num js-line-number" data-line-number="367"></td>
        <td id="LC367" class="blob-code js-file-line">       ]</td>
      </tr>
      <tr>
        <td id="L368" class="blob-num js-line-number" data-line-number="368"></td>
        <td id="LC368" class="blob-code js-file-line">      }</td>
      </tr>
      <tr>
        <td id="L369" class="blob-num js-line-number" data-line-number="369"></td>
        <td id="LC369" class="blob-code js-file-line">     ],</td>
      </tr>
      <tr>
        <td id="L370" class="blob-num js-line-number" data-line-number="370"></td>
        <td id="LC370" class="blob-code js-file-line">     &quot;prompt_number&quot;: 113</td>
      </tr>
      <tr>
        <td id="L371" class="blob-num js-line-number" data-line-number="371"></td>
        <td id="LC371" class="blob-code js-file-line">    },</td>
      </tr>
      <tr>
        <td id="L372" class="blob-num js-line-number" data-line-number="372"></td>
        <td id="LC372" class="blob-code js-file-line">    {</td>
      </tr>
      <tr>
        <td id="L373" class="blob-num js-line-number" data-line-number="373"></td>
        <td id="LC373" class="blob-code js-file-line">     &quot;cell_type&quot;: &quot;markdown&quot;,</td>
      </tr>
      <tr>
        <td id="L374" class="blob-num js-line-number" data-line-number="374"></td>
        <td id="LC374" class="blob-code js-file-line">     &quot;metadata&quot;: {},</td>
      </tr>
      <tr>
        <td id="L375" class="blob-num js-line-number" data-line-number="375"></td>
        <td id="LC375" class="blob-code js-file-line">     &quot;source&quot;: [</td>
      </tr>
      <tr>
        <td id="L376" class="blob-num js-line-number" data-line-number="376"></td>
        <td id="LC376" class="blob-code js-file-line">      &quot;# Handle Missing Values&quot;</td>
      </tr>
      <tr>
        <td id="L377" class="blob-num js-line-number" data-line-number="377"></td>
        <td id="LC377" class="blob-code js-file-line">     ]</td>
      </tr>
      <tr>
        <td id="L378" class="blob-num js-line-number" data-line-number="378"></td>
        <td id="LC378" class="blob-code js-file-line">    },</td>
      </tr>
      <tr>
        <td id="L379" class="blob-num js-line-number" data-line-number="379"></td>
        <td id="LC379" class="blob-code js-file-line">    {</td>
      </tr>
      <tr>
        <td id="L380" class="blob-num js-line-number" data-line-number="380"></td>
        <td id="LC380" class="blob-code js-file-line">     &quot;cell_type&quot;: &quot;markdown&quot;,</td>
      </tr>
      <tr>
        <td id="L381" class="blob-num js-line-number" data-line-number="381"></td>
        <td id="LC381" class="blob-code js-file-line">     &quot;metadata&quot;: {},</td>
      </tr>
      <tr>
        <td id="L382" class="blob-num js-line-number" data-line-number="382"></td>
        <td id="LC382" class="blob-code js-file-line">     &quot;source&quot;: [</td>
      </tr>
      <tr>
        <td id="L383" class="blob-num js-line-number" data-line-number="383"></td>
        <td id="LC383" class="blob-code js-file-line">      &quot;#### Looking at the data we see there are some NaN values in the Age variable&quot;</td>
      </tr>
      <tr>
        <td id="L384" class="blob-num js-line-number" data-line-number="384"></td>
        <td id="LC384" class="blob-code js-file-line">     ]</td>
      </tr>
      <tr>
        <td id="L385" class="blob-num js-line-number" data-line-number="385"></td>
        <td id="LC385" class="blob-code js-file-line">    },</td>
      </tr>
      <tr>
        <td id="L386" class="blob-num js-line-number" data-line-number="386"></td>
        <td id="LC386" class="blob-code js-file-line">    {</td>
      </tr>
      <tr>
        <td id="L387" class="blob-num js-line-number" data-line-number="387"></td>
        <td id="LC387" class="blob-code js-file-line">     &quot;cell_type&quot;: &quot;code&quot;,</td>
      </tr>
      <tr>
        <td id="L388" class="blob-num js-line-number" data-line-number="388"></td>
        <td id="LC388" class="blob-code js-file-line">     &quot;collapsed&quot;: false,</td>
      </tr>
      <tr>
        <td id="L389" class="blob-num js-line-number" data-line-number="389"></td>
        <td id="LC389" class="blob-code js-file-line">     &quot;input&quot;: [</td>
      </tr>
      <tr>
        <td id="L390" class="blob-num js-line-number" data-line-number="390"></td>
        <td id="LC390" class="blob-code js-file-line">      &quot;np.count_nonzero(np.isnan(olympics[&#39;Age&#39;]))&quot;</td>
      </tr>
      <tr>
        <td id="L391" class="blob-num js-line-number" data-line-number="391"></td>
        <td id="LC391" class="blob-code js-file-line">     ],</td>
      </tr>
      <tr>
        <td id="L392" class="blob-num js-line-number" data-line-number="392"></td>
        <td id="LC392" class="blob-code js-file-line">     &quot;language&quot;: &quot;python&quot;,</td>
      </tr>
      <tr>
        <td id="L393" class="blob-num js-line-number" data-line-number="393"></td>
        <td id="LC393" class="blob-code js-file-line">     &quot;metadata&quot;: {},</td>
      </tr>
      <tr>
        <td id="L394" class="blob-num js-line-number" data-line-number="394"></td>
        <td id="LC394" class="blob-code js-file-line">     &quot;outputs&quot;: [</td>
      </tr>
      <tr>
        <td id="L395" class="blob-num js-line-number" data-line-number="395"></td>
        <td id="LC395" class="blob-code js-file-line">      {</td>
      </tr>
      <tr>
        <td id="L396" class="blob-num js-line-number" data-line-number="396"></td>
        <td id="LC396" class="blob-code js-file-line">       &quot;metadata&quot;: {},</td>
      </tr>
      <tr>
        <td id="L397" class="blob-num js-line-number" data-line-number="397"></td>
        <td id="LC397" class="blob-code js-file-line">       &quot;output_type&quot;: &quot;pyout&quot;,</td>
      </tr>
      <tr>
        <td id="L398" class="blob-num js-line-number" data-line-number="398"></td>
        <td id="LC398" class="blob-code js-file-line">       &quot;prompt_number&quot;: 114,</td>
      </tr>
      <tr>
        <td id="L399" class="blob-num js-line-number" data-line-number="399"></td>
        <td id="LC399" class="blob-code js-file-line">       &quot;text&quot;: [</td>
      </tr>
      <tr>
        <td id="L400" class="blob-num js-line-number" data-line-number="400"></td>
        <td id="LC400" class="blob-code js-file-line">        &quot;5&quot;</td>
      </tr>
      <tr>
        <td id="L401" class="blob-num js-line-number" data-line-number="401"></td>
        <td id="LC401" class="blob-code js-file-line">       ]</td>
      </tr>
      <tr>
        <td id="L402" class="blob-num js-line-number" data-line-number="402"></td>
        <td id="LC402" class="blob-code js-file-line">      }</td>
      </tr>
      <tr>
        <td id="L403" class="blob-num js-line-number" data-line-number="403"></td>
        <td id="LC403" class="blob-code js-file-line">     ],</td>
      </tr>
      <tr>
        <td id="L404" class="blob-num js-line-number" data-line-number="404"></td>
        <td id="LC404" class="blob-code js-file-line">     &quot;prompt_number&quot;: 114</td>
      </tr>
      <tr>
        <td id="L405" class="blob-num js-line-number" data-line-number="405"></td>
        <td id="LC405" class="blob-code js-file-line">    },</td>
      </tr>
      <tr>
        <td id="L406" class="blob-num js-line-number" data-line-number="406"></td>
        <td id="LC406" class="blob-code js-file-line">    {</td>
      </tr>
      <tr>
        <td id="L407" class="blob-num js-line-number" data-line-number="407"></td>
        <td id="LC407" class="blob-code js-file-line">     &quot;cell_type&quot;: &quot;markdown&quot;,</td>
      </tr>
      <tr>
        <td id="L408" class="blob-num js-line-number" data-line-number="408"></td>
        <td id="LC408" class="blob-code js-file-line">     &quot;metadata&quot;: {},</td>
      </tr>
      <tr>
        <td id="L409" class="blob-num js-line-number" data-line-number="409"></td>
        <td id="LC409" class="blob-code js-file-line">     &quot;source&quot;: [</td>
      </tr>
      <tr>
        <td id="L410" class="blob-num js-line-number" data-line-number="410"></td>
        <td id="LC410" class="blob-code js-file-line">      &quot;#### Replace missing age variable with the mean and store it in a new variable &#39;NewAge&#39;&quot;</td>
      </tr>
      <tr>
        <td id="L411" class="blob-num js-line-number" data-line-number="411"></td>
        <td id="LC411" class="blob-code js-file-line">     ]</td>
      </tr>
      <tr>
        <td id="L412" class="blob-num js-line-number" data-line-number="412"></td>
        <td id="LC412" class="blob-code js-file-line">    },</td>
      </tr>
      <tr>
        <td id="L413" class="blob-num js-line-number" data-line-number="413"></td>
        <td id="LC413" class="blob-code js-file-line">    {</td>
      </tr>
      <tr>
        <td id="L414" class="blob-num js-line-number" data-line-number="414"></td>
        <td id="LC414" class="blob-code js-file-line">     &quot;cell_type&quot;: &quot;code&quot;,</td>
      </tr>
      <tr>
        <td id="L415" class="blob-num js-line-number" data-line-number="415"></td>
        <td id="LC415" class="blob-code js-file-line">     &quot;collapsed&quot;: false,</td>
      </tr>
      <tr>
        <td id="L416" class="blob-num js-line-number" data-line-number="416"></td>
        <td id="LC416" class="blob-code js-file-line">     &quot;input&quot;: [</td>
      </tr>
      <tr>
        <td id="L417" class="blob-num js-line-number" data-line-number="417"></td>
        <td id="LC417" class="blob-code js-file-line">      &quot;olympics[&#39;NewAge&#39;] = olympics[&#39;Age&#39;].replace(np.nan, mean(olympics[&#39;Age&#39;]))&quot;</td>
      </tr>
      <tr>
        <td id="L418" class="blob-num js-line-number" data-line-number="418"></td>
        <td id="LC418" class="blob-code js-file-line">     ],</td>
      </tr>
      <tr>
        <td id="L419" class="blob-num js-line-number" data-line-number="419"></td>
        <td id="LC419" class="blob-code js-file-line">     &quot;language&quot;: &quot;python&quot;,</td>
      </tr>
      <tr>
        <td id="L420" class="blob-num js-line-number" data-line-number="420"></td>
        <td id="LC420" class="blob-code js-file-line">     &quot;metadata&quot;: {},</td>
      </tr>
      <tr>
        <td id="L421" class="blob-num js-line-number" data-line-number="421"></td>
        <td id="LC421" class="blob-code js-file-line">     &quot;outputs&quot;: [],</td>
      </tr>
      <tr>
        <td id="L422" class="blob-num js-line-number" data-line-number="422"></td>
        <td id="LC422" class="blob-code js-file-line">     &quot;prompt_number&quot;: 115</td>
      </tr>
      <tr>
        <td id="L423" class="blob-num js-line-number" data-line-number="423"></td>
        <td id="LC423" class="blob-code js-file-line">    },</td>
      </tr>
      <tr>
        <td id="L424" class="blob-num js-line-number" data-line-number="424"></td>
        <td id="LC424" class="blob-code js-file-line">    {</td>
      </tr>
      <tr>
        <td id="L425" class="blob-num js-line-number" data-line-number="425"></td>
        <td id="LC425" class="blob-code js-file-line">     &quot;cell_type&quot;: &quot;markdown&quot;,</td>
      </tr>
      <tr>
        <td id="L426" class="blob-num js-line-number" data-line-number="426"></td>
        <td id="LC426" class="blob-code js-file-line">     &quot;metadata&quot;: {},</td>
      </tr>
      <tr>
        <td id="L427" class="blob-num js-line-number" data-line-number="427"></td>
        <td id="LC427" class="blob-code js-file-line">     &quot;source&quot;: [</td>
      </tr>
      <tr>
        <td id="L428" class="blob-num js-line-number" data-line-number="428"></td>
        <td id="LC428" class="blob-code js-file-line">      &quot;#### next we can verify that the variable NewAge has no NaN values&quot;</td>
      </tr>
      <tr>
        <td id="L429" class="blob-num js-line-number" data-line-number="429"></td>
        <td id="LC429" class="blob-code js-file-line">     ]</td>
      </tr>
      <tr>
        <td id="L430" class="blob-num js-line-number" data-line-number="430"></td>
        <td id="LC430" class="blob-code js-file-line">    },</td>
      </tr>
      <tr>
        <td id="L431" class="blob-num js-line-number" data-line-number="431"></td>
        <td id="LC431" class="blob-code js-file-line">    {</td>
      </tr>
      <tr>
        <td id="L432" class="blob-num js-line-number" data-line-number="432"></td>
        <td id="LC432" class="blob-code js-file-line">     &quot;cell_type&quot;: &quot;code&quot;,</td>
      </tr>
      <tr>
        <td id="L433" class="blob-num js-line-number" data-line-number="433"></td>
        <td id="LC433" class="blob-code js-file-line">     &quot;collapsed&quot;: false,</td>
      </tr>
      <tr>
        <td id="L434" class="blob-num js-line-number" data-line-number="434"></td>
        <td id="LC434" class="blob-code js-file-line">     &quot;input&quot;: [</td>
      </tr>
      <tr>
        <td id="L435" class="blob-num js-line-number" data-line-number="435"></td>
        <td id="LC435" class="blob-code js-file-line">      &quot;np.count_nonzero(np.isnan(olympics[&#39;NewAge&#39;]))&quot;</td>
      </tr>
      <tr>
        <td id="L436" class="blob-num js-line-number" data-line-number="436"></td>
        <td id="LC436" class="blob-code js-file-line">     ],</td>
      </tr>
      <tr>
        <td id="L437" class="blob-num js-line-number" data-line-number="437"></td>
        <td id="LC437" class="blob-code js-file-line">     &quot;language&quot;: &quot;python&quot;,</td>
      </tr>
      <tr>
        <td id="L438" class="blob-num js-line-number" data-line-number="438"></td>
        <td id="LC438" class="blob-code js-file-line">     &quot;metadata&quot;: {},</td>
      </tr>
      <tr>
        <td id="L439" class="blob-num js-line-number" data-line-number="439"></td>
        <td id="LC439" class="blob-code js-file-line">     &quot;outputs&quot;: [</td>
      </tr>
      <tr>
        <td id="L440" class="blob-num js-line-number" data-line-number="440"></td>
        <td id="LC440" class="blob-code js-file-line">      {</td>
      </tr>
      <tr>
        <td id="L441" class="blob-num js-line-number" data-line-number="441"></td>
        <td id="LC441" class="blob-code js-file-line">       &quot;metadata&quot;: {},</td>
      </tr>
      <tr>
        <td id="L442" class="blob-num js-line-number" data-line-number="442"></td>
        <td id="LC442" class="blob-code js-file-line">       &quot;output_type&quot;: &quot;pyout&quot;,</td>
      </tr>
      <tr>
        <td id="L443" class="blob-num js-line-number" data-line-number="443"></td>
        <td id="LC443" class="blob-code js-file-line">       &quot;prompt_number&quot;: 116,</td>
      </tr>
      <tr>
        <td id="L444" class="blob-num js-line-number" data-line-number="444"></td>
        <td id="LC444" class="blob-code js-file-line">       &quot;text&quot;: [</td>
      </tr>
      <tr>
        <td id="L445" class="blob-num js-line-number" data-line-number="445"></td>
        <td id="LC445" class="blob-code js-file-line">        &quot;0&quot;</td>
      </tr>
      <tr>
        <td id="L446" class="blob-num js-line-number" data-line-number="446"></td>
        <td id="LC446" class="blob-code js-file-line">       ]</td>
      </tr>
      <tr>
        <td id="L447" class="blob-num js-line-number" data-line-number="447"></td>
        <td id="LC447" class="blob-code js-file-line">      }</td>
      </tr>
      <tr>
        <td id="L448" class="blob-num js-line-number" data-line-number="448"></td>
        <td id="LC448" class="blob-code js-file-line">     ],</td>
      </tr>
      <tr>
        <td id="L449" class="blob-num js-line-number" data-line-number="449"></td>
        <td id="LC449" class="blob-code js-file-line">     &quot;prompt_number&quot;: 116</td>
      </tr>
      <tr>
        <td id="L450" class="blob-num js-line-number" data-line-number="450"></td>
        <td id="LC450" class="blob-code js-file-line">    },</td>
      </tr>
      <tr>
        <td id="L451" class="blob-num js-line-number" data-line-number="451"></td>
        <td id="LC451" class="blob-code js-file-line">    {</td>
      </tr>
      <tr>
        <td id="L452" class="blob-num js-line-number" data-line-number="452"></td>
        <td id="LC452" class="blob-code js-file-line">     &quot;cell_type&quot;: &quot;markdown&quot;,</td>
      </tr>
      <tr>
        <td id="L453" class="blob-num js-line-number" data-line-number="453"></td>
        <td id="LC453" class="blob-code js-file-line">     &quot;metadata&quot;: {},</td>
      </tr>
      <tr>
        <td id="L454" class="blob-num js-line-number" data-line-number="454"></td>
        <td id="LC454" class="blob-code js-file-line">     &quot;source&quot;: [</td>
      </tr>
      <tr>
        <td id="L455" class="blob-num js-line-number" data-line-number="455"></td>
        <td id="LC455" class="blob-code js-file-line">      &quot;#### Looking at the data we see there are some Null values in the Athlete variable&quot;</td>
      </tr>
      <tr>
        <td id="L456" class="blob-num js-line-number" data-line-number="456"></td>
        <td id="LC456" class="blob-code js-file-line">     ]</td>
      </tr>
      <tr>
        <td id="L457" class="blob-num js-line-number" data-line-number="457"></td>
        <td id="LC457" class="blob-code js-file-line">    },</td>
      </tr>
      <tr>
        <td id="L458" class="blob-num js-line-number" data-line-number="458"></td>
        <td id="LC458" class="blob-code js-file-line">    {</td>
      </tr>
      <tr>
        <td id="L459" class="blob-num js-line-number" data-line-number="459"></td>
        <td id="LC459" class="blob-code js-file-line">     &quot;cell_type&quot;: &quot;code&quot;,</td>
      </tr>
      <tr>
        <td id="L460" class="blob-num js-line-number" data-line-number="460"></td>
        <td id="LC460" class="blob-code js-file-line">     &quot;collapsed&quot;: false,</td>
      </tr>
      <tr>
        <td id="L461" class="blob-num js-line-number" data-line-number="461"></td>
        <td id="LC461" class="blob-code js-file-line">     &quot;input&quot;: [</td>
      </tr>
      <tr>
        <td id="L462" class="blob-num js-line-number" data-line-number="462"></td>
        <td id="LC462" class="blob-code js-file-line">      &quot;np.count_nonzero(pd.isnull(olympics[&#39;Athlete&#39;]))&quot;</td>
      </tr>
      <tr>
        <td id="L463" class="blob-num js-line-number" data-line-number="463"></td>
        <td id="LC463" class="blob-code js-file-line">     ],</td>
      </tr>
      <tr>
        <td id="L464" class="blob-num js-line-number" data-line-number="464"></td>
        <td id="LC464" class="blob-code js-file-line">     &quot;language&quot;: &quot;python&quot;,</td>
      </tr>
      <tr>
        <td id="L465" class="blob-num js-line-number" data-line-number="465"></td>
        <td id="LC465" class="blob-code js-file-line">     &quot;metadata&quot;: {},</td>
      </tr>
      <tr>
        <td id="L466" class="blob-num js-line-number" data-line-number="466"></td>
        <td id="LC466" class="blob-code js-file-line">     &quot;outputs&quot;: [</td>
      </tr>
      <tr>
        <td id="L467" class="blob-num js-line-number" data-line-number="467"></td>
        <td id="LC467" class="blob-code js-file-line">      {</td>
      </tr>
      <tr>
        <td id="L468" class="blob-num js-line-number" data-line-number="468"></td>
        <td id="LC468" class="blob-code js-file-line">       &quot;metadata&quot;: {},</td>
      </tr>
      <tr>
        <td id="L469" class="blob-num js-line-number" data-line-number="469"></td>
        <td id="LC469" class="blob-code js-file-line">       &quot;output_type&quot;: &quot;pyout&quot;,</td>
      </tr>
      <tr>
        <td id="L470" class="blob-num js-line-number" data-line-number="470"></td>
        <td id="LC470" class="blob-code js-file-line">       &quot;prompt_number&quot;: 117,</td>
      </tr>
      <tr>
        <td id="L471" class="blob-num js-line-number" data-line-number="471"></td>
        <td id="LC471" class="blob-code js-file-line">       &quot;text&quot;: [</td>
      </tr>
      <tr>
        <td id="L472" class="blob-num js-line-number" data-line-number="472"></td>
        <td id="LC472" class="blob-code js-file-line">        &quot;5&quot;</td>
      </tr>
      <tr>
        <td id="L473" class="blob-num js-line-number" data-line-number="473"></td>
        <td id="LC473" class="blob-code js-file-line">       ]</td>
      </tr>
      <tr>
        <td id="L474" class="blob-num js-line-number" data-line-number="474"></td>
        <td id="LC474" class="blob-code js-file-line">      }</td>
      </tr>
      <tr>
        <td id="L475" class="blob-num js-line-number" data-line-number="475"></td>
        <td id="LC475" class="blob-code js-file-line">     ],</td>
      </tr>
      <tr>
        <td id="L476" class="blob-num js-line-number" data-line-number="476"></td>
        <td id="LC476" class="blob-code js-file-line">     &quot;prompt_number&quot;: 117</td>
      </tr>
      <tr>
        <td id="L477" class="blob-num js-line-number" data-line-number="477"></td>
        <td id="LC477" class="blob-code js-file-line">    },</td>
      </tr>
      <tr>
        <td id="L478" class="blob-num js-line-number" data-line-number="478"></td>
        <td id="LC478" class="blob-code js-file-line">    {</td>
      </tr>
      <tr>
        <td id="L479" class="blob-num js-line-number" data-line-number="479"></td>
        <td id="LC479" class="blob-code js-file-line">     &quot;cell_type&quot;: &quot;markdown&quot;,</td>
      </tr>
      <tr>
        <td id="L480" class="blob-num js-line-number" data-line-number="480"></td>
        <td id="LC480" class="blob-code js-file-line">     &quot;metadata&quot;: {},</td>
      </tr>
      <tr>
        <td id="L481" class="blob-num js-line-number" data-line-number="481"></td>
        <td id="LC481" class="blob-code js-file-line">     &quot;source&quot;: [</td>
      </tr>
      <tr>
        <td id="L482" class="blob-num js-line-number" data-line-number="482"></td>
        <td id="LC482" class="blob-code js-file-line">      &quot;#### Replace blank Athlete fields with \&quot;Missing\&quot; in a new variable &#39;NewAthlete&#39;&quot;</td>
      </tr>
      <tr>
        <td id="L483" class="blob-num js-line-number" data-line-number="483"></td>
        <td id="LC483" class="blob-code js-file-line">     ]</td>
      </tr>
      <tr>
        <td id="L484" class="blob-num js-line-number" data-line-number="484"></td>
        <td id="LC484" class="blob-code js-file-line">    },</td>
      </tr>
      <tr>
        <td id="L485" class="blob-num js-line-number" data-line-number="485"></td>
        <td id="LC485" class="blob-code js-file-line">    {</td>
      </tr>
      <tr>
        <td id="L486" class="blob-num js-line-number" data-line-number="486"></td>
        <td id="LC486" class="blob-code js-file-line">     &quot;cell_type&quot;: &quot;code&quot;,</td>
      </tr>
      <tr>
        <td id="L487" class="blob-num js-line-number" data-line-number="487"></td>
        <td id="LC487" class="blob-code js-file-line">     &quot;collapsed&quot;: false,</td>
      </tr>
      <tr>
        <td id="L488" class="blob-num js-line-number" data-line-number="488"></td>
        <td id="LC488" class="blob-code js-file-line">     &quot;input&quot;: [</td>
      </tr>
      <tr>
        <td id="L489" class="blob-num js-line-number" data-line-number="489"></td>
        <td id="LC489" class="blob-code js-file-line">      &quot;olympics[&#39;NewAthlete&#39;] = olympics[&#39;Athlete&#39;].replace(np.nan, \&quot;Missing\&quot;)&quot;</td>
      </tr>
      <tr>
        <td id="L490" class="blob-num js-line-number" data-line-number="490"></td>
        <td id="LC490" class="blob-code js-file-line">     ],</td>
      </tr>
      <tr>
        <td id="L491" class="blob-num js-line-number" data-line-number="491"></td>
        <td id="LC491" class="blob-code js-file-line">     &quot;language&quot;: &quot;python&quot;,</td>
      </tr>
      <tr>
        <td id="L492" class="blob-num js-line-number" data-line-number="492"></td>
        <td id="LC492" class="blob-code js-file-line">     &quot;metadata&quot;: {},</td>
      </tr>
      <tr>
        <td id="L493" class="blob-num js-line-number" data-line-number="493"></td>
        <td id="LC493" class="blob-code js-file-line">     &quot;outputs&quot;: [],</td>
      </tr>
      <tr>
        <td id="L494" class="blob-num js-line-number" data-line-number="494"></td>
        <td id="LC494" class="blob-code js-file-line">     &quot;prompt_number&quot;: 118</td>
      </tr>
      <tr>
        <td id="L495" class="blob-num js-line-number" data-line-number="495"></td>
        <td id="LC495" class="blob-code js-file-line">    },</td>
      </tr>
      <tr>
        <td id="L496" class="blob-num js-line-number" data-line-number="496"></td>
        <td id="LC496" class="blob-code js-file-line">    {</td>
      </tr>
      <tr>
        <td id="L497" class="blob-num js-line-number" data-line-number="497"></td>
        <td id="LC497" class="blob-code js-file-line">     &quot;cell_type&quot;: &quot;markdown&quot;,</td>
      </tr>
      <tr>
        <td id="L498" class="blob-num js-line-number" data-line-number="498"></td>
        <td id="LC498" class="blob-code js-file-line">     &quot;metadata&quot;: {},</td>
      </tr>
      <tr>
        <td id="L499" class="blob-num js-line-number" data-line-number="499"></td>
        <td id="LC499" class="blob-code js-file-line">     &quot;source&quot;: [</td>
      </tr>
      <tr>
        <td id="L500" class="blob-num js-line-number" data-line-number="500"></td>
        <td id="LC500" class="blob-code js-file-line">      &quot;#### next we can verify that the variable NewAthlete has no Null values&quot;</td>
      </tr>
      <tr>
        <td id="L501" class="blob-num js-line-number" data-line-number="501"></td>
        <td id="LC501" class="blob-code js-file-line">     ]</td>
      </tr>
      <tr>
        <td id="L502" class="blob-num js-line-number" data-line-number="502"></td>
        <td id="LC502" class="blob-code js-file-line">    },</td>
      </tr>
      <tr>
        <td id="L503" class="blob-num js-line-number" data-line-number="503"></td>
        <td id="LC503" class="blob-code js-file-line">    {</td>
      </tr>
      <tr>
        <td id="L504" class="blob-num js-line-number" data-line-number="504"></td>
        <td id="LC504" class="blob-code js-file-line">     &quot;cell_type&quot;: &quot;code&quot;,</td>
      </tr>
      <tr>
        <td id="L505" class="blob-num js-line-number" data-line-number="505"></td>
        <td id="LC505" class="blob-code js-file-line">     &quot;collapsed&quot;: false,</td>
      </tr>
      <tr>
        <td id="L506" class="blob-num js-line-number" data-line-number="506"></td>
        <td id="LC506" class="blob-code js-file-line">     &quot;input&quot;: [</td>
      </tr>
      <tr>
        <td id="L507" class="blob-num js-line-number" data-line-number="507"></td>
        <td id="LC507" class="blob-code js-file-line">      &quot;np.count_nonzero(pd.isnull(olympics[&#39;NewAthlete&#39;]))&quot;</td>
      </tr>
      <tr>
        <td id="L508" class="blob-num js-line-number" data-line-number="508"></td>
        <td id="LC508" class="blob-code js-file-line">     ],</td>
      </tr>
      <tr>
        <td id="L509" class="blob-num js-line-number" data-line-number="509"></td>
        <td id="LC509" class="blob-code js-file-line">     &quot;language&quot;: &quot;python&quot;,</td>
      </tr>
      <tr>
        <td id="L510" class="blob-num js-line-number" data-line-number="510"></td>
        <td id="LC510" class="blob-code js-file-line">     &quot;metadata&quot;: {},</td>
      </tr>
      <tr>
        <td id="L511" class="blob-num js-line-number" data-line-number="511"></td>
        <td id="LC511" class="blob-code js-file-line">     &quot;outputs&quot;: [</td>
      </tr>
      <tr>
        <td id="L512" class="blob-num js-line-number" data-line-number="512"></td>
        <td id="LC512" class="blob-code js-file-line">      {</td>
      </tr>
      <tr>
        <td id="L513" class="blob-num js-line-number" data-line-number="513"></td>
        <td id="LC513" class="blob-code js-file-line">       &quot;metadata&quot;: {},</td>
      </tr>
      <tr>
        <td id="L514" class="blob-num js-line-number" data-line-number="514"></td>
        <td id="LC514" class="blob-code js-file-line">       &quot;output_type&quot;: &quot;pyout&quot;,</td>
      </tr>
      <tr>
        <td id="L515" class="blob-num js-line-number" data-line-number="515"></td>
        <td id="LC515" class="blob-code js-file-line">       &quot;prompt_number&quot;: 119,</td>
      </tr>
      <tr>
        <td id="L516" class="blob-num js-line-number" data-line-number="516"></td>
        <td id="LC516" class="blob-code js-file-line">       &quot;text&quot;: [</td>
      </tr>
      <tr>
        <td id="L517" class="blob-num js-line-number" data-line-number="517"></td>
        <td id="LC517" class="blob-code js-file-line">        &quot;0&quot;</td>
      </tr>
      <tr>
        <td id="L518" class="blob-num js-line-number" data-line-number="518"></td>
        <td id="LC518" class="blob-code js-file-line">       ]</td>
      </tr>
      <tr>
        <td id="L519" class="blob-num js-line-number" data-line-number="519"></td>
        <td id="LC519" class="blob-code js-file-line">      }</td>
      </tr>
      <tr>
        <td id="L520" class="blob-num js-line-number" data-line-number="520"></td>
        <td id="LC520" class="blob-code js-file-line">     ],</td>
      </tr>
      <tr>
        <td id="L521" class="blob-num js-line-number" data-line-number="521"></td>
        <td id="LC521" class="blob-code js-file-line">     &quot;prompt_number&quot;: 119</td>
      </tr>
      <tr>
        <td id="L522" class="blob-num js-line-number" data-line-number="522"></td>
        <td id="LC522" class="blob-code js-file-line">    },</td>
      </tr>
      <tr>
        <td id="L523" class="blob-num js-line-number" data-line-number="523"></td>
        <td id="LC523" class="blob-code js-file-line">    {</td>
      </tr>
      <tr>
        <td id="L524" class="blob-num js-line-number" data-line-number="524"></td>
        <td id="LC524" class="blob-code js-file-line">     &quot;cell_type&quot;: &quot;markdown&quot;,</td>
      </tr>
      <tr>
        <td id="L525" class="blob-num js-line-number" data-line-number="525"></td>
        <td id="LC525" class="blob-code js-file-line">     &quot;metadata&quot;: {},</td>
      </tr>
      <tr>
        <td id="L526" class="blob-num js-line-number" data-line-number="526"></td>
        <td id="LC526" class="blob-code js-file-line">     &quot;source&quot;: [</td>
      </tr>
      <tr>
        <td id="L527" class="blob-num js-line-number" data-line-number="527"></td>
        <td id="LC527" class="blob-code js-file-line">      &quot;# Save the reshaped data as a pickle&quot;</td>
      </tr>
      <tr>
        <td id="L528" class="blob-num js-line-number" data-line-number="528"></td>
        <td id="LC528" class="blob-code js-file-line">     ]</td>
      </tr>
      <tr>
        <td id="L529" class="blob-num js-line-number" data-line-number="529"></td>
        <td id="LC529" class="blob-code js-file-line">    },</td>
      </tr>
      <tr>
        <td id="L530" class="blob-num js-line-number" data-line-number="530"></td>
        <td id="LC530" class="blob-code js-file-line">    {</td>
      </tr>
      <tr>
        <td id="L531" class="blob-num js-line-number" data-line-number="531"></td>
        <td id="LC531" class="blob-code js-file-line">     &quot;cell_type&quot;: &quot;code&quot;,</td>
      </tr>
      <tr>
        <td id="L532" class="blob-num js-line-number" data-line-number="532"></td>
        <td id="LC532" class="blob-code js-file-line">     &quot;collapsed&quot;: false,</td>
      </tr>
      <tr>
        <td id="L533" class="blob-num js-line-number" data-line-number="533"></td>
        <td id="LC533" class="blob-code js-file-line">     &quot;input&quot;: [</td>
      </tr>
      <tr>
        <td id="L534" class="blob-num js-line-number" data-line-number="534"></td>
        <td id="LC534" class="blob-code js-file-line">      &quot;olympics.to_pickle(&#39;Pickle/OlympicsPickle&#39;)&quot;</td>
      </tr>
      <tr>
        <td id="L535" class="blob-num js-line-number" data-line-number="535"></td>
        <td id="LC535" class="blob-code js-file-line">     ],</td>
      </tr>
      <tr>
        <td id="L536" class="blob-num js-line-number" data-line-number="536"></td>
        <td id="LC536" class="blob-code js-file-line">     &quot;language&quot;: &quot;python&quot;,</td>
      </tr>
      <tr>
        <td id="L537" class="blob-num js-line-number" data-line-number="537"></td>
        <td id="LC537" class="blob-code js-file-line">     &quot;metadata&quot;: {},</td>
      </tr>
      <tr>
        <td id="L538" class="blob-num js-line-number" data-line-number="538"></td>
        <td id="LC538" class="blob-code js-file-line">     &quot;outputs&quot;: [],</td>
      </tr>
      <tr>
        <td id="L539" class="blob-num js-line-number" data-line-number="539"></td>
        <td id="LC539" class="blob-code js-file-line">     &quot;prompt_number&quot;: 120</td>
      </tr>
      <tr>
        <td id="L540" class="blob-num js-line-number" data-line-number="540"></td>
        <td id="LC540" class="blob-code js-file-line">    },</td>
      </tr>
      <tr>
        <td id="L541" class="blob-num js-line-number" data-line-number="541"></td>
        <td id="LC541" class="blob-code js-file-line">    {</td>
      </tr>
      <tr>
        <td id="L542" class="blob-num js-line-number" data-line-number="542"></td>
        <td id="LC542" class="blob-code js-file-line">     &quot;cell_type&quot;: &quot;markdown&quot;,</td>
      </tr>
      <tr>
        <td id="L543" class="blob-num js-line-number" data-line-number="543"></td>
        <td id="LC543" class="blob-code js-file-line">     &quot;metadata&quot;: {},</td>
      </tr>
      <tr>
        <td id="L544" class="blob-num js-line-number" data-line-number="544"></td>
        <td id="LC544" class="blob-code js-file-line">     &quot;source&quot;: [</td>
      </tr>
      <tr>
        <td id="L545" class="blob-num js-line-number" data-line-number="545"></td>
        <td id="LC545" class="blob-code js-file-line">      &quot;# Look at numerical summaries for variables&quot;</td>
      </tr>
      <tr>
        <td id="L546" class="blob-num js-line-number" data-line-number="546"></td>
        <td id="LC546" class="blob-code js-file-line">     ]</td>
      </tr>
      <tr>
        <td id="L547" class="blob-num js-line-number" data-line-number="547"></td>
        <td id="LC547" class="blob-code js-file-line">    },</td>
      </tr>
      <tr>
        <td id="L548" class="blob-num js-line-number" data-line-number="548"></td>
        <td id="LC548" class="blob-code js-file-line">    {</td>
      </tr>
      <tr>
        <td id="L549" class="blob-num js-line-number" data-line-number="549"></td>
        <td id="LC549" class="blob-code js-file-line">     &quot;cell_type&quot;: &quot;code&quot;,</td>
      </tr>
      <tr>
        <td id="L550" class="blob-num js-line-number" data-line-number="550"></td>
        <td id="LC550" class="blob-code js-file-line">     &quot;collapsed&quot;: false,</td>
      </tr>
      <tr>
        <td id="L551" class="blob-num js-line-number" data-line-number="551"></td>
        <td id="LC551" class="blob-code js-file-line">     &quot;input&quot;: [</td>
      </tr>
      <tr>
        <td id="L552" class="blob-num js-line-number" data-line-number="552"></td>
        <td id="LC552" class="blob-code js-file-line">      &quot;olympics.describe()&quot;</td>
      </tr>
      <tr>
        <td id="L553" class="blob-num js-line-number" data-line-number="553"></td>
        <td id="LC553" class="blob-code js-file-line">     ],</td>
      </tr>
      <tr>
        <td id="L554" class="blob-num js-line-number" data-line-number="554"></td>
        <td id="LC554" class="blob-code js-file-line">     &quot;language&quot;: &quot;python&quot;,</td>
      </tr>
      <tr>
        <td id="L555" class="blob-num js-line-number" data-line-number="555"></td>
        <td id="LC555" class="blob-code js-file-line">     &quot;metadata&quot;: {},</td>
      </tr>
      <tr>
        <td id="L556" class="blob-num js-line-number" data-line-number="556"></td>
        <td id="LC556" class="blob-code js-file-line">     &quot;outputs&quot;: [</td>
      </tr>
      <tr>
        <td id="L557" class="blob-num js-line-number" data-line-number="557"></td>
        <td id="LC557" class="blob-code js-file-line">      {</td>
      </tr>
      <tr>
        <td id="L558" class="blob-num js-line-number" data-line-number="558"></td>
        <td id="LC558" class="blob-code js-file-line">       &quot;html&quot;: [</td>
      </tr>
      <tr>
        <td id="L559" class="blob-num js-line-number" data-line-number="559"></td>
        <td id="LC559" class="blob-code js-file-line">        &quot;&lt;div style=\&quot;max-height:1000px;max-width:1500px;overflow:auto;\&quot;&gt;\n&quot;,</td>
      </tr>
      <tr>
        <td id="L560" class="blob-num js-line-number" data-line-number="560"></td>
        <td id="LC560" class="blob-code js-file-line">        &quot;&lt;table border=\&quot;1\&quot; class=\&quot;dataframe\&quot;&gt;\n&quot;,</td>
      </tr>
      <tr>
        <td id="L561" class="blob-num js-line-number" data-line-number="561"></td>
        <td id="LC561" class="blob-code js-file-line">        &quot;  &lt;thead&gt;\n&quot;,</td>
      </tr>
      <tr>
        <td id="L562" class="blob-num js-line-number" data-line-number="562"></td>
        <td id="LC562" class="blob-code js-file-line">        &quot;    &lt;tr style=\&quot;text-align: right;\&quot;&gt;\n&quot;,</td>
      </tr>
      <tr>
        <td id="L563" class="blob-num js-line-number" data-line-number="563"></td>
        <td id="LC563" class="blob-code js-file-line">        &quot;      &lt;th&gt;&lt;/th&gt;\n&quot;,</td>
      </tr>
      <tr>
        <td id="L564" class="blob-num js-line-number" data-line-number="564"></td>
        <td id="LC564" class="blob-code js-file-line">        &quot;      &lt;th&gt;Age&lt;/th&gt;\n&quot;,</td>
      </tr>
      <tr>
        <td id="L565" class="blob-num js-line-number" data-line-number="565"></td>
        <td id="LC565" class="blob-code js-file-line">        &quot;      &lt;th&gt;Year&lt;/th&gt;\n&quot;,</td>
      </tr>
      <tr>
        <td id="L566" class="blob-num js-line-number" data-line-number="566"></td>
        <td id="LC566" class="blob-code js-file-line">        &quot;      &lt;th&gt;Gold&lt;/th&gt;\n&quot;,</td>
      </tr>
      <tr>
        <td id="L567" class="blob-num js-line-number" data-line-number="567"></td>
        <td id="LC567" class="blob-code js-file-line">        &quot;      &lt;th&gt;Silver&lt;/th&gt;\n&quot;,</td>
      </tr>
      <tr>
        <td id="L568" class="blob-num js-line-number" data-line-number="568"></td>
        <td id="LC568" class="blob-code js-file-line">        &quot;      &lt;th&gt;Bronze&lt;/th&gt;\n&quot;,</td>
      </tr>
      <tr>
        <td id="L569" class="blob-num js-line-number" data-line-number="569"></td>
        <td id="LC569" class="blob-code js-file-line">        &quot;      &lt;th&gt;Total&lt;/th&gt;\n&quot;,</td>
      </tr>
      <tr>
        <td id="L570" class="blob-num js-line-number" data-line-number="570"></td>
        <td id="LC570" class="blob-code js-file-line">        &quot;      &lt;th&gt;NewAge&lt;/th&gt;\n&quot;,</td>
      </tr>
      <tr>
        <td id="L571" class="blob-num js-line-number" data-line-number="571"></td>
        <td id="LC571" class="blob-code js-file-line">        &quot;    &lt;/tr&gt;\n&quot;,</td>
      </tr>
      <tr>
        <td id="L572" class="blob-num js-line-number" data-line-number="572"></td>
        <td id="LC572" class="blob-code js-file-line">        &quot;  &lt;/thead&gt;\n&quot;,</td>
      </tr>
      <tr>
        <td id="L573" class="blob-num js-line-number" data-line-number="573"></td>
        <td id="LC573" class="blob-code js-file-line">        &quot;  &lt;tbody&gt;\n&quot;,</td>
      </tr>
      <tr>
        <td id="L574" class="blob-num js-line-number" data-line-number="574"></td>
        <td id="LC574" class="blob-code js-file-line">        &quot;    &lt;tr&gt;\n&quot;,</td>
      </tr>
      <tr>
        <td id="L575" class="blob-num js-line-number" data-line-number="575"></td>
        <td id="LC575" class="blob-code js-file-line">        &quot;      &lt;th&gt;count&lt;/th&gt;\n&quot;,</td>
      </tr>
      <tr>
        <td id="L576" class="blob-num js-line-number" data-line-number="576"></td>
        <td id="LC576" class="blob-code js-file-line">        &quot;      &lt;td&gt; 8613.000000&lt;/td&gt;\n&quot;,</td>
      </tr>
      <tr>
        <td id="L577" class="blob-num js-line-number" data-line-number="577"></td>
        <td id="LC577" class="blob-code js-file-line">        &quot;      &lt;td&gt; 8618.000000&lt;/td&gt;\n&quot;,</td>
      </tr>
      <tr>
        <td id="L578" class="blob-num js-line-number" data-line-number="578"></td>
        <td id="LC578" class="blob-code js-file-line">        &quot;      &lt;td&gt; 8618.000000&lt;/td&gt;\n&quot;,</td>
      </tr>
      <tr>
        <td id="L579" class="blob-num js-line-number" data-line-number="579"></td>
        <td id="LC579" class="blob-code js-file-line">        &quot;      &lt;td&gt; 8618.000000&lt;/td&gt;\n&quot;,</td>
      </tr>
      <tr>
        <td id="L580" class="blob-num js-line-number" data-line-number="580"></td>
        <td id="LC580" class="blob-code js-file-line">        &quot;      &lt;td&gt; 8618.000000&lt;/td&gt;\n&quot;,</td>
      </tr>
      <tr>
        <td id="L581" class="blob-num js-line-number" data-line-number="581"></td>
        <td id="LC581" class="blob-code js-file-line">        &quot;      &lt;td&gt; 8618.000000&lt;/td&gt;\n&quot;,</td>
      </tr>
      <tr>
        <td id="L582" class="blob-num js-line-number" data-line-number="582"></td>
        <td id="LC582" class="blob-code js-file-line">        &quot;      &lt;td&gt; 8618.000000&lt;/td&gt;\n&quot;,</td>
      </tr>
      <tr>
        <td id="L583" class="blob-num js-line-number" data-line-number="583"></td>
        <td id="LC583" class="blob-code js-file-line">        &quot;    &lt;/tr&gt;\n&quot;,</td>
      </tr>
      <tr>
        <td id="L584" class="blob-num js-line-number" data-line-number="584"></td>
        <td id="LC584" class="blob-code js-file-line">        &quot;    &lt;tr&gt;\n&quot;,</td>
      </tr>
      <tr>
        <td id="L585" class="blob-num js-line-number" data-line-number="585"></td>
        <td id="LC585" class="blob-code js-file-line">        &quot;      &lt;th&gt;mean&lt;/th&gt;\n&quot;,</td>
      </tr>
      <tr>
        <td id="L586" class="blob-num js-line-number" data-line-number="586"></td>
        <td id="LC586" class="blob-code js-file-line">        &quot;      &lt;td&gt;   26.405434&lt;/td&gt;\n&quot;,</td>
      </tr>
      <tr>
        <td id="L587" class="blob-num js-line-number" data-line-number="587"></td>
        <td id="LC587" class="blob-code js-file-line">        &quot;      &lt;td&gt; 2005.978881&lt;/td&gt;\n&quot;,</td>
      </tr>
      <tr>
        <td id="L588" class="blob-num js-line-number" data-line-number="588"></td>
        <td id="LC588" class="blob-code js-file-line">        &quot;      &lt;td&gt;    0.364702&lt;/td&gt;\n&quot;,</td>
      </tr>
      <tr>
        <td id="L589" class="blob-num js-line-number" data-line-number="589"></td>
        <td id="LC589" class="blob-code js-file-line">        &quot;      &lt;td&gt;    0.363309&lt;/td&gt;\n&quot;,</td>
      </tr>
      <tr>
        <td id="L590" class="blob-num js-line-number" data-line-number="590"></td>
        <td id="LC590" class="blob-code js-file-line">        &quot;      &lt;td&gt;    0.377698&lt;/td&gt;\n&quot;,</td>
      </tr>
      <tr>
        <td id="L591" class="blob-num js-line-number" data-line-number="591"></td>
        <td id="LC591" class="blob-code js-file-line">        &quot;      &lt;td&gt;    1.105709&lt;/td&gt;\n&quot;,</td>
      </tr>
      <tr>
        <td id="L592" class="blob-num js-line-number" data-line-number="592"></td>
        <td id="LC592" class="blob-code js-file-line">        &quot;      &lt;td&gt;   26.405434&lt;/td&gt;\n&quot;,</td>
      </tr>
      <tr>
        <td id="L593" class="blob-num js-line-number" data-line-number="593"></td>
        <td id="LC593" class="blob-code js-file-line">        &quot;    &lt;/tr&gt;\n&quot;,</td>
      </tr>
      <tr>
        <td id="L594" class="blob-num js-line-number" data-line-number="594"></td>
        <td id="LC594" class="blob-code js-file-line">        &quot;    &lt;tr&gt;\n&quot;,</td>
      </tr>
      <tr>
        <td id="L595" class="blob-num js-line-number" data-line-number="595"></td>
        <td id="LC595" class="blob-code js-file-line">        &quot;      &lt;th&gt;std&lt;/th&gt;\n&quot;,</td>
      </tr>
      <tr>
        <td id="L596" class="blob-num js-line-number" data-line-number="596"></td>
        <td id="LC596" class="blob-code js-file-line">        &quot;      &lt;td&gt;    5.102118&lt;/td&gt;\n&quot;,</td>
      </tr>
      <tr>
        <td id="L597" class="blob-num js-line-number" data-line-number="597"></td>
        <td id="LC597" class="blob-code js-file-line">        &quot;      &lt;td&gt;    4.289946&lt;/td&gt;\n&quot;,</td>
      </tr>
      <tr>
        <td id="L598" class="blob-num js-line-number" data-line-number="598"></td>
        <td id="LC598" class="blob-code js-file-line">        &quot;      &lt;td&gt;    0.545349&lt;/td&gt;\n&quot;,</td>
      </tr>
      <tr>
        <td id="L599" class="blob-num js-line-number" data-line-number="599"></td>
        <td id="LC599" class="blob-code js-file-line">        &quot;      &lt;td&gt;    0.511613&lt;/td&gt;\n&quot;,</td>
      </tr>
      <tr>
        <td id="L600" class="blob-num js-line-number" data-line-number="600"></td>
        <td id="LC600" class="blob-code js-file-line">        &quot;      &lt;td&gt;    0.505005&lt;/td&gt;\n&quot;,</td>
      </tr>
      <tr>
        <td id="L601" class="blob-num js-line-number" data-line-number="601"></td>
        <td id="LC601" class="blob-code js-file-line">        &quot;      &lt;td&gt;    0.408892&lt;/td&gt;\n&quot;,</td>
      </tr>
      <tr>
        <td id="L602" class="blob-num js-line-number" data-line-number="602"></td>
        <td id="LC602" class="blob-code js-file-line">        &quot;      &lt;td&gt;    5.100638&lt;/td&gt;\n&quot;,</td>
      </tr>
      <tr>
        <td id="L603" class="blob-num js-line-number" data-line-number="603"></td>
        <td id="LC603" class="blob-code js-file-line">        &quot;    &lt;/tr&gt;\n&quot;,</td>
      </tr>
      <tr>
        <td id="L604" class="blob-num js-line-number" data-line-number="604"></td>
        <td id="LC604" class="blob-code js-file-line">        &quot;    &lt;tr&gt;\n&quot;,</td>
      </tr>
      <tr>
        <td id="L605" class="blob-num js-line-number" data-line-number="605"></td>
        <td id="LC605" class="blob-code js-file-line">        &quot;      &lt;th&gt;min&lt;/th&gt;\n&quot;,</td>
      </tr>
      <tr>
        <td id="L606" class="blob-num js-line-number" data-line-number="606"></td>
        <td id="LC606" class="blob-code js-file-line">        &quot;      &lt;td&gt;   15.000000&lt;/td&gt;\n&quot;,</td>
      </tr>
      <tr>
        <td id="L607" class="blob-num js-line-number" data-line-number="607"></td>
        <td id="LC607" class="blob-code js-file-line">        &quot;      &lt;td&gt; 2000.000000&lt;/td&gt;\n&quot;,</td>
      </tr>
      <tr>
        <td id="L608" class="blob-num js-line-number" data-line-number="608"></td>
        <td id="LC608" class="blob-code js-file-line">        &quot;      &lt;td&gt;    0.000000&lt;/td&gt;\n&quot;,</td>
      </tr>
      <tr>
        <td id="L609" class="blob-num js-line-number" data-line-number="609"></td>
        <td id="LC609" class="blob-code js-file-line">        &quot;      &lt;td&gt;    0.000000&lt;/td&gt;\n&quot;,</td>
      </tr>
      <tr>
        <td id="L610" class="blob-num js-line-number" data-line-number="610"></td>
        <td id="LC610" class="blob-code js-file-line">        &quot;      &lt;td&gt;    0.000000&lt;/td&gt;\n&quot;,</td>
      </tr>
      <tr>
        <td id="L611" class="blob-num js-line-number" data-line-number="611"></td>
        <td id="LC611" class="blob-code js-file-line">        &quot;      &lt;td&gt;    1.000000&lt;/td&gt;\n&quot;,</td>
      </tr>
      <tr>
        <td id="L612" class="blob-num js-line-number" data-line-number="612"></td>
        <td id="LC612" class="blob-code js-file-line">        &quot;      &lt;td&gt;   15.000000&lt;/td&gt;\n&quot;,</td>
      </tr>
      <tr>
        <td id="L613" class="blob-num js-line-number" data-line-number="613"></td>
        <td id="LC613" class="blob-code js-file-line">        &quot;    &lt;/tr&gt;\n&quot;,</td>
      </tr>
      <tr>
        <td id="L614" class="blob-num js-line-number" data-line-number="614"></td>
        <td id="LC614" class="blob-code js-file-line">        &quot;    &lt;tr&gt;\n&quot;,</td>
      </tr>
      <tr>
        <td id="L615" class="blob-num js-line-number" data-line-number="615"></td>
        <td id="LC615" class="blob-code js-file-line">        &quot;      &lt;th&gt;25%&lt;/th&gt;\n&quot;,</td>
      </tr>
      <tr>
        <td id="L616" class="blob-num js-line-number" data-line-number="616"></td>
        <td id="LC616" class="blob-code js-file-line">        &quot;      &lt;td&gt;   23.000000&lt;/td&gt;\n&quot;,</td>
      </tr>
      <tr>
        <td id="L617" class="blob-num js-line-number" data-line-number="617"></td>
        <td id="LC617" class="blob-code js-file-line">        &quot;      &lt;td&gt; 2002.000000&lt;/td&gt;\n&quot;,</td>
      </tr>
      <tr>
        <td id="L618" class="blob-num js-line-number" data-line-number="618"></td>
        <td id="LC618" class="blob-code js-file-line">        &quot;      &lt;td&gt;    0.000000&lt;/td&gt;\n&quot;,</td>
      </tr>
      <tr>
        <td id="L619" class="blob-num js-line-number" data-line-number="619"></td>
        <td id="LC619" class="blob-code js-file-line">        &quot;      &lt;td&gt;    0.000000&lt;/td&gt;\n&quot;,</td>
      </tr>
      <tr>
        <td id="L620" class="blob-num js-line-number" data-line-number="620"></td>
        <td id="LC620" class="blob-code js-file-line">        &quot;      &lt;td&gt;    0.000000&lt;/td&gt;\n&quot;,</td>
      </tr>
      <tr>
        <td id="L621" class="blob-num js-line-number" data-line-number="621"></td>
        <td id="LC621" class="blob-code js-file-line">        &quot;      &lt;td&gt;    1.000000&lt;/td&gt;\n&quot;,</td>
      </tr>
      <tr>
        <td id="L622" class="blob-num js-line-number" data-line-number="622"></td>
        <td id="LC622" class="blob-code js-file-line">        &quot;      &lt;td&gt;   23.000000&lt;/td&gt;\n&quot;,</td>
      </tr>
      <tr>
        <td id="L623" class="blob-num js-line-number" data-line-number="623"></td>
        <td id="LC623" class="blob-code js-file-line">        &quot;    &lt;/tr&gt;\n&quot;,</td>
      </tr>
      <tr>
        <td id="L624" class="blob-num js-line-number" data-line-number="624"></td>
        <td id="LC624" class="blob-code js-file-line">        &quot;    &lt;tr&gt;\n&quot;,</td>
      </tr>
      <tr>
        <td id="L625" class="blob-num js-line-number" data-line-number="625"></td>
        <td id="LC625" class="blob-code js-file-line">        &quot;      &lt;th&gt;50%&lt;/th&gt;\n&quot;,</td>
      </tr>
      <tr>
        <td id="L626" class="blob-num js-line-number" data-line-number="626"></td>
        <td id="LC626" class="blob-code js-file-line">        &quot;      &lt;td&gt;   26.000000&lt;/td&gt;\n&quot;,</td>
      </tr>
      <tr>
        <td id="L627" class="blob-num js-line-number" data-line-number="627"></td>
        <td id="LC627" class="blob-code js-file-line">        &quot;      &lt;td&gt; 2006.000000&lt;/td&gt;\n&quot;,</td>
      </tr>
      <tr>
        <td id="L628" class="blob-num js-line-number" data-line-number="628"></td>
        <td id="LC628" class="blob-code js-file-line">        &quot;      &lt;td&gt;    0.000000&lt;/td&gt;\n&quot;,</td>
      </tr>
      <tr>
        <td id="L629" class="blob-num js-line-number" data-line-number="629"></td>
        <td id="LC629" class="blob-code js-file-line">        &quot;      &lt;td&gt;    0.000000&lt;/td&gt;\n&quot;,</td>
      </tr>
      <tr>
        <td id="L630" class="blob-num js-line-number" data-line-number="630"></td>
        <td id="LC630" class="blob-code js-file-line">        &quot;      &lt;td&gt;    0.000000&lt;/td&gt;\n&quot;,</td>
      </tr>
      <tr>
        <td id="L631" class="blob-num js-line-number" data-line-number="631"></td>
        <td id="LC631" class="blob-code js-file-line">        &quot;      &lt;td&gt;    1.000000&lt;/td&gt;\n&quot;,</td>
      </tr>
      <tr>
        <td id="L632" class="blob-num js-line-number" data-line-number="632"></td>
        <td id="LC632" class="blob-code js-file-line">        &quot;      &lt;td&gt;   26.000000&lt;/td&gt;\n&quot;,</td>
      </tr>
      <tr>
        <td id="L633" class="blob-num js-line-number" data-line-number="633"></td>
        <td id="LC633" class="blob-code js-file-line">        &quot;    &lt;/tr&gt;\n&quot;,</td>
      </tr>
      <tr>
        <td id="L634" class="blob-num js-line-number" data-line-number="634"></td>
        <td id="LC634" class="blob-code js-file-line">        &quot;    &lt;tr&gt;\n&quot;,</td>
      </tr>
      <tr>
        <td id="L635" class="blob-num js-line-number" data-line-number="635"></td>
        <td id="LC635" class="blob-code js-file-line">        &quot;      &lt;th&gt;75%&lt;/th&gt;\n&quot;,</td>
      </tr>
      <tr>
        <td id="L636" class="blob-num js-line-number" data-line-number="636"></td>
        <td id="LC636" class="blob-code js-file-line">        &quot;      &lt;td&gt;   29.000000&lt;/td&gt;\n&quot;,</td>
      </tr>
      <tr>
        <td id="L637" class="blob-num js-line-number" data-line-number="637"></td>
        <td id="LC637" class="blob-code js-file-line">        &quot;      &lt;td&gt; 2010.000000&lt;/td&gt;\n&quot;,</td>
      </tr>
      <tr>
        <td id="L638" class="blob-num js-line-number" data-line-number="638"></td>
        <td id="LC638" class="blob-code js-file-line">        &quot;      &lt;td&gt;    1.000000&lt;/td&gt;\n&quot;,</td>
      </tr>
      <tr>
        <td id="L639" class="blob-num js-line-number" data-line-number="639"></td>
        <td id="LC639" class="blob-code js-file-line">        &quot;      &lt;td&gt;    1.000000&lt;/td&gt;\n&quot;,</td>
      </tr>
      <tr>
        <td id="L640" class="blob-num js-line-number" data-line-number="640"></td>
        <td id="LC640" class="blob-code js-file-line">        &quot;      &lt;td&gt;    1.000000&lt;/td&gt;\n&quot;,</td>
      </tr>
      <tr>
        <td id="L641" class="blob-num js-line-number" data-line-number="641"></td>
        <td id="LC641" class="blob-code js-file-line">        &quot;      &lt;td&gt;    1.000000&lt;/td&gt;\n&quot;,</td>
      </tr>
      <tr>
        <td id="L642" class="blob-num js-line-number" data-line-number="642"></td>
        <td id="LC642" class="blob-code js-file-line">        &quot;      &lt;td&gt;   29.000000&lt;/td&gt;\n&quot;,</td>
      </tr>
      <tr>
        <td id="L643" class="blob-num js-line-number" data-line-number="643"></td>
        <td id="LC643" class="blob-code js-file-line">        &quot;    &lt;/tr&gt;\n&quot;,</td>
      </tr>
      <tr>
        <td id="L644" class="blob-num js-line-number" data-line-number="644"></td>
        <td id="LC644" class="blob-code js-file-line">        &quot;    &lt;tr&gt;\n&quot;,</td>
      </tr>
      <tr>
        <td id="L645" class="blob-num js-line-number" data-line-number="645"></td>
        <td id="LC645" class="blob-code js-file-line">        &quot;      &lt;th&gt;max&lt;/th&gt;\n&quot;,</td>
      </tr>
      <tr>
        <td id="L646" class="blob-num js-line-number" data-line-number="646"></td>
        <td id="LC646" class="blob-code js-file-line">        &quot;      &lt;td&gt;   61.000000&lt;/td&gt;\n&quot;,</td>
      </tr>
      <tr>
        <td id="L647" class="blob-num js-line-number" data-line-number="647"></td>
        <td id="LC647" class="blob-code js-file-line">        &quot;      &lt;td&gt; 2012.000000&lt;/td&gt;\n&quot;,</td>
      </tr>
      <tr>
        <td id="L648" class="blob-num js-line-number" data-line-number="648"></td>
        <td id="LC648" class="blob-code js-file-line">        &quot;      &lt;td&gt;    8.000000&lt;/td&gt;\n&quot;,</td>
      </tr>
      <tr>
        <td id="L649" class="blob-num js-line-number" data-line-number="649"></td>
        <td id="LC649" class="blob-code js-file-line">        &quot;      &lt;td&gt;    3.000000&lt;/td&gt;\n&quot;,</td>
      </tr>
      <tr>
        <td id="L650" class="blob-num js-line-number" data-line-number="650"></td>
        <td id="LC650" class="blob-code js-file-line">        &quot;      &lt;td&gt;    3.000000&lt;/td&gt;\n&quot;,</td>
      </tr>
      <tr>
        <td id="L651" class="blob-num js-line-number" data-line-number="651"></td>
        <td id="LC651" class="blob-code js-file-line">        &quot;      &lt;td&gt;    8.000000&lt;/td&gt;\n&quot;,</td>
      </tr>
      <tr>
        <td id="L652" class="blob-num js-line-number" data-line-number="652"></td>
        <td id="LC652" class="blob-code js-file-line">        &quot;      &lt;td&gt;   61.000000&lt;/td&gt;\n&quot;,</td>
      </tr>
      <tr>
        <td id="L653" class="blob-num js-line-number" data-line-number="653"></td>
        <td id="LC653" class="blob-code js-file-line">        &quot;    &lt;/tr&gt;\n&quot;,</td>
      </tr>
      <tr>
        <td id="L654" class="blob-num js-line-number" data-line-number="654"></td>
        <td id="LC654" class="blob-code js-file-line">        &quot;  &lt;/tbody&gt;\n&quot;,</td>
      </tr>
      <tr>
        <td id="L655" class="blob-num js-line-number" data-line-number="655"></td>
        <td id="LC655" class="blob-code js-file-line">        &quot;&lt;/table&gt;\n&quot;,</td>
      </tr>
      <tr>
        <td id="L656" class="blob-num js-line-number" data-line-number="656"></td>
        <td id="LC656" class="blob-code js-file-line">        &quot;&lt;/div&gt;&quot;</td>
      </tr>
      <tr>
        <td id="L657" class="blob-num js-line-number" data-line-number="657"></td>
        <td id="LC657" class="blob-code js-file-line">       ],</td>
      </tr>
      <tr>
        <td id="L658" class="blob-num js-line-number" data-line-number="658"></td>
        <td id="LC658" class="blob-code js-file-line">       &quot;metadata&quot;: {},</td>
      </tr>
      <tr>
        <td id="L659" class="blob-num js-line-number" data-line-number="659"></td>
        <td id="LC659" class="blob-code js-file-line">       &quot;output_type&quot;: &quot;pyout&quot;,</td>
      </tr>
      <tr>
        <td id="L660" class="blob-num js-line-number" data-line-number="660"></td>
        <td id="LC660" class="blob-code js-file-line">       &quot;prompt_number&quot;: 121,</td>
      </tr>
      <tr>
        <td id="L661" class="blob-num js-line-number" data-line-number="661"></td>
        <td id="LC661" class="blob-code js-file-line">       &quot;text&quot;: [</td>
      </tr>
      <tr>
        <td id="L662" class="blob-num js-line-number" data-line-number="662"></td>
        <td id="LC662" class="blob-code js-file-line">        &quot;               Age         Year         Gold       Silver       Bronze  \\\n&quot;,</td>
      </tr>
      <tr>
        <td id="L663" class="blob-num js-line-number" data-line-number="663"></td>
        <td id="LC663" class="blob-code js-file-line">        &quot;count  8613.000000  8618.000000  8618.000000  8618.000000  8618.000000   \n&quot;,</td>
      </tr>
      <tr>
        <td id="L664" class="blob-num js-line-number" data-line-number="664"></td>
        <td id="LC664" class="blob-code js-file-line">        &quot;mean     26.405434  2005.978881     0.364702     0.363309     0.377698   \n&quot;,</td>
      </tr>
      <tr>
        <td id="L665" class="blob-num js-line-number" data-line-number="665"></td>
        <td id="LC665" class="blob-code js-file-line">        &quot;std       5.102118     4.289946     0.545349     0.511613     0.505005   \n&quot;,</td>
      </tr>
      <tr>
        <td id="L666" class="blob-num js-line-number" data-line-number="666"></td>
        <td id="LC666" class="blob-code js-file-line">        &quot;min      15.000000  2000.000000     0.000000     0.000000     0.000000   \n&quot;,</td>
      </tr>
      <tr>
        <td id="L667" class="blob-num js-line-number" data-line-number="667"></td>
        <td id="LC667" class="blob-code js-file-line">        &quot;25%      23.000000  2002.000000     0.000000     0.000000     0.000000   \n&quot;,</td>
      </tr>
      <tr>
        <td id="L668" class="blob-num js-line-number" data-line-number="668"></td>
        <td id="LC668" class="blob-code js-file-line">        &quot;50%      26.000000  2006.000000     0.000000     0.000000     0.000000   \n&quot;,</td>
      </tr>
      <tr>
        <td id="L669" class="blob-num js-line-number" data-line-number="669"></td>
        <td id="LC669" class="blob-code js-file-line">        &quot;75%      29.000000  2010.000000     1.000000     1.000000     1.000000   \n&quot;,</td>
      </tr>
      <tr>
        <td id="L670" class="blob-num js-line-number" data-line-number="670"></td>
        <td id="LC670" class="blob-code js-file-line">        &quot;max      61.000000  2012.000000     8.000000     3.000000     3.000000   \n&quot;,</td>
      </tr>
      <tr>
        <td id="L671" class="blob-num js-line-number" data-line-number="671"></td>
        <td id="LC671" class="blob-code js-file-line">        &quot;\n&quot;,</td>
      </tr>
      <tr>
        <td id="L672" class="blob-num js-line-number" data-line-number="672"></td>
        <td id="LC672" class="blob-code js-file-line">        &quot;             Total       NewAge  \n&quot;,</td>
      </tr>
      <tr>
        <td id="L673" class="blob-num js-line-number" data-line-number="673"></td>
        <td id="LC673" class="blob-code js-file-line">        &quot;count  8618.000000  8618.000000  \n&quot;,</td>
      </tr>
      <tr>
        <td id="L674" class="blob-num js-line-number" data-line-number="674"></td>
        <td id="LC674" class="blob-code js-file-line">        &quot;mean      1.105709    26.405434  \n&quot;,</td>
      </tr>
      <tr>
        <td id="L675" class="blob-num js-line-number" data-line-number="675"></td>
        <td id="LC675" class="blob-code js-file-line">        &quot;std       0.408892     5.100638  \n&quot;,</td>
      </tr>
      <tr>
        <td id="L676" class="blob-num js-line-number" data-line-number="676"></td>
        <td id="LC676" class="blob-code js-file-line">        &quot;min       1.000000    15.000000  \n&quot;,</td>
      </tr>
      <tr>
        <td id="L677" class="blob-num js-line-number" data-line-number="677"></td>
        <td id="LC677" class="blob-code js-file-line">        &quot;25%       1.000000    23.000000  \n&quot;,</td>
      </tr>
      <tr>
        <td id="L678" class="blob-num js-line-number" data-line-number="678"></td>
        <td id="LC678" class="blob-code js-file-line">        &quot;50%       1.000000    26.000000  \n&quot;,</td>
      </tr>
      <tr>
        <td id="L679" class="blob-num js-line-number" data-line-number="679"></td>
        <td id="LC679" class="blob-code js-file-line">        &quot;75%       1.000000    29.000000  \n&quot;,</td>
      </tr>
      <tr>
        <td id="L680" class="blob-num js-line-number" data-line-number="680"></td>
        <td id="LC680" class="blob-code js-file-line">        &quot;max       8.000000    61.000000  &quot;</td>
      </tr>
      <tr>
        <td id="L681" class="blob-num js-line-number" data-line-number="681"></td>
        <td id="LC681" class="blob-code js-file-line">       ]</td>
      </tr>
      <tr>
        <td id="L682" class="blob-num js-line-number" data-line-number="682"></td>
        <td id="LC682" class="blob-code js-file-line">      }</td>
      </tr>
      <tr>
        <td id="L683" class="blob-num js-line-number" data-line-number="683"></td>
        <td id="LC683" class="blob-code js-file-line">     ],</td>
      </tr>
      <tr>
        <td id="L684" class="blob-num js-line-number" data-line-number="684"></td>
        <td id="LC684" class="blob-code js-file-line">     &quot;prompt_number&quot;: 121</td>
      </tr>
      <tr>
        <td id="L685" class="blob-num js-line-number" data-line-number="685"></td>
        <td id="LC685" class="blob-code js-file-line">    },</td>
      </tr>
      <tr>
        <td id="L686" class="blob-num js-line-number" data-line-number="686"></td>
        <td id="LC686" class="blob-code js-file-line">    {</td>
      </tr>
      <tr>
        <td id="L687" class="blob-num js-line-number" data-line-number="687"></td>
        <td id="LC687" class="blob-code js-file-line">     &quot;cell_type&quot;: &quot;markdown&quot;,</td>
      </tr>
      <tr>
        <td id="L688" class="blob-num js-line-number" data-line-number="688"></td>
        <td id="LC688" class="blob-code js-file-line">     &quot;metadata&quot;: {},</td>
      </tr>
      <tr>
        <td id="L689" class="blob-num js-line-number" data-line-number="689"></td>
        <td id="LC689" class="blob-code js-file-line">     &quot;source&quot;: [</td>
      </tr>
      <tr>
        <td id="L690" class="blob-num js-line-number" data-line-number="690"></td>
        <td id="LC690" class="blob-code js-file-line">      &quot;#### We can gather some interesting information by looking at the numerical summaries\n&quot;,</td>
      </tr>
      <tr>
        <td id="L691" class="blob-num js-line-number" data-line-number="691"></td>
        <td id="LC691" class="blob-code js-file-line">      &quot;* There are a total of 8,613 occurences in the data set\n&quot;,</td>
      </tr>
      <tr>
        <td id="L692" class="blob-num js-line-number" data-line-number="692"></td>
        <td id="LC692" class="blob-code js-file-line">      &quot;* We see that the data spans from the year 2000 to the year 2012\n&quot;,</td>
      </tr>
      <tr>
        <td id="L693" class="blob-num js-line-number" data-line-number="693"></td>
        <td id="LC693" class="blob-code js-file-line">      &quot;    * **Gold Medals:** \n&quot;,</td>
      </tr>
      <tr>
        <td id="L694" class="blob-num js-line-number" data-line-number="694"></td>
        <td id="LC694" class="blob-code js-file-line">      &quot;        * mean of 0.36\n&quot;,</td>
      </tr>
      <tr>
        <td id="L695" class="blob-num js-line-number" data-line-number="695"></td>
        <td id="LC695" class="blob-code js-file-line">      &quot;        * standard deviation of 0.54\n&quot;,</td>
      </tr>
      <tr>
        <td id="L696" class="blob-num js-line-number" data-line-number="696"></td>
        <td id="LC696" class="blob-code js-file-line">      &quot;        * 75% of the occurances have only 1 gold medal\n&quot;,</td>
      </tr>
      <tr>
        <td id="L697" class="blob-num js-line-number" data-line-number="697"></td>
        <td id="LC697" class="blob-code js-file-line">      &quot;        * there is at least one occurance of 8 gold medals \n&quot;,</td>
      </tr>
      <tr>
        <td id="L698" class="blob-num js-line-number" data-line-number="698"></td>
        <td id="LC698" class="blob-code js-file-line">      &quot;    * **Silver Medals:**\n&quot;,</td>
      </tr>
      <tr>
        <td id="L699" class="blob-num js-line-number" data-line-number="699"></td>
        <td id="LC699" class="blob-code js-file-line">      &quot;        * mean of 0.36\n&quot;,</td>
      </tr>
      <tr>
        <td id="L700" class="blob-num js-line-number" data-line-number="700"></td>
        <td id="LC700" class="blob-code js-file-line">      &quot;        * standard deviation of 0.51\n&quot;,</td>
      </tr>
      <tr>
        <td id="L701" class="blob-num js-line-number" data-line-number="701"></td>
        <td id="LC701" class="blob-code js-file-line">      &quot;        * 75% of the occurances have only 1 silver medal\n&quot;,</td>
      </tr>
      <tr>
        <td id="L702" class="blob-num js-line-number" data-line-number="702"></td>
        <td id="LC702" class="blob-code js-file-line">      &quot;        * there is at least one occurance of 3 silver medals\n&quot;,</td>
      </tr>
      <tr>
        <td id="L703" class="blob-num js-line-number" data-line-number="703"></td>
        <td id="LC703" class="blob-code js-file-line">      &quot;    * **Bronze Medals:**\n&quot;,</td>
      </tr>
      <tr>
        <td id="L704" class="blob-num js-line-number" data-line-number="704"></td>
        <td id="LC704" class="blob-code js-file-line">      &quot;        * mean of 0.38\n&quot;,</td>
      </tr>
      <tr>
        <td id="L705" class="blob-num js-line-number" data-line-number="705"></td>
        <td id="LC705" class="blob-code js-file-line">      &quot;        * standard deviation of 0.51\n&quot;,</td>
      </tr>
      <tr>
        <td id="L706" class="blob-num js-line-number" data-line-number="706"></td>
        <td id="LC706" class="blob-code js-file-line">      &quot;        * 75% of the occurances have only 1 bronze medal\n&quot;,</td>
      </tr>
      <tr>
        <td id="L707" class="blob-num js-line-number" data-line-number="707"></td>
        <td id="LC707" class="blob-code js-file-line">      &quot;        * there is at least one occurance of 3 bronze medals\n&quot;,</td>
      </tr>
      <tr>
        <td id="L708" class="blob-num js-line-number" data-line-number="708"></td>
        <td id="LC708" class="blob-code js-file-line">      &quot;    * **Total Medals**\n&quot;,</td>
      </tr>
      <tr>
        <td id="L709" class="blob-num js-line-number" data-line-number="709"></td>
        <td id="LC709" class="blob-code js-file-line">      &quot;        * mean of 1.11\n&quot;,</td>
      </tr>
      <tr>
        <td id="L710" class="blob-num js-line-number" data-line-number="710"></td>
        <td id="LC710" class="blob-code js-file-line">      &quot;        * standard deviation of 0.41\n&quot;,</td>
      </tr>
      <tr>
        <td id="L711" class="blob-num js-line-number" data-line-number="711"></td>
        <td id="LC711" class="blob-code js-file-line">      &quot;        * minimum of 1 : all occurances have at least 1 medal\n&quot;,</td>
      </tr>
      <tr>
        <td id="L712" class="blob-num js-line-number" data-line-number="712"></td>
        <td id="LC712" class="blob-code js-file-line">      &quot;        * lower, middle and upper quartile all have 1 medal\n&quot;,</td>
      </tr>
      <tr>
        <td id="L713" class="blob-num js-line-number" data-line-number="713"></td>
        <td id="LC713" class="blob-code js-file-line">      &quot;        * there is at least one occurance of 8 total medals\n&quot;,</td>
      </tr>
      <tr>
        <td id="L714" class="blob-num js-line-number" data-line-number="714"></td>
        <td id="LC714" class="blob-code js-file-line">      &quot;    * **Age:**\n&quot;,</td>
      </tr>
      <tr>
        <td id="L715" class="blob-num js-line-number" data-line-number="715"></td>
        <td id="LC715" class="blob-code js-file-line">      &quot;        * first we see very little difference between the original Age and NewAge variables\n&quot;,</td>
      </tr>
      <tr>
        <td id="L716" class="blob-num js-line-number" data-line-number="716"></td>
        <td id="LC716" class="blob-code js-file-line">      &quot;        * this tells us our decision to replace missing Age data with the mean was probably a good one\n&quot;,</td>
      </tr>
      <tr>
        <td id="L717" class="blob-num js-line-number" data-line-number="717"></td>
        <td id="LC717" class="blob-code js-file-line">      &quot;        * mean of 26.4\n&quot;,</td>
      </tr>
      <tr>
        <td id="L718" class="blob-num js-line-number" data-line-number="718"></td>
        <td id="LC718" class="blob-code js-file-line">      &quot;        * standard deviation of 5.10\n&quot;,</td>
      </tr>
      <tr>
        <td id="L719" class="blob-num js-line-number" data-line-number="719"></td>
        <td id="LC719" class="blob-code js-file-line">      &quot;        * min:15 -&gt; 25%:[23] -&gt; 50%[26] -&gt; 75%[29] -&gt; max:61&quot;</td>
      </tr>
      <tr>
        <td id="L720" class="blob-num js-line-number" data-line-number="720"></td>
        <td id="LC720" class="blob-code js-file-line">     ]</td>
      </tr>
      <tr>
        <td id="L721" class="blob-num js-line-number" data-line-number="721"></td>
        <td id="LC721" class="blob-code js-file-line">    },</td>
      </tr>
      <tr>
        <td id="L722" class="blob-num js-line-number" data-line-number="722"></td>
        <td id="LC722" class="blob-code js-file-line">    {</td>
      </tr>
      <tr>
        <td id="L723" class="blob-num js-line-number" data-line-number="723"></td>
        <td id="LC723" class="blob-code js-file-line">     &quot;cell_type&quot;: &quot;markdown&quot;,</td>
      </tr>
      <tr>
        <td id="L724" class="blob-num js-line-number" data-line-number="724"></td>
        <td id="LC724" class="blob-code js-file-line">     &quot;metadata&quot;: {},</td>
      </tr>
      <tr>
        <td id="L725" class="blob-num js-line-number" data-line-number="725"></td>
        <td id="LC725" class="blob-code js-file-line">     &quot;source&quot;: [</td>
      </tr>
      <tr>
        <td id="L726" class="blob-num js-line-number" data-line-number="726"></td>
        <td id="LC726" class="blob-code js-file-line">      &quot;#### Examine the summary of categorical variables&quot;</td>
      </tr>
      <tr>
        <td id="L727" class="blob-num js-line-number" data-line-number="727"></td>
        <td id="LC727" class="blob-code js-file-line">     ]</td>
      </tr>
      <tr>
        <td id="L728" class="blob-num js-line-number" data-line-number="728"></td>
        <td id="LC728" class="blob-code js-file-line">    },</td>
      </tr>
      <tr>
        <td id="L729" class="blob-num js-line-number" data-line-number="729"></td>
        <td id="LC729" class="blob-code js-file-line">    {</td>
      </tr>
      <tr>
        <td id="L730" class="blob-num js-line-number" data-line-number="730"></td>
        <td id="LC730" class="blob-code js-file-line">     &quot;cell_type&quot;: &quot;code&quot;,</td>
      </tr>
      <tr>
        <td id="L731" class="blob-num js-line-number" data-line-number="731"></td>
        <td id="LC731" class="blob-code js-file-line">     &quot;collapsed&quot;: false,</td>
      </tr>
      <tr>
        <td id="L732" class="blob-num js-line-number" data-line-number="732"></td>
        <td id="LC732" class="blob-code js-file-line">     &quot;input&quot;: [</td>
      </tr>
      <tr>
        <td id="L733" class="blob-num js-line-number" data-line-number="733"></td>
        <td id="LC733" class="blob-code js-file-line">      &quot;olympics.head(10)    # printing the top 10 occurences; sorted by total medals &#39;descending&#39;&quot;</td>
      </tr>
      <tr>
        <td id="L734" class="blob-num js-line-number" data-line-number="734"></td>
        <td id="LC734" class="blob-code js-file-line">     ],</td>
      </tr>
      <tr>
        <td id="L735" class="blob-num js-line-number" data-line-number="735"></td>
        <td id="LC735" class="blob-code js-file-line">     &quot;language&quot;: &quot;python&quot;,</td>
      </tr>
      <tr>
        <td id="L736" class="blob-num js-line-number" data-line-number="736"></td>
        <td id="LC736" class="blob-code js-file-line">     &quot;metadata&quot;: {},</td>
      </tr>
      <tr>
        <td id="L737" class="blob-num js-line-number" data-line-number="737"></td>
        <td id="LC737" class="blob-code js-file-line">     &quot;outputs&quot;: [</td>
      </tr>
      <tr>
        <td id="L738" class="blob-num js-line-number" data-line-number="738"></td>
        <td id="LC738" class="blob-code js-file-line">      {</td>
      </tr>
      <tr>
        <td id="L739" class="blob-num js-line-number" data-line-number="739"></td>
        <td id="LC739" class="blob-code js-file-line">       &quot;html&quot;: [</td>
      </tr>
      <tr>
        <td id="L740" class="blob-num js-line-number" data-line-number="740"></td>
        <td id="LC740" class="blob-code js-file-line">        &quot;&lt;div style=\&quot;max-height:1000px;max-width:1500px;overflow:auto;\&quot;&gt;\n&quot;,</td>
      </tr>
      <tr>
        <td id="L741" class="blob-num js-line-number" data-line-number="741"></td>
        <td id="LC741" class="blob-code js-file-line">        &quot;&lt;table border=\&quot;1\&quot; class=\&quot;dataframe\&quot;&gt;\n&quot;,</td>
      </tr>
      <tr>
        <td id="L742" class="blob-num js-line-number" data-line-number="742"></td>
        <td id="LC742" class="blob-code js-file-line">        &quot;  &lt;thead&gt;\n&quot;,</td>
      </tr>
      <tr>
        <td id="L743" class="blob-num js-line-number" data-line-number="743"></td>
        <td id="LC743" class="blob-code js-file-line">        &quot;    &lt;tr style=\&quot;text-align: right;\&quot;&gt;\n&quot;,</td>
      </tr>
      <tr>
        <td id="L744" class="blob-num js-line-number" data-line-number="744"></td>
        <td id="LC744" class="blob-code js-file-line">        &quot;      &lt;th&gt;&lt;/th&gt;\n&quot;,</td>
      </tr>
      <tr>
        <td id="L745" class="blob-num js-line-number" data-line-number="745"></td>
        <td id="LC745" class="blob-code js-file-line">        &quot;      &lt;th&gt;Athlete&lt;/th&gt;\n&quot;,</td>
      </tr>
      <tr>
        <td id="L746" class="blob-num js-line-number" data-line-number="746"></td>
        <td id="LC746" class="blob-code js-file-line">        &quot;      &lt;th&gt;Age&lt;/th&gt;\n&quot;,</td>
      </tr>
      <tr>
        <td id="L747" class="blob-num js-line-number" data-line-number="747"></td>
        <td id="LC747" class="blob-code js-file-line">        &quot;      &lt;th&gt;Country&lt;/th&gt;\n&quot;,</td>
      </tr>
      <tr>
        <td id="L748" class="blob-num js-line-number" data-line-number="748"></td>
        <td id="LC748" class="blob-code js-file-line">        &quot;      &lt;th&gt;Year&lt;/th&gt;\n&quot;,</td>
      </tr>
      <tr>
        <td id="L749" class="blob-num js-line-number" data-line-number="749"></td>
        <td id="LC749" class="blob-code js-file-line">        &quot;      &lt;th&gt;Closing_Date&lt;/th&gt;\n&quot;,</td>
      </tr>
      <tr>
        <td id="L750" class="blob-num js-line-number" data-line-number="750"></td>
        <td id="LC750" class="blob-code js-file-line">        &quot;      &lt;th&gt;Sport&lt;/th&gt;\n&quot;,</td>
      </tr>
      <tr>
        <td id="L751" class="blob-num js-line-number" data-line-number="751"></td>
        <td id="LC751" class="blob-code js-file-line">        &quot;      &lt;th&gt;Gold&lt;/th&gt;\n&quot;,</td>
      </tr>
      <tr>
        <td id="L752" class="blob-num js-line-number" data-line-number="752"></td>
        <td id="LC752" class="blob-code js-file-line">        &quot;      &lt;th&gt;Silver&lt;/th&gt;\n&quot;,</td>
      </tr>
      <tr>
        <td id="L753" class="blob-num js-line-number" data-line-number="753"></td>
        <td id="LC753" class="blob-code js-file-line">        &quot;      &lt;th&gt;Bronze&lt;/th&gt;\n&quot;,</td>
      </tr>
      <tr>
        <td id="L754" class="blob-num js-line-number" data-line-number="754"></td>
        <td id="LC754" class="blob-code js-file-line">        &quot;      &lt;th&gt;Total&lt;/th&gt;\n&quot;,</td>
      </tr>
      <tr>
        <td id="L755" class="blob-num js-line-number" data-line-number="755"></td>
        <td id="LC755" class="blob-code js-file-line">        &quot;      &lt;th&gt;NewAge&lt;/th&gt;\n&quot;,</td>
      </tr>
      <tr>
        <td id="L756" class="blob-num js-line-number" data-line-number="756"></td>
        <td id="LC756" class="blob-code js-file-line">        &quot;      &lt;th&gt;NewAthlete&lt;/th&gt;\n&quot;,</td>
      </tr>
      <tr>
        <td id="L757" class="blob-num js-line-number" data-line-number="757"></td>
        <td id="LC757" class="blob-code js-file-line">        &quot;    &lt;/tr&gt;\n&quot;,</td>
      </tr>
      <tr>
        <td id="L758" class="blob-num js-line-number" data-line-number="758"></td>
        <td id="LC758" class="blob-code js-file-line">        &quot;  &lt;/thead&gt;\n&quot;,</td>
      </tr>
      <tr>
        <td id="L759" class="blob-num js-line-number" data-line-number="759"></td>
        <td id="LC759" class="blob-code js-file-line">        &quot;  &lt;tbody&gt;\n&quot;,</td>
      </tr>
      <tr>
        <td id="L760" class="blob-num js-line-number" data-line-number="760"></td>
        <td id="LC760" class="blob-code js-file-line">        &quot;    &lt;tr&gt;\n&quot;,</td>
      </tr>
      <tr>
        <td id="L761" class="blob-num js-line-number" data-line-number="761"></td>
        <td id="LC761" class="blob-code js-file-line">        &quot;      &lt;th&gt;0&lt;/th&gt;\n&quot;,</td>
      </tr>
      <tr>
        <td id="L762" class="blob-num js-line-number" data-line-number="762"></td>
        <td id="LC762" class="blob-code js-file-line">        &quot;      &lt;td&gt;   Michael Phelps&lt;/td&gt;\n&quot;,</td>
      </tr>
      <tr>
        <td id="L763" class="blob-num js-line-number" data-line-number="763"></td>
        <td id="LC763" class="blob-code js-file-line">        &quot;      &lt;td&gt; 23&lt;/td&gt;\n&quot;,</td>
      </tr>
      <tr>
        <td id="L764" class="blob-num js-line-number" data-line-number="764"></td>
        <td id="LC764" class="blob-code js-file-line">        &quot;      &lt;td&gt; United States&lt;/td&gt;\n&quot;,</td>
      </tr>
      <tr>
        <td id="L765" class="blob-num js-line-number" data-line-number="765"></td>
        <td id="LC765" class="blob-code js-file-line">        &quot;      &lt;td&gt; 2008&lt;/td&gt;\n&quot;,</td>
      </tr>
      <tr>
        <td id="L766" class="blob-num js-line-number" data-line-number="766"></td>
        <td id="LC766" class="blob-code js-file-line">        &quot;      &lt;td&gt; 2008-08-24&lt;/td&gt;\n&quot;,</td>
      </tr>
      <tr>
        <td id="L767" class="blob-num js-line-number" data-line-number="767"></td>
        <td id="LC767" class="blob-code js-file-line">        &quot;      &lt;td&gt;   Swimming&lt;/td&gt;\n&quot;,</td>
      </tr>
      <tr>
        <td id="L768" class="blob-num js-line-number" data-line-number="768"></td>
        <td id="LC768" class="blob-code js-file-line">        &quot;      &lt;td&gt; 8&lt;/td&gt;\n&quot;,</td>
      </tr>
      <tr>
        <td id="L769" class="blob-num js-line-number" data-line-number="769"></td>
        <td id="LC769" class="blob-code js-file-line">        &quot;      &lt;td&gt; 0&lt;/td&gt;\n&quot;,</td>
      </tr>
      <tr>
        <td id="L770" class="blob-num js-line-number" data-line-number="770"></td>
        <td id="LC770" class="blob-code js-file-line">        &quot;      &lt;td&gt; 0&lt;/td&gt;\n&quot;,</td>
      </tr>
      <tr>
        <td id="L771" class="blob-num js-line-number" data-line-number="771"></td>
        <td id="LC771" class="blob-code js-file-line">        &quot;      &lt;td&gt; 8&lt;/td&gt;\n&quot;,</td>
      </tr>
      <tr>
        <td id="L772" class="blob-num js-line-number" data-line-number="772"></td>
        <td id="LC772" class="blob-code js-file-line">        &quot;      &lt;td&gt; 23&lt;/td&gt;\n&quot;,</td>
      </tr>
      <tr>
        <td id="L773" class="blob-num js-line-number" data-line-number="773"></td>
        <td id="LC773" class="blob-code js-file-line">        &quot;      &lt;td&gt;   Michael Phelps&lt;/td&gt;\n&quot;,</td>
      </tr>
      <tr>
        <td id="L774" class="blob-num js-line-number" data-line-number="774"></td>
        <td id="LC774" class="blob-code js-file-line">        &quot;    &lt;/tr&gt;\n&quot;,</td>
      </tr>
      <tr>
        <td id="L775" class="blob-num js-line-number" data-line-number="775"></td>
        <td id="LC775" class="blob-code js-file-line">        &quot;    &lt;tr&gt;\n&quot;,</td>
      </tr>
      <tr>
        <td id="L776" class="blob-num js-line-number" data-line-number="776"></td>
        <td id="LC776" class="blob-code js-file-line">        &quot;      &lt;th&gt;1&lt;/th&gt;\n&quot;,</td>
      </tr>
      <tr>
        <td id="L777" class="blob-num js-line-number" data-line-number="777"></td>
        <td id="LC777" class="blob-code js-file-line">        &quot;      &lt;td&gt;   Michael Phelps&lt;/td&gt;\n&quot;,</td>
      </tr>
      <tr>
        <td id="L778" class="blob-num js-line-number" data-line-number="778"></td>
        <td id="LC778" class="blob-code js-file-line">        &quot;      &lt;td&gt; 19&lt;/td&gt;\n&quot;,</td>
      </tr>
      <tr>
        <td id="L779" class="blob-num js-line-number" data-line-number="779"></td>
        <td id="LC779" class="blob-code js-file-line">        &quot;      &lt;td&gt; United States&lt;/td&gt;\n&quot;,</td>
      </tr>
      <tr>
        <td id="L780" class="blob-num js-line-number" data-line-number="780"></td>
        <td id="LC780" class="blob-code js-file-line">        &quot;      &lt;td&gt; 2004&lt;/td&gt;\n&quot;,</td>
      </tr>
      <tr>
        <td id="L781" class="blob-num js-line-number" data-line-number="781"></td>
        <td id="LC781" class="blob-code js-file-line">        &quot;      &lt;td&gt; 2004-08-29&lt;/td&gt;\n&quot;,</td>
      </tr>
      <tr>
        <td id="L782" class="blob-num js-line-number" data-line-number="782"></td>
        <td id="LC782" class="blob-code js-file-line">        &quot;      &lt;td&gt;   Swimming&lt;/td&gt;\n&quot;,</td>
      </tr>
      <tr>
        <td id="L783" class="blob-num js-line-number" data-line-number="783"></td>
        <td id="LC783" class="blob-code js-file-line">        &quot;      &lt;td&gt; 6&lt;/td&gt;\n&quot;,</td>
      </tr>
      <tr>
        <td id="L784" class="blob-num js-line-number" data-line-number="784"></td>
        <td id="LC784" class="blob-code js-file-line">        &quot;      &lt;td&gt; 0&lt;/td&gt;\n&quot;,</td>
      </tr>
      <tr>
        <td id="L785" class="blob-num js-line-number" data-line-number="785"></td>
        <td id="LC785" class="blob-code js-file-line">        &quot;      &lt;td&gt; 2&lt;/td&gt;\n&quot;,</td>
      </tr>
      <tr>
        <td id="L786" class="blob-num js-line-number" data-line-number="786"></td>
        <td id="LC786" class="blob-code js-file-line">        &quot;      &lt;td&gt; 8&lt;/td&gt;\n&quot;,</td>
      </tr>
      <tr>
        <td id="L787" class="blob-num js-line-number" data-line-number="787"></td>
        <td id="LC787" class="blob-code js-file-line">        &quot;      &lt;td&gt; 19&lt;/td&gt;\n&quot;,</td>
      </tr>
      <tr>
        <td id="L788" class="blob-num js-line-number" data-line-number="788"></td>
        <td id="LC788" class="blob-code js-file-line">        &quot;      &lt;td&gt;   Michael Phelps&lt;/td&gt;\n&quot;,</td>
      </tr>
      <tr>
        <td id="L789" class="blob-num js-line-number" data-line-number="789"></td>
        <td id="LC789" class="blob-code js-file-line">        &quot;    &lt;/tr&gt;\n&quot;,</td>
      </tr>
      <tr>
        <td id="L790" class="blob-num js-line-number" data-line-number="790"></td>
        <td id="LC790" class="blob-code js-file-line">        &quot;    &lt;tr&gt;\n&quot;,</td>
      </tr>
      <tr>
        <td id="L791" class="blob-num js-line-number" data-line-number="791"></td>
        <td id="LC791" class="blob-code js-file-line">        &quot;      &lt;th&gt;2&lt;/th&gt;\n&quot;,</td>
      </tr>
      <tr>
        <td id="L792" class="blob-num js-line-number" data-line-number="792"></td>
        <td id="LC792" class="blob-code js-file-line">        &quot;      &lt;td&gt;   Michael Phelps&lt;/td&gt;\n&quot;,</td>
      </tr>
      <tr>
        <td id="L793" class="blob-num js-line-number" data-line-number="793"></td>
        <td id="LC793" class="blob-code js-file-line">        &quot;      &lt;td&gt; 27&lt;/td&gt;\n&quot;,</td>
      </tr>
      <tr>
        <td id="L794" class="blob-num js-line-number" data-line-number="794"></td>
        <td id="LC794" class="blob-code js-file-line">        &quot;      &lt;td&gt; United States&lt;/td&gt;\n&quot;,</td>
      </tr>
      <tr>
        <td id="L795" class="blob-num js-line-number" data-line-number="795"></td>
        <td id="LC795" class="blob-code js-file-line">        &quot;      &lt;td&gt; 2012&lt;/td&gt;\n&quot;,</td>
      </tr>
      <tr>
        <td id="L796" class="blob-num js-line-number" data-line-number="796"></td>
        <td id="LC796" class="blob-code js-file-line">        &quot;      &lt;td&gt; 2012-08-12&lt;/td&gt;\n&quot;,</td>
      </tr>
      <tr>
        <td id="L797" class="blob-num js-line-number" data-line-number="797"></td>
        <td id="LC797" class="blob-code js-file-line">        &quot;      &lt;td&gt;   Swimming&lt;/td&gt;\n&quot;,</td>
      </tr>
      <tr>
        <td id="L798" class="blob-num js-line-number" data-line-number="798"></td>
        <td id="LC798" class="blob-code js-file-line">        &quot;      &lt;td&gt; 4&lt;/td&gt;\n&quot;,</td>
      </tr>
      <tr>
        <td id="L799" class="blob-num js-line-number" data-line-number="799"></td>
        <td id="LC799" class="blob-code js-file-line">        &quot;      &lt;td&gt; 2&lt;/td&gt;\n&quot;,</td>
      </tr>
      <tr>
        <td id="L800" class="blob-num js-line-number" data-line-number="800"></td>
        <td id="LC800" class="blob-code js-file-line">        &quot;      &lt;td&gt; 0&lt;/td&gt;\n&quot;,</td>
      </tr>
      <tr>
        <td id="L801" class="blob-num js-line-number" data-line-number="801"></td>
        <td id="LC801" class="blob-code js-file-line">        &quot;      &lt;td&gt; 6&lt;/td&gt;\n&quot;,</td>
      </tr>
      <tr>
        <td id="L802" class="blob-num js-line-number" data-line-number="802"></td>
        <td id="LC802" class="blob-code js-file-line">        &quot;      &lt;td&gt; 27&lt;/td&gt;\n&quot;,</td>
      </tr>
      <tr>
        <td id="L803" class="blob-num js-line-number" data-line-number="803"></td>
        <td id="LC803" class="blob-code js-file-line">        &quot;      &lt;td&gt;   Michael Phelps&lt;/td&gt;\n&quot;,</td>
      </tr>
      <tr>
        <td id="L804" class="blob-num js-line-number" data-line-number="804"></td>
        <td id="LC804" class="blob-code js-file-line">        &quot;    &lt;/tr&gt;\n&quot;,</td>
      </tr>
      <tr>
        <td id="L805" class="blob-num js-line-number" data-line-number="805"></td>
        <td id="LC805" class="blob-code js-file-line">        &quot;    &lt;tr&gt;\n&quot;,</td>
      </tr>
      <tr>
        <td id="L806" class="blob-num js-line-number" data-line-number="806"></td>
        <td id="LC806" class="blob-code js-file-line">        &quot;      &lt;th&gt;3&lt;/th&gt;\n&quot;,</td>
      </tr>
      <tr>
        <td id="L807" class="blob-num js-line-number" data-line-number="807"></td>
        <td id="LC807" class="blob-code js-file-line">        &quot;      &lt;td&gt; Natalie Coughlin&lt;/td&gt;\n&quot;,</td>
      </tr>
      <tr>
        <td id="L808" class="blob-num js-line-number" data-line-number="808"></td>
        <td id="LC808" class="blob-code js-file-line">        &quot;      &lt;td&gt; 25&lt;/td&gt;\n&quot;,</td>
      </tr>
      <tr>
        <td id="L809" class="blob-num js-line-number" data-line-number="809"></td>
        <td id="LC809" class="blob-code js-file-line">        &quot;      &lt;td&gt; United States&lt;/td&gt;\n&quot;,</td>
      </tr>
      <tr>
        <td id="L810" class="blob-num js-line-number" data-line-number="810"></td>
        <td id="LC810" class="blob-code js-file-line">        &quot;      &lt;td&gt; 2008&lt;/td&gt;\n&quot;,</td>
      </tr>
      <tr>
        <td id="L811" class="blob-num js-line-number" data-line-number="811"></td>
        <td id="LC811" class="blob-code js-file-line">        &quot;      &lt;td&gt; 2008-08-24&lt;/td&gt;\n&quot;,</td>
      </tr>
      <tr>
        <td id="L812" class="blob-num js-line-number" data-line-number="812"></td>
        <td id="LC812" class="blob-code js-file-line">        &quot;      &lt;td&gt;   Swimming&lt;/td&gt;\n&quot;,</td>
      </tr>
      <tr>
        <td id="L813" class="blob-num js-line-number" data-line-number="813"></td>
        <td id="LC813" class="blob-code js-file-line">        &quot;      &lt;td&gt; 1&lt;/td&gt;\n&quot;,</td>
      </tr>
      <tr>
        <td id="L814" class="blob-num js-line-number" data-line-number="814"></td>
        <td id="LC814" class="blob-code js-file-line">        &quot;      &lt;td&gt; 2&lt;/td&gt;\n&quot;,</td>
      </tr>
      <tr>
        <td id="L815" class="blob-num js-line-number" data-line-number="815"></td>
        <td id="LC815" class="blob-code js-file-line">        &quot;      &lt;td&gt; 3&lt;/td&gt;\n&quot;,</td>
      </tr>
      <tr>
        <td id="L816" class="blob-num js-line-number" data-line-number="816"></td>
        <td id="LC816" class="blob-code js-file-line">        &quot;      &lt;td&gt; 6&lt;/td&gt;\n&quot;,</td>
      </tr>
      <tr>
        <td id="L817" class="blob-num js-line-number" data-line-number="817"></td>
        <td id="LC817" class="blob-code js-file-line">        &quot;      &lt;td&gt; 25&lt;/td&gt;\n&quot;,</td>
      </tr>
      <tr>
        <td id="L818" class="blob-num js-line-number" data-line-number="818"></td>
        <td id="LC818" class="blob-code js-file-line">        &quot;      &lt;td&gt; Natalie Coughlin&lt;/td&gt;\n&quot;,</td>
      </tr>
      <tr>
        <td id="L819" class="blob-num js-line-number" data-line-number="819"></td>
        <td id="LC819" class="blob-code js-file-line">        &quot;    &lt;/tr&gt;\n&quot;,</td>
      </tr>
      <tr>
        <td id="L820" class="blob-num js-line-number" data-line-number="820"></td>
        <td id="LC820" class="blob-code js-file-line">        &quot;    &lt;tr&gt;\n&quot;,</td>
      </tr>
      <tr>
        <td id="L821" class="blob-num js-line-number" data-line-number="821"></td>
        <td id="LC821" class="blob-code js-file-line">        &quot;      &lt;th&gt;4&lt;/th&gt;\n&quot;,</td>
      </tr>
      <tr>
        <td id="L822" class="blob-num js-line-number" data-line-number="822"></td>
        <td id="LC822" class="blob-code js-file-line">        &quot;      &lt;td&gt;    Aleksey Nemov&lt;/td&gt;\n&quot;,</td>
      </tr>
      <tr>
        <td id="L823" class="blob-num js-line-number" data-line-number="823"></td>
        <td id="LC823" class="blob-code js-file-line">        &quot;      &lt;td&gt; 24&lt;/td&gt;\n&quot;,</td>
      </tr>
      <tr>
        <td id="L824" class="blob-num js-line-number" data-line-number="824"></td>
        <td id="LC824" class="blob-code js-file-line">        &quot;      &lt;td&gt;        Russia&lt;/td&gt;\n&quot;,</td>
      </tr>
      <tr>
        <td id="L825" class="blob-num js-line-number" data-line-number="825"></td>
        <td id="LC825" class="blob-code js-file-line">        &quot;      &lt;td&gt; 2000&lt;/td&gt;\n&quot;,</td>
      </tr>
      <tr>
        <td id="L826" class="blob-num js-line-number" data-line-number="826"></td>
        <td id="LC826" class="blob-code js-file-line">        &quot;      &lt;td&gt; 2000-10-01&lt;/td&gt;\n&quot;,</td>
      </tr>
      <tr>
        <td id="L827" class="blob-num js-line-number" data-line-number="827"></td>
        <td id="LC827" class="blob-code js-file-line">        &quot;      &lt;td&gt; Gymnastics&lt;/td&gt;\n&quot;,</td>
      </tr>
      <tr>
        <td id="L828" class="blob-num js-line-number" data-line-number="828"></td>
        <td id="LC828" class="blob-code js-file-line">        &quot;      &lt;td&gt; 2&lt;/td&gt;\n&quot;,</td>
      </tr>
      <tr>
        <td id="L829" class="blob-num js-line-number" data-line-number="829"></td>
        <td id="LC829" class="blob-code js-file-line">        &quot;      &lt;td&gt; 1&lt;/td&gt;\n&quot;,</td>
      </tr>
      <tr>
        <td id="L830" class="blob-num js-line-number" data-line-number="830"></td>
        <td id="LC830" class="blob-code js-file-line">        &quot;      &lt;td&gt; 3&lt;/td&gt;\n&quot;,</td>
      </tr>
      <tr>
        <td id="L831" class="blob-num js-line-number" data-line-number="831"></td>
        <td id="LC831" class="blob-code js-file-line">        &quot;      &lt;td&gt; 6&lt;/td&gt;\n&quot;,</td>
      </tr>
      <tr>
        <td id="L832" class="blob-num js-line-number" data-line-number="832"></td>
        <td id="LC832" class="blob-code js-file-line">        &quot;      &lt;td&gt; 24&lt;/td&gt;\n&quot;,</td>
      </tr>
      <tr>
        <td id="L833" class="blob-num js-line-number" data-line-number="833"></td>
        <td id="LC833" class="blob-code js-file-line">        &quot;      &lt;td&gt;    Aleksey Nemov&lt;/td&gt;\n&quot;,</td>
      </tr>
      <tr>
        <td id="L834" class="blob-num js-line-number" data-line-number="834"></td>
        <td id="LC834" class="blob-code js-file-line">        &quot;    &lt;/tr&gt;\n&quot;,</td>
      </tr>
      <tr>
        <td id="L835" class="blob-num js-line-number" data-line-number="835"></td>
        <td id="LC835" class="blob-code js-file-line">        &quot;    &lt;tr&gt;\n&quot;,</td>
      </tr>
      <tr>
        <td id="L836" class="blob-num js-line-number" data-line-number="836"></td>
        <td id="LC836" class="blob-code js-file-line">        &quot;      &lt;th&gt;5&lt;/th&gt;\n&quot;,</td>
      </tr>
      <tr>
        <td id="L837" class="blob-num js-line-number" data-line-number="837"></td>
        <td id="LC837" class="blob-code js-file-line">        &quot;      &lt;td&gt;    Alicia Coutts&lt;/td&gt;\n&quot;,</td>
      </tr>
      <tr>
        <td id="L838" class="blob-num js-line-number" data-line-number="838"></td>
        <td id="LC838" class="blob-code js-file-line">        &quot;      &lt;td&gt; 24&lt;/td&gt;\n&quot;,</td>
      </tr>
      <tr>
        <td id="L839" class="blob-num js-line-number" data-line-number="839"></td>
        <td id="LC839" class="blob-code js-file-line">        &quot;      &lt;td&gt;     Australia&lt;/td&gt;\n&quot;,</td>
      </tr>
      <tr>
        <td id="L840" class="blob-num js-line-number" data-line-number="840"></td>
        <td id="LC840" class="blob-code js-file-line">        &quot;      &lt;td&gt; 2012&lt;/td&gt;\n&quot;,</td>
      </tr>
      <tr>
        <td id="L841" class="blob-num js-line-number" data-line-number="841"></td>
        <td id="LC841" class="blob-code js-file-line">        &quot;      &lt;td&gt; 2012-08-12&lt;/td&gt;\n&quot;,</td>
      </tr>
      <tr>
        <td id="L842" class="blob-num js-line-number" data-line-number="842"></td>
        <td id="LC842" class="blob-code js-file-line">        &quot;      &lt;td&gt;   Swimming&lt;/td&gt;\n&quot;,</td>
      </tr>
      <tr>
        <td id="L843" class="blob-num js-line-number" data-line-number="843"></td>
        <td id="LC843" class="blob-code js-file-line">        &quot;      &lt;td&gt; 1&lt;/td&gt;\n&quot;,</td>
      </tr>
      <tr>
        <td id="L844" class="blob-num js-line-number" data-line-number="844"></td>
        <td id="LC844" class="blob-code js-file-line">        &quot;      &lt;td&gt; 3&lt;/td&gt;\n&quot;,</td>
      </tr>
      <tr>
        <td id="L845" class="blob-num js-line-number" data-line-number="845"></td>
        <td id="LC845" class="blob-code js-file-line">        &quot;      &lt;td&gt; 1&lt;/td&gt;\n&quot;,</td>
      </tr>
      <tr>
        <td id="L846" class="blob-num js-line-number" data-line-number="846"></td>
        <td id="LC846" class="blob-code js-file-line">        &quot;      &lt;td&gt; 5&lt;/td&gt;\n&quot;,</td>
      </tr>
      <tr>
        <td id="L847" class="blob-num js-line-number" data-line-number="847"></td>
        <td id="LC847" class="blob-code js-file-line">        &quot;      &lt;td&gt; 24&lt;/td&gt;\n&quot;,</td>
      </tr>
      <tr>
        <td id="L848" class="blob-num js-line-number" data-line-number="848"></td>
        <td id="LC848" class="blob-code js-file-line">        &quot;      &lt;td&gt;    Alicia Coutts&lt;/td&gt;\n&quot;,</td>
      </tr>
      <tr>
        <td id="L849" class="blob-num js-line-number" data-line-number="849"></td>
        <td id="LC849" class="blob-code js-file-line">        &quot;    &lt;/tr&gt;\n&quot;,</td>
      </tr>
      <tr>
        <td id="L850" class="blob-num js-line-number" data-line-number="850"></td>
        <td id="LC850" class="blob-code js-file-line">        &quot;    &lt;tr&gt;\n&quot;,</td>
      </tr>
      <tr>
        <td id="L851" class="blob-num js-line-number" data-line-number="851"></td>
        <td id="LC851" class="blob-code js-file-line">        &quot;      &lt;th&gt;6&lt;/th&gt;\n&quot;,</td>
      </tr>
      <tr>
        <td id="L852" class="blob-num js-line-number" data-line-number="852"></td>
        <td id="LC852" class="blob-code js-file-line">        &quot;      &lt;td&gt;   Missy Franklin&lt;/td&gt;\n&quot;,</td>
      </tr>
      <tr>
        <td id="L853" class="blob-num js-line-number" data-line-number="853"></td>
        <td id="LC853" class="blob-code js-file-line">        &quot;      &lt;td&gt; 17&lt;/td&gt;\n&quot;,</td>
      </tr>
      <tr>
        <td id="L854" class="blob-num js-line-number" data-line-number="854"></td>
        <td id="LC854" class="blob-code js-file-line">        &quot;      &lt;td&gt; United States&lt;/td&gt;\n&quot;,</td>
      </tr>
      <tr>
        <td id="L855" class="blob-num js-line-number" data-line-number="855"></td>
        <td id="LC855" class="blob-code js-file-line">        &quot;      &lt;td&gt; 2012&lt;/td&gt;\n&quot;,</td>
      </tr>
      <tr>
        <td id="L856" class="blob-num js-line-number" data-line-number="856"></td>
        <td id="LC856" class="blob-code js-file-line">        &quot;      &lt;td&gt; 2012-08-12&lt;/td&gt;\n&quot;,</td>
      </tr>
      <tr>
        <td id="L857" class="blob-num js-line-number" data-line-number="857"></td>
        <td id="LC857" class="blob-code js-file-line">        &quot;      &lt;td&gt;   Swimming&lt;/td&gt;\n&quot;,</td>
      </tr>
      <tr>
        <td id="L858" class="blob-num js-line-number" data-line-number="858"></td>
        <td id="LC858" class="blob-code js-file-line">        &quot;      &lt;td&gt; 4&lt;/td&gt;\n&quot;,</td>
      </tr>
      <tr>
        <td id="L859" class="blob-num js-line-number" data-line-number="859"></td>
        <td id="LC859" class="blob-code js-file-line">        &quot;      &lt;td&gt; 0&lt;/td&gt;\n&quot;,</td>
      </tr>
      <tr>
        <td id="L860" class="blob-num js-line-number" data-line-number="860"></td>
        <td id="LC860" class="blob-code js-file-line">        &quot;      &lt;td&gt; 1&lt;/td&gt;\n&quot;,</td>
      </tr>
      <tr>
        <td id="L861" class="blob-num js-line-number" data-line-number="861"></td>
        <td id="LC861" class="blob-code js-file-line">        &quot;      &lt;td&gt; 5&lt;/td&gt;\n&quot;,</td>
      </tr>
      <tr>
        <td id="L862" class="blob-num js-line-number" data-line-number="862"></td>
        <td id="LC862" class="blob-code js-file-line">        &quot;      &lt;td&gt; 17&lt;/td&gt;\n&quot;,</td>
      </tr>
      <tr>
        <td id="L863" class="blob-num js-line-number" data-line-number="863"></td>
        <td id="LC863" class="blob-code js-file-line">        &quot;      &lt;td&gt;   Missy Franklin&lt;/td&gt;\n&quot;,</td>
      </tr>
      <tr>
        <td id="L864" class="blob-num js-line-number" data-line-number="864"></td>
        <td id="LC864" class="blob-code js-file-line">        &quot;    &lt;/tr&gt;\n&quot;,</td>
      </tr>
      <tr>
        <td id="L865" class="blob-num js-line-number" data-line-number="865"></td>
        <td id="LC865" class="blob-code js-file-line">        &quot;    &lt;tr&gt;\n&quot;,</td>
      </tr>
      <tr>
        <td id="L866" class="blob-num js-line-number" data-line-number="866"></td>
        <td id="LC866" class="blob-code js-file-line">        &quot;      &lt;th&gt;7&lt;/th&gt;\n&quot;,</td>
      </tr>
      <tr>
        <td id="L867" class="blob-num js-line-number" data-line-number="867"></td>
        <td id="LC867" class="blob-code js-file-line">        &quot;      &lt;td&gt;      Ryan Lochte&lt;/td&gt;\n&quot;,</td>
      </tr>
      <tr>
        <td id="L868" class="blob-num js-line-number" data-line-number="868"></td>
        <td id="LC868" class="blob-code js-file-line">        &quot;      &lt;td&gt; 27&lt;/td&gt;\n&quot;,</td>
      </tr>
      <tr>
        <td id="L869" class="blob-num js-line-number" data-line-number="869"></td>
        <td id="LC869" class="blob-code js-file-line">        &quot;      &lt;td&gt; United States&lt;/td&gt;\n&quot;,</td>
      </tr>
      <tr>
        <td id="L870" class="blob-num js-line-number" data-line-number="870"></td>
        <td id="LC870" class="blob-code js-file-line">        &quot;      &lt;td&gt; 2012&lt;/td&gt;\n&quot;,</td>
      </tr>
      <tr>
        <td id="L871" class="blob-num js-line-number" data-line-number="871"></td>
        <td id="LC871" class="blob-code js-file-line">        &quot;      &lt;td&gt; 2012-08-12&lt;/td&gt;\n&quot;,</td>
      </tr>
      <tr>
        <td id="L872" class="blob-num js-line-number" data-line-number="872"></td>
        <td id="LC872" class="blob-code js-file-line">        &quot;      &lt;td&gt;   Swimming&lt;/td&gt;\n&quot;,</td>
      </tr>
      <tr>
        <td id="L873" class="blob-num js-line-number" data-line-number="873"></td>
        <td id="LC873" class="blob-code js-file-line">        &quot;      &lt;td&gt; 2&lt;/td&gt;\n&quot;,</td>
      </tr>
      <tr>
        <td id="L874" class="blob-num js-line-number" data-line-number="874"></td>
        <td id="LC874" class="blob-code js-file-line">        &quot;      &lt;td&gt; 2&lt;/td&gt;\n&quot;,</td>
      </tr>
      <tr>
        <td id="L875" class="blob-num js-line-number" data-line-number="875"></td>
        <td id="LC875" class="blob-code js-file-line">        &quot;      &lt;td&gt; 1&lt;/td&gt;\n&quot;,</td>
      </tr>
      <tr>
        <td id="L876" class="blob-num js-line-number" data-line-number="876"></td>
        <td id="LC876" class="blob-code js-file-line">        &quot;      &lt;td&gt; 5&lt;/td&gt;\n&quot;,</td>
      </tr>
      <tr>
        <td id="L877" class="blob-num js-line-number" data-line-number="877"></td>
        <td id="LC877" class="blob-code js-file-line">        &quot;      &lt;td&gt; 27&lt;/td&gt;\n&quot;,</td>
      </tr>
      <tr>
        <td id="L878" class="blob-num js-line-number" data-line-number="878"></td>
        <td id="LC878" class="blob-code js-file-line">        &quot;      &lt;td&gt;      Ryan Lochte&lt;/td&gt;\n&quot;,</td>
      </tr>
      <tr>
        <td id="L879" class="blob-num js-line-number" data-line-number="879"></td>
        <td id="LC879" class="blob-code js-file-line">        &quot;    &lt;/tr&gt;\n&quot;,</td>
      </tr>
      <tr>
        <td id="L880" class="blob-num js-line-number" data-line-number="880"></td>
        <td id="LC880" class="blob-code js-file-line">        &quot;    &lt;tr&gt;\n&quot;,</td>
      </tr>
      <tr>
        <td id="L881" class="blob-num js-line-number" data-line-number="881"></td>
        <td id="LC881" class="blob-code js-file-line">        &quot;      &lt;th&gt;8&lt;/th&gt;\n&quot;,</td>
      </tr>
      <tr>
        <td id="L882" class="blob-num js-line-number" data-line-number="882"></td>
        <td id="LC882" class="blob-code js-file-line">        &quot;      &lt;td&gt;  Allison Schmitt&lt;/td&gt;\n&quot;,</td>
      </tr>
      <tr>
        <td id="L883" class="blob-num js-line-number" data-line-number="883"></td>
        <td id="LC883" class="blob-code js-file-line">        &quot;      &lt;td&gt; 22&lt;/td&gt;\n&quot;,</td>
      </tr>
      <tr>
        <td id="L884" class="blob-num js-line-number" data-line-number="884"></td>
        <td id="LC884" class="blob-code js-file-line">        &quot;      &lt;td&gt; United States&lt;/td&gt;\n&quot;,</td>
      </tr>
      <tr>
        <td id="L885" class="blob-num js-line-number" data-line-number="885"></td>
        <td id="LC885" class="blob-code js-file-line">        &quot;      &lt;td&gt; 2012&lt;/td&gt;\n&quot;,</td>
      </tr>
      <tr>
        <td id="L886" class="blob-num js-line-number" data-line-number="886"></td>
        <td id="LC886" class="blob-code js-file-line">        &quot;      &lt;td&gt; 2012-08-12&lt;/td&gt;\n&quot;,</td>
      </tr>
      <tr>
        <td id="L887" class="blob-num js-line-number" data-line-number="887"></td>
        <td id="LC887" class="blob-code js-file-line">        &quot;      &lt;td&gt;   Swimming&lt;/td&gt;\n&quot;,</td>
      </tr>
      <tr>
        <td id="L888" class="blob-num js-line-number" data-line-number="888"></td>
        <td id="LC888" class="blob-code js-file-line">        &quot;      &lt;td&gt; 3&lt;/td&gt;\n&quot;,</td>
      </tr>
      <tr>
        <td id="L889" class="blob-num js-line-number" data-line-number="889"></td>
        <td id="LC889" class="blob-code js-file-line">        &quot;      &lt;td&gt; 1&lt;/td&gt;\n&quot;,</td>
      </tr>
      <tr>
        <td id="L890" class="blob-num js-line-number" data-line-number="890"></td>
        <td id="LC890" class="blob-code js-file-line">        &quot;      &lt;td&gt; 1&lt;/td&gt;\n&quot;,</td>
      </tr>
      <tr>
        <td id="L891" class="blob-num js-line-number" data-line-number="891"></td>
        <td id="LC891" class="blob-code js-file-line">        &quot;      &lt;td&gt; 5&lt;/td&gt;\n&quot;,</td>
      </tr>
      <tr>
        <td id="L892" class="blob-num js-line-number" data-line-number="892"></td>
        <td id="LC892" class="blob-code js-file-line">        &quot;      &lt;td&gt; 22&lt;/td&gt;\n&quot;,</td>
      </tr>
      <tr>
        <td id="L893" class="blob-num js-line-number" data-line-number="893"></td>
        <td id="LC893" class="blob-code js-file-line">        &quot;      &lt;td&gt;  Allison Schmitt&lt;/td&gt;\n&quot;,</td>
      </tr>
      <tr>
        <td id="L894" class="blob-num js-line-number" data-line-number="894"></td>
        <td id="LC894" class="blob-code js-file-line">        &quot;    &lt;/tr&gt;\n&quot;,</td>
      </tr>
      <tr>
        <td id="L895" class="blob-num js-line-number" data-line-number="895"></td>
        <td id="LC895" class="blob-code js-file-line">        &quot;    &lt;tr&gt;\n&quot;,</td>
      </tr>
      <tr>
        <td id="L896" class="blob-num js-line-number" data-line-number="896"></td>
        <td id="LC896" class="blob-code js-file-line">        &quot;      &lt;th&gt;9&lt;/th&gt;\n&quot;,</td>
      </tr>
      <tr>
        <td id="L897" class="blob-num js-line-number" data-line-number="897"></td>
        <td id="LC897" class="blob-code js-file-line">        &quot;      &lt;td&gt; Natalie Coughlin&lt;/td&gt;\n&quot;,</td>
      </tr>
      <tr>
        <td id="L898" class="blob-num js-line-number" data-line-number="898"></td>
        <td id="LC898" class="blob-code js-file-line">        &quot;      &lt;td&gt; 21&lt;/td&gt;\n&quot;,</td>
      </tr>
      <tr>
        <td id="L899" class="blob-num js-line-number" data-line-number="899"></td>
        <td id="LC899" class="blob-code js-file-line">        &quot;      &lt;td&gt; United States&lt;/td&gt;\n&quot;,</td>
      </tr>
      <tr>
        <td id="L900" class="blob-num js-line-number" data-line-number="900"></td>
        <td id="LC900" class="blob-code js-file-line">        &quot;      &lt;td&gt; 2004&lt;/td&gt;\n&quot;,</td>
      </tr>
      <tr>
        <td id="L901" class="blob-num js-line-number" data-line-number="901"></td>
        <td id="LC901" class="blob-code js-file-line">        &quot;      &lt;td&gt; 2004-08-29&lt;/td&gt;\n&quot;,</td>
      </tr>
      <tr>
        <td id="L902" class="blob-num js-line-number" data-line-number="902"></td>
        <td id="LC902" class="blob-code js-file-line">        &quot;      &lt;td&gt;   Swimming&lt;/td&gt;\n&quot;,</td>
      </tr>
      <tr>
        <td id="L903" class="blob-num js-line-number" data-line-number="903"></td>
        <td id="LC903" class="blob-code js-file-line">        &quot;      &lt;td&gt; 2&lt;/td&gt;\n&quot;,</td>
      </tr>
      <tr>
        <td id="L904" class="blob-num js-line-number" data-line-number="904"></td>
        <td id="LC904" class="blob-code js-file-line">        &quot;      &lt;td&gt; 2&lt;/td&gt;\n&quot;,</td>
      </tr>
      <tr>
        <td id="L905" class="blob-num js-line-number" data-line-number="905"></td>
        <td id="LC905" class="blob-code js-file-line">        &quot;      &lt;td&gt; 1&lt;/td&gt;\n&quot;,</td>
      </tr>
      <tr>
        <td id="L906" class="blob-num js-line-number" data-line-number="906"></td>
        <td id="LC906" class="blob-code js-file-line">        &quot;      &lt;td&gt; 5&lt;/td&gt;\n&quot;,</td>
      </tr>
      <tr>
        <td id="L907" class="blob-num js-line-number" data-line-number="907"></td>
        <td id="LC907" class="blob-code js-file-line">        &quot;      &lt;td&gt; 21&lt;/td&gt;\n&quot;,</td>
      </tr>
      <tr>
        <td id="L908" class="blob-num js-line-number" data-line-number="908"></td>
        <td id="LC908" class="blob-code js-file-line">        &quot;      &lt;td&gt; Natalie Coughlin&lt;/td&gt;\n&quot;,</td>
      </tr>
      <tr>
        <td id="L909" class="blob-num js-line-number" data-line-number="909"></td>
        <td id="LC909" class="blob-code js-file-line">        &quot;    &lt;/tr&gt;\n&quot;,</td>
      </tr>
      <tr>
        <td id="L910" class="blob-num js-line-number" data-line-number="910"></td>
        <td id="LC910" class="blob-code js-file-line">        &quot;  &lt;/tbody&gt;\n&quot;,</td>
      </tr>
      <tr>
        <td id="L911" class="blob-num js-line-number" data-line-number="911"></td>
        <td id="LC911" class="blob-code js-file-line">        &quot;&lt;/table&gt;\n&quot;,</td>
      </tr>
      <tr>
        <td id="L912" class="blob-num js-line-number" data-line-number="912"></td>
        <td id="LC912" class="blob-code js-file-line">        &quot;&lt;/div&gt;&quot;</td>
      </tr>
      <tr>
        <td id="L913" class="blob-num js-line-number" data-line-number="913"></td>
        <td id="LC913" class="blob-code js-file-line">       ],</td>
      </tr>
      <tr>
        <td id="L914" class="blob-num js-line-number" data-line-number="914"></td>
        <td id="LC914" class="blob-code js-file-line">       &quot;metadata&quot;: {},</td>
      </tr>
      <tr>
        <td id="L915" class="blob-num js-line-number" data-line-number="915"></td>
        <td id="LC915" class="blob-code js-file-line">       &quot;output_type&quot;: &quot;pyout&quot;,</td>
      </tr>
      <tr>
        <td id="L916" class="blob-num js-line-number" data-line-number="916"></td>
        <td id="LC916" class="blob-code js-file-line">       &quot;prompt_number&quot;: 122,</td>
      </tr>
      <tr>
        <td id="L917" class="blob-num js-line-number" data-line-number="917"></td>
        <td id="LC917" class="blob-code js-file-line">       &quot;text&quot;: [</td>
      </tr>
      <tr>
        <td id="L918" class="blob-num js-line-number" data-line-number="918"></td>
        <td id="LC918" class="blob-code js-file-line">        &quot;            Athlete  Age        Country  Year Closing_Date       Sport  Gold  \\\n&quot;,</td>
      </tr>
      <tr>
        <td id="L919" class="blob-num js-line-number" data-line-number="919"></td>
        <td id="LC919" class="blob-code js-file-line">        &quot;0    Michael Phelps   23  United States  2008   2008-08-24    Swimming     8   \n&quot;,</td>
      </tr>
      <tr>
        <td id="L920" class="blob-num js-line-number" data-line-number="920"></td>
        <td id="LC920" class="blob-code js-file-line">        &quot;1    Michael Phelps   19  United States  2004   2004-08-29    Swimming     6   \n&quot;,</td>
      </tr>
      <tr>
        <td id="L921" class="blob-num js-line-number" data-line-number="921"></td>
        <td id="LC921" class="blob-code js-file-line">        &quot;2    Michael Phelps   27  United States  2012   2012-08-12    Swimming     4   \n&quot;,</td>
      </tr>
      <tr>
        <td id="L922" class="blob-num js-line-number" data-line-number="922"></td>
        <td id="LC922" class="blob-code js-file-line">        &quot;3  Natalie Coughlin   25  United States  2008   2008-08-24    Swimming     1   \n&quot;,</td>
      </tr>
      <tr>
        <td id="L923" class="blob-num js-line-number" data-line-number="923"></td>
        <td id="LC923" class="blob-code js-file-line">        &quot;4     Aleksey Nemov   24         Russia  2000   2000-10-01  Gymnastics     2   \n&quot;,</td>
      </tr>
      <tr>
        <td id="L924" class="blob-num js-line-number" data-line-number="924"></td>
        <td id="LC924" class="blob-code js-file-line">        &quot;5     Alicia Coutts   24      Australia  2012   2012-08-12    Swimming     1   \n&quot;,</td>
      </tr>
      <tr>
        <td id="L925" class="blob-num js-line-number" data-line-number="925"></td>
        <td id="LC925" class="blob-code js-file-line">        &quot;6    Missy Franklin   17  United States  2012   2012-08-12    Swimming     4   \n&quot;,</td>
      </tr>
      <tr>
        <td id="L926" class="blob-num js-line-number" data-line-number="926"></td>
        <td id="LC926" class="blob-code js-file-line">        &quot;7       Ryan Lochte   27  United States  2012   2012-08-12    Swimming     2   \n&quot;,</td>
      </tr>
      <tr>
        <td id="L927" class="blob-num js-line-number" data-line-number="927"></td>
        <td id="LC927" class="blob-code js-file-line">        &quot;8   Allison Schmitt   22  United States  2012   2012-08-12    Swimming     3   \n&quot;,</td>
      </tr>
      <tr>
        <td id="L928" class="blob-num js-line-number" data-line-number="928"></td>
        <td id="LC928" class="blob-code js-file-line">        &quot;9  Natalie Coughlin   21  United States  2004   2004-08-29    Swimming     2   \n&quot;,</td>
      </tr>
      <tr>
        <td id="L929" class="blob-num js-line-number" data-line-number="929"></td>
        <td id="LC929" class="blob-code js-file-line">        &quot;\n&quot;,</td>
      </tr>
      <tr>
        <td id="L930" class="blob-num js-line-number" data-line-number="930"></td>
        <td id="LC930" class="blob-code js-file-line">        &quot;   Silver  Bronze  Total  NewAge        NewAthlete  \n&quot;,</td>
      </tr>
      <tr>
        <td id="L931" class="blob-num js-line-number" data-line-number="931"></td>
        <td id="LC931" class="blob-code js-file-line">        &quot;0       0       0      8      23    Michael Phelps  \n&quot;,</td>
      </tr>
      <tr>
        <td id="L932" class="blob-num js-line-number" data-line-number="932"></td>
        <td id="LC932" class="blob-code js-file-line">        &quot;1       0       2      8      19    Michael Phelps  \n&quot;,</td>
      </tr>
      <tr>
        <td id="L933" class="blob-num js-line-number" data-line-number="933"></td>
        <td id="LC933" class="blob-code js-file-line">        &quot;2       2       0      6      27    Michael Phelps  \n&quot;,</td>
      </tr>
      <tr>
        <td id="L934" class="blob-num js-line-number" data-line-number="934"></td>
        <td id="LC934" class="blob-code js-file-line">        &quot;3       2       3      6      25  Natalie Coughlin  \n&quot;,</td>
      </tr>
      <tr>
        <td id="L935" class="blob-num js-line-number" data-line-number="935"></td>
        <td id="LC935" class="blob-code js-file-line">        &quot;4       1       3      6      24     Aleksey Nemov  \n&quot;,</td>
      </tr>
      <tr>
        <td id="L936" class="blob-num js-line-number" data-line-number="936"></td>
        <td id="LC936" class="blob-code js-file-line">        &quot;5       3       1      5      24     Alicia Coutts  \n&quot;,</td>
      </tr>
      <tr>
        <td id="L937" class="blob-num js-line-number" data-line-number="937"></td>
        <td id="LC937" class="blob-code js-file-line">        &quot;6       0       1      5      17    Missy Franklin  \n&quot;,</td>
      </tr>
      <tr>
        <td id="L938" class="blob-num js-line-number" data-line-number="938"></td>
        <td id="LC938" class="blob-code js-file-line">        &quot;7       2       1      5      27       Ryan Lochte  \n&quot;,</td>
      </tr>
      <tr>
        <td id="L939" class="blob-num js-line-number" data-line-number="939"></td>
        <td id="LC939" class="blob-code js-file-line">        &quot;8       1       1      5      22   Allison Schmitt  \n&quot;,</td>
      </tr>
      <tr>
        <td id="L940" class="blob-num js-line-number" data-line-number="940"></td>
        <td id="LC940" class="blob-code js-file-line">        &quot;9       2       1      5      21  Natalie Coughlin  &quot;</td>
      </tr>
      <tr>
        <td id="L941" class="blob-num js-line-number" data-line-number="941"></td>
        <td id="LC941" class="blob-code js-file-line">       ]</td>
      </tr>
      <tr>
        <td id="L942" class="blob-num js-line-number" data-line-number="942"></td>
        <td id="LC942" class="blob-code js-file-line">      }</td>
      </tr>
      <tr>
        <td id="L943" class="blob-num js-line-number" data-line-number="943"></td>
        <td id="LC943" class="blob-code js-file-line">     ],</td>
      </tr>
      <tr>
        <td id="L944" class="blob-num js-line-number" data-line-number="944"></td>
        <td id="LC944" class="blob-code js-file-line">     &quot;prompt_number&quot;: 122</td>
      </tr>
      <tr>
        <td id="L945" class="blob-num js-line-number" data-line-number="945"></td>
        <td id="LC945" class="blob-code js-file-line">    },</td>
      </tr>
      <tr>
        <td id="L946" class="blob-num js-line-number" data-line-number="946"></td>
        <td id="LC946" class="blob-code js-file-line">    {</td>
      </tr>
      <tr>
        <td id="L947" class="blob-num js-line-number" data-line-number="947"></td>
        <td id="LC947" class="blob-code js-file-line">     &quot;cell_type&quot;: &quot;markdown&quot;,</td>
      </tr>
      <tr>
        <td id="L948" class="blob-num js-line-number" data-line-number="948"></td>
        <td id="LC948" class="blob-code js-file-line">     &quot;metadata&quot;: {},</td>
      </tr>
      <tr>
        <td id="L949" class="blob-num js-line-number" data-line-number="949"></td>
        <td id="LC949" class="blob-code js-file-line">     &quot;source&quot;: [</td>
      </tr>
      <tr>
        <td id="L950" class="blob-num js-line-number" data-line-number="950"></td>
        <td id="LC950" class="blob-code js-file-line">      &quot;#### Looking at the head of the data again, we can examine the categorical variables &#39;Athlete&#39;, &#39;Country&#39; and &#39;Sport&#39;\n&quot;,</td>
      </tr>
      <tr>
        <td id="L951" class="blob-num js-line-number" data-line-number="951"></td>
        <td id="LC951" class="blob-code js-file-line">      &quot;* **Athlete:**    \n&quot;,</td>
      </tr>
      <tr>
        <td id="L952" class="blob-num js-line-number" data-line-number="952"></td>
        <td id="LC952" class="blob-code js-file-line">      &quot;    * the top three occurances are \&quot;Michael Phelps\&quot; based on the descending order of the &#39;Total Medals&#39; variable.\n&quot;,</td>
      </tr>
      <tr>
        <td id="L953" class="blob-num js-line-number" data-line-number="953"></td>
        <td id="LC953" class="blob-code js-file-line">      &quot;    * we see Michael Phelps topped the chart in 2004, 2008 and 2012 with 6, 8, and 8 total medals\n&quot;,</td>
      </tr>
      <tr>
        <td id="L954" class="blob-num js-line-number" data-line-number="954"></td>
        <td id="LC954" class="blob-code js-file-line">      &quot;* **Country:**\n&quot;,</td>
      </tr>
      <tr>
        <td id="L955" class="blob-num js-line-number" data-line-number="955"></td>
        <td id="LC955" class="blob-code js-file-line">      &quot;    * the United States in 8 of the top 10 spots\n&quot;,</td>
      </tr>
      <tr>
        <td id="L956" class="blob-num js-line-number" data-line-number="956"></td>
        <td id="LC956" class="blob-code js-file-line">      &quot;    * Russia is in the 4th occurence with 6 total medals for athlete Aleksey Nemov in the sport of Gymnastics\n&quot;,</td>
      </tr>
      <tr>
        <td id="L957" class="blob-num js-line-number" data-line-number="957"></td>
        <td id="LC957" class="blob-code js-file-line">      &quot;    * Australia in slot 5 with athlete Alicia Coutts with 5 total medals in the sport of Swimming\n&quot;,</td>
      </tr>
      <tr>
        <td id="L958" class="blob-num js-line-number" data-line-number="958"></td>
        <td id="LC958" class="blob-code js-file-line">      &quot;* **Sport**\n&quot;,</td>
      </tr>
      <tr>
        <td id="L959" class="blob-num js-line-number" data-line-number="959"></td>
        <td id="LC959" class="blob-code js-file-line">      &quot;    * swimming appears to dominate the top of the total medals with 9/10 occurences\n&quot;,</td>
      </tr>
      <tr>
        <td id="L960" class="blob-num js-line-number" data-line-number="960"></td>
        <td id="LC960" class="blob-code js-file-line">      &quot;    * only one instance of the sport &#39;Gymnastics&#39; in the top 10 occurences&quot;</td>
      </tr>
      <tr>
        <td id="L961" class="blob-num js-line-number" data-line-number="961"></td>
        <td id="LC961" class="blob-code js-file-line">     ]</td>
      </tr>
      <tr>
        <td id="L962" class="blob-num js-line-number" data-line-number="962"></td>
        <td id="LC962" class="blob-code js-file-line">    },</td>
      </tr>
      <tr>
        <td id="L963" class="blob-num js-line-number" data-line-number="963"></td>
        <td id="LC963" class="blob-code js-file-line">    {</td>
      </tr>
      <tr>
        <td id="L964" class="blob-num js-line-number" data-line-number="964"></td>
        <td id="LC964" class="blob-code js-file-line">     &quot;cell_type&quot;: &quot;markdown&quot;,</td>
      </tr>
      <tr>
        <td id="L965" class="blob-num js-line-number" data-line-number="965"></td>
        <td id="LC965" class="blob-code js-file-line">     &quot;metadata&quot;: {},</td>
      </tr>
      <tr>
        <td id="L966" class="blob-num js-line-number" data-line-number="966"></td>
        <td id="LC966" class="blob-code js-file-line">     &quot;source&quot;: [</td>
      </tr>
      <tr>
        <td id="L967" class="blob-num js-line-number" data-line-number="967"></td>
        <td id="LC967" class="blob-code js-file-line">      &quot;# Visualizing the data&quot;</td>
      </tr>
      <tr>
        <td id="L968" class="blob-num js-line-number" data-line-number="968"></td>
        <td id="LC968" class="blob-code js-file-line">     ]</td>
      </tr>
      <tr>
        <td id="L969" class="blob-num js-line-number" data-line-number="969"></td>
        <td id="LC969" class="blob-code js-file-line">    },</td>
      </tr>
      <tr>
        <td id="L970" class="blob-num js-line-number" data-line-number="970"></td>
        <td id="LC970" class="blob-code js-file-line">    {</td>
      </tr>
      <tr>
        <td id="L971" class="blob-num js-line-number" data-line-number="971"></td>
        <td id="LC971" class="blob-code js-file-line">     &quot;cell_type&quot;: &quot;markdown&quot;,</td>
      </tr>
      <tr>
        <td id="L972" class="blob-num js-line-number" data-line-number="972"></td>
        <td id="LC972" class="blob-code js-file-line">     &quot;metadata&quot;: {},</td>
      </tr>
      <tr>
        <td id="L973" class="blob-num js-line-number" data-line-number="973"></td>
        <td id="LC973" class="blob-code js-file-line">     &quot;source&quot;: [</td>
      </tr>
      <tr>
        <td id="L974" class="blob-num js-line-number" data-line-number="974"></td>
        <td id="LC974" class="blob-code js-file-line">      &quot;### Visualize the ages of the Olympic Athletes using a Histogram Plot&quot;</td>
      </tr>
      <tr>
        <td id="L975" class="blob-num js-line-number" data-line-number="975"></td>
        <td id="LC975" class="blob-code js-file-line">     ]</td>
      </tr>
      <tr>
        <td id="L976" class="blob-num js-line-number" data-line-number="976"></td>
        <td id="LC976" class="blob-code js-file-line">    },</td>
      </tr>
      <tr>
        <td id="L977" class="blob-num js-line-number" data-line-number="977"></td>
        <td id="LC977" class="blob-code js-file-line">    {</td>
      </tr>
      <tr>
        <td id="L978" class="blob-num js-line-number" data-line-number="978"></td>
        <td id="LC978" class="blob-code js-file-line">     &quot;cell_type&quot;: &quot;markdown&quot;,</td>
      </tr>
      <tr>
        <td id="L979" class="blob-num js-line-number" data-line-number="979"></td>
        <td id="LC979" class="blob-code js-file-line">     &quot;metadata&quot;: {},</td>
      </tr>
      <tr>
        <td id="L980" class="blob-num js-line-number" data-line-number="980"></td>
        <td id="LC980" class="blob-code js-file-line">     &quot;source&quot;: [</td>
      </tr>
      <tr>
        <td id="L981" class="blob-num js-line-number" data-line-number="981"></td>
        <td id="LC981" class="blob-code js-file-line">      &quot;note: this histogram is working with the NewAge variable where we replaced missing data with the mean in 5 occrurences&quot;</td>
      </tr>
      <tr>
        <td id="L982" class="blob-num js-line-number" data-line-number="982"></td>
        <td id="LC982" class="blob-code js-file-line">     ]</td>
      </tr>
      <tr>
        <td id="L983" class="blob-num js-line-number" data-line-number="983"></td>
        <td id="LC983" class="blob-code js-file-line">    },</td>
      </tr>
      <tr>
        <td id="L984" class="blob-num js-line-number" data-line-number="984"></td>
        <td id="LC984" class="blob-code js-file-line">    {</td>
      </tr>
      <tr>
        <td id="L985" class="blob-num js-line-number" data-line-number="985"></td>
        <td id="LC985" class="blob-code js-file-line">     &quot;cell_type&quot;: &quot;code&quot;,</td>
      </tr>
      <tr>
        <td id="L986" class="blob-num js-line-number" data-line-number="986"></td>
        <td id="LC986" class="blob-code js-file-line">     &quot;collapsed&quot;: false,</td>
      </tr>
      <tr>
        <td id="L987" class="blob-num js-line-number" data-line-number="987"></td>
        <td id="LC987" class="blob-code js-file-line">     &quot;input&quot;: [</td>
      </tr>
      <tr>
        <td id="L988" class="blob-num js-line-number" data-line-number="988"></td>
        <td id="LC988" class="blob-code js-file-line">      &quot;pl.xlabel(\&quot;NewAge\&quot;)\n&quot;,</td>
      </tr>
      <tr>
        <td id="L989" class="blob-num js-line-number" data-line-number="989"></td>
        <td id="LC989" class="blob-code js-file-line">      &quot;pl.ylabel(\&quot;Occurances\&quot;)\n&quot;,</td>
      </tr>
      <tr>
        <td id="L990" class="blob-num js-line-number" data-line-number="990"></td>
        <td id="LC990" class="blob-code js-file-line">      &quot;pl.title(\&quot;Olympic Athlete (New)Ages: Histogram\&quot;)\n&quot;,</td>
      </tr>
      <tr>
        <td id="L991" class="blob-num js-line-number" data-line-number="991"></td>
        <td id="LC991" class="blob-code js-file-line">      &quot;pl.hist(olympics[&#39;NewAge&#39;], bins=90)\n&quot;,</td>
      </tr>
      <tr>
        <td id="L992" class="blob-num js-line-number" data-line-number="992"></td>
        <td id="LC992" class="blob-code js-file-line">      &quot;pl.show()&quot;</td>
      </tr>
      <tr>
        <td id="L993" class="blob-num js-line-number" data-line-number="993"></td>
        <td id="LC993" class="blob-code js-file-line">     ],</td>
      </tr>
      <tr>
        <td id="L994" class="blob-num js-line-number" data-line-number="994"></td>
        <td id="LC994" class="blob-code js-file-line">     &quot;language&quot;: &quot;python&quot;,</td>
      </tr>
      <tr>
        <td id="L995" class="blob-num js-line-number" data-line-number="995"></td>
        <td id="LC995" class="blob-code js-file-line">     &quot;metadata&quot;: {},</td>
      </tr>
      <tr>
        <td id="L996" class="blob-num js-line-number" data-line-number="996"></td>
        <td id="LC996" class="blob-code js-file-line">     &quot;outputs&quot;: [</td>
      </tr>
      <tr>
        <td id="L997" class="blob-num js-line-number" data-line-number="997"></td>
        <td id="LC997" class="blob-code js-file-line">      {</td>
      </tr>
      <tr>
        <td id="L998" class="blob-num js-line-number" data-line-number="998"></td>
        <td id="LC998" class="blob-code js-file-line">       &quot;metadata&quot;: {},</td>
      </tr>
      <tr>
        <td id="L999" class="blob-num js-line-number" data-line-number="999"></td>
        <td id="LC999" class="blob-code js-file-line">       &quot;output_type&quot;: &quot;display_data&quot;,</td>
      </tr>
      <tr>
        <td id="L1000" class="blob-num js-line-number" data-line-number="1000"></td>
        <td id="LC1000" class="blob-code js-file-line">       &quot;png&quot;: &quot;iVBORw0KGgoAAAANSUhEUgAAAYcAAAEZCAYAAAB8culNAAAABHNCSVQICAgIfAhkiAAAAAlwSFlz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\nAABJRU5ErkJggg==\n&quot;,</td>
      </tr>
      <tr>
        <td id="L1001" class="blob-num js-line-number" data-line-number="1001"></td>
        <td id="LC1001" class="blob-code js-file-line">       &quot;text&quot;: [</td>
      </tr>
      <tr>
        <td id="L1002" class="blob-num js-line-number" data-line-number="1002"></td>
        <td id="LC1002" class="blob-code js-file-line">        &quot;&lt;matplotlib.figure.Figure at 0x1157a8a90&gt;&quot;</td>
      </tr>
      <tr>
        <td id="L1003" class="blob-num js-line-number" data-line-number="1003"></td>
        <td id="LC1003" class="blob-code js-file-line">       ]</td>
      </tr>
      <tr>
        <td id="L1004" class="blob-num js-line-number" data-line-number="1004"></td>
        <td id="LC1004" class="blob-code js-file-line">      }</td>
      </tr>
      <tr>
        <td id="L1005" class="blob-num js-line-number" data-line-number="1005"></td>
        <td id="LC1005" class="blob-code js-file-line">     ],</td>
      </tr>
      <tr>
        <td id="L1006" class="blob-num js-line-number" data-line-number="1006"></td>
        <td id="LC1006" class="blob-code js-file-line">     &quot;prompt_number&quot;: 123</td>
      </tr>
      <tr>
        <td id="L1007" class="blob-num js-line-number" data-line-number="1007"></td>
        <td id="LC1007" class="blob-code js-file-line">    },</td>
      </tr>
      <tr>
        <td id="L1008" class="blob-num js-line-number" data-line-number="1008"></td>
        <td id="LC1008" class="blob-code js-file-line">    {</td>
      </tr>
      <tr>
        <td id="L1009" class="blob-num js-line-number" data-line-number="1009"></td>
        <td id="LC1009" class="blob-code js-file-line">     &quot;cell_type&quot;: &quot;markdown&quot;,</td>
      </tr>
      <tr>
        <td id="L1010" class="blob-num js-line-number" data-line-number="1010"></td>
        <td id="LC1010" class="blob-code js-file-line">     &quot;metadata&quot;: {},</td>
      </tr>
      <tr>
        <td id="L1011" class="blob-num js-line-number" data-line-number="1011"></td>
        <td id="LC1011" class="blob-code js-file-line">     &quot;source&quot;: [</td>
      </tr>
      <tr>
        <td id="L1012" class="blob-num js-line-number" data-line-number="1012"></td>
        <td id="LC1012" class="blob-code js-file-line">      &quot;### Get the top 5 countries with the most total medals&quot;</td>
      </tr>
      <tr>
        <td id="L1013" class="blob-num js-line-number" data-line-number="1013"></td>
        <td id="LC1013" class="blob-code js-file-line">     ]</td>
      </tr>
      <tr>
        <td id="L1014" class="blob-num js-line-number" data-line-number="1014"></td>
        <td id="LC1014" class="blob-code js-file-line">    },</td>
      </tr>
      <tr>
        <td id="L1015" class="blob-num js-line-number" data-line-number="1015"></td>
        <td id="LC1015" class="blob-code js-file-line">    {</td>
      </tr>
      <tr>
        <td id="L1016" class="blob-num js-line-number" data-line-number="1016"></td>
        <td id="LC1016" class="blob-code js-file-line">     &quot;cell_type&quot;: &quot;code&quot;,</td>
      </tr>
      <tr>
        <td id="L1017" class="blob-num js-line-number" data-line-number="1017"></td>
        <td id="LC1017" class="blob-code js-file-line">     &quot;collapsed&quot;: false,</td>
      </tr>
      <tr>
        <td id="L1018" class="blob-num js-line-number" data-line-number="1018"></td>
        <td id="LC1018" class="blob-code js-file-line">     &quot;input&quot;: [</td>
      </tr>
      <tr>
        <td id="L1019" class="blob-num js-line-number" data-line-number="1019"></td>
        <td id="LC1019" class="blob-code js-file-line">      &quot;GroupByTotal = olympics.groupby(&#39;Country&#39;).Total.sum()\n&quot;,</td>
      </tr>
      <tr>
        <td id="L1020" class="blob-num js-line-number" data-line-number="1020"></td>
        <td id="LC1020" class="blob-code js-file-line">      &quot;GroupByTotal.sort(ascending=False)\n&quot;,</td>
      </tr>
      <tr>
        <td id="L1021" class="blob-num js-line-number" data-line-number="1021"></td>
        <td id="LC1021" class="blob-code js-file-line">      &quot;Top5 = GroupByTotal.head(5)\n&quot;,</td>
      </tr>
      <tr>
        <td id="L1022" class="blob-num js-line-number" data-line-number="1022"></td>
        <td id="LC1022" class="blob-code js-file-line">      &quot;Top5&quot;</td>
      </tr>
      <tr>
        <td id="L1023" class="blob-num js-line-number" data-line-number="1023"></td>
        <td id="LC1023" class="blob-code js-file-line">     ],</td>
      </tr>
      <tr>
        <td id="L1024" class="blob-num js-line-number" data-line-number="1024"></td>
        <td id="LC1024" class="blob-code js-file-line">     &quot;language&quot;: &quot;python&quot;,</td>
      </tr>
      <tr>
        <td id="L1025" class="blob-num js-line-number" data-line-number="1025"></td>
        <td id="LC1025" class="blob-code js-file-line">     &quot;metadata&quot;: {},</td>
      </tr>
      <tr>
        <td id="L1026" class="blob-num js-line-number" data-line-number="1026"></td>
        <td id="LC1026" class="blob-code js-file-line">     &quot;outputs&quot;: [</td>
      </tr>
      <tr>
        <td id="L1027" class="blob-num js-line-number" data-line-number="1027"></td>
        <td id="LC1027" class="blob-code js-file-line">      {</td>
      </tr>
      <tr>
        <td id="L1028" class="blob-num js-line-number" data-line-number="1028"></td>
        <td id="LC1028" class="blob-code js-file-line">       &quot;metadata&quot;: {},</td>
      </tr>
      <tr>
        <td id="L1029" class="blob-num js-line-number" data-line-number="1029"></td>
        <td id="LC1029" class="blob-code js-file-line">       &quot;output_type&quot;: &quot;pyout&quot;,</td>
      </tr>
      <tr>
        <td id="L1030" class="blob-num js-line-number" data-line-number="1030"></td>
        <td id="LC1030" class="blob-code js-file-line">       &quot;prompt_number&quot;: 124,</td>
      </tr>
      <tr>
        <td id="L1031" class="blob-num js-line-number" data-line-number="1031"></td>
        <td id="LC1031" class="blob-code js-file-line">       &quot;text&quot;: [</td>
      </tr>
      <tr>
        <td id="L1032" class="blob-num js-line-number" data-line-number="1032"></td>
        <td id="LC1032" class="blob-code js-file-line">        &quot;Country\n&quot;,</td>
      </tr>
      <tr>
        <td id="L1033" class="blob-num js-line-number" data-line-number="1033"></td>
        <td id="LC1033" class="blob-code js-file-line">        &quot;United States    1312\n&quot;,</td>
      </tr>
      <tr>
        <td id="L1034" class="blob-num js-line-number" data-line-number="1034"></td>
        <td id="LC1034" class="blob-code js-file-line">        &quot;Russia            768\n&quot;,</td>
      </tr>
      <tr>
        <td id="L1035" class="blob-num js-line-number" data-line-number="1035"></td>
        <td id="LC1035" class="blob-code js-file-line">        &quot;Germany           629\n&quot;,</td>
      </tr>
      <tr>
        <td id="L1036" class="blob-num js-line-number" data-line-number="1036"></td>
        <td id="LC1036" class="blob-code js-file-line">        &quot;Australia         609\n&quot;,</td>
      </tr>
      <tr>
        <td id="L1037" class="blob-num js-line-number" data-line-number="1037"></td>
        <td id="LC1037" class="blob-code js-file-line">        &quot;China             530\n&quot;,</td>
      </tr>
      <tr>
        <td id="L1038" class="blob-num js-line-number" data-line-number="1038"></td>
        <td id="LC1038" class="blob-code js-file-line">        &quot;Name: Total, dtype: int64&quot;</td>
      </tr>
      <tr>
        <td id="L1039" class="blob-num js-line-number" data-line-number="1039"></td>
        <td id="LC1039" class="blob-code js-file-line">       ]</td>
      </tr>
      <tr>
        <td id="L1040" class="blob-num js-line-number" data-line-number="1040"></td>
        <td id="LC1040" class="blob-code js-file-line">      }</td>
      </tr>
      <tr>
        <td id="L1041" class="blob-num js-line-number" data-line-number="1041"></td>
        <td id="LC1041" class="blob-code js-file-line">     ],</td>
      </tr>
      <tr>
        <td id="L1042" class="blob-num js-line-number" data-line-number="1042"></td>
        <td id="LC1042" class="blob-code js-file-line">     &quot;prompt_number&quot;: 124</td>
      </tr>
      <tr>
        <td id="L1043" class="blob-num js-line-number" data-line-number="1043"></td>
        <td id="LC1043" class="blob-code js-file-line">    },</td>
      </tr>
      <tr>
        <td id="L1044" class="blob-num js-line-number" data-line-number="1044"></td>
        <td id="LC1044" class="blob-code js-file-line">    {</td>
      </tr>
      <tr>
        <td id="L1045" class="blob-num js-line-number" data-line-number="1045"></td>
        <td id="LC1045" class="blob-code js-file-line">     &quot;cell_type&quot;: &quot;markdown&quot;,</td>
      </tr>
      <tr>
        <td id="L1046" class="blob-num js-line-number" data-line-number="1046"></td>
        <td id="LC1046" class="blob-code js-file-line">     &quot;metadata&quot;: {},</td>
      </tr>
      <tr>
        <td id="L1047" class="blob-num js-line-number" data-line-number="1047"></td>
        <td id="LC1047" class="blob-code js-file-line">     &quot;source&quot;: [</td>
      </tr>
      <tr>
        <td id="L1048" class="blob-num js-line-number" data-line-number="1048"></td>
        <td id="LC1048" class="blob-code js-file-line">      &quot;# Create a new boolean variable &#39;Old&#39;&quot;</td>
      </tr>
      <tr>
        <td id="L1049" class="blob-num js-line-number" data-line-number="1049"></td>
        <td id="LC1049" class="blob-code js-file-line">     ]</td>
      </tr>
      <tr>
        <td id="L1050" class="blob-num js-line-number" data-line-number="1050"></td>
        <td id="LC1050" class="blob-code js-file-line">    },</td>
      </tr>
      <tr>
        <td id="L1051" class="blob-num js-line-number" data-line-number="1051"></td>
        <td id="LC1051" class="blob-code js-file-line">    {</td>
      </tr>
      <tr>
        <td id="L1052" class="blob-num js-line-number" data-line-number="1052"></td>
        <td id="LC1052" class="blob-code js-file-line">     &quot;cell_type&quot;: &quot;markdown&quot;,</td>
      </tr>
      <tr>
        <td id="L1053" class="blob-num js-line-number" data-line-number="1053"></td>
        <td id="LC1053" class="blob-code js-file-line">     &quot;metadata&quot;: {},</td>
      </tr>
      <tr>
        <td id="L1054" class="blob-num js-line-number" data-line-number="1054"></td>
        <td id="LC1054" class="blob-code js-file-line">     &quot;source&quot;: [</td>
      </tr>
      <tr>
        <td id="L1055" class="blob-num js-line-number" data-line-number="1055"></td>
        <td id="LC1055" class="blob-code js-file-line">      &quot;#### This variable will be True of the Athlete is older than the mean age of all of the olympic athletes and will be False if the Athlete is at, or younger than the mean age.&quot;</td>
      </tr>
      <tr>
        <td id="L1056" class="blob-num js-line-number" data-line-number="1056"></td>
        <td id="LC1056" class="blob-code js-file-line">     ]</td>
      </tr>
      <tr>
        <td id="L1057" class="blob-num js-line-number" data-line-number="1057"></td>
        <td id="LC1057" class="blob-code js-file-line">    },</td>
      </tr>
      <tr>
        <td id="L1058" class="blob-num js-line-number" data-line-number="1058"></td>
        <td id="LC1058" class="blob-code js-file-line">    {</td>
      </tr>
      <tr>
        <td id="L1059" class="blob-num js-line-number" data-line-number="1059"></td>
        <td id="LC1059" class="blob-code js-file-line">     &quot;cell_type&quot;: &quot;code&quot;,</td>
      </tr>
      <tr>
        <td id="L1060" class="blob-num js-line-number" data-line-number="1060"></td>
        <td id="LC1060" class="blob-code js-file-line">     &quot;collapsed&quot;: false,</td>
      </tr>
      <tr>
        <td id="L1061" class="blob-num js-line-number" data-line-number="1061"></td>
        <td id="LC1061" class="blob-code js-file-line">     &quot;input&quot;: [</td>
      </tr>
      <tr>
        <td id="L1062" class="blob-num js-line-number" data-line-number="1062"></td>
        <td id="LC1062" class="blob-code js-file-line">      &quot;olympics[&#39;Old&#39;] = olympics[&#39;NewAge&#39;] &gt; (mean(olympics[&#39;NewAge&#39;]))&quot;</td>
      </tr>
      <tr>
        <td id="L1063" class="blob-num js-line-number" data-line-number="1063"></td>
        <td id="LC1063" class="blob-code js-file-line">     ],</td>
      </tr>
      <tr>
        <td id="L1064" class="blob-num js-line-number" data-line-number="1064"></td>
        <td id="LC1064" class="blob-code js-file-line">     &quot;language&quot;: &quot;python&quot;,</td>
      </tr>
      <tr>
        <td id="L1065" class="blob-num js-line-number" data-line-number="1065"></td>
        <td id="LC1065" class="blob-code js-file-line">     &quot;metadata&quot;: {},</td>
      </tr>
      <tr>
        <td id="L1066" class="blob-num js-line-number" data-line-number="1066"></td>
        <td id="LC1066" class="blob-code js-file-line">     &quot;outputs&quot;: [],</td>
      </tr>
      <tr>
        <td id="L1067" class="blob-num js-line-number" data-line-number="1067"></td>
        <td id="LC1067" class="blob-code js-file-line">     &quot;prompt_number&quot;: 125</td>
      </tr>
      <tr>
        <td id="L1068" class="blob-num js-line-number" data-line-number="1068"></td>
        <td id="LC1068" class="blob-code js-file-line">    },</td>
      </tr>
      <tr>
        <td id="L1069" class="blob-num js-line-number" data-line-number="1069"></td>
        <td id="LC1069" class="blob-code js-file-line">    {</td>
      </tr>
      <tr>
        <td id="L1070" class="blob-num js-line-number" data-line-number="1070"></td>
        <td id="LC1070" class="blob-code js-file-line">     &quot;cell_type&quot;: &quot;code&quot;,</td>
      </tr>
      <tr>
        <td id="L1071" class="blob-num js-line-number" data-line-number="1071"></td>
        <td id="LC1071" class="blob-code js-file-line">     &quot;collapsed&quot;: false,</td>
      </tr>
      <tr>
        <td id="L1072" class="blob-num js-line-number" data-line-number="1072"></td>
        <td id="LC1072" class="blob-code js-file-line">     &quot;input&quot;: [</td>
      </tr>
      <tr>
        <td id="L1073" class="blob-num js-line-number" data-line-number="1073"></td>
        <td id="LC1073" class="blob-code js-file-line">      &quot;count_nonzero(olympics.Old)&quot;</td>
      </tr>
      <tr>
        <td id="L1074" class="blob-num js-line-number" data-line-number="1074"></td>
        <td id="LC1074" class="blob-code js-file-line">     ],</td>
      </tr>
      <tr>
        <td id="L1075" class="blob-num js-line-number" data-line-number="1075"></td>
        <td id="LC1075" class="blob-code js-file-line">     &quot;language&quot;: &quot;python&quot;,</td>
      </tr>
      <tr>
        <td id="L1076" class="blob-num js-line-number" data-line-number="1076"></td>
        <td id="LC1076" class="blob-code js-file-line">     &quot;metadata&quot;: {},</td>
      </tr>
      <tr>
        <td id="L1077" class="blob-num js-line-number" data-line-number="1077"></td>
        <td id="LC1077" class="blob-code js-file-line">     &quot;outputs&quot;: [</td>
      </tr>
      <tr>
        <td id="L1078" class="blob-num js-line-number" data-line-number="1078"></td>
        <td id="LC1078" class="blob-code js-file-line">      {</td>
      </tr>
      <tr>
        <td id="L1079" class="blob-num js-line-number" data-line-number="1079"></td>
        <td id="LC1079" class="blob-code js-file-line">       &quot;metadata&quot;: {},</td>
      </tr>
      <tr>
        <td id="L1080" class="blob-num js-line-number" data-line-number="1080"></td>
        <td id="LC1080" class="blob-code js-file-line">       &quot;output_type&quot;: &quot;pyout&quot;,</td>
      </tr>
      <tr>
        <td id="L1081" class="blob-num js-line-number" data-line-number="1081"></td>
        <td id="LC1081" class="blob-code js-file-line">       &quot;prompt_number&quot;: 126,</td>
      </tr>
      <tr>
        <td id="L1082" class="blob-num js-line-number" data-line-number="1082"></td>
        <td id="LC1082" class="blob-code js-file-line">       &quot;text&quot;: [</td>
      </tr>
      <tr>
        <td id="L1083" class="blob-num js-line-number" data-line-number="1083"></td>
        <td id="LC1083" class="blob-code js-file-line">        &quot;3881&quot;</td>
      </tr>
      <tr>
        <td id="L1084" class="blob-num js-line-number" data-line-number="1084"></td>
        <td id="LC1084" class="blob-code js-file-line">       ]</td>
      </tr>
      <tr>
        <td id="L1085" class="blob-num js-line-number" data-line-number="1085"></td>
        <td id="LC1085" class="blob-code js-file-line">      }</td>
      </tr>
      <tr>
        <td id="L1086" class="blob-num js-line-number" data-line-number="1086"></td>
        <td id="LC1086" class="blob-code js-file-line">     ],</td>
      </tr>
      <tr>
        <td id="L1087" class="blob-num js-line-number" data-line-number="1087"></td>
        <td id="LC1087" class="blob-code js-file-line">     &quot;prompt_number&quot;: 126</td>
      </tr>
      <tr>
        <td id="L1088" class="blob-num js-line-number" data-line-number="1088"></td>
        <td id="LC1088" class="blob-code js-file-line">    },</td>
      </tr>
      <tr>
        <td id="L1089" class="blob-num js-line-number" data-line-number="1089"></td>
        <td id="LC1089" class="blob-code js-file-line">    {</td>
      </tr>
      <tr>
        <td id="L1090" class="blob-num js-line-number" data-line-number="1090"></td>
        <td id="LC1090" class="blob-code js-file-line">     &quot;cell_type&quot;: &quot;markdown&quot;,</td>
      </tr>
      <tr>
        <td id="L1091" class="blob-num js-line-number" data-line-number="1091"></td>
        <td id="LC1091" class="blob-code js-file-line">     &quot;metadata&quot;: {},</td>
      </tr>
      <tr>
        <td id="L1092" class="blob-num js-line-number" data-line-number="1092"></td>
        <td id="LC1092" class="blob-code js-file-line">     &quot;source&quot;: [</td>
      </tr>
      <tr>
        <td id="L1093" class="blob-num js-line-number" data-line-number="1093"></td>
        <td id="LC1093" class="blob-code js-file-line">      &quot;#### Here we see that there are 3,881 \&quot;Old\&quot; Athletes out of 8,618 total (45%)&quot;</td>
      </tr>
      <tr>
        <td id="L1094" class="blob-num js-line-number" data-line-number="1094"></td>
        <td id="LC1094" class="blob-code js-file-line">     ]</td>
      </tr>
      <tr>
        <td id="L1095" class="blob-num js-line-number" data-line-number="1095"></td>
        <td id="LC1095" class="blob-code js-file-line">    },</td>
      </tr>
      <tr>
        <td id="L1096" class="blob-num js-line-number" data-line-number="1096"></td>
        <td id="LC1096" class="blob-code js-file-line">    {</td>
      </tr>
      <tr>
        <td id="L1097" class="blob-num js-line-number" data-line-number="1097"></td>
        <td id="LC1097" class="blob-code js-file-line">     &quot;cell_type&quot;: &quot;markdown&quot;,</td>
      </tr>
      <tr>
        <td id="L1098" class="blob-num js-line-number" data-line-number="1098"></td>
        <td id="LC1098" class="blob-code js-file-line">     &quot;metadata&quot;: {},</td>
      </tr>
      <tr>
        <td id="L1099" class="blob-num js-line-number" data-line-number="1099"></td>
        <td id="LC1099" class="blob-code js-file-line">     &quot;source&quot;: [</td>
      </tr>
      <tr>
        <td id="L1100" class="blob-num js-line-number" data-line-number="1100"></td>
        <td id="LC1100" class="blob-code js-file-line">      &quot;# Visualize the medals won by the Top 5 countries using a Bar Chart&quot;</td>
      </tr>
      <tr>
        <td id="L1101" class="blob-num js-line-number" data-line-number="1101"></td>
        <td id="LC1101" class="blob-code js-file-line">     ]</td>
      </tr>
      <tr>
        <td id="L1102" class="blob-num js-line-number" data-line-number="1102"></td>
        <td id="LC1102" class="blob-code js-file-line">    },</td>
      </tr>
      <tr>
        <td id="L1103" class="blob-num js-line-number" data-line-number="1103"></td>
        <td id="LC1103" class="blob-code js-file-line">    {</td>
      </tr>
      <tr>
        <td id="L1104" class="blob-num js-line-number" data-line-number="1104"></td>
        <td id="LC1104" class="blob-code js-file-line">     &quot;cell_type&quot;: &quot;markdown&quot;,</td>
      </tr>
      <tr>
        <td id="L1105" class="blob-num js-line-number" data-line-number="1105"></td>
        <td id="LC1105" class="blob-code js-file-line">     &quot;metadata&quot;: {},</td>
      </tr>
      <tr>
        <td id="L1106" class="blob-num js-line-number" data-line-number="1106"></td>
        <td id="LC1106" class="blob-code js-file-line">     &quot;source&quot;: [</td>
      </tr>
      <tr>
        <td id="L1107" class="blob-num js-line-number" data-line-number="1107"></td>
        <td id="LC1107" class="blob-code js-file-line">      &quot;#### Differentiating between those athletes that are younger than the mean age, and those older than the mean age&quot;</td>
      </tr>
      <tr>
        <td id="L1108" class="blob-num js-line-number" data-line-number="1108"></td>
        <td id="LC1108" class="blob-code js-file-line">     ]</td>
      </tr>
      <tr>
        <td id="L1109" class="blob-num js-line-number" data-line-number="1109"></td>
        <td id="LC1109" class="blob-code js-file-line">    },</td>
      </tr>
      <tr>
        <td id="L1110" class="blob-num js-line-number" data-line-number="1110"></td>
        <td id="LC1110" class="blob-code js-file-line">    {</td>
      </tr>
      <tr>
        <td id="L1111" class="blob-num js-line-number" data-line-number="1111"></td>
        <td id="LC1111" class="blob-code js-file-line">     &quot;cell_type&quot;: &quot;code&quot;,</td>
      </tr>
      <tr>
        <td id="L1112" class="blob-num js-line-number" data-line-number="1112"></td>
        <td id="LC1112" class="blob-code js-file-line">     &quot;collapsed&quot;: false,</td>
      </tr>
      <tr>
        <td id="L1113" class="blob-num js-line-number" data-line-number="1113"></td>
        <td id="LC1113" class="blob-code js-file-line">     &quot;input&quot;: [</td>
      </tr>
      <tr>
        <td id="L1114" class="blob-num js-line-number" data-line-number="1114"></td>
        <td id="LC1114" class="blob-code js-file-line">      &quot;# get a set of booleans for all the different medals \n&quot;,</td>
      </tr>
      <tr>
        <td id="L1115" class="blob-num js-line-number" data-line-number="1115"></td>
        <td id="LC1115" class="blob-code js-file-line">      &quot;bronze = olympics[&#39;Bronze&#39;] &gt;= 1\n&quot;,</td>
      </tr>
      <tr>
        <td id="L1116" class="blob-num js-line-number" data-line-number="1116"></td>
        <td id="LC1116" class="blob-code js-file-line">      &quot;silver = olympics[&#39;Silver&#39;] &gt;= 1\n&quot;,</td>
      </tr>
      <tr>
        <td id="L1117" class="blob-num js-line-number" data-line-number="1117"></td>
        <td id="LC1117" class="blob-code js-file-line">      &quot;gold   = olympics[&#39;Gold&#39;]   &gt;= 1\n&quot;,</td>
      </tr>
      <tr>
        <td id="L1118" class="blob-num js-line-number" data-line-number="1118"></td>
        <td id="LC1118" class="blob-code js-file-line">      &quot;\n&quot;,</td>
      </tr>
      <tr>
        <td id="L1119" class="blob-num js-line-number" data-line-number="1119"></td>
        <td id="LC1119" class="blob-code js-file-line">      &quot;# get a set of booleans for the two age groups\n&quot;,</td>
      </tr>
      <tr>
        <td id="L1120" class="blob-num js-line-number" data-line-number="1120"></td>
        <td id="LC1120" class="blob-code js-file-line">      &quot;old = olympics[&#39;Old&#39;] == True\n&quot;,</td>
      </tr>
      <tr>
        <td id="L1121" class="blob-num js-line-number" data-line-number="1121"></td>
        <td id="LC1121" class="blob-code js-file-line">      &quot;young = olympics[&#39;Old&#39;] == False\n&quot;,</td>
      </tr>
      <tr>
        <td id="L1122" class="blob-num js-line-number" data-line-number="1122"></td>
        <td id="LC1122" class="blob-code js-file-line">      &quot;\n&quot;,</td>
      </tr>
      <tr>
        <td id="L1123" class="blob-num js-line-number" data-line-number="1123"></td>
        <td id="LC1123" class="blob-code js-file-line">      &quot;# get a set booleans for all the countrys in question\n&quot;,</td>
      </tr>
      <tr>
        <td id="L1124" class="blob-num js-line-number" data-line-number="1124"></td>
        <td id="LC1124" class="blob-code js-file-line">      &quot;usa          = olympics.Country == \&quot;United States\&quot;\n&quot;,</td>
      </tr>
      <tr>
        <td id="L1125" class="blob-num js-line-number" data-line-number="1125"></td>
        <td id="LC1125" class="blob-code js-file-line">      &quot;russia       = olympics.Country == \&quot;Russia\&quot;\n&quot;,</td>
      </tr>
      <tr>
        <td id="L1126" class="blob-num js-line-number" data-line-number="1126"></td>
        <td id="LC1126" class="blob-code js-file-line">      &quot;germany      = olympics.Country == \&quot;China\&quot;\n&quot;,</td>
      </tr>
      <tr>
        <td id="L1127" class="blob-num js-line-number" data-line-number="1127"></td>
        <td id="LC1127" class="blob-code js-file-line">      &quot;australia    = olympics.Country == \&quot;Australia\&quot;\n&quot;,</td>
      </tr>
      <tr>
        <td id="L1128" class="blob-num js-line-number" data-line-number="1128"></td>
        <td id="LC1128" class="blob-code js-file-line">      &quot;china        = olympics.Country == \&quot;Germany\&quot;\n&quot;,</td>
      </tr>
      <tr>
        <td id="L1129" class="blob-num js-line-number" data-line-number="1129"></td>
        <td id="LC1129" class="blob-code js-file-line">      &quot;\n&quot;,</td>
      </tr>
      <tr>
        <td id="L1130" class="blob-num js-line-number" data-line-number="1130"></td>
        <td id="LC1130" class="blob-code js-file-line">      &quot;#--------------------- Old Age Group --------------------------#\n&quot;,</td>
      </tr>
      <tr>
        <td id="L1131" class="blob-num js-line-number" data-line-number="1131"></td>
        <td id="LC1131" class="blob-code js-file-line">      &quot;# get counts for each countries bronze medals for the OLD group\n&quot;,</td>
      </tr>
      <tr>
        <td id="L1132" class="blob-num js-line-number" data-line-number="1132"></td>
        <td id="LC1132" class="blob-code js-file-line">      &quot;usaBronzeOld          = len(olympics[usa &amp; bronze &amp; old])\n&quot;,</td>
      </tr>
      <tr>
        <td id="L1133" class="blob-num js-line-number" data-line-number="1133"></td>
        <td id="LC1133" class="blob-code js-file-line">      &quot;russiaBronzeOld       = len(olympics[russia &amp; bronze &amp; old])\n&quot;,</td>
      </tr>
      <tr>
        <td id="L1134" class="blob-num js-line-number" data-line-number="1134"></td>
        <td id="LC1134" class="blob-code js-file-line">      &quot;germanyBronzeOld      = len(olympics[germany &amp; bronze &amp; old])\n&quot;,</td>
      </tr>
      <tr>
        <td id="L1135" class="blob-num js-line-number" data-line-number="1135"></td>
        <td id="LC1135" class="blob-code js-file-line">      &quot;australiaBronzeOld    = len(olympics[australia &amp; bronze &amp; old])\n&quot;,</td>
      </tr>
      <tr>
        <td id="L1136" class="blob-num js-line-number" data-line-number="1136"></td>
        <td id="LC1136" class="blob-code js-file-line">      &quot;chinaBronzeOld        = len(olympics[china &amp; bronze &amp; old])\n&quot;,</td>
      </tr>
      <tr>
        <td id="L1137" class="blob-num js-line-number" data-line-number="1137"></td>
        <td id="LC1137" class="blob-code js-file-line">      &quot;\n&quot;,</td>
      </tr>
      <tr>
        <td id="L1138" class="blob-num js-line-number" data-line-number="1138"></td>
        <td id="LC1138" class="blob-code js-file-line">      &quot;# get counts for each countries silver medals for the OLD group\n&quot;,</td>
      </tr>
      <tr>
        <td id="L1139" class="blob-num js-line-number" data-line-number="1139"></td>
        <td id="LC1139" class="blob-code js-file-line">      &quot;usaSilverOld          = len(olympics[usa &amp; silver &amp; old])\n&quot;,</td>
      </tr>
      <tr>
        <td id="L1140" class="blob-num js-line-number" data-line-number="1140"></td>
        <td id="LC1140" class="blob-code js-file-line">      &quot;russiaSilverOld       = len(olympics[russia &amp; silver &amp; old])\n&quot;,</td>
      </tr>
      <tr>
        <td id="L1141" class="blob-num js-line-number" data-line-number="1141"></td>
        <td id="LC1141" class="blob-code js-file-line">      &quot;germanySilverOld      = len(olympics[germany &amp; silver &amp; old])\n&quot;,</td>
      </tr>
      <tr>
        <td id="L1142" class="blob-num js-line-number" data-line-number="1142"></td>
        <td id="LC1142" class="blob-code js-file-line">      &quot;australiaSilverOld    = len(olympics[australia &amp; silver &amp; old])\n&quot;,</td>
      </tr>
      <tr>
        <td id="L1143" class="blob-num js-line-number" data-line-number="1143"></td>
        <td id="LC1143" class="blob-code js-file-line">      &quot;chinaSilverOld        = len(olympics[china &amp; silver &amp; old])\n&quot;,</td>
      </tr>
      <tr>
        <td id="L1144" class="blob-num js-line-number" data-line-number="1144"></td>
        <td id="LC1144" class="blob-code js-file-line">      &quot;\n&quot;,</td>
      </tr>
      <tr>
        <td id="L1145" class="blob-num js-line-number" data-line-number="1145"></td>
        <td id="LC1145" class="blob-code js-file-line">      &quot;# get counts for each countries gold medals for the OLD group\n&quot;,</td>
      </tr>
      <tr>
        <td id="L1146" class="blob-num js-line-number" data-line-number="1146"></td>
        <td id="LC1146" class="blob-code js-file-line">      &quot;usaGoldOld            = len(olympics[usa &amp; gold &amp; old])\n&quot;,</td>
      </tr>
      <tr>
        <td id="L1147" class="blob-num js-line-number" data-line-number="1147"></td>
        <td id="LC1147" class="blob-code js-file-line">      &quot;russiaGoldOld         = len(olympics[russia &amp; gold &amp; old])\n&quot;,</td>
      </tr>
      <tr>
        <td id="L1148" class="blob-num js-line-number" data-line-number="1148"></td>
        <td id="LC1148" class="blob-code js-file-line">      &quot;germanyGoldOld        = len(olympics[germany &amp; gold &amp; old])\n&quot;,</td>
      </tr>
      <tr>
        <td id="L1149" class="blob-num js-line-number" data-line-number="1149"></td>
        <td id="LC1149" class="blob-code js-file-line">      &quot;australiaGoldOld      = len(olympics[australia &amp; gold &amp; old])\n&quot;,</td>
      </tr>
      <tr>
        <td id="L1150" class="blob-num js-line-number" data-line-number="1150"></td>
        <td id="LC1150" class="blob-code js-file-line">      &quot;chinaGoldOld          = len(olympics[china &amp; gold &amp; old])\n&quot;,</td>
      </tr>
      <tr>
        <td id="L1151" class="blob-num js-line-number" data-line-number="1151"></td>
        <td id="LC1151" class="blob-code js-file-line">      &quot;\n&quot;,</td>
      </tr>
      <tr>
        <td id="L1152" class="blob-num js-line-number" data-line-number="1152"></td>
        <td id="LC1152" class="blob-code js-file-line">      &quot;# create a dictionary &lt;K, V&gt; &#39;Country Name&#39; : Number of Medals for the OLD group\n&quot;,</td>
      </tr>
      <tr>
        <td id="L1153" class="blob-num js-line-number" data-line-number="1153"></td>
        <td id="LC1153" class="blob-code js-file-line">      &quot;bronzeCountriesOld = {&#39;USA&#39; : usaBronzeOld, &#39;Russia&#39;: russiaBronzeOld, &#39;Germany&#39;: germanyBronzeOld, \n&quot;,</td>
      </tr>
      <tr>
        <td id="L1154" class="blob-num js-line-number" data-line-number="1154"></td>
        <td id="LC1154" class="blob-code js-file-line">      &quot;                   &#39;Australia&#39;: australiaBronzeOld, &#39;China&#39;: chinaBronzeOld}\n&quot;,</td>
      </tr>
      <tr>
        <td id="L1155" class="blob-num js-line-number" data-line-number="1155"></td>
        <td id="LC1155" class="blob-code js-file-line">      &quot;\n&quot;,</td>
      </tr>
      <tr>
        <td id="L1156" class="blob-num js-line-number" data-line-number="1156"></td>
        <td id="LC1156" class="blob-code js-file-line">      &quot;silverCountriesOld = {&#39;USA&#39; : usaSilverOld, &#39;Russia&#39;: russiaSilverOld, &#39;Germany&#39;: germanySilverOld, \n&quot;,</td>
      </tr>
      <tr>
        <td id="L1157" class="blob-num js-line-number" data-line-number="1157"></td>
        <td id="LC1157" class="blob-code js-file-line">      &quot;                   &#39;Australia&#39;: australiaSilverOld, &#39;China&#39;: chinaSilverOld}\n&quot;,</td>
      </tr>
      <tr>
        <td id="L1158" class="blob-num js-line-number" data-line-number="1158"></td>
        <td id="LC1158" class="blob-code js-file-line">      &quot;\n&quot;,</td>
      </tr>
      <tr>
        <td id="L1159" class="blob-num js-line-number" data-line-number="1159"></td>
        <td id="LC1159" class="blob-code js-file-line">      &quot;goldCountriesOld   = {&#39;USA&#39; : usaGoldOld, &#39;Russia&#39;: russiaGoldOld, &#39;Germany&#39;: germanyGoldOld, \n&quot;,</td>
      </tr>
      <tr>
        <td id="L1160" class="blob-num js-line-number" data-line-number="1160"></td>
        <td id="LC1160" class="blob-code js-file-line">      &quot;                   &#39;Australia&#39;: australiaGoldOld, &#39;China&#39;: chinaGoldOld}\n&quot;,</td>
      </tr>
      <tr>
        <td id="L1161" class="blob-num js-line-number" data-line-number="1161"></td>
        <td id="LC1161" class="blob-code js-file-line">      &quot;\n&quot;,</td>
      </tr>
      <tr>
        <td id="L1162" class="blob-num js-line-number" data-line-number="1162"></td>
        <td id="LC1162" class="blob-code js-file-line">      &quot;# build a pandas DataFrame for the OLD group\n&quot;,</td>
      </tr>
      <tr>
        <td id="L1163" class="blob-num js-line-number" data-line-number="1163"></td>
        <td id="LC1163" class="blob-code js-file-line">      &quot;countryOldDF = pd.DataFrame.from_dict([bronzeCountriesOld, silverCountriesOld, goldCountriesOld])\n&quot;,</td>
      </tr>
      <tr>
        <td id="L1164" class="blob-num js-line-number" data-line-number="1164"></td>
        <td id="LC1164" class="blob-code js-file-line">      &quot;countryOldDF = pd.DataFrame(countryOldDF.transpose())\n&quot;,</td>
      </tr>
      <tr>
        <td id="L1165" class="blob-num js-line-number" data-line-number="1165"></td>
        <td id="LC1165" class="blob-code js-file-line">      &quot;countryOldDF.columns = [&#39;Bronze&#39;, &#39;Silver&#39;, &#39;Gold&#39;]\n&quot;,</td>
      </tr>
      <tr>
        <td id="L1166" class="blob-num js-line-number" data-line-number="1166"></td>
        <td id="LC1166" class="blob-code js-file-line">      &quot;\n&quot;,</td>
      </tr>
      <tr>
        <td id="L1167" class="blob-num js-line-number" data-line-number="1167"></td>
        <td id="LC1167" class="blob-code js-file-line">      &quot;\n&quot;,</td>
      </tr>
      <tr>
        <td id="L1168" class="blob-num js-line-number" data-line-number="1168"></td>
        <td id="LC1168" class="blob-code js-file-line">      &quot;#---------------------- Young Age Group ------------------------#\n&quot;,</td>
      </tr>
      <tr>
        <td id="L1169" class="blob-num js-line-number" data-line-number="1169"></td>
        <td id="LC1169" class="blob-code js-file-line">      &quot;# get counts for each countries bronze medals for the Young group\n&quot;,</td>
      </tr>
      <tr>
        <td id="L1170" class="blob-num js-line-number" data-line-number="1170"></td>
        <td id="LC1170" class="blob-code js-file-line">      &quot;usaBronzeYoung          = len(olympics[usa &amp; bronze &amp; young])\n&quot;,</td>
      </tr>
      <tr>
        <td id="L1171" class="blob-num js-line-number" data-line-number="1171"></td>
        <td id="LC1171" class="blob-code js-file-line">      &quot;russiaBronzeYoung       = len(olympics[russia &amp; bronze &amp; young])\n&quot;,</td>
      </tr>
      <tr>
        <td id="L1172" class="blob-num js-line-number" data-line-number="1172"></td>
        <td id="LC1172" class="blob-code js-file-line">      &quot;germanyBronzeYoung      = len(olympics[germany &amp; bronze &amp; young])\n&quot;,</td>
      </tr>
      <tr>
        <td id="L1173" class="blob-num js-line-number" data-line-number="1173"></td>
        <td id="LC1173" class="blob-code js-file-line">      &quot;australiaBronzeYoung    = len(olympics[australia &amp; bronze &amp; young])\n&quot;,</td>
      </tr>
      <tr>
        <td id="L1174" class="blob-num js-line-number" data-line-number="1174"></td>
        <td id="LC1174" class="blob-code js-file-line">      &quot;chinaBronzeYoung        = len(olympics[china &amp; bronze &amp; young])\n&quot;,</td>
      </tr>
      <tr>
        <td id="L1175" class="blob-num js-line-number" data-line-number="1175"></td>
        <td id="LC1175" class="blob-code js-file-line">      &quot;\n&quot;,</td>
      </tr>
      <tr>
        <td id="L1176" class="blob-num js-line-number" data-line-number="1176"></td>
        <td id="LC1176" class="blob-code js-file-line">      &quot;# get counts for each countries silver medals for the Young group\n&quot;,</td>
      </tr>
      <tr>
        <td id="L1177" class="blob-num js-line-number" data-line-number="1177"></td>
        <td id="LC1177" class="blob-code js-file-line">      &quot;usaSilverYoung          = len(olympics[usa &amp; silver &amp; young])\n&quot;,</td>
      </tr>
      <tr>
        <td id="L1178" class="blob-num js-line-number" data-line-number="1178"></td>
        <td id="LC1178" class="blob-code js-file-line">      &quot;russiaSilverYoung       = len(olympics[russia &amp; silver &amp; young])\n&quot;,</td>
      </tr>
      <tr>
        <td id="L1179" class="blob-num js-line-number" data-line-number="1179"></td>
        <td id="LC1179" class="blob-code js-file-line">      &quot;germanySilverYoung      = len(olympics[germany &amp; silver &amp; young])\n&quot;,</td>
      </tr>
      <tr>
        <td id="L1180" class="blob-num js-line-number" data-line-number="1180"></td>
        <td id="LC1180" class="blob-code js-file-line">      &quot;australiaSilverYoung    = len(olympics[australia &amp; silver &amp; young])\n&quot;,</td>
      </tr>
      <tr>
        <td id="L1181" class="blob-num js-line-number" data-line-number="1181"></td>
        <td id="LC1181" class="blob-code js-file-line">      &quot;chinaSilverYoung        = len(olympics[china &amp; silver &amp; young])\n&quot;,</td>
      </tr>
      <tr>
        <td id="L1182" class="blob-num js-line-number" data-line-number="1182"></td>
        <td id="LC1182" class="blob-code js-file-line">      &quot;\n&quot;,</td>
      </tr>
      <tr>
        <td id="L1183" class="blob-num js-line-number" data-line-number="1183"></td>
        <td id="LC1183" class="blob-code js-file-line">      &quot;# get counts for each countries gold medals for the Young group\n&quot;,</td>
      </tr>
      <tr>
        <td id="L1184" class="blob-num js-line-number" data-line-number="1184"></td>
        <td id="LC1184" class="blob-code js-file-line">      &quot;usaGoldYoung            = len(olympics[usa &amp; gold &amp; young])\n&quot;,</td>
      </tr>
      <tr>
        <td id="L1185" class="blob-num js-line-number" data-line-number="1185"></td>
        <td id="LC1185" class="blob-code js-file-line">      &quot;russiaGoldYoung         = len(olympics[russia &amp; gold &amp; young])\n&quot;,</td>
      </tr>
      <tr>
        <td id="L1186" class="blob-num js-line-number" data-line-number="1186"></td>
        <td id="LC1186" class="blob-code js-file-line">      &quot;germanyGoldYoung        = len(olympics[germany &amp; gold &amp; young])\n&quot;,</td>
      </tr>
      <tr>
        <td id="L1187" class="blob-num js-line-number" data-line-number="1187"></td>
        <td id="LC1187" class="blob-code js-file-line">      &quot;australiaGoldYoung      = len(olympics[australia &amp; gold &amp; young])\n&quot;,</td>
      </tr>
      <tr>
        <td id="L1188" class="blob-num js-line-number" data-line-number="1188"></td>
        <td id="LC1188" class="blob-code js-file-line">      &quot;chinaGoldYoung          = len(olympics[china &amp; gold &amp; young])\n&quot;,</td>
      </tr>
      <tr>
        <td id="L1189" class="blob-num js-line-number" data-line-number="1189"></td>
        <td id="LC1189" class="blob-code js-file-line">      &quot;\n&quot;,</td>
      </tr>
      <tr>
        <td id="L1190" class="blob-num js-line-number" data-line-number="1190"></td>
        <td id="LC1190" class="blob-code js-file-line">      &quot;# create a dictionary &lt;K, V&gt; &#39;Country Name&#39; : Number of Medals for the YOUNG group\n&quot;,</td>
      </tr>
      <tr>
        <td id="L1191" class="blob-num js-line-number" data-line-number="1191"></td>
        <td id="LC1191" class="blob-code js-file-line">      &quot;bronzeCountriesYoung = {&#39;USA&#39; : usaBronzeYoung, &#39;Russia&#39;: russiaBronzeYoung, &#39;Germany&#39;: germanyBronzeYoung, \n&quot;,</td>
      </tr>
      <tr>
        <td id="L1192" class="blob-num js-line-number" data-line-number="1192"></td>
        <td id="LC1192" class="blob-code js-file-line">      &quot;                   &#39;Australia&#39;: australiaBronzeYoung, &#39;China&#39;: chinaBronzeYoung}\n&quot;,</td>
      </tr>
      <tr>
        <td id="L1193" class="blob-num js-line-number" data-line-number="1193"></td>
        <td id="LC1193" class="blob-code js-file-line">      &quot;\n&quot;,</td>
      </tr>
      <tr>
        <td id="L1194" class="blob-num js-line-number" data-line-number="1194"></td>
        <td id="LC1194" class="blob-code js-file-line">      &quot;silverCountriesYoung = {&#39;USA&#39; : usaSilverYoung, &#39;Russia&#39;: russiaSilverYoung, &#39;Germany&#39;: germanySilverYoung, \n&quot;,</td>
      </tr>
      <tr>
        <td id="L1195" class="blob-num js-line-number" data-line-number="1195"></td>
        <td id="LC1195" class="blob-code js-file-line">      &quot;                   &#39;Australia&#39;: australiaSilverYoung, &#39;China&#39;: chinaSilverYoung}\n&quot;,</td>
      </tr>
      <tr>
        <td id="L1196" class="blob-num js-line-number" data-line-number="1196"></td>
        <td id="LC1196" class="blob-code js-file-line">      &quot;\n&quot;,</td>
      </tr>
      <tr>
        <td id="L1197" class="blob-num js-line-number" data-line-number="1197"></td>
        <td id="LC1197" class="blob-code js-file-line">      &quot;goldCountriesYoung   = {&#39;USA&#39; : usaGoldYoung, &#39;Russia&#39;: russiaGoldYoung, &#39;Germany&#39;: germanyGoldYoung, \n&quot;,</td>
      </tr>
      <tr>
        <td id="L1198" class="blob-num js-line-number" data-line-number="1198"></td>
        <td id="LC1198" class="blob-code js-file-line">      &quot;                   &#39;Australia&#39;: australiaGoldYoung, &#39;China&#39;: chinaGoldYoung}\n&quot;,</td>
      </tr>
      <tr>
        <td id="L1199" class="blob-num js-line-number" data-line-number="1199"></td>
        <td id="LC1199" class="blob-code js-file-line">      &quot;\n&quot;,</td>
      </tr>
      <tr>
        <td id="L1200" class="blob-num js-line-number" data-line-number="1200"></td>
        <td id="LC1200" class="blob-code js-file-line">      &quot;# build a pandas DataFrame for the YOUNG group\n&quot;,</td>
      </tr>
      <tr>
        <td id="L1201" class="blob-num js-line-number" data-line-number="1201"></td>
        <td id="LC1201" class="blob-code js-file-line">      &quot;countryYoungDF = pd.DataFrame.from_dict([bronzeCountriesYoung, silverCountriesYoung, goldCountriesYoung])\n&quot;,</td>
      </tr>
      <tr>
        <td id="L1202" class="blob-num js-line-number" data-line-number="1202"></td>
        <td id="LC1202" class="blob-code js-file-line">      &quot;countryYoungDF = pd.DataFrame(countryYoungDF.transpose())\n&quot;,</td>
      </tr>
      <tr>
        <td id="L1203" class="blob-num js-line-number" data-line-number="1203"></td>
        <td id="LC1203" class="blob-code js-file-line">      &quot;countryYoungDF.columns = [&#39;Bronze&#39;, &#39;Silver&#39;, &#39;Gold&#39;]\n&quot;,</td>
      </tr>
      <tr>
        <td id="L1204" class="blob-num js-line-number" data-line-number="1204"></td>
        <td id="LC1204" class="blob-code js-file-line">      &quot;\n&quot;,</td>
      </tr>
      <tr>
        <td id="L1205" class="blob-num js-line-number" data-line-number="1205"></td>
        <td id="LC1205" class="blob-code js-file-line">      &quot;# plot the OLD DataFrame as a bar chart comparing countries and their medal counts\n&quot;,</td>
      </tr>
      <tr>
        <td id="L1206" class="blob-num js-line-number" data-line-number="1206"></td>
        <td id="LC1206" class="blob-code js-file-line">      &quot;colors = [&#39;orange&#39;, &#39;silver&#39;, &#39;gold&#39;]    # Set the colors of the bars to match the medal colors\n&quot;,</td>
      </tr>
      <tr>
        <td id="L1207" class="blob-num js-line-number" data-line-number="1207"></td>
        <td id="LC1207" class="blob-code js-file-line">      &quot;countryOldDF.plot(kind=&#39;bar&#39;, title=\&quot;Total (OLD)\&quot;, color=colors, grid=False)\n&quot;,</td>
      </tr>
      <tr>
        <td id="L1208" class="blob-num js-line-number" data-line-number="1208"></td>
        <td id="LC1208" class="blob-code js-file-line">      &quot;\n&quot;,</td>
      </tr>
      <tr>
        <td id="L1209" class="blob-num js-line-number" data-line-number="1209"></td>
        <td id="LC1209" class="blob-code js-file-line">      &quot;# plot the YOUNG DataFrame as a bar chart comparing countries and their medal counts\n&quot;,</td>
      </tr>
      <tr>
        <td id="L1210" class="blob-num js-line-number" data-line-number="1210"></td>
        <td id="LC1210" class="blob-code js-file-line">      &quot;colors = [&#39;orange&#39;, &#39;silver&#39;, &#39;gold&#39;]    # Set the colors of the bars to match the medal colors\n&quot;,</td>
      </tr>
      <tr>
        <td id="L1211" class="blob-num js-line-number" data-line-number="1211"></td>
        <td id="LC1211" class="blob-code js-file-line">      &quot;countryYoungDF.plot(kind=&#39;bar&#39;, title=\&quot;Total (YOUNG)\&quot;, color=colors, grid=False)\n&quot;,</td>
      </tr>
      <tr>
        <td id="L1212" class="blob-num js-line-number" data-line-number="1212"></td>
        <td id="LC1212" class="blob-code js-file-line">      &quot;\n&quot;,</td>
      </tr>
      <tr>
        <td id="L1213" class="blob-num js-line-number" data-line-number="1213"></td>
        <td id="LC1213" class="blob-code js-file-line">      &quot;pl.show()&quot;</td>
      </tr>
      <tr>
        <td id="L1214" class="blob-num js-line-number" data-line-number="1214"></td>
        <td id="LC1214" class="blob-code js-file-line">     ],</td>
      </tr>
      <tr>
        <td id="L1215" class="blob-num js-line-number" data-line-number="1215"></td>
        <td id="LC1215" class="blob-code js-file-line">     &quot;language&quot;: &quot;python&quot;,</td>
      </tr>
      <tr>
        <td id="L1216" class="blob-num js-line-number" data-line-number="1216"></td>
        <td id="LC1216" class="blob-code js-file-line">     &quot;metadata&quot;: {},</td>
      </tr>
      <tr>
        <td id="L1217" class="blob-num js-line-number" data-line-number="1217"></td>
        <td id="LC1217" class="blob-code js-file-line">     &quot;outputs&quot;: [</td>
      </tr>
      <tr>
        <td id="L1218" class="blob-num js-line-number" data-line-number="1218"></td>
        <td id="LC1218" class="blob-code js-file-line">      {</td>
      </tr>
      <tr>
        <td id="L1219" class="blob-num js-line-number" data-line-number="1219"></td>
        <td id="LC1219" class="blob-code js-file-line">       &quot;metadata&quot;: {},</td>
      </tr>
      <tr>
        <td id="L1220" class="blob-num js-line-number" data-line-number="1220"></td>
        <td id="LC1220" class="blob-code js-file-line">       &quot;output_type&quot;: &quot;display_data&quot;,</td>
      </tr>
      <tr>
        <td id="L1221" class="blob-num js-line-number" data-line-number="1221"></td>
        <td id="LC1221" class="blob-code js-file-line">       &quot;png&quot;: &quot;iVBORw0KGgoAAAANSUhEUgAAAXIAAAEtCAYAAAAV/OsrAAAABHNCSVQICAgIfAhkiAAAAAlwSFlz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\nFXCyWSBLH6gAAAAASUVORK5CYII=\n&quot;,</td>
      </tr>
      <tr>
        <td id="L1222" class="blob-num js-line-number" data-line-number="1222"></td>
        <td id="LC1222" class="blob-code js-file-line">       &quot;text&quot;: [</td>
      </tr>
      <tr>
        <td id="L1223" class="blob-num js-line-number" data-line-number="1223"></td>
        <td id="LC1223" class="blob-code js-file-line">        &quot;&lt;matplotlib.figure.Figure at 0x10b96e1d0&gt;&quot;</td>
      </tr>
      <tr>
        <td id="L1224" class="blob-num js-line-number" data-line-number="1224"></td>
        <td id="LC1224" class="blob-code js-file-line">       ]</td>
      </tr>
      <tr>
        <td id="L1225" class="blob-num js-line-number" data-line-number="1225"></td>
        <td id="LC1225" class="blob-code js-file-line">      },</td>
      </tr>
      <tr>
        <td id="L1226" class="blob-num js-line-number" data-line-number="1226"></td>
        <td id="LC1226" class="blob-code js-file-line">      {</td>
      </tr>
      <tr>
        <td id="L1227" class="blob-num js-line-number" data-line-number="1227"></td>
        <td id="LC1227" class="blob-code js-file-line">       &quot;metadata&quot;: {},</td>
      </tr>
      <tr>
        <td id="L1228" class="blob-num js-line-number" data-line-number="1228"></td>
        <td id="LC1228" class="blob-code js-file-line">       &quot;output_type&quot;: &quot;display_data&quot;,</td>
      </tr>
      <tr>
        <td id="L1229" class="blob-num js-line-number" data-line-number="1229"></td>
        <td id="LC1229" class="blob-code js-file-line">       &quot;png&quot;: &quot;iVBORw0KGgoAAAANSUhEUgAAAXIAAAEtCAYAAAAV/OsrAAAABHNCSVQICAgIfAhkiAAAAAlwSFlz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\ny7n/BZNpPBgZrQHPAAAAAElFTkSuQmCC\n&quot;,</td>
      </tr>
      <tr>
        <td id="L1230" class="blob-num js-line-number" data-line-number="1230"></td>
        <td id="LC1230" class="blob-code js-file-line">       &quot;text&quot;: [</td>
      </tr>
      <tr>
        <td id="L1231" class="blob-num js-line-number" data-line-number="1231"></td>
        <td id="LC1231" class="blob-code js-file-line">        &quot;&lt;matplotlib.figure.Figure at 0x10b96e190&gt;&quot;</td>
      </tr>
      <tr>
        <td id="L1232" class="blob-num js-line-number" data-line-number="1232"></td>
        <td id="LC1232" class="blob-code js-file-line">       ]</td>
      </tr>
      <tr>
        <td id="L1233" class="blob-num js-line-number" data-line-number="1233"></td>
        <td id="LC1233" class="blob-code js-file-line">      }</td>
      </tr>
      <tr>
        <td id="L1234" class="blob-num js-line-number" data-line-number="1234"></td>
        <td id="LC1234" class="blob-code js-file-line">     ],</td>
      </tr>
      <tr>
        <td id="L1235" class="blob-num js-line-number" data-line-number="1235"></td>
        <td id="LC1235" class="blob-code js-file-line">     &quot;prompt_number&quot;: 127</td>
      </tr>
      <tr>
        <td id="L1236" class="blob-num js-line-number" data-line-number="1236"></td>
        <td id="LC1236" class="blob-code js-file-line">    },</td>
      </tr>
      <tr>
        <td id="L1237" class="blob-num js-line-number" data-line-number="1237"></td>
        <td id="LC1237" class="blob-code js-file-line">    {</td>
      </tr>
      <tr>
        <td id="L1238" class="blob-num js-line-number" data-line-number="1238"></td>
        <td id="LC1238" class="blob-code js-file-line">     &quot;cell_type&quot;: &quot;markdown&quot;,</td>
      </tr>
      <tr>
        <td id="L1239" class="blob-num js-line-number" data-line-number="1239"></td>
        <td id="LC1239" class="blob-code js-file-line">     &quot;metadata&quot;: {},</td>
      </tr>
      <tr>
        <td id="L1240" class="blob-num js-line-number" data-line-number="1240"></td>
        <td id="LC1240" class="blob-code js-file-line">     &quot;source&quot;: [</td>
      </tr>
      <tr>
        <td id="L1241" class="blob-num js-line-number" data-line-number="1241"></td>
        <td id="LC1241" class="blob-code js-file-line">      &quot;####  Visualize those same 6 countries and the relative number of medals won, using a \&quot;Horizontal Stacked Bar Chart\&quot;&quot;</td>
      </tr>
      <tr>
        <td id="L1242" class="blob-num js-line-number" data-line-number="1242"></td>
        <td id="LC1242" class="blob-code js-file-line">     ]</td>
      </tr>
      <tr>
        <td id="L1243" class="blob-num js-line-number" data-line-number="1243"></td>
        <td id="LC1243" class="blob-code js-file-line">    },</td>
      </tr>
      <tr>
        <td id="L1244" class="blob-num js-line-number" data-line-number="1244"></td>
        <td id="LC1244" class="blob-code js-file-line">    {</td>
      </tr>
      <tr>
        <td id="L1245" class="blob-num js-line-number" data-line-number="1245"></td>
        <td id="LC1245" class="blob-code js-file-line">     &quot;cell_type&quot;: &quot;code&quot;,</td>
      </tr>
      <tr>
        <td id="L1246" class="blob-num js-line-number" data-line-number="1246"></td>
        <td id="LC1246" class="blob-code js-file-line">     &quot;collapsed&quot;: false,</td>
      </tr>
      <tr>
        <td id="L1247" class="blob-num js-line-number" data-line-number="1247"></td>
        <td id="LC1247" class="blob-code js-file-line">     &quot;input&quot;: [</td>
      </tr>
      <tr>
        <td id="L1248" class="blob-num js-line-number" data-line-number="1248"></td>
        <td id="LC1248" class="blob-code js-file-line">      &quot;# get the relative values of the Country Medals Data Frame, summing to 1\n&quot;,</td>
      </tr>
      <tr>
        <td id="L1249" class="blob-num js-line-number" data-line-number="1249"></td>
        <td id="LC1249" class="blob-code js-file-line">      &quot;countryYoungRel = countryYoungDF.div(countryYoungDF.sum(1).astype(float), axis=0)\n&quot;,</td>
      </tr>
      <tr>
        <td id="L1250" class="blob-num js-line-number" data-line-number="1250"></td>
        <td id="LC1250" class="blob-code js-file-line">      &quot;countryOldRel   = countryOldDF.div(countryOldDF.sum(1).astype(float), axis=0)\n&quot;,</td>
      </tr>
      <tr>
        <td id="L1251" class="blob-num js-line-number" data-line-number="1251"></td>
        <td id="LC1251" class="blob-code js-file-line">      &quot;\n&quot;,</td>
      </tr>
      <tr>
        <td id="L1252" class="blob-num js-line-number" data-line-number="1252"></td>
        <td id="LC1252" class="blob-code js-file-line">      &quot;# plot the relative values of the Country Medals (YOUNG)as a bar chart\n&quot;,</td>
      </tr>
      <tr>
        <td id="L1253" class="blob-num js-line-number" data-line-number="1253"></td>
        <td id="LC1253" class="blob-code js-file-line">      &quot;colors = [&#39;orange&#39;, &#39;silver&#39;, &#39;gold&#39;]\n&quot;,</td>
      </tr>
      <tr>
        <td id="L1254" class="blob-num js-line-number" data-line-number="1254"></td>
        <td id="LC1254" class="blob-code js-file-line">      &quot;countryYoungRel.plot(kind=&#39;barh&#39;, stacked=True, title=\&quot;Total Medals (YOUNG): Relative\&quot;, color=colors, grid=False)\n&quot;,</td>
      </tr>
      <tr>
        <td id="L1255" class="blob-num js-line-number" data-line-number="1255"></td>
        <td id="LC1255" class="blob-code js-file-line">      &quot;\n&quot;,</td>
      </tr>
      <tr>
        <td id="L1256" class="blob-num js-line-number" data-line-number="1256"></td>
        <td id="LC1256" class="blob-code js-file-line">      &quot;# plot the relative values of the Country Medals (OLD)as a bar chart\n&quot;,</td>
      </tr>
      <tr>
        <td id="L1257" class="blob-num js-line-number" data-line-number="1257"></td>
        <td id="LC1257" class="blob-code js-file-line">      &quot;colors = [&#39;orange&#39;, &#39;silver&#39;, &#39;gold&#39;]\n&quot;,</td>
      </tr>
      <tr>
        <td id="L1258" class="blob-num js-line-number" data-line-number="1258"></td>
        <td id="LC1258" class="blob-code js-file-line">      &quot;countryOldRel.plot(kind=&#39;barh&#39;, stacked=True, title=\&quot;Total Medals (OLD): Relative\&quot;, color=colors, grid=False)\n&quot;,</td>
      </tr>
      <tr>
        <td id="L1259" class="blob-num js-line-number" data-line-number="1259"></td>
        <td id="LC1259" class="blob-code js-file-line">      &quot;\n&quot;,</td>
      </tr>
      <tr>
        <td id="L1260" class="blob-num js-line-number" data-line-number="1260"></td>
        <td id="LC1260" class="blob-code js-file-line">      &quot;pl.show()&quot;</td>
      </tr>
      <tr>
        <td id="L1261" class="blob-num js-line-number" data-line-number="1261"></td>
        <td id="LC1261" class="blob-code js-file-line">     ],</td>
      </tr>
      <tr>
        <td id="L1262" class="blob-num js-line-number" data-line-number="1262"></td>
        <td id="LC1262" class="blob-code js-file-line">     &quot;language&quot;: &quot;python&quot;,</td>
      </tr>
      <tr>
        <td id="L1263" class="blob-num js-line-number" data-line-number="1263"></td>
        <td id="LC1263" class="blob-code js-file-line">     &quot;metadata&quot;: {},</td>
      </tr>
      <tr>
        <td id="L1264" class="blob-num js-line-number" data-line-number="1264"></td>
        <td id="LC1264" class="blob-code js-file-line">     &quot;outputs&quot;: [</td>
      </tr>
      <tr>
        <td id="L1265" class="blob-num js-line-number" data-line-number="1265"></td>
        <td id="LC1265" class="blob-code js-file-line">      {</td>
      </tr>
      <tr>
        <td id="L1266" class="blob-num js-line-number" data-line-number="1266"></td>
        <td id="LC1266" class="blob-code js-file-line">       &quot;metadata&quot;: {},</td>
      </tr>
      <tr>
        <td id="L1267" class="blob-num js-line-number" data-line-number="1267"></td>
        <td id="LC1267" class="blob-code js-file-line">       &quot;output_type&quot;: &quot;display_data&quot;,</td>
      </tr>
      <tr>
        <td id="L1268" class="blob-num js-line-number" data-line-number="1268"></td>
        <td id="LC1268" class="blob-code js-file-line">       &quot;png&quot;: &quot;iVBORw0KGgoAAAANSUhEUgAAAZUAAAEKCAYAAADaa8itAAAABHNCSVQICAgIfAhkiAAAAAlwSFlz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\ngg==\n&quot;,</td>
      </tr>
      <tr>
        <td id="L1269" class="blob-num js-line-number" data-line-number="1269"></td>
        <td id="LC1269" class="blob-code js-file-line">       &quot;text&quot;: [</td>
      </tr>
      <tr>
        <td id="L1270" class="blob-num js-line-number" data-line-number="1270"></td>
        <td id="LC1270" class="blob-code js-file-line">        &quot;&lt;matplotlib.figure.Figure at 0x132612c10&gt;&quot;</td>
      </tr>
      <tr>
        <td id="L1271" class="blob-num js-line-number" data-line-number="1271"></td>
        <td id="LC1271" class="blob-code js-file-line">       ]</td>
      </tr>
      <tr>
        <td id="L1272" class="blob-num js-line-number" data-line-number="1272"></td>
        <td id="LC1272" class="blob-code js-file-line">      },</td>
      </tr>
      <tr>
        <td id="L1273" class="blob-num js-line-number" data-line-number="1273"></td>
        <td id="LC1273" class="blob-code js-file-line">      {</td>
      </tr>
      <tr>
        <td id="L1274" class="blob-num js-line-number" data-line-number="1274"></td>
        <td id="LC1274" class="blob-code js-file-line">       &quot;metadata&quot;: {},</td>
      </tr>
      <tr>
        <td id="L1275" class="blob-num js-line-number" data-line-number="1275"></td>
        <td id="LC1275" class="blob-code js-file-line">       &quot;output_type&quot;: &quot;display_data&quot;,</td>
      </tr>
      <tr>
        <td id="L1276" class="blob-num js-line-number" data-line-number="1276"></td>
        <td id="LC1276" class="blob-code js-file-line">       &quot;png&quot;: &quot;iVBORw0KGgoAAAANSUhEUgAAAZUAAAEKCAYAAADaa8itAAAABHNCSVQICAgIfAhkiAAAAAlwSFlz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\nzCwzDhUzM8vM/wfMY7lrf/76awAAAABJRU5ErkJggg==\n&quot;,</td>
      </tr>
      <tr>
        <td id="L1277" class="blob-num js-line-number" data-line-number="1277"></td>
        <td id="LC1277" class="blob-code js-file-line">       &quot;text&quot;: [</td>
      </tr>
      <tr>
        <td id="L1278" class="blob-num js-line-number" data-line-number="1278"></td>
        <td id="LC1278" class="blob-code js-file-line">        &quot;&lt;matplotlib.figure.Figure at 0x1325eddd0&gt;&quot;</td>
      </tr>
      <tr>
        <td id="L1279" class="blob-num js-line-number" data-line-number="1279"></td>
        <td id="LC1279" class="blob-code js-file-line">       ]</td>
      </tr>
      <tr>
        <td id="L1280" class="blob-num js-line-number" data-line-number="1280"></td>
        <td id="LC1280" class="blob-code js-file-line">      }</td>
      </tr>
      <tr>
        <td id="L1281" class="blob-num js-line-number" data-line-number="1281"></td>
        <td id="LC1281" class="blob-code js-file-line">     ],</td>
      </tr>
      <tr>
        <td id="L1282" class="blob-num js-line-number" data-line-number="1282"></td>
        <td id="LC1282" class="blob-code js-file-line">     &quot;prompt_number&quot;: 128</td>
      </tr>
      <tr>
        <td id="L1283" class="blob-num js-line-number" data-line-number="1283"></td>
        <td id="LC1283" class="blob-code js-file-line">    },</td>
      </tr>
      <tr>
        <td id="L1284" class="blob-num js-line-number" data-line-number="1284"></td>
        <td id="LC1284" class="blob-code js-file-line">    {</td>
      </tr>
      <tr>
        <td id="L1285" class="blob-num js-line-number" data-line-number="1285"></td>
        <td id="LC1285" class="blob-code js-file-line">     &quot;cell_type&quot;: &quot;markdown&quot;,</td>
      </tr>
      <tr>
        <td id="L1286" class="blob-num js-line-number" data-line-number="1286"></td>
        <td id="LC1286" class="blob-code js-file-line">     &quot;metadata&quot;: {},</td>
      </tr>
      <tr>
        <td id="L1287" class="blob-num js-line-number" data-line-number="1287"></td>
        <td id="LC1287" class="blob-code js-file-line">     &quot;source&quot;: [</td>
      </tr>
      <tr>
        <td id="L1288" class="blob-num js-line-number" data-line-number="1288"></td>
        <td id="LC1288" class="blob-code js-file-line">      &quot;# Implementation of Machine Learning Algorithms&quot;</td>
      </tr>
      <tr>
        <td id="L1289" class="blob-num js-line-number" data-line-number="1289"></td>
        <td id="LC1289" class="blob-code js-file-line">     ]</td>
      </tr>
      <tr>
        <td id="L1290" class="blob-num js-line-number" data-line-number="1290"></td>
        <td id="LC1290" class="blob-code js-file-line">    },</td>
      </tr>
      <tr>
        <td id="L1291" class="blob-num js-line-number" data-line-number="1291"></td>
        <td id="LC1291" class="blob-code js-file-line">    {</td>
      </tr>
      <tr>
        <td id="L1292" class="blob-num js-line-number" data-line-number="1292"></td>
        <td id="LC1292" class="blob-code js-file-line">     &quot;cell_type&quot;: &quot;markdown&quot;,</td>
      </tr>
      <tr>
        <td id="L1293" class="blob-num js-line-number" data-line-number="1293"></td>
        <td id="LC1293" class="blob-code js-file-line">     &quot;metadata&quot;: {},</td>
      </tr>
      <tr>
        <td id="L1294" class="blob-num js-line-number" data-line-number="1294"></td>
        <td id="LC1294" class="blob-code js-file-line">     &quot;source&quot;: [</td>
      </tr>
      <tr>
        <td id="L1295" class="blob-num js-line-number" data-line-number="1295"></td>
        <td id="LC1295" class="blob-code js-file-line">      &quot;### Import sklearn libraries&quot;</td>
      </tr>
      <tr>
        <td id="L1296" class="blob-num js-line-number" data-line-number="1296"></td>
        <td id="LC1296" class="blob-code js-file-line">     ]</td>
      </tr>
      <tr>
        <td id="L1297" class="blob-num js-line-number" data-line-number="1297"></td>
        <td id="LC1297" class="blob-code js-file-line">    },</td>
      </tr>
      <tr>
        <td id="L1298" class="blob-num js-line-number" data-line-number="1298"></td>
        <td id="LC1298" class="blob-code js-file-line">    {</td>
      </tr>
      <tr>
        <td id="L1299" class="blob-num js-line-number" data-line-number="1299"></td>
        <td id="LC1299" class="blob-code js-file-line">     &quot;cell_type&quot;: &quot;code&quot;,</td>
      </tr>
      <tr>
        <td id="L1300" class="blob-num js-line-number" data-line-number="1300"></td>
        <td id="LC1300" class="blob-code js-file-line">     &quot;collapsed&quot;: false,</td>
      </tr>
      <tr>
        <td id="L1301" class="blob-num js-line-number" data-line-number="1301"></td>
        <td id="LC1301" class="blob-code js-file-line">     &quot;input&quot;: [</td>
      </tr>
      <tr>
        <td id="L1302" class="blob-num js-line-number" data-line-number="1302"></td>
        <td id="LC1302" class="blob-code js-file-line">      &quot;import sklearn\n&quot;,</td>
      </tr>
      <tr>
        <td id="L1303" class="blob-num js-line-number" data-line-number="1303"></td>
        <td id="LC1303" class="blob-code js-file-line">      &quot;from sklearn import datasets \n&quot;,</td>
      </tr>
      <tr>
        <td id="L1304" class="blob-num js-line-number" data-line-number="1304"></td>
        <td id="LC1304" class="blob-code js-file-line">      &quot;from sklearn import metrics\n&quot;,</td>
      </tr>
      <tr>
        <td id="L1305" class="blob-num js-line-number" data-line-number="1305"></td>
        <td id="LC1305" class="blob-code js-file-line">      &quot;from sklearn.linear_model import LogisticRegression\n&quot;,</td>
      </tr>
      <tr>
        <td id="L1306" class="blob-num js-line-number" data-line-number="1306"></td>
        <td id="LC1306" class="blob-code js-file-line">      &quot;from sklearn.cross_validation import train_test_split\n&quot;,</td>
      </tr>
      <tr>
        <td id="L1307" class="blob-num js-line-number" data-line-number="1307"></td>
        <td id="LC1307" class="blob-code js-file-line">      &quot;from sklearn.preprocessing import StandardScaler\n&quot;,</td>
      </tr>
      <tr>
        <td id="L1308" class="blob-num js-line-number" data-line-number="1308"></td>
        <td id="LC1308" class="blob-code js-file-line">      &quot;from sklearn.linear_model import SGDClassifier&quot;</td>
      </tr>
      <tr>
        <td id="L1309" class="blob-num js-line-number" data-line-number="1309"></td>
        <td id="LC1309" class="blob-code js-file-line">     ],</td>
      </tr>
      <tr>
        <td id="L1310" class="blob-num js-line-number" data-line-number="1310"></td>
        <td id="LC1310" class="blob-code js-file-line">     &quot;language&quot;: &quot;python&quot;,</td>
      </tr>
      <tr>
        <td id="L1311" class="blob-num js-line-number" data-line-number="1311"></td>
        <td id="LC1311" class="blob-code js-file-line">     &quot;metadata&quot;: {},</td>
      </tr>
      <tr>
        <td id="L1312" class="blob-num js-line-number" data-line-number="1312"></td>
        <td id="LC1312" class="blob-code js-file-line">     &quot;outputs&quot;: [],</td>
      </tr>
      <tr>
        <td id="L1313" class="blob-num js-line-number" data-line-number="1313"></td>
        <td id="LC1313" class="blob-code js-file-line">     &quot;prompt_number&quot;: 129</td>
      </tr>
      <tr>
        <td id="L1314" class="blob-num js-line-number" data-line-number="1314"></td>
        <td id="LC1314" class="blob-code js-file-line">    },</td>
      </tr>
      <tr>
        <td id="L1315" class="blob-num js-line-number" data-line-number="1315"></td>
        <td id="LC1315" class="blob-code js-file-line">    {</td>
      </tr>
      <tr>
        <td id="L1316" class="blob-num js-line-number" data-line-number="1316"></td>
        <td id="LC1316" class="blob-code js-file-line">     &quot;cell_type&quot;: &quot;markdown&quot;,</td>
      </tr>
      <tr>
        <td id="L1317" class="blob-num js-line-number" data-line-number="1317"></td>
        <td id="LC1317" class="blob-code js-file-line">     &quot;metadata&quot;: {},</td>
      </tr>
      <tr>
        <td id="L1318" class="blob-num js-line-number" data-line-number="1318"></td>
        <td id="LC1318" class="blob-code js-file-line">     &quot;source&quot;: [</td>
      </tr>
      <tr>
        <td id="L1319" class="blob-num js-line-number" data-line-number="1319"></td>
        <td id="LC1319" class="blob-code js-file-line">      &quot;### Get relevant data and split it into X and y arrays &quot;</td>
      </tr>
      <tr>
        <td id="L1320" class="blob-num js-line-number" data-line-number="1320"></td>
        <td id="LC1320" class="blob-code js-file-line">     ]</td>
      </tr>
      <tr>
        <td id="L1321" class="blob-num js-line-number" data-line-number="1321"></td>
        <td id="LC1321" class="blob-code js-file-line">    },</td>
      </tr>
      <tr>
        <td id="L1322" class="blob-num js-line-number" data-line-number="1322"></td>
        <td id="LC1322" class="blob-code js-file-line">    {</td>
      </tr>
      <tr>
        <td id="L1323" class="blob-num js-line-number" data-line-number="1323"></td>
        <td id="LC1323" class="blob-code js-file-line">     &quot;cell_type&quot;: &quot;code&quot;,</td>
      </tr>
      <tr>
        <td id="L1324" class="blob-num js-line-number" data-line-number="1324"></td>
        <td id="LC1324" class="blob-code js-file-line">     &quot;collapsed&quot;: false,</td>
      </tr>
      <tr>
        <td id="L1325" class="blob-num js-line-number" data-line-number="1325"></td>
        <td id="LC1325" class="blob-code js-file-line">     &quot;input&quot;: [</td>
      </tr>
      <tr>
        <td id="L1326" class="blob-num js-line-number" data-line-number="1326"></td>
        <td id="LC1326" class="blob-code js-file-line">      &quot;X = array(olympics[[&#39;NewAthlete&#39;,&#39;Country&#39;, &#39;Year&#39;, &#39;Sport&#39;, &#39;Bronze&#39;, &#39;Silver&#39;, &#39;Gold&#39;, &#39;Total&#39;]])\n&quot;,</td>
      </tr>
      <tr>
        <td id="L1327" class="blob-num js-line-number" data-line-number="1327"></td>
        <td id="LC1327" class="blob-code js-file-line">      &quot;y = array(olympics[&#39;Old&#39;])&quot;</td>
      </tr>
      <tr>
        <td id="L1328" class="blob-num js-line-number" data-line-number="1328"></td>
        <td id="LC1328" class="blob-code js-file-line">     ],</td>
      </tr>
      <tr>
        <td id="L1329" class="blob-num js-line-number" data-line-number="1329"></td>
        <td id="LC1329" class="blob-code js-file-line">     &quot;language&quot;: &quot;python&quot;,</td>
      </tr>
      <tr>
        <td id="L1330" class="blob-num js-line-number" data-line-number="1330"></td>
        <td id="LC1330" class="blob-code js-file-line">     &quot;metadata&quot;: {},</td>
      </tr>
      <tr>
        <td id="L1331" class="blob-num js-line-number" data-line-number="1331"></td>
        <td id="LC1331" class="blob-code js-file-line">     &quot;outputs&quot;: [],</td>
      </tr>
      <tr>
        <td id="L1332" class="blob-num js-line-number" data-line-number="1332"></td>
        <td id="LC1332" class="blob-code js-file-line">     &quot;prompt_number&quot;: 130</td>
      </tr>
      <tr>
        <td id="L1333" class="blob-num js-line-number" data-line-number="1333"></td>
        <td id="LC1333" class="blob-code js-file-line">    },</td>
      </tr>
      <tr>
        <td id="L1334" class="blob-num js-line-number" data-line-number="1334"></td>
        <td id="LC1334" class="blob-code js-file-line">    {</td>
      </tr>
      <tr>
        <td id="L1335" class="blob-num js-line-number" data-line-number="1335"></td>
        <td id="LC1335" class="blob-code js-file-line">     &quot;cell_type&quot;: &quot;markdown&quot;,</td>
      </tr>
      <tr>
        <td id="L1336" class="blob-num js-line-number" data-line-number="1336"></td>
        <td id="LC1336" class="blob-code js-file-line">     &quot;metadata&quot;: {},</td>
      </tr>
      <tr>
        <td id="L1337" class="blob-num js-line-number" data-line-number="1337"></td>
        <td id="LC1337" class="blob-code js-file-line">     &quot;source&quot;: [</td>
      </tr>
      <tr>
        <td id="L1338" class="blob-num js-line-number" data-line-number="1338"></td>
        <td id="LC1338" class="blob-code js-file-line">      &quot;### Factorize the categorical variables &#39;NewAthlete&#39;, &#39;Country&#39; and &#39;Sports&#39;\n&quot;,</td>
      </tr>
      <tr>
        <td id="L1339" class="blob-num js-line-number" data-line-number="1339"></td>
        <td id="LC1339" class="blob-code js-file-line">      &quot;#### This gives us a set of 2-arrays, array[0] is an array of numerical values that are mapped the the categorical values in array[1]. The numerical values can then be used in the logistic regression model&quot;</td>
      </tr>
      <tr>
        <td id="L1340" class="blob-num js-line-number" data-line-number="1340"></td>
        <td id="LC1340" class="blob-code js-file-line">     ]</td>
      </tr>
      <tr>
        <td id="L1341" class="blob-num js-line-number" data-line-number="1341"></td>
        <td id="LC1341" class="blob-code js-file-line">    },</td>
      </tr>
      <tr>
        <td id="L1342" class="blob-num js-line-number" data-line-number="1342"></td>
        <td id="LC1342" class="blob-code js-file-line">    {</td>
      </tr>
      <tr>
        <td id="L1343" class="blob-num js-line-number" data-line-number="1343"></td>
        <td id="LC1343" class="blob-code js-file-line">     &quot;cell_type&quot;: &quot;code&quot;,</td>
      </tr>
      <tr>
        <td id="L1344" class="blob-num js-line-number" data-line-number="1344"></td>
        <td id="LC1344" class="blob-code js-file-line">     &quot;collapsed&quot;: false,</td>
      </tr>
      <tr>
        <td id="L1345" class="blob-num js-line-number" data-line-number="1345"></td>
        <td id="LC1345" class="blob-code js-file-line">     &quot;input&quot;: [</td>
      </tr>
      <tr>
        <td id="L1346" class="blob-num js-line-number" data-line-number="1346"></td>
        <td id="LC1346" class="blob-code js-file-line">      &quot;athlete_factors  = pd.factorize(olympics.NewAthlete)\n&quot;,</td>
      </tr>
      <tr>
        <td id="L1347" class="blob-num js-line-number" data-line-number="1347"></td>
        <td id="LC1347" class="blob-code js-file-line">      &quot;country_factors  = pd.factorize(olympics.Country)\n&quot;,</td>
      </tr>
      <tr>
        <td id="L1348" class="blob-num js-line-number" data-line-number="1348"></td>
        <td id="LC1348" class="blob-code js-file-line">      &quot;sport_factors    = pd.factorize(olympics.Sport) &quot;</td>
      </tr>
      <tr>
        <td id="L1349" class="blob-num js-line-number" data-line-number="1349"></td>
        <td id="LC1349" class="blob-code js-file-line">     ],</td>
      </tr>
      <tr>
        <td id="L1350" class="blob-num js-line-number" data-line-number="1350"></td>
        <td id="LC1350" class="blob-code js-file-line">     &quot;language&quot;: &quot;python&quot;,</td>
      </tr>
      <tr>
        <td id="L1351" class="blob-num js-line-number" data-line-number="1351"></td>
        <td id="LC1351" class="blob-code js-file-line">     &quot;metadata&quot;: {},</td>
      </tr>
      <tr>
        <td id="L1352" class="blob-num js-line-number" data-line-number="1352"></td>
        <td id="LC1352" class="blob-code js-file-line">     &quot;outputs&quot;: [],</td>
      </tr>
      <tr>
        <td id="L1353" class="blob-num js-line-number" data-line-number="1353"></td>
        <td id="LC1353" class="blob-code js-file-line">     &quot;prompt_number&quot;: 131</td>
      </tr>
      <tr>
        <td id="L1354" class="blob-num js-line-number" data-line-number="1354"></td>
        <td id="LC1354" class="blob-code js-file-line">    },</td>
      </tr>
      <tr>
        <td id="L1355" class="blob-num js-line-number" data-line-number="1355"></td>
        <td id="LC1355" class="blob-code js-file-line">    {</td>
      </tr>
      <tr>
        <td id="L1356" class="blob-num js-line-number" data-line-number="1356"></td>
        <td id="LC1356" class="blob-code js-file-line">     &quot;cell_type&quot;: &quot;markdown&quot;,</td>
      </tr>
      <tr>
        <td id="L1357" class="blob-num js-line-number" data-line-number="1357"></td>
        <td id="LC1357" class="blob-code js-file-line">     &quot;metadata&quot;: {},</td>
      </tr>
      <tr>
        <td id="L1358" class="blob-num js-line-number" data-line-number="1358"></td>
        <td id="LC1358" class="blob-code js-file-line">     &quot;source&quot;: [</td>
      </tr>
      <tr>
        <td id="L1359" class="blob-num js-line-number" data-line-number="1359"></td>
        <td id="LC1359" class="blob-code js-file-line">      &quot;#### Here we can see the numeric factors representing the athletes. We know that Michael Phelps is the athlete in the first three occurences, and we can see from out factorized array that Michael Phelps must map to the numeric value 0&quot;</td>
      </tr>
      <tr>
        <td id="L1360" class="blob-num js-line-number" data-line-number="1360"></td>
        <td id="LC1360" class="blob-code js-file-line">     ]</td>
      </tr>
      <tr>
        <td id="L1361" class="blob-num js-line-number" data-line-number="1361"></td>
        <td id="LC1361" class="blob-code js-file-line">    },</td>
      </tr>
      <tr>
        <td id="L1362" class="blob-num js-line-number" data-line-number="1362"></td>
        <td id="LC1362" class="blob-code js-file-line">    {</td>
      </tr>
      <tr>
        <td id="L1363" class="blob-num js-line-number" data-line-number="1363"></td>
        <td id="LC1363" class="blob-code js-file-line">     &quot;cell_type&quot;: &quot;code&quot;,</td>
      </tr>
      <tr>
        <td id="L1364" class="blob-num js-line-number" data-line-number="1364"></td>
        <td id="LC1364" class="blob-code js-file-line">     &quot;collapsed&quot;: false,</td>
      </tr>
      <tr>
        <td id="L1365" class="blob-num js-line-number" data-line-number="1365"></td>
        <td id="LC1365" class="blob-code js-file-line">     &quot;input&quot;: [</td>
      </tr>
      <tr>
        <td id="L1366" class="blob-num js-line-number" data-line-number="1366"></td>
        <td id="LC1366" class="blob-code js-file-line">      &quot;athlete_factors[0]&quot;</td>
      </tr>
      <tr>
        <td id="L1367" class="blob-num js-line-number" data-line-number="1367"></td>
        <td id="LC1367" class="blob-code js-file-line">     ],</td>
      </tr>
      <tr>
        <td id="L1368" class="blob-num js-line-number" data-line-number="1368"></td>
        <td id="LC1368" class="blob-code js-file-line">     &quot;language&quot;: &quot;python&quot;,</td>
      </tr>
      <tr>
        <td id="L1369" class="blob-num js-line-number" data-line-number="1369"></td>
        <td id="LC1369" class="blob-code js-file-line">     &quot;metadata&quot;: {},</td>
      </tr>
      <tr>
        <td id="L1370" class="blob-num js-line-number" data-line-number="1370"></td>
        <td id="LC1370" class="blob-code js-file-line">     &quot;outputs&quot;: [</td>
      </tr>
      <tr>
        <td id="L1371" class="blob-num js-line-number" data-line-number="1371"></td>
        <td id="LC1371" class="blob-code js-file-line">      {</td>
      </tr>
      <tr>
        <td id="L1372" class="blob-num js-line-number" data-line-number="1372"></td>
        <td id="LC1372" class="blob-code js-file-line">       &quot;metadata&quot;: {},</td>
      </tr>
      <tr>
        <td id="L1373" class="blob-num js-line-number" data-line-number="1373"></td>
        <td id="LC1373" class="blob-code js-file-line">       &quot;output_type&quot;: &quot;pyout&quot;,</td>
      </tr>
      <tr>
        <td id="L1374" class="blob-num js-line-number" data-line-number="1374"></td>
        <td id="LC1374" class="blob-code js-file-line">       &quot;prompt_number&quot;: 132,</td>
      </tr>
      <tr>
        <td id="L1375" class="blob-num js-line-number" data-line-number="1375"></td>
        <td id="LC1375" class="blob-code js-file-line">       &quot;text&quot;: [</td>
      </tr>
      <tr>
        <td id="L1376" class="blob-num js-line-number" data-line-number="1376"></td>
        <td id="LC1376" class="blob-code js-file-line">        &quot;array([   0,    0,    0, ..., 6953, 6954, 6955])&quot;</td>
      </tr>
      <tr>
        <td id="L1377" class="blob-num js-line-number" data-line-number="1377"></td>
        <td id="LC1377" class="blob-code js-file-line">       ]</td>
      </tr>
      <tr>
        <td id="L1378" class="blob-num js-line-number" data-line-number="1378"></td>
        <td id="LC1378" class="blob-code js-file-line">      }</td>
      </tr>
      <tr>
        <td id="L1379" class="blob-num js-line-number" data-line-number="1379"></td>
        <td id="LC1379" class="blob-code js-file-line">     ],</td>
      </tr>
      <tr>
        <td id="L1380" class="blob-num js-line-number" data-line-number="1380"></td>
        <td id="LC1380" class="blob-code js-file-line">     &quot;prompt_number&quot;: 132</td>
      </tr>
      <tr>
        <td id="L1381" class="blob-num js-line-number" data-line-number="1381"></td>
        <td id="LC1381" class="blob-code js-file-line">    },</td>
      </tr>
      <tr>
        <td id="L1382" class="blob-num js-line-number" data-line-number="1382"></td>
        <td id="LC1382" class="blob-code js-file-line">    {</td>
      </tr>
      <tr>
        <td id="L1383" class="blob-num js-line-number" data-line-number="1383"></td>
        <td id="LC1383" class="blob-code js-file-line">     &quot;cell_type&quot;: &quot;markdown&quot;,</td>
      </tr>
      <tr>
        <td id="L1384" class="blob-num js-line-number" data-line-number="1384"></td>
        <td id="LC1384" class="blob-code js-file-line">     &quot;metadata&quot;: {},</td>
      </tr>
      <tr>
        <td id="L1385" class="blob-num js-line-number" data-line-number="1385"></td>
        <td id="LC1385" class="blob-code js-file-line">     &quot;source&quot;: [</td>
      </tr>
      <tr>
        <td id="L1386" class="blob-num js-line-number" data-line-number="1386"></td>
        <td id="LC1386" class="blob-code js-file-line">      &quot;#### Here we verify that indeed 0 maps to Michael Phelps&quot;</td>
      </tr>
      <tr>
        <td id="L1387" class="blob-num js-line-number" data-line-number="1387"></td>
        <td id="LC1387" class="blob-code js-file-line">     ]</td>
      </tr>
      <tr>
        <td id="L1388" class="blob-num js-line-number" data-line-number="1388"></td>
        <td id="LC1388" class="blob-code js-file-line">    },</td>
      </tr>
      <tr>
        <td id="L1389" class="blob-num js-line-number" data-line-number="1389"></td>
        <td id="LC1389" class="blob-code js-file-line">    {</td>
      </tr>
      <tr>
        <td id="L1390" class="blob-num js-line-number" data-line-number="1390"></td>
        <td id="LC1390" class="blob-code js-file-line">     &quot;cell_type&quot;: &quot;code&quot;,</td>
      </tr>
      <tr>
        <td id="L1391" class="blob-num js-line-number" data-line-number="1391"></td>
        <td id="LC1391" class="blob-code js-file-line">     &quot;collapsed&quot;: false,</td>
      </tr>
      <tr>
        <td id="L1392" class="blob-num js-line-number" data-line-number="1392"></td>
        <td id="LC1392" class="blob-code js-file-line">     &quot;input&quot;: [</td>
      </tr>
      <tr>
        <td id="L1393" class="blob-num js-line-number" data-line-number="1393"></td>
        <td id="LC1393" class="blob-code js-file-line">      &quot;athlete_factors[1][0]&quot;</td>
      </tr>
      <tr>
        <td id="L1394" class="blob-num js-line-number" data-line-number="1394"></td>
        <td id="LC1394" class="blob-code js-file-line">     ],</td>
      </tr>
      <tr>
        <td id="L1395" class="blob-num js-line-number" data-line-number="1395"></td>
        <td id="LC1395" class="blob-code js-file-line">     &quot;language&quot;: &quot;python&quot;,</td>
      </tr>
      <tr>
        <td id="L1396" class="blob-num js-line-number" data-line-number="1396"></td>
        <td id="LC1396" class="blob-code js-file-line">     &quot;metadata&quot;: {},</td>
      </tr>
      <tr>
        <td id="L1397" class="blob-num js-line-number" data-line-number="1397"></td>
        <td id="LC1397" class="blob-code js-file-line">     &quot;outputs&quot;: [</td>
      </tr>
      <tr>
        <td id="L1398" class="blob-num js-line-number" data-line-number="1398"></td>
        <td id="LC1398" class="blob-code js-file-line">      {</td>
      </tr>
      <tr>
        <td id="L1399" class="blob-num js-line-number" data-line-number="1399"></td>
        <td id="LC1399" class="blob-code js-file-line">       &quot;metadata&quot;: {},</td>
      </tr>
      <tr>
        <td id="L1400" class="blob-num js-line-number" data-line-number="1400"></td>
        <td id="LC1400" class="blob-code js-file-line">       &quot;output_type&quot;: &quot;pyout&quot;,</td>
      </tr>
      <tr>
        <td id="L1401" class="blob-num js-line-number" data-line-number="1401"></td>
        <td id="LC1401" class="blob-code js-file-line">       &quot;prompt_number&quot;: 133,</td>
      </tr>
      <tr>
        <td id="L1402" class="blob-num js-line-number" data-line-number="1402"></td>
        <td id="LC1402" class="blob-code js-file-line">       &quot;text&quot;: [</td>
      </tr>
      <tr>
        <td id="L1403" class="blob-num js-line-number" data-line-number="1403"></td>
        <td id="LC1403" class="blob-code js-file-line">        &quot;&#39;Michael Phelps&#39;&quot;</td>
      </tr>
      <tr>
        <td id="L1404" class="blob-num js-line-number" data-line-number="1404"></td>
        <td id="LC1404" class="blob-code js-file-line">       ]</td>
      </tr>
      <tr>
        <td id="L1405" class="blob-num js-line-number" data-line-number="1405"></td>
        <td id="LC1405" class="blob-code js-file-line">      }</td>
      </tr>
      <tr>
        <td id="L1406" class="blob-num js-line-number" data-line-number="1406"></td>
        <td id="LC1406" class="blob-code js-file-line">     ],</td>
      </tr>
      <tr>
        <td id="L1407" class="blob-num js-line-number" data-line-number="1407"></td>
        <td id="LC1407" class="blob-code js-file-line">     &quot;prompt_number&quot;: 133</td>
      </tr>
      <tr>
        <td id="L1408" class="blob-num js-line-number" data-line-number="1408"></td>
        <td id="LC1408" class="blob-code js-file-line">    },</td>
      </tr>
      <tr>
        <td id="L1409" class="blob-num js-line-number" data-line-number="1409"></td>
        <td id="LC1409" class="blob-code js-file-line">    {</td>
      </tr>
      <tr>
        <td id="L1410" class="blob-num js-line-number" data-line-number="1410"></td>
        <td id="LC1410" class="blob-code js-file-line">     &quot;cell_type&quot;: &quot;markdown&quot;,</td>
      </tr>
      <tr>
        <td id="L1411" class="blob-num js-line-number" data-line-number="1411"></td>
        <td id="LC1411" class="blob-code js-file-line">     &quot;metadata&quot;: {},</td>
      </tr>
      <tr>
        <td id="L1412" class="blob-num js-line-number" data-line-number="1412"></td>
        <td id="LC1412" class="blob-code js-file-line">     &quot;source&quot;: [</td>
      </tr>
      <tr>
        <td id="L1413" class="blob-num js-line-number" data-line-number="1413"></td>
        <td id="LC1413" class="blob-code js-file-line">      &quot;#### Looking at the index of categorical &#39;NewAthlete&#39; variables we see the mapping of distinct athlete names&quot;</td>
      </tr>
      <tr>
        <td id="L1414" class="blob-num js-line-number" data-line-number="1414"></td>
        <td id="LC1414" class="blob-code js-file-line">     ]</td>
      </tr>
      <tr>
        <td id="L1415" class="blob-num js-line-number" data-line-number="1415"></td>
        <td id="LC1415" class="blob-code js-file-line">    },</td>
      </tr>
      <tr>
        <td id="L1416" class="blob-num js-line-number" data-line-number="1416"></td>
        <td id="LC1416" class="blob-code js-file-line">    {</td>
      </tr>
      <tr>
        <td id="L1417" class="blob-num js-line-number" data-line-number="1417"></td>
        <td id="LC1417" class="blob-code js-file-line">     &quot;cell_type&quot;: &quot;code&quot;,</td>
      </tr>
      <tr>
        <td id="L1418" class="blob-num js-line-number" data-line-number="1418"></td>
        <td id="LC1418" class="blob-code js-file-line">     &quot;collapsed&quot;: false,</td>
      </tr>
      <tr>
        <td id="L1419" class="blob-num js-line-number" data-line-number="1419"></td>
        <td id="LC1419" class="blob-code js-file-line">     &quot;input&quot;: [</td>
      </tr>
      <tr>
        <td id="L1420" class="blob-num js-line-number" data-line-number="1420"></td>
        <td id="LC1420" class="blob-code js-file-line">      &quot;athlete_factors[1]&quot;</td>
      </tr>
      <tr>
        <td id="L1421" class="blob-num js-line-number" data-line-number="1421"></td>
        <td id="LC1421" class="blob-code js-file-line">     ],</td>
      </tr>
      <tr>
        <td id="L1422" class="blob-num js-line-number" data-line-number="1422"></td>
        <td id="LC1422" class="blob-code js-file-line">     &quot;language&quot;: &quot;python&quot;,</td>
      </tr>
      <tr>
        <td id="L1423" class="blob-num js-line-number" data-line-number="1423"></td>
        <td id="LC1423" class="blob-code js-file-line">     &quot;metadata&quot;: {},</td>
      </tr>
      <tr>
        <td id="L1424" class="blob-num js-line-number" data-line-number="1424"></td>
        <td id="LC1424" class="blob-code js-file-line">     &quot;outputs&quot;: [</td>
      </tr>
      <tr>
        <td id="L1425" class="blob-num js-line-number" data-line-number="1425"></td>
        <td id="LC1425" class="blob-code js-file-line">      {</td>
      </tr>
      <tr>
        <td id="L1426" class="blob-num js-line-number" data-line-number="1426"></td>
        <td id="LC1426" class="blob-code js-file-line">       &quot;metadata&quot;: {},</td>
      </tr>
      <tr>
        <td id="L1427" class="blob-num js-line-number" data-line-number="1427"></td>
        <td id="LC1427" class="blob-code js-file-line">       &quot;output_type&quot;: &quot;pyout&quot;,</td>
      </tr>
      <tr>
        <td id="L1428" class="blob-num js-line-number" data-line-number="1428"></td>
        <td id="LC1428" class="blob-code js-file-line">       &quot;prompt_number&quot;: 134,</td>
      </tr>
      <tr>
        <td id="L1429" class="blob-num js-line-number" data-line-number="1429"></td>
        <td id="LC1429" class="blob-code js-file-line">       &quot;text&quot;: [</td>
      </tr>
      <tr>
        <td id="L1430" class="blob-num js-line-number" data-line-number="1430"></td>
        <td id="LC1430" class="blob-code js-file-line">        &quot;Index([u&#39;Michael Phelps&#39;, u&#39;Natalie Coughlin&#39;, u&#39;Aleksey Nemov&#39;, u&#39;Alicia Coutts&#39;, u&#39;Missy Franklin&#39;, u&#39;Ryan Lochte&#39;, u&#39;Allison Schmitt&#39;, u&#39;Ian Thorpe&#39;, u&#39;Dara Torres&#39;, u&#39;Cindy Klassen&#39;, u&#39;Nastia Liukin&#39;, u&#39;Marit Bj\ufffdrgen&#39;, u&#39;Sun Yang&#39;, u&#39;Kirsty Coventry&#39;, u&#39;Libby Lenton-Trickett&#39;, u&#39;Inge de Bruijn&#39;, u&#39;Petria Thomas&#39;, u&#39;Gary Hall Jr.&#39;, u&#39;Michael Klim&#39;, u&#39;Susie O&#39;Neill&#39;, u&#39;Jenny Thompson&#39;, u&#39;Pieter van den Hoogenband&#39;, u&#39;An Hyeon-Su&#39;, u&#39;Aliya Mustafina&#39;, u&#39;Shawn Johnson&#39;, u&#39;Dmitry Sautin&#39;, u&#39;Leontien Zijlaard-van Moorsel&#39;, u&#39;Petter Northug Jr.&#39;, u&#39;Ole Einar Bj\ufffdrndalen&#39;, u&#39;Janica Kostelic&#39;, u&#39;Nathan Adrian&#39;, u&#39;Yannick Agnel&#39;, u&#39;Brittany Elmslie&#39;, u&#39;Matt Grevers&#39;, u&#39;Ryosuke Irie&#39;, u&#39;Cullen Jones&#39;, u&#39;Ranomi Kromowidjojo&#39;, u&#39;Camille Muffat&#39;, u&#39;Mel Schlanger&#39;, u&#39;Emily Seebohm&#39;, u&#39;Rebecca Soni&#39;, u&#39;Satomi Suzuki&#39;, u&#39;Dana Vollmer&#39;, u&#39;Alain Bernard&#39;, u&#39;L\ufffdszl\ufffd Cseh Jr.&#39;, u&#39;Margaret Hoelzer&#39;, u&#39;Katie Hoff&#39;, u&#39;Leisel Jones&#39;, u&#39;Kosuke Kitajima&#39;, u&#39;Andrew Lauterstein&#39;, u&#39;Jason Lezak&#39;, u&#39;Pang Jiaying&#39;, u&#39;Aaron Peirsol&#39;, u&#39;Steph Rice&#39;, u&#39;Jess Schipper&#39;, u&#39;Eamon Sullivan&#39;, u&#39;Amanda Beard&#39;, u&#39;Antje Buschschulte&#39;, u&#39;Ian Crocker&#39;, u&#39;Grant Hackett&#39;, u&#39;Brendan Hansen&#39;, u&#39;Jodie Henry&#39;, u&#39;Otylia Jedrzejczak&#39;, u&#39;Laure Manaudou&#39;, u&#39;Kaitlin Sandeno&#39;, u&#39;Roland Schoeman&#39;, u&#39;Therese Alshammar&#39;, u&#39;Yana Klochkova&#39;, u&#39;Lenny Krayzelburg&#39;, u&#39;Massimiliano Rosolino&#39;, u&#39;Matt Welsh&#39;, u&#39;Lee Jeong-Su&#39;, u&#39;Apolo Anton Ohno&#39;, u&#39;Wang Meng&#39;, u&#39;Jin Seon-Yu&#39;, u&#39;Lee Ho-Seok&#39;, u&#39;Marc Gagnon&#39;, u&#39;Yang Yang (A)&#39;, u&#39;Stephanie Beckert&#39;, u&#39;Martina S\ufffdbl\ufffdkov\ufffd&#39;, u&#39;Enrico Fabris&#39;, u&#39;Chad Hedrick&#39;, u&#39;Jochem Uytdehaage&#39;, u&#39;Sabine V\ufffdlker&#39;, u&#39;Gregor Schlierenzauer&#39;, u&#39;Lars Byst\ufffdl&#39;, u&#39;Johnny Spillane&#39;, u&#39;Felix Gottwald&#39;, u&#39;Georg Hettich&#39;, u&#39;Samppa Lajunen&#39;, u&#39;Aly Raisman&#39;, u&#39;Kohei Uchimura&#39;, u&#39;Zou Kai&#39;, u&#39;Cheng Fei&#39;, u&#39;Yang Wei&#39;, u&#39;Yang Yilin&#39;, u&#39;Marian Dragulescu&#39;, u&#39;Paul Hamm&#39;, u&#39;Carly Patterson&#39;, u&#39;Catalina Ponor&#39;, ...], dtype=&#39;object&#39;)&quot;</td>
      </tr>
      <tr>
        <td id="L1431" class="blob-num js-line-number" data-line-number="1431"></td>
        <td id="LC1431" class="blob-code js-file-line">       ]</td>
      </tr>
      <tr>
        <td id="L1432" class="blob-num js-line-number" data-line-number="1432"></td>
        <td id="LC1432" class="blob-code js-file-line">      }</td>
      </tr>
      <tr>
        <td id="L1433" class="blob-num js-line-number" data-line-number="1433"></td>
        <td id="LC1433" class="blob-code js-file-line">     ],</td>
      </tr>
      <tr>
        <td id="L1434" class="blob-num js-line-number" data-line-number="1434"></td>
        <td id="LC1434" class="blob-code js-file-line">     &quot;prompt_number&quot;: 134</td>
      </tr>
      <tr>
        <td id="L1435" class="blob-num js-line-number" data-line-number="1435"></td>
        <td id="LC1435" class="blob-code js-file-line">    },</td>
      </tr>
      <tr>
        <td id="L1436" class="blob-num js-line-number" data-line-number="1436"></td>
        <td id="LC1436" class="blob-code js-file-line">    {</td>
      </tr>
      <tr>
        <td id="L1437" class="blob-num js-line-number" data-line-number="1437"></td>
        <td id="LC1437" class="blob-code js-file-line">     &quot;cell_type&quot;: &quot;markdown&quot;,</td>
      </tr>
      <tr>
        <td id="L1438" class="blob-num js-line-number" data-line-number="1438"></td>
        <td id="LC1438" class="blob-code js-file-line">     &quot;metadata&quot;: {},</td>
      </tr>
      <tr>
        <td id="L1439" class="blob-num js-line-number" data-line-number="1439"></td>
        <td id="LC1439" class="blob-code js-file-line">     &quot;source&quot;: [</td>
      </tr>
      <tr>
        <td id="L1440" class="blob-num js-line-number" data-line-number="1440"></td>
        <td id="LC1440" class="blob-code js-file-line">      &quot;#### Inserting in the new numeric arrays that are mapped to the Athlete, Country and Sport variables &quot;</td>
      </tr>
      <tr>
        <td id="L1441" class="blob-num js-line-number" data-line-number="1441"></td>
        <td id="LC1441" class="blob-code js-file-line">     ]</td>
      </tr>
      <tr>
        <td id="L1442" class="blob-num js-line-number" data-line-number="1442"></td>
        <td id="LC1442" class="blob-code js-file-line">    },</td>
      </tr>
      <tr>
        <td id="L1443" class="blob-num js-line-number" data-line-number="1443"></td>
        <td id="LC1443" class="blob-code js-file-line">    {</td>
      </tr>
      <tr>
        <td id="L1444" class="blob-num js-line-number" data-line-number="1444"></td>
        <td id="LC1444" class="blob-code js-file-line">     &quot;cell_type&quot;: &quot;code&quot;,</td>
      </tr>
      <tr>
        <td id="L1445" class="blob-num js-line-number" data-line-number="1445"></td>
        <td id="LC1445" class="blob-code js-file-line">     &quot;collapsed&quot;: false,</td>
      </tr>
      <tr>
        <td id="L1446" class="blob-num js-line-number" data-line-number="1446"></td>
        <td id="LC1446" class="blob-code js-file-line">     &quot;input&quot;: [</td>
      </tr>
      <tr>
        <td id="L1447" class="blob-num js-line-number" data-line-number="1447"></td>
        <td id="LC1447" class="blob-code js-file-line">      &quot;X[:,0] = athlete_factors[0]\n&quot;,</td>
      </tr>
      <tr>
        <td id="L1448" class="blob-num js-line-number" data-line-number="1448"></td>
        <td id="LC1448" class="blob-code js-file-line">      &quot;X[:,1] = country_factors[0]\n&quot;,</td>
      </tr>
      <tr>
        <td id="L1449" class="blob-num js-line-number" data-line-number="1449"></td>
        <td id="LC1449" class="blob-code js-file-line">      &quot;X[:,3] = sport_factors[0]&quot;</td>
      </tr>
      <tr>
        <td id="L1450" class="blob-num js-line-number" data-line-number="1450"></td>
        <td id="LC1450" class="blob-code js-file-line">     ],</td>
      </tr>
      <tr>
        <td id="L1451" class="blob-num js-line-number" data-line-number="1451"></td>
        <td id="LC1451" class="blob-code js-file-line">     &quot;language&quot;: &quot;python&quot;,</td>
      </tr>
      <tr>
        <td id="L1452" class="blob-num js-line-number" data-line-number="1452"></td>
        <td id="LC1452" class="blob-code js-file-line">     &quot;metadata&quot;: {},</td>
      </tr>
      <tr>
        <td id="L1453" class="blob-num js-line-number" data-line-number="1453"></td>
        <td id="LC1453" class="blob-code js-file-line">     &quot;outputs&quot;: [],</td>
      </tr>
      <tr>
        <td id="L1454" class="blob-num js-line-number" data-line-number="1454"></td>
        <td id="LC1454" class="blob-code js-file-line">     &quot;prompt_number&quot;: 135</td>
      </tr>
      <tr>
        <td id="L1455" class="blob-num js-line-number" data-line-number="1455"></td>
        <td id="LC1455" class="blob-code js-file-line">    },</td>
      </tr>
      <tr>
        <td id="L1456" class="blob-num js-line-number" data-line-number="1456"></td>
        <td id="LC1456" class="blob-code js-file-line">    {</td>
      </tr>
      <tr>
        <td id="L1457" class="blob-num js-line-number" data-line-number="1457"></td>
        <td id="LC1457" class="blob-code js-file-line">     &quot;cell_type&quot;: &quot;markdown&quot;,</td>
      </tr>
      <tr>
        <td id="L1458" class="blob-num js-line-number" data-line-number="1458"></td>
        <td id="LC1458" class="blob-code js-file-line">     &quot;metadata&quot;: {},</td>
      </tr>
      <tr>
        <td id="L1459" class="blob-num js-line-number" data-line-number="1459"></td>
        <td id="LC1459" class="blob-code js-file-line">     &quot;source&quot;: [</td>
      </tr>
      <tr>
        <td id="L1460" class="blob-num js-line-number" data-line-number="1460"></td>
        <td id="LC1460" class="blob-code js-file-line">      &quot;### Take a 75% training set and a 25% testing set using the scikit-learn capabilities&quot;</td>
      </tr>
      <tr>
        <td id="L1461" class="blob-num js-line-number" data-line-number="1461"></td>
        <td id="LC1461" class="blob-code js-file-line">     ]</td>
      </tr>
      <tr>
        <td id="L1462" class="blob-num js-line-number" data-line-number="1462"></td>
        <td id="LC1462" class="blob-code js-file-line">    },</td>
      </tr>
      <tr>
        <td id="L1463" class="blob-num js-line-number" data-line-number="1463"></td>
        <td id="LC1463" class="blob-code js-file-line">    {</td>
      </tr>
      <tr>
        <td id="L1464" class="blob-num js-line-number" data-line-number="1464"></td>
        <td id="LC1464" class="blob-code js-file-line">     &quot;cell_type&quot;: &quot;code&quot;,</td>
      </tr>
      <tr>
        <td id="L1465" class="blob-num js-line-number" data-line-number="1465"></td>
        <td id="LC1465" class="blob-code js-file-line">     &quot;collapsed&quot;: false,</td>
      </tr>
      <tr>
        <td id="L1466" class="blob-num js-line-number" data-line-number="1466"></td>
        <td id="LC1466" class="blob-code js-file-line">     &quot;input&quot;: [</td>
      </tr>
      <tr>
        <td id="L1467" class="blob-num js-line-number" data-line-number="1467"></td>
        <td id="LC1467" class="blob-code js-file-line">      &quot;X_train, X_test, y_train, y_test = train_test_split(X, y, test_size=0.25, random_state=33)&quot;</td>
      </tr>
      <tr>
        <td id="L1468" class="blob-num js-line-number" data-line-number="1468"></td>
        <td id="LC1468" class="blob-code js-file-line">     ],</td>
      </tr>
      <tr>
        <td id="L1469" class="blob-num js-line-number" data-line-number="1469"></td>
        <td id="LC1469" class="blob-code js-file-line">     &quot;language&quot;: &quot;python&quot;,</td>
      </tr>
      <tr>
        <td id="L1470" class="blob-num js-line-number" data-line-number="1470"></td>
        <td id="LC1470" class="blob-code js-file-line">     &quot;metadata&quot;: {},</td>
      </tr>
      <tr>
        <td id="L1471" class="blob-num js-line-number" data-line-number="1471"></td>
        <td id="LC1471" class="blob-code js-file-line">     &quot;outputs&quot;: [],</td>
      </tr>
      <tr>
        <td id="L1472" class="blob-num js-line-number" data-line-number="1472"></td>
        <td id="LC1472" class="blob-code js-file-line">     &quot;prompt_number&quot;: 136</td>
      </tr>
      <tr>
        <td id="L1473" class="blob-num js-line-number" data-line-number="1473"></td>
        <td id="LC1473" class="blob-code js-file-line">    },</td>
      </tr>
      <tr>
        <td id="L1474" class="blob-num js-line-number" data-line-number="1474"></td>
        <td id="LC1474" class="blob-code js-file-line">    {</td>
      </tr>
      <tr>
        <td id="L1475" class="blob-num js-line-number" data-line-number="1475"></td>
        <td id="LC1475" class="blob-code js-file-line">     &quot;cell_type&quot;: &quot;markdown&quot;,</td>
      </tr>
      <tr>
        <td id="L1476" class="blob-num js-line-number" data-line-number="1476"></td>
        <td id="LC1476" class="blob-code js-file-line">     &quot;metadata&quot;: {},</td>
      </tr>
      <tr>
        <td id="L1477" class="blob-num js-line-number" data-line-number="1477"></td>
        <td id="LC1477" class="blob-code js-file-line">     &quot;source&quot;: [</td>
      </tr>
      <tr>
        <td id="L1478" class="blob-num js-line-number" data-line-number="1478"></td>
        <td id="LC1478" class="blob-code js-file-line">      &quot;### Scale the features so that they have comparable impact on the classification algorithm&quot;</td>
      </tr>
      <tr>
        <td id="L1479" class="blob-num js-line-number" data-line-number="1479"></td>
        <td id="LC1479" class="blob-code js-file-line">     ]</td>
      </tr>
      <tr>
        <td id="L1480" class="blob-num js-line-number" data-line-number="1480"></td>
        <td id="LC1480" class="blob-code js-file-line">    },</td>
      </tr>
      <tr>
        <td id="L1481" class="blob-num js-line-number" data-line-number="1481"></td>
        <td id="LC1481" class="blob-code js-file-line">    {</td>
      </tr>
      <tr>
        <td id="L1482" class="blob-num js-line-number" data-line-number="1482"></td>
        <td id="LC1482" class="blob-code js-file-line">     &quot;cell_type&quot;: &quot;code&quot;,</td>
      </tr>
      <tr>
        <td id="L1483" class="blob-num js-line-number" data-line-number="1483"></td>
        <td id="LC1483" class="blob-code js-file-line">     &quot;collapsed&quot;: false,</td>
      </tr>
      <tr>
        <td id="L1484" class="blob-num js-line-number" data-line-number="1484"></td>
        <td id="LC1484" class="blob-code js-file-line">     &quot;input&quot;: [</td>
      </tr>
      <tr>
        <td id="L1485" class="blob-num js-line-number" data-line-number="1485"></td>
        <td id="LC1485" class="blob-code js-file-line">      &quot;scaler = StandardScaler().fit(X_train)\n&quot;,</td>
      </tr>
      <tr>
        <td id="L1486" class="blob-num js-line-number" data-line-number="1486"></td>
        <td id="LC1486" class="blob-code js-file-line">      &quot;X_train = scaler.transform(X_train)\n&quot;,</td>
      </tr>
      <tr>
        <td id="L1487" class="blob-num js-line-number" data-line-number="1487"></td>
        <td id="LC1487" class="blob-code js-file-line">      &quot;X_test = scaler.transform(X_test)&quot;</td>
      </tr>
      <tr>
        <td id="L1488" class="blob-num js-line-number" data-line-number="1488"></td>
        <td id="LC1488" class="blob-code js-file-line">     ],</td>
      </tr>
      <tr>
        <td id="L1489" class="blob-num js-line-number" data-line-number="1489"></td>
        <td id="LC1489" class="blob-code js-file-line">     &quot;language&quot;: &quot;python&quot;,</td>
      </tr>
      <tr>
        <td id="L1490" class="blob-num js-line-number" data-line-number="1490"></td>
        <td id="LC1490" class="blob-code js-file-line">     &quot;metadata&quot;: {},</td>
      </tr>
      <tr>
        <td id="L1491" class="blob-num js-line-number" data-line-number="1491"></td>
        <td id="LC1491" class="blob-code js-file-line">     &quot;outputs&quot;: [],</td>
      </tr>
      <tr>
        <td id="L1492" class="blob-num js-line-number" data-line-number="1492"></td>
        <td id="LC1492" class="blob-code js-file-line">     &quot;prompt_number&quot;: 137</td>
      </tr>
      <tr>
        <td id="L1493" class="blob-num js-line-number" data-line-number="1493"></td>
        <td id="LC1493" class="blob-code js-file-line">    },</td>
      </tr>
      <tr>
        <td id="L1494" class="blob-num js-line-number" data-line-number="1494"></td>
        <td id="LC1494" class="blob-code js-file-line">    {</td>
      </tr>
      <tr>
        <td id="L1495" class="blob-num js-line-number" data-line-number="1495"></td>
        <td id="LC1495" class="blob-code js-file-line">     &quot;cell_type&quot;: &quot;markdown&quot;,</td>
      </tr>
      <tr>
        <td id="L1496" class="blob-num js-line-number" data-line-number="1496"></td>
        <td id="LC1496" class="blob-code js-file-line">     &quot;metadata&quot;: {},</td>
      </tr>
      <tr>
        <td id="L1497" class="blob-num js-line-number" data-line-number="1497"></td>
        <td id="LC1497" class="blob-code js-file-line">     &quot;source&quot;: [</td>
      </tr>
      <tr>
        <td id="L1498" class="blob-num js-line-number" data-line-number="1498"></td>
        <td id="LC1498" class="blob-code js-file-line">      &quot;# Visualizing the TestData&quot;</td>
      </tr>
      <tr>
        <td id="L1499" class="blob-num js-line-number" data-line-number="1499"></td>
        <td id="LC1499" class="blob-code js-file-line">     ]</td>
      </tr>
      <tr>
        <td id="L1500" class="blob-num js-line-number" data-line-number="1500"></td>
        <td id="LC1500" class="blob-code js-file-line">    },</td>
      </tr>
      <tr>
        <td id="L1501" class="blob-num js-line-number" data-line-number="1501"></td>
        <td id="LC1501" class="blob-code js-file-line">    {</td>
      </tr>
      <tr>
        <td id="L1502" class="blob-num js-line-number" data-line-number="1502"></td>
        <td id="LC1502" class="blob-code js-file-line">     &quot;cell_type&quot;: &quot;markdown&quot;,</td>
      </tr>
      <tr>
        <td id="L1503" class="blob-num js-line-number" data-line-number="1503"></td>
        <td id="LC1503" class="blob-code js-file-line">     &quot;metadata&quot;: {},</td>
      </tr>
      <tr>
        <td id="L1504" class="blob-num js-line-number" data-line-number="1504"></td>
        <td id="LC1504" class="blob-code js-file-line">     &quot;source&quot;: [</td>
      </tr>
      <tr>
        <td id="L1505" class="blob-num js-line-number" data-line-number="1505"></td>
        <td id="LC1505" class="blob-code js-file-line">      &quot;### Plotting a scatterplot of the training data (Athlete vs. Country)&quot;</td>
      </tr>
      <tr>
        <td id="L1506" class="blob-num js-line-number" data-line-number="1506"></td>
        <td id="LC1506" class="blob-code js-file-line">     ]</td>
      </tr>
      <tr>
        <td id="L1507" class="blob-num js-line-number" data-line-number="1507"></td>
        <td id="LC1507" class="blob-code js-file-line">    },</td>
      </tr>
      <tr>
        <td id="L1508" class="blob-num js-line-number" data-line-number="1508"></td>
        <td id="LC1508" class="blob-code js-file-line">    {</td>
      </tr>
      <tr>
        <td id="L1509" class="blob-num js-line-number" data-line-number="1509"></td>
        <td id="LC1509" class="blob-code js-file-line">     &quot;cell_type&quot;: &quot;code&quot;,</td>
      </tr>
      <tr>
        <td id="L1510" class="blob-num js-line-number" data-line-number="1510"></td>
        <td id="LC1510" class="blob-code js-file-line">     &quot;collapsed&quot;: false,</td>
      </tr>
      <tr>
        <td id="L1511" class="blob-num js-line-number" data-line-number="1511"></td>
        <td id="LC1511" class="blob-code js-file-line">     &quot;input&quot;: [</td>
      </tr>
      <tr>
        <td id="L1512" class="blob-num js-line-number" data-line-number="1512"></td>
        <td id="LC1512" class="blob-code js-file-line">      &quot;# declaration of colors and labels arrays\n&quot;,</td>
      </tr>
      <tr>
        <td id="L1513" class="blob-num js-line-number" data-line-number="1513"></td>
        <td id="LC1513" class="blob-code js-file-line">      &quot;colors = [&#39;red&#39;, &#39;greenyellow&#39;]\n&quot;,</td>
      </tr>
      <tr>
        <td id="L1514" class="blob-num js-line-number" data-line-number="1514"></td>
        <td id="LC1514" class="blob-code js-file-line">      &quot;labels=[&#39;Young&#39;, &#39;Old&#39;]\n&quot;,</td>
      </tr>
      <tr>
        <td id="L1515" class="blob-num js-line-number" data-line-number="1515"></td>
        <td id="LC1515" class="blob-code js-file-line">      &quot;\n&quot;,</td>
      </tr>
      <tr>
        <td id="L1516" class="blob-num js-line-number" data-line-number="1516"></td>
        <td id="LC1516" class="blob-code js-file-line">      &quot;# setting the figure\n&quot;,</td>
      </tr>
      <tr>
        <td id="L1517" class="blob-num js-line-number" data-line-number="1517"></td>
        <td id="LC1517" class="blob-code js-file-line">      &quot;fig = plt.figure()\n&quot;,</td>
      </tr>
      <tr>
        <td id="L1518" class="blob-num js-line-number" data-line-number="1518"></td>
        <td id="LC1518" class="blob-code js-file-line">      &quot;ax = fig.add_subplot(1, 1, 1)\n&quot;,</td>
      </tr>
      <tr>
        <td id="L1519" class="blob-num js-line-number" data-line-number="1519"></td>
        <td id="LC1519" class="blob-code js-file-line">      &quot;\n&quot;,</td>
      </tr>
      <tr>
        <td id="L1520" class="blob-num js-line-number" data-line-number="1520"></td>
        <td id="LC1520" class="blob-code js-file-line">      &quot;# labeling the axes\n&quot;,</td>
      </tr>
      <tr>
        <td id="L1521" class="blob-num js-line-number" data-line-number="1521"></td>
        <td id="LC1521" class="blob-code js-file-line">      &quot;ax.set_xlabel(&#39;Athlete&#39;)\n&quot;,</td>
      </tr>
      <tr>
        <td id="L1522" class="blob-num js-line-number" data-line-number="1522"></td>
        <td id="LC1522" class="blob-code js-file-line">      &quot;ax.set_ylabel(&#39;Sport&#39;)\n&quot;,</td>
      </tr>
      <tr>
        <td id="L1523" class="blob-num js-line-number" data-line-number="1523"></td>
        <td id="LC1523" class="blob-code js-file-line">      &quot;ax.set_title(&#39;Athlete vs. Sport : Correlation to Age&#39;)\n&quot;,</td>
      </tr>
      <tr>
        <td id="L1524" class="blob-num js-line-number" data-line-number="1524"></td>
        <td id="LC1524" class="blob-code js-file-line">      &quot;\n&quot;,</td>
      </tr>
      <tr>
        <td id="L1525" class="blob-num js-line-number" data-line-number="1525"></td>
        <td id="LC1525" class="blob-code js-file-line">      &quot;for i in xrange (len(colors)):\n&quot;,</td>
      </tr>
      <tr>
        <td id="L1526" class="blob-num js-line-number" data-line-number="1526"></td>
        <td id="LC1526" class="blob-code js-file-line">      &quot;    px = X_test[:, 0][y_test == i]   \n&quot;,</td>
      </tr>
      <tr>
        <td id="L1527" class="blob-num js-line-number" data-line-number="1527"></td>
        <td id="LC1527" class="blob-code js-file-line">      &quot;    py = X_test[:, 3][y_test == i]\n&quot;,</td>
      </tr>
      <tr>
        <td id="L1528" class="blob-num js-line-number" data-line-number="1528"></td>
        <td id="LC1528" class="blob-code js-file-line">      &quot;    plt.scatter(px, py, c=colors[i], label=labels[i])\n&quot;,</td>
      </tr>
      <tr>
        <td id="L1529" class="blob-num js-line-number" data-line-number="1529"></td>
        <td id="LC1529" class="blob-code js-file-line">      &quot;\n&quot;,</td>
      </tr>
      <tr>
        <td id="L1530" class="blob-num js-line-number" data-line-number="1530"></td>
        <td id="LC1530" class="blob-code js-file-line">      &quot;pylab.legend(title=\&quot;Old?\&quot;)\n&quot;,</td>
      </tr>
      <tr>
        <td id="L1531" class="blob-num js-line-number" data-line-number="1531"></td>
        <td id="LC1531" class="blob-code js-file-line">      &quot;pylab.legend(loc=&#39;upper right&#39;)&quot;</td>
      </tr>
      <tr>
        <td id="L1532" class="blob-num js-line-number" data-line-number="1532"></td>
        <td id="LC1532" class="blob-code js-file-line">     ],</td>
      </tr>
      <tr>
        <td id="L1533" class="blob-num js-line-number" data-line-number="1533"></td>
        <td id="LC1533" class="blob-code js-file-line">     &quot;language&quot;: &quot;python&quot;,</td>
      </tr>
      <tr>
        <td id="L1534" class="blob-num js-line-number" data-line-number="1534"></td>
        <td id="LC1534" class="blob-code js-file-line">     &quot;metadata&quot;: {},</td>
      </tr>
      <tr>
        <td id="L1535" class="blob-num js-line-number" data-line-number="1535"></td>
        <td id="LC1535" class="blob-code js-file-line">     &quot;outputs&quot;: [</td>
      </tr>
      <tr>
        <td id="L1536" class="blob-num js-line-number" data-line-number="1536"></td>
        <td id="LC1536" class="blob-code js-file-line">      {</td>
      </tr>
      <tr>
        <td id="L1537" class="blob-num js-line-number" data-line-number="1537"></td>
        <td id="LC1537" class="blob-code js-file-line">       &quot;metadata&quot;: {},</td>
      </tr>
      <tr>
        <td id="L1538" class="blob-num js-line-number" data-line-number="1538"></td>
        <td id="LC1538" class="blob-code js-file-line">       &quot;output_type&quot;: &quot;pyout&quot;,</td>
      </tr>
      <tr>
        <td id="L1539" class="blob-num js-line-number" data-line-number="1539"></td>
        <td id="LC1539" class="blob-code js-file-line">       &quot;prompt_number&quot;: 138,</td>
      </tr>
      <tr>
        <td id="L1540" class="blob-num js-line-number" data-line-number="1540"></td>
        <td id="LC1540" class="blob-code js-file-line">       &quot;text&quot;: [</td>
      </tr>
      <tr>
        <td id="L1541" class="blob-num js-line-number" data-line-number="1541"></td>
        <td id="LC1541" class="blob-code js-file-line">        &quot;&lt;matplotlib.legend.Legend at 0x1329280d0&gt;&quot;</td>
      </tr>
      <tr>
        <td id="L1542" class="blob-num js-line-number" data-line-number="1542"></td>
        <td id="LC1542" class="blob-code js-file-line">       ]</td>
      </tr>
      <tr>
        <td id="L1543" class="blob-num js-line-number" data-line-number="1543"></td>
        <td id="LC1543" class="blob-code js-file-line">      },</td>
      </tr>
      <tr>
        <td id="L1544" class="blob-num js-line-number" data-line-number="1544"></td>
        <td id="LC1544" class="blob-code js-file-line">      {</td>
      </tr>
      <tr>
        <td id="L1545" class="blob-num js-line-number" data-line-number="1545"></td>
        <td id="LC1545" class="blob-code js-file-line">       &quot;metadata&quot;: {},</td>
      </tr>
      <tr>
        <td id="L1546" class="blob-num js-line-number" data-line-number="1546"></td>
        <td id="LC1546" class="blob-code js-file-line">       &quot;output_type&quot;: &quot;display_data&quot;,</td>
      </tr>
      <tr>
        <td id="L1547" class="blob-num js-line-number" data-line-number="1547"></td>
        <td id="LC1547" class="blob-code js-file-line">       &quot;png&quot;: &quot;iVBORw0KGgoAAAANSUhEUgAAAY0AAAEZCAYAAABrUHmEAAAABHNCSVQICAgIfAhkiAAAAAlwSFlz\nAAALEgAACxIB0t1+/AAAIABJREFUeJzs3Xl8VPW5+PHPMzPZN5IAkSCKNe51gbaotV5TTQBtxSKu\ntZqoV+pVG2Vpva2ocIUuVtRSbV3KEq1itS7FqzKCENdbl59YbRErCghJBEmAELJnnt8f5yTMJBOY\nQJLJhOf9euWVOcucec5JZr5zvs93EVXFGGOMiYQn2gEYY4yJHVZoGGOMiZgVGsYYYyJmhYYxxpiI\nWaFhjDEmYlZoGGOMiZgVGgOYiIwUkYCIhP07i8hMEXm0r+My0SEi+SKycT+e/0cRmdGTMZnYY4VG\nDBKRMhGpFpH4DuvXi8iZ3ThUxJ103Ne8uhvH7nUicrCIPC0iX4nIdhH5SESKeum19usDN+g440Tk\nNRGpEZEt7nU9tydi7EkiUiwirwevU9X/UtXZvfBaPfLlxT1OQETG9ERcJjwrNGKMiIwExgBbgAkd\nNisg3TlcN/btj71AHwU2AIcAWcDlwOaefhER8fXQcS4AngQWAcNVdShwG9DtQiNcTCLi3d8YY5WI\nCHAF8JH72/QWVbWfGPrB+ZBZAtwCPB+0/lGgFagDdgLTgZFAAOdNtAH4CvhF0HNmAo8GLZ8CvAVs\nAz4AznDXzwFagHr32PPc9UcDy4AqYA1wYRcxXwy822HdFOBv7uNzgH8BNcAmYFqE12IncEIX29rO\n/RqgHKgIPi6QANzrbisH7gHi3W35bhw/AypxPujr3Ou7043zoG7+3QT4Yk/n5u4zA1iPU/iVAukd\nzucq92/5KlAEvAncDWwF/geIB+5y9/kS+COQGHReG4Ne77+Bte75/Av4gbv+GPdv3eKeb7W7fhFw\nR9DzrwE+df/+fwOGBW0LAD8G/u3+P93XxTmPBxqBJve1Vrnrc3H+z6vc1/jPvVzf/3CvQb77Oy5o\nmweYi/P//zlwgxufx92eAcx3/0c2AXe0bbOfMNc62gHYTzf/YM6b/DLgCPeNNjRo2zrgzKDltg+a\nB90PyROABuAod/tM3EIDGO6+2ca7ywXucra7vBK4KujYKcBG94PLA5zkvimPCRNzkvvBlBe07l3g\nIvdxJXCa+zgDGBXhtVgGvIFTKB3SYVvbuT/mvv7Xce7OznK3/w9OATnY/XkT+B93Wz7QDPwKiAMS\ngTMI+sDtIp4fAv/oYtvRbjyH7uH5V7kfkCPd6/s08EiH81nknk8iUOzGeb37N0jEKfyeAwYBqTgf\nvL8MOq/gQuMC3MIPuAioBXLc5SLg9Q7xLQy6Rme6f++TcAqqecCrQfsG3NdOB0a4135cF+d9e9t5\nBq17DbjPPfaJ7vO/u4drNx942H28ETg/aNu1OIVirntdluN8AWgrNJ7FKVyTgCHA28DkaL/X++tP\n1AOwn278seA7ON8A09zlD4CbgrZ3VWjkBq17m90f1jPZXWjcHOaNuxS4wn28Erg6aNvFwGsd9n8Q\nuK2L2B8FbnUfH4FTiLR9A94ATMb9Vt2N6zEI54P9nzjfilcB3+xw7kcG7f8b4E/u489wC0h3eSyw\nzn2cj/PtNz5oez57KTT2Eutpbjzxe9jnFeDaoOUjcb4YeILOZ2TQ9mJgQ9Cy4Hzwfy1o3anA55Gc\ng3v9JgQde0+Fxnzg10HbUtxYD3GXA8C3g7b/Bbi5i9dt/z90l0e4f8+UoHW/BBZ28fxkYAcw1l2+\nF3guaPsK4Jqg5bPc+DxADs4XqcSg7ZcCK/bnvTqQfyynEVuKgJdVdae7/JS7bm++DHpch/MNtKND\ngQtFZFvbD84H3UFB+2iH/U/usP8Pcd6E4TyO82bE3e9ZVW1wlyfhVFGtdxPDp0RwTqjqdlX9uap+\n3X3dD3C+ZQcLTl5/AQxzHw/DKayCt+UGLX+lqk2RxBGhqqDX7Uq4mHyEXtOOyfjg5SE4H6D/L+hv\n8hLOnVQnInKFiKwK2vfrQPZezyRMrKq6C+cchwftE8n/XTi5OFViu4LWfdHh2MEm4txxveIuPwWc\nLSJt5zKM0Ou0KejxoTh3k5VB1+EBnGtpwuiRBJ/pfSKShFOF4BGRSnd1AjBIRI5X1Y/Yv2T1Fzjf\n9iZ3sb3jsb/AqY4YG+HxlwNDRORE4BLgpvYDq74H/MBN5P4EJ4dwSHeCV9UqEZkLFIlIZtCmQ4BP\ngh5XuI8rcL69fxxmG3Q+3/1tCPAJzgfXBTj16+G0xdTmEJxv3JvZfT32FNdWnDvRY1W1kj0QkUOB\nh3Cqmf5PVVVEVrG7ccTezjckVhFJwSlwyvfyvHACYY6dJSKpqlrrrjuE0A/7YEVAGrDJyYcjOAXB\nZTjVZpU4dy9tgh9vxLmrzFbVjnGYMOxOI3b8AOcD5BicOt4T3cevs/tuYzNw+D4e/8/AuSIyVkS8\nIpLoNjNt+3bX8dj/CxwpIj8SkTj351sicnS4g6tqM843wLuATJx8BO7zLhORDFVtSzS3RhKwiPxG\nRI4TEZ+IpAH/BXyqqtuCdpshIkkichxOlctf3PWL3W2DRWQwTgODPTX73Axki0h6JLF1pE69x1Tg\nVrc5a7qIeETkOyLyYFBMU9z+Nak4VTJPRPph5u73MHCviAwBEJHhIhKuYE/BKRi24nwRuRLnTqPN\nZuBgEYkLWifsLlQWA1eKyIkikuDG+ndV/aKL8PbUUm8zMNJtAYWqbsTJN/1KRBJE5AScfM+fOx3U\n+f88E/geu98XJ+JURba1onoSuFFEckVkEE5VrLqvVQm8DNwtImnu3+RwEfmPPcR7QLNCI3ZcASxQ\n1U2qusX92YyTLPyh24HvVzgfhNtEZKr7vD19Y1R2v3k2AecBv8BJOn4BTGP3m/13wAVu/5B73W+A\nY3HuGspxvs39Cidx2ZXHceqTn+rwQfgjYJ2I7MDJbVwGICKHiMhOETm4i+Ml4SQxt+HkKEbQuRny\nqziNB5YDv1XV5e762cB7wIfuz3vuuuBrs3tBdQ3OB+Xn7jUIrrbDjfcyEflnVyevqk/j5IKuwrlm\nX+Ik5Nuq1BbgFFyv4bTyqcO58wobE0F/vyA3u+f7d/d6LsPJjYQcQ1VX49zx/J8bx9dxGhW0eQUn\nefyliGzp+Hqq+gpwK06yvgI4DOd/oTuxtnnK/V0lIu+5jy/FuZOpAJ7ByZWtCPPcy3FaXC3v8L6Y\nBxwvIsfiFKQv4/yd/x/wAtAa9D94Bc7/7Wqg2o2n09/XOMRN/PT9C4uMAB4BhuL8Mz2kqvPC7DcP\nOBvnDVSsqqv6NFATk9z+LJ8DPqt2MMFE5Gzgj6o6MtqxxKJo3mk0A1NU9Tic/gHXi8gxwTuIyDk4\nzTSPwPkG+se+D9MYE8vcqtZz3GrM4ThNfJ+JdlyxKmqFhqp+qaofuI9rcRKSuR12m4DTwQlVfRsn\n6dtV6xxjOorObbTpbwSnWW818D5Otdtt0QwolvWL1lNuVcIonD4EwYbTuancwfTCUBFmYFHV9cAB\nO6yG2U1V63GG3jE9IOqJcLeVyF+BG4Oa14Xs0mHZvj0aY0yURPVOw23O9zTwZ1Xt2CkLnBYmwW2q\nDyZMO3ARsYLEGGP2gap2Z+DS6N1puG2y5wOrVfXeLnZbgtvW2u0lvN1tTtdJtLvWR/Jz++23Rz2G\ngRCjxWlx9vefWIlzX0TzTuM0nPb5H7o9UcHpI3AIgKo+qKovuq0e1gK7gCujE6oxxhiIYqGhqm8Q\nwZ2Oqt7QB+EYY4yJQNQT4QeS/Pz8aIewV7EQI1icPc3i7FmxEue+iFqP8J4kIjoQzsMYY/qSiKDd\nTIT3i34axhgTCXdMQ7MPeuqLtRUaxpiYYrUK3deTha3lNIwxxkTMCg1jjDERs0LDGGNMxKzQMMYY\nEzErNIwxZj/96Ec/4qqrrgpZ9+qrrzJ48GA2bx5Yg3JbPw1jTMxw+xV0+3nNzc2UlpbyxYYNjDn5\nZL7//e/3aFzV1dUcd9xxPProoxQUFNDQ0MAJJ5zAjBkzuOKKK/Z+gF7W1XXbl34adqdhjIl5mzZt\n4ve//z333XcflZWVIdtaW1s5r6CAxTfeiMyezbRLLmH27bf36OtnZWXx+9//nsmTJ1NXV8esWbM4\n4ogjGDRoEMcddxyZmZl897vfZc2aNe3P8Xg8fP755+3LxcXF3HrrrQCUlZVx8MEHc/fdd5OTk0Nu\nbi6LFi1q37eqqopzzz2XjIwMxowZw4wZMzj99NN79Jy6FO1RFntopEY1xgx84d7ra9as0Zz0dL0q\nMVGLEhN12KBB+vnnn7dvX758uZ6QmqrNoApaCZoUF6d1dXXt++zcuVN/dP75mpWcrF/LydGnnnxy\nn+KbNGmSnnvuuTp48GB99dVXNSUlRZcvX64tLS165513al5enjY3N6uqqojoZ5991v7c4uJivfXW\nW1VVdeXKlerz+fT222/XlpYWffHFFzU5OVm3b9+uqqoXX3yxXnrppVpfX6+rV6/WESNG6Omnn96t\n6xa0vluft3anYYyJabN+9jOm79zJ/IYGFjU0cG1NDb+cMaN9e01NDSM8nvaezDlAgsfDrl272ve5\nrriYlhdeYHVdHY9s3swNRUW888473Y7lD3/4AytXruS2227j1Vdf5fvf/z5nnXUWXq+X6dOnU19f\nz1tvvdXl8zWoCikuLo7bbrsNr9fL2WefTWpqKp988gmtra0888wzzJo1i8TERI455hiKior6rNOj\nFRrGmJhWvWULxwR9YB4dCFAVlHw+9dRTeVeVx3FmcPtvn4+jjzyS7Ozs9n1e8vu5u7GRHJw5G4qa\nmli+fHm3Yxk6dCiDBw/m2GOPpbKykkMOOaR9m4gwYsQIyss7zSMXVnZ2Nh7P7o/o5ORkamtr+eqr\nr2hpaWHEiN3z0x188MHdjnVfWaFhjIlpYydOZHZyMhuBdcCvk5MZO3Fi+/aDDjqIF1as4N6jj+Yb\n6el8fPrpPLdsWcjQGplpaXwadMxP4+MZNGjQfsWVm5vLhg0b2pdVlY0bNzJ8+HDAKQTq6urat1dW\nVkY03MeQIUPw+Xxs3LixfV3w495mhYYxJqbdNH06Z/z4x5yUksK3UlI4t6SEH193Xcg+3/zmN3nn\n44/5cscOlqxYQU5OTsj239x/PxcmJfFTr5eJSUl8Nnz4frV6EhEuuugiXnjhBVasWEFzczNz584l\nMTGRb3/72wCcdNJJPPbYY7S2trJ06VJee+21iI7t9Xo5//zzmTlzJvX19axZs4ZHH320zwZztELD\nGBPTPB4Pv777bqpqa9laW8usX/2q2x+gEydO5IXXXiPrjjsYO3cub65aRWpq6n7FdeSRR/LnP/+Z\nn/zkJwwZMoQXXniB559/Hp/Pya787ne/4/nnnyczM5PHH3+ciUF3R7DnQQbvu+8+duzYwUEHHURR\nURGXXnop8fHx+xVvpKyfhjEmZuxrP42B7uabb2bLli0sXLgw7Hbrp2GMMQewTz75hA8//BBV5Z13\n3mHBggWd7lR6S1QLDRFZICKbReSjLrbni8gOEVnl/swIt58xxhxIdu7cyaRJk0hNTeWSSy5h+vTp\nTJgwoU9eO6rVUyJyOlALPKKqx4fZng9MVdU9Xg2rnjLmwGDVU/tmwFRPqerrwLa97GbzOxpjTD/R\n33MaCnxbRP4hIi+KyLHRDsgYYw5k/b3QeB8YoaonAr8HnotyPMaE8Pv9TBo7lkljx+L3+6MdjjG9\nzrf3XaJHVXcGPX5JRP4gIlmqWt1x35kzZ7Y/zs/PJz8/v09iNAcuv99P0cSJ/Ka+HoCiN96g9Nln\nGTduXJQjMya8srIyysrK9usYUe+nISIjgee7SITnAFvcESHHAE+q6sgw+1ki3PS5SWPHMmHZMorc\n5VJgSWEhT7/8cjTDGtAsEb5vBkwiXEQWA28BR4nIRhG5SkR+LCI/dne5APhIRD4A7gUuiVasxpje\n5/f7SUiMJzHFQ2Kah9QsL8npXvLy8qId2n6bOXMml19+eZfbR44cySuvvNKHEe2bqFZPqeqle9l+\nP3B/H4VjTLdMnjaNojfeALd66uakJEqnTYtyVLHL7/dzzvfG40sQPD7BFy8U3ZULwPySdTFRcCxa\ntIi5c+fy+eefk56ezsSJE/nVr35FRkbGXoc2EZE+Gz9qf/TrnIYx/dm4ceMoffZZHpo7F4DSadMs\nn7Ef7n/oHpIzvOQemQDA2Guz+W5RVvv2hVPX7/Ox26Z73fDFBk4e0/PTvQLMnTuX3/72tzzyyCOc\nddZZbNq0ieuuu47CwkLefPPNAVOtZoWGMfth3LhxVlD0A5s2beLZZ59FRJg0aRLDhg1r39ba2sr3\nzxvLlsZ/ccR3vJROu4/3Pyjhthmzeuz1a2pqmDlzJgsXLmTs2LEAHHrooTz55JMcdthh/PnPf+50\nF/Hoo48yY8YMdu3axdSpU3sslt7W35vcGmP6ocLCQuIThdQsL6lZXkaPHr3fx7x+8hTqdrSy/sN6\nNq5uoHR6BStLq1lZWs38knIOyhwZ9nmffPIJo755PM9/8Euee28OJ33j66xbt659e1lZGZ+Vf8gv\n/MO4ZFYOt7+ay69++Svq3WpFgNraWi69/EIys9MYeXguT/31qW7F/tZbb9HQ0MD5558fsj4lJYVz\nzjmHZcuWhaxfvXo11113HY899hgVFRVUVVWxadOmbr1mtFihYYzplsLCQspeX05cgocr7xnOlfcM\nZ81n/9jvgmPcuHG8+MJSaPURaFGaGgIsnFLO/J+UkzvkMNauXRv2ebfOuplzpqdw7fwcrluUw5nX\nJnDHL29r315TU8PgEQl4fc43/UE5PuISvCHTvf74uiupaHmNuasPYfIjKfzXDVd1a7rXrVu3Mnjw\n4JCZ9toMGzaMrVu3hqz761//yrnnnst3vvMd4uPjueOOO8I+tz+y6iljTLe8/X4ZGUN8XDp7WEjO\nYdHUD/f72OPGjaOxoalbz6mq/opTjtk9l0Tu0fH8+4PQ6V7XXlvH649v49gzUnlp3jaOOvqokOle\nl77k584PRzAoJ45BOXH8R1Eqy5cvZ8yYMRHFMHjwYLZu3UogEOj04V9RUcHgwYM7rQueojU5OTkk\nnv4sNoo2Y4zpwtljz+PZ2TVs3djE5nWNLPl1DWePPa99+0EHHcTSF5bz6r1p/OIb5TR8fBz/+5w/\nJMeQkZlOxaeN7cubP9VuTfd66qmnkpCQwNNPPx2yvra2lqVLl1JQUBCyPjc3N2SK1rq6OqqqqiJ+\nvahS1Zj/cU7DGNPbCgoK1ONBk9M9mjLIo+dOG6w3LBqhSekeHTVqVK+/frj3emtrq06/eaoOykrV\nzOw0nXHbzzUQCHTruM8884xmDU3V86YfpKf+YKged8IRunPnzm4d484779ScnBxdunSpNjU16bp1\n6/Tss8/Wb3zjG9rY2Ki33367/uhHP1JV1X/+85+ampqqb7zxhjY2Nuq0adPU5/PpK6+80q3XjFRX\nn5Hu+m593lr1lDEmIoWFhax8dTkJqR6umjccgPkl5QRalaz0g3j//fejEpfH4+G3v57Lb389d5+P\nMXHiREaMWMmyZcsYNHYQl19+ebene/3pT39KdnY206dP57PPPmvvp7F48WLi4+ND+mEcd9xx3H//\n/fzwhz9sbz01YsSIfY6/L0V9GJGeYMOIGNP7MjJ8aDwU3ZXbnstYWVpN6fQKslKyWL9+S6/HYMOI\n7JsBM4yIMcaY2GLVU8YcgHJzc6na9iWtrYrHC/FJHlBoqg+gAUhI9dDSpHg8gscHLU1Kc72i4lRJ\ntZlfUk5TfYCbb7oximdj+pJVTxlzgMnNzaVqx5e0NivigfiE0BxFS2OA8TcMZsWCbVx5jzP2U+n0\nCup3tpKQ5OHMq7P45M06ytc00LBTmTXrDm655ZY+id2qp/ZNT1ZPWaFhzAEmPc3LsK8nUrm2kfhE\nCelvsbK0msUzKskbk8K3JqR3Wt9x38enbqGqqqHPYrdCY99YTsMYY0xUWE7DmBji9/u54OLzaA00\nI15obggQl+BBPNDSqARalfhkD9oKDbsCJKR48HihpRm8ePnFf99OaloO6z90qqfqd8KCDjmKlsYA\nQw+LY+GUivb1bdVTwevml5Rz0cSu54cwA5NVTxkTI/x+P+edfw7eOLjqd8PZ8FE9yx+u5mo3H1E6\nvYKmugBj/yubLeub+HBZbadtra3KzFtnc//993c7Ed7SoPgSBV+coC1w4aTLWbRoUZ9eg1iYb6K/\nspxGECs0zIFgwqTxfFLxevs8E3dOWt8p7/DyA1Vk5sax/h/1XHhrTqdtVZuaSE7I5Iu1vd+nwvR/\nltMwxhjTqyynYQ5Ifr+f+x+6B3DmcYjWREqFhYW89fcVqEBTQwBfglv90wrNTU6+orXFuYv2xQkt\nzdreT2LoYXEhfSbaqqCOOi0ZRMNua21VptxqfSrMvotq9ZSILAC+B2xR1eO72GcecDZQBxSr6qow\n+1j1lImY3+/nsqILuPQ3mQAsvnkbj5X+tc8LjsLCQt58ZwVXzxvOu8/vYNVLO0lI9gTNi13OCYWp\nfLisNmS+7D/dUI7HC+jugqU7ifC+6lNh+r+Yy2mIyOlALfBIuEJDRM4BblDVc0TkZOB3qnpKmP2s\n0DARmzBpPIdOWB1S379hybEseXppn8aRkeHjinnOOE7X5X1MxhBfyLzYK0ureeqOzWHXt+UnGuuU\nnVUtfRq3GThiLqehqq8D2/awywSg1N33bWCQiOT0RWzGdFdxcTEpaV7ik6T9JzXLS2qmF4/PeZyS\n6cUXLySmeqhvamXR1Ar+c/i/qNthH/wmNvT3nMZwYGPQ8ibgYGBz+N2N2bvrJ0/hsqIL2ped6qkp\n+3XM4uJinnz2UU4Yl8r7/1uD4gzPceU9u4fn+PqZqQwdGY//j1WoQly8h+K7d1dFfb6qjtLpuycC\nCq6eKp2+u3/EoqkVNDc4+Ynjjx21X3Eb0139vdAA6HjrFLYeaubMme2P8/Pzyc/P772ITEwbN24c\nj5X+tT0R/ljp/ifCn3/+Ca6eN5yn7thM+hDnbdVxOtSn7tgMKow8IYmqTU2dti+4sbx9XmxthZam\nAB8tryXQqjTVKwtvKkeB1hYnd3H8saOiNoeFiU1lZWWUlZXt1zH6e6FRDgTPTHKwu66T4ELDmL0Z\nN25c1FpMdcUbJ3hE2FltVVWmd3T8Qj1r1qxuH6O/FxpLgBuAJ0TkFGC7qlrVlImatLQ0NK4OVWiu\nD+CJE3w+pynsgpJyvAlC3fZWxNN5eI4TClMZOjKOVUtrgM7bG+sDnPh1q24y/Vu0W08tBs4ABuPk\nKW4H4gBU9UF3n/uA8cAu4EpV7XQ/bq2nTF9IS0uj1VPH1fOcITxe/mMV8cke8osyKSvd1t4ktnR6\nBbt2tOL1QHyyMzxH3c4AyekeVKFxVwBfvDjNY5OctigNtQFO+LpVN5m+FXNNbnuKFRqmL6Rmebny\nnuHtQ3hsq2hm7LXZvLukJuxwHhVrGtm5zaqaTP8Vc01ujTHGxJb+ntMwpl/w+/3s2hZg4U3lzqCA\nw31s+LCe0ukV5BdlhjSJLZ1eQWNdgOOOOimKERvTO6x6ypi98Pv9jB8/nqR0T/tQ4/NLymnYFSA+\naXci3OsVZziPJuXYo06y/ITp9/alesruNIzZi4fmziUl09Oez2izcGoFtTaEhznAWE7DGGNMxKx6\nypi96Kp6qmmX0NJidxomdlmTW2N6wejRo1nz2T8QAfEKqLJrWyDs9JnGxBIrNIzpBWmZPorvzQ3p\nh7Hopgrrg2FinvXTMMYY06us9ZQxYeTm5rKlspJ0oB5Cpk6dX1LO0YefGLXYjIkmq54ypoO2AiMF\nuAZnFrAzgNcHedgFHJR9GGvXro1qjMb0BKueMqYHNFZWkgHMA9YBdwF/BTZvD3D/9gAnfu1rUY3P\nmGiyQsMYY0zErNAwMSc3N9eZZzvNQ2qWl4RkDymDvCSmeUjJdObhFhHmzJmzT8dPGDaMHUAJcBgw\nHaeKqhS4UYTJ06b12LkYE2us0DAxJTc3l81bK/HGCfGJHs68KouEFA9n/WcW8Ykerrp3OFfdO5yk\ndA8zZszYp4KjoqKCocOGsQtYADTgFCA/S0riLy+91O9m/DOmL1ki3MSU1CwvHq8wLC8hZC6LcHNa\nLJxaweC0LNav3xLlqI3pnywRbgaUwsJCMjJ8ZGT4KCwsjHY4xhisn4bppwoLC3nrnRVc5Y71tKBk\nBYWFhaQn5rB5ayXrO8xl0XFOi/kl5dTXBPj51BujdQrGDEhWPWX6pYwMH1fMCx2645GSCnbsaHH6\nUWytxJcg+OKE5gbFFy+0tipen3OnXbc9wOzZs7nllluieRrG9GsxN5+GiIwH7gW8wJ9U9TcdtucD\nfwM+d1c9raqz+zRI0+9UVFTsfSdjTK+IWqEhIl7gPqAAKAfeFZElqvpxh11fVdUJfR6giYrCwkL+\n770VtAQ0ZOiOBSXlfHvMmVGMzBgD0b3TGAOsVdX1ACLyBHAe0LHQ6Natk4ldhYWFvPnOivY5Kx6+\nbhMLSsohAEcdcSLLli2LcoTGmGgWGsOBjUHLm4CTO+yjwLdF5B84dyPTVXV1H8Vn+tjb75dx9bzQ\nKVUXz6jEWxvgsMGDoxiZMaZNNAuNSDLX7wMjVLVORM4GngOODLfjzJkz2x/n5+eTn5/fAyEaY8zA\nUVZWRllZ2X4dI2qtp0TkFGCmqo53l38OBDomwzs8Zx3wDVWt7rDeWk/FqOLiYh4pLSUpw9Pe+snr\nE9IH+9j6RROBVsXTCH9butR6YhvTw2Ktc997wBEiMlJE4oGLgSXBO4hIjoiI+3gMTiFX3flQJhYV\nFxfzaGkpiemhw4AU3ZXL9s0tKBAXiLMCw5h+JGrVU6raIiI3AH6cJrfzVfVjEfmxu/1B4ALgv0Sk\nBagDLolWvKbnvfTYYyRlerjynuG8u6SGortyQ/IZLz9QxVG5p1uBYUw/EtV+Gqr6EvBSh3UPBj2+\nH7i/r+MyxhgTno09ZfYqOzubNBFS0oKGHx/kJXk/hh8HOPuyy6jfFmB+STlDD4ujdHoFK0urncEG\np1Sw4cNAs2YHAAAgAElEQVQGrp88pQfPxBizv2wYEbNH2dnZNFRXI+kezrwmi7LSbRTdlQs44zsF\nagLcuh/DdYRLhKNAwMczTy2xqiljetG+JMKt0DB7lC3C11I9nHLf8LDDjz95UzlpnkGsraqKcqTG\nmO6KtdZTxhhjYowNjW72qC4xkY9qG/j4pnIGHRTHv8pq27e1VU+VzJ4axQiNMX3JCg3TpTlz5uBp\naCAu3cPl9zrjQT103SYW3OgOJLif+QxjTOyxnIbpUl52NplN2znlvuEheYzSG8qp2dka5eiMMfvL\nchrGGGN6lVVPmS5959xz+XNpKauD5rWYX1LO0UecGMWojDHRZNVTJiy/38+548fjS/dQcE0Wn7xZ\nR/maBlob4qmvr492eMaYHhBz072a/uuhuXNJyPRQfE9oPmPRVJtq1ZgDmeU0DkBz5swhMcVHfKKQ\nkuklNdMZHiQ+SUjJ8JKY6uGlv7+CAhs+srsKY8xue73TEJHvqOobHdadpqpv9l5YprfMmTOHmXfM\nACAuwRmKHJxchSdeOKvDUCEL3HzGoccnOfmMwy2fYcyBbK85DRFZpaqj9rYumiynEblD8oZS17gN\ngEtnD2uvevr5qZ8y9trssEOFLJ5RScOuAEeOPJH3338/arEbY3pWj+Y0RORU4NvAEBGZCrQdOA2r\n1jqgZB8cT/knjVZgGGP2WD0Vj1NAeN3fbWpwJkcy/VBeXh5fVq8DoL4mQFK6h+YG5y4sLlFQhbod\nAXzxTpVUm42rG5hfUk7BNVmUTt+d7C6dXkFjXYARw77WtydijOmX9lg9JSI+4C+qOqnvQuo+q55y\n5OXlUfHVOq6eN5wNH9Wz/OFqCq7JYvnD1fjiJWRI87gEob6mlbgkDwK0tCiBFiUu3hmi3OMRPD5o\naVIOPuhrrF27NronZ4zpcT3e5NadknW42KdyTPiyej1Xz3OayN45yXn87pIaRhybyNhrs0OmUl00\nrYIfPziClx+oovLfTTTsbI5i5MaYWBFJP40PgL+JyFM483QDqKo+03thGWOM6Y8iKTQSgWrgzA7r\n97vQEJHxwL04eZM/qepvwuwzDzgbp8AqVtVV+/u6sa64uJgnSkvxpXpQQFucm8CGRm3PUww9LK49\nR/Hh8p0heYr5JeVkHxzXnq/4j2+fFY3TMMbEoKgNIyIiXuAToAAoB94FLlXVj4P2OQe4QVXPEZGT\ngd+p6ilhjnXA1J61FRjedA9Xzdvdx6KlSYmLF0Ycn0j5mkY0oF0mwht2OutbmpTTTz2LZcuWRfOU\njDFR0ivDiIjICGAe8B131WvAjaq6qfshhhgDrFXV9e7rPAGcB3wctM8EoBRAVd8WkUEikqOqm/fz\ntWPWS489xqBUDxfO2z28x8sPVFG1qSmk38XK0moW3VTOzmobwtwY03Mi6W+xEFgC5Lo/z7vr9tdw\nYGPQ8iZ33d72ObgHXtsYY8w+iCSnMURVgwuJRSIypQdeO9L6pI63TmGfN3PmzPbH+fn55Ofn71NQ\n/UFubi5bt1YSl+ShNaB4fQIKDbVOtRIKD/x4d1m6cXUDLU3aPuQHOFVWuUMOi0b4xph+qqysjLKy\nsv06RiTDiKzAubN4HOcD/BLgSlXdr+ypiJwCzFTV8e7yz4FAcDJcRB4AylT1CXd5DXBGx+qpgZTT\nyM3N5avqSuISnCHJ28aBaut3cXVwHqMxgC/OA24ivKVViU91CpWDsg+zvhXGmD3qrZn7rgIuAr4E\nKoELgSu7H14n7wFHiMhIEYkHLsapBgu2BLgC2guZ7QM9n1G7czMZQ3xcPW84W9Y1U3RXLt8tymLL\nuub2PhjfLcri6nnDSR/iw+uDpAalrj5AU5NSW91K7bZWKzCMMb1ir9VTbqL63J5+Ybfj4A2AH6fJ\n7XxV/VhEfuxuf1BVXxSRc0RkLbCLnimsjDHG7KNIqqcOx+lLcSpOPuEtYIqqft774UVmIFVPxcfH\n40loweORvVZPNTcGCDTCiaNG2WCCxgxAbflNT4LgixO0FY46vOdGm96X6qlICo23gfuAJ9xVFwM/\nUdWT9ynKXjBQCo3CwkLefGdF+9hRr/ypmtYWxRvXORHeVB+g1QoMYwastvym1yvEJ3tCxo47uocK\njt6a7jVJVR8NWv6ziPy0e6GZSLz9fll73gKciY9Kp1ZSU2XjQhlzoGnLb2YfHN957LibPoxaXJEU\nGi+5LZsWu8sXu+uyAFS1ureCM8YY079EUmhcjJPLmNzFeptooYecPDqf+SUr2pfnl5Rz2piOQ34Z\nY6LN7/dz7nnnEJcIra1uX6pWSIwbRFVVVY+8RmpaDl99VUltdWunseOiOe1ylzkNERkDbFTVSne5\nGJgErMfpX9EzV6YHDJScBjh5jbffLwOcQsTGhTKmf/H7/Xz/vPGd+lKB84Ge5Ou5giOmEuEisgo4\nS1WrReQ/gL8ANwCjgKNVtd/M3jeQCg1jTP82YdJ43nrnFS6dPYx3l9TwrQnpncd82xYbY771dOc+\nT1C+4mLgQVV9WlVnAEfsa5Cmszlz5nBI3lAOyRvKnDlzoh2OMQeM4uJiktK8pGR6Sc3ykpjmYfTo\n0dEOq1/bU07DKyJxqtqMM3x5cE4jklyIicCcOXP45Z23tQ9z/suS2wC45ZZbohmWMQNecXExi596\nhPhED8V3O9VLpdMr+NcnHzB69Oguq4CunzyFl17wt89X0zHfkOQb1CfxR8ueqqduAb4HbAVGAN9Q\n1YCIHAEsUtXT+i7MPYvl6qlD8oZy3q2JIbe3f7ujgS/WbolyZMYMbJk5SQz9miekOevK0mpefqCK\nin83srOqpcvn9kUivC/0aD8NVZ3jDlZ4EPCyqgbaXgf4yb6HaYwxsW3cuHE0NcRG3qKn7bGaSVX/\nL8y6f/deOAeWOXPmsPHzr1g4xcPiGZXknZzMR8tq+cXP/ifaoRnTr+Tm5rJt52a8cdDSrLQ0Kr44\nwZfgzEbZ2qxoK4wY/rWIB+s87+yLWfzUIyyaurt6qW0K5OOOOqm3TiXmRW26154Ui9VTc+bM4dbb\nZ5CY4gkZT6q+JkCsnYsxvSk3N5ftuzaHvE9aW5SEoKE1Fk2toKVJCQSUEcMiLziKi4v5y9OP4vGB\niFMgHXvESQfM0Dy9MvZULIjFQmPkyKFU7aym+O7ckPrUhVPKqbUpWo1pl57mpei+3cPr/PzUTwHC\n5iIAKv/ZQM1Oew9Forfm0zDGGGMAazrbp/x+P+f/4AdIcjMo7NrWyvwOU7TW1wT2cARjYkNeXh5f\nVq2jpUXxiNDSFCA+2fmOmp6YQ0VFxV6OsFtqWk7I+2Tj6gZaWzSkqWvH6inTe6x6qo/4/X7OGT+e\nhPTOOYyUTOfNtGub5TNM7MvLy6Piq3XtQ2wce0YKHy2rbe+LNL+knEEp3Ss4eiMRbnpvaHTTAx6a\nO5ekTA9X3jM8ZIjjhVMrqN1De3BjYs2X29Zz9bzhvLukhqK7cnnqjs1cNa/z/313dKeAMb3LchrG\nGGMiZtVTfcTv9zN+/HhSBnkYfnQiR52WzPKHq7t9m25MfzFnzhxm33Yb3gynykgQPF5nhsmEFE+P\nVk+Z3hEzTW7dCZz+AhyKM9T6Raq6Pcx+64EaoBVoVtUxXRyv3xcaSUlJSHxTSD5DBJISk3ms9K+M\nGzcuyhEaE7k5c+Ywa8YMfOmeTnPZv/JwNccXprL27Tpqt7fudyLc9J5YKjTuBLaq6p0icjOQqar/\nHWa/dThjXu1xdsBYKDRSs7wh+YyVpdU8+rMKLr8zlw1LjmXJ00ujHKExkcvLzuYr3c4V9wwPGR78\nzknrOw8VPqWcsd88i6dffjnKUZuOYqmfxgSg1H1cCvxgD/t264SMMcb0nmi1nspR1c3u481AThf7\nKbBcRFpx5vN4uE+i6wWt9fGd+mQccnwii2/exmOlU6IY2cBSWFjIG39fgdcHLS3O3WdzvZKY5kGA\nhl0BfG2zoAWcEUpbGhVfguD1CuJx6uc14HxbOfaoA2dIie64cupUZs2Y0Wl48KGHxbGgw/95U02A\nydOmRStU08N6rXpKRJbhjJDb0S1AqapmBu1brapZHXcUkWGqWikiQ4BlwE9U9fUw++ntt9/evpyf\nn09+fn4PnEXPSkpKwpvUBEDTLhj//UKunzzF8hk9pLCwkDffWdGeN2obfM7rE66eN5wNH9Xj/2NV\nyJhFC6dU0FjXSkKylyvv2T2nQkuTEmhVVOE4KzjC6ioR3twYID7Jg7aCNMXz9HPP2f94P1FWVkZZ\nWVn78qxZs2Imp7EGyFfVL0VkGLBSVY/ey3NuB2pVdW6Ybf0+p2F6X0aGjyvmhY7ltXhGJZfOHtZe\n376tornTmEXB+7StaxvHCNjr3ArGxKpYymksAYrcx0XAcx13EJFkEUlzH6cAY4GP+ixCY4wxnUQr\np/Fr4EkRuRq3yS2AiOQCD6vq93Cqtp4RkbY4H1PVmGt+UVxczHMvLCYQCJCdMIQHFi60W/UI+f1+\nvj9hPAkpzneb+poAiSkexBt+COsxY77L/JIV7ctt1VNtuaShh8WxamlNyJhFbdVTC6eEzqnQsXrK\nGOOwzn29qLi4mCeffbS9jn1BSTnUwjMvvmgFx174/X6+f9544hM8IZ3CTihM5VvnZoRMlhNccFgi\n3JjIxUw/jZ7WXwuNrKFJXPbbISF15U/eVM53vmVt1vdmwqTxvPXOK51yDU/dsZk/rD0m4rmcjTFd\ni6WcxoA0evRo0kRIT/MydPggAjqwhzkvLi4mPslDapaX1EwviSL4RCgsLIx2aMaYXmJ3Gj1k9OjR\nfLJqFXHpHi53q1Me/PEmfAkyIKuniouLeeyJ0k7VR4GaAC3AdwsKWLZs2T4ff1+rp4wxkbPqqSjK\nFuFrqR5OuS90qJC/zWylpnbrgEuEZw1NwpPQ0qn66MmbymnZHkCArfv5N+luItwY0z02n0Y/dNLo\n421cqX00btw4mhtj/0uNMQOJFRo95NBRo/ho1SrW3FTOyw9UcdRpyaz403ae/kvMjnzSpeLiYurq\nmvC1wIIby9nwUT2HHp/UqXrKGDPwWKHRQ0444QTWfPYPiu/dXf9+2pgzB0RVVLDi4mIWP/VIyFAc\n80vKnT4Nu5RW9j+fYYzpvyyn0UOysxP54d1DQ+r3H5+6haqqhqjG1dOyhiYx5HBPp6E4HplSTuJO\nD5ubm6McoTEmUtbk1hhjTK+y6qkekpl5MPNL1rUvzy8p56KJl0cxou7z+/3c/9A9ALz3fx+yo34z\nItBSrxx7jNNSacI5F7P4qUdChuKYX1JOS02AiUWxdb7GmO6zQqMHFBcXU/nZZ0iytI+O2tqivPHG\nG1GOLHJ+v5/Lii7g0t9k8u7zO9i+qzZkiPF/ffIBo0ePbm/i+sTTj7JwSjnaCi01AX5YVMSiRYui\neAbGmL5gOY0ekBMXxyGJgU59NEpvKKdmZ2vU4uqOCZPGc+iE1Xy3KIvr8j7mwltzOg0VXvnPhpg5\nH2PM3llOwxhjTK+y6qkecPZll/FUaSmfdpjmMjfnsIiPkZeXxxflnxGf5AEFaUlm586dvRFuWNdP\nnsJlRRcAMPKkxJCpaYOH7DDGhPL7/Vxw8Xk0tzbR0qgkpnpoaVY8HiEQULxeQRWa6gMkpnpQheb6\nAHHue7211dmnsc4dgdm3ewRmb5wQaIinvr4+2qfZzqqnekBeXh6bPvuMZKA11UML0FgvtLRENvpq\nXl4eGzZ91mmcJW+gbwuOSBLhxpjd/H4/551/Dh6fUyjEJ3kouCaLstJt5BdlUla6LaQ/U8E1We0d\nYdsel06vIL8ok+UPV6MB+M/7nM+ARVMr+O6V7vqm3ik4bBiRKNn22Wc8iDsVYW2AUmBqN57/ZfV6\nMob4QsZxAlg4pXwPz+p548aNG3CdEY3pTfc/dA+HnpAIQOXaRoruyuXdJTUhv4Pf0+8uqaH4ruFh\nH189bzgvP1DVaf+r5w1n4dQK+gvLaRhjjImY3WnsJ7/fT2tiIiUNu3t+lwBDDj884mMclDWSDZs+\nc4ZOd7VVT5noGz16NJ+u+xCAIw47warpTLvrJ0/hvPOXtVdPtVU7tVU5dezPVHBNFitLq0Met+07\nv6QcDTitFWF39dT8knK0KT5ap9iJ5TT2g9/vp2jiRH5TX8/zQNvs1FmHH87atWu7daxoJ8JNeKNH\nj2bNZ/9o77Myv6Scow8/0QoO0y6WE+ExM5+GiFwIzASOBr6lqmHfgSIyHrgX8AJ/UtXfdLFfVAqN\nSWPHMmHZMieXAZQCSwoLbSrXASQt00fxvbkhfVYW3VTBzm02xayJfbHUT+MjYCLwWlc7iIgXuA8Y\nDxwLXCoix/RNeMYYY8KJSqGhqmtU9d972W0MsFZV16tqM/AEcF7vRxe5ydOmcVN8PKcCpwI3xccz\nedq0kH0KCwsZLMJgmzu7W/Ly8khP85Ke5iUvLy9qcRxx2AnMLylnZWl1e130EYedELV4jIm2/tx6\najiwMWh5k7uuX4kDrnV/4jpsKyws5J3ly5kLzAXeWb7cCo4I5OXlUfnVOoruG07RfcOp/Gpd1AqO\n999/n6MPP5FFN1Ww6KYKy2eYA16vtZ4SkWXAQWE2/UJVn4/gEN1KUsycObP9cX5+Pvn5+d15+j55\naO5cftvU1J7ToKmJh+bObe/rsGr5cubB7u3AtOXLez2uWLdl8zquChrHC6D0hnV7eEbvskLCDBRl\nZWWUlZXt1zF6rdBQ1f39Sl0OjAhaHoFztxFWcKFhjDGms45fqGfNmtXtY/SHfhpdZe7fA44QkZFA\nBXAxcGkfxbRXfr+fzVu3MsXjgUAAgJuTkigNymmMKiigJOjOogQYs5e5swsLC3n7/TIATh6df0BO\nmzo05zAWBM1NsqCknGHdGMfLmIEgNzeX7bs24/FCS7Ny7BH9ZCgfVe3zH5yWUxuBeuBL4CV3fS7w\nQtB+ZwOfAGuBn+/heNqXli5dqjlJSboIdBpotsejZ4wapUuXLu20b0FBgWaDZoMWFBTs8bgFBQWa\nlO7RGxaN0BsWjdCkdM9enzNQHX744ZqW6tG0VI8efvjh0Q7HmD41bNiwkM+CtMFejU8WHTVqVI++\njvvZ2a3Pb+vctw96q39GenYcRXcPC52TY2olNVU277YxB5LULB9X3pPbaU6bin83srOq5/oIxVI/\njQFnzeefc0jeUA7JG8qcOXO69VyPx0NqlpeABlj2cFUvRWiM6UphYSG+eCE1y0tqlhdfvKfb7+MD\nRX/IacScydOmUfTGG+B27b/e50O/Wtc+rPkvS24D4JZbbtnrsTweD4lpwpX37B6m4hff+ZTCa7KZ\nX1LOaWPO7KWzMMaAU2CseHU5CUmekPfhbbNmAJG9j3taeuLQfjunjVVP7SO/389Dc+cC8NYn73LB\n/6SF3Er+7Y4Gvli7Za/HSc3ycuU9odPELpxSjkc8B2wi3Ji+lJ4dBx4NGca8bSDBQRlZEb2Pe0Nf\nJMJtPo0+FDz3xCF5Q3v8+JbHMObAVlHRf+bQCGaFxj4KnuUunnTmd2gi+ouf/U+Xzx09ejRr1v4D\njw9ampSHrtvd/WR+STkNO2P/7i+WBP8tr588xSai6mWjR4/mn6tXEZ+8ezRYj8f5Ng3gixMCrXDR\n+ZezaNGiXo/n5NH5rHh1eUh10PySchrrA9x80429/voxp7vNrfrjD1Focpudk9reHC453aOngQ4d\n5NGUQZ49NosbNWpU2KZ0CcmiKZkedavaTB/p+LfMzkkN23Ta9IxRo0apLwFNSvfoudMGa2qWN+S9\n0La+7X1RVFTUJ3EVFBSoNw5NyfRoSqZHvXGis2fP7pPXjiasyW3fmDBpPIdOWB1S/7nhhnKWuFO9\n/sznY3Nz+OqlcENtv/xAFeX/bqS2B5vSmciE/VsuOZYlTy+NcmQDU1qmj4RU4dLZw3h3SQ3fmpDe\n6b2QmRvHtyak8/IDVWz5PMC2zb0zl4SxJrfGGGN6meU09sH1k6dw4SU/4OUHnD4VGz6s5/t1yqnA\nGuCbexgsMSd7ZEj+o60pXXZGuLEdTW+7fvIULiu6oH158c3beKx0ShQjGpj8fj8X/+AHNDe00lC/\ne+rTRVN3J3tLp1fQ0qQcdVpy+/vi0guviGLUJhyrntoHfr+fSy6fyI9+OxiAhTdWojta+IO7/eak\nJEqffbZTQtXv93P2+PH4gLg0D+Jzkn9NuyDgjl9l+p4lwnuX3+/nvPHjSQCuAf6QLHgSBZR+kQg/\nkMXMdK89rT/kNP5+Qznv1jof/F0NKzJp7FjKli3jbggZgmQqUDUA/g7GhDNp7FjeWbaM2cDTqR4O\nvS+0X9LjU7dQVdUQ3SAPUJbTMMYY06us0NgH10+ewuKbt7VPAbrwxkrW7FJKce4cbk5KYvK0aRQW\nFpKR4SMjw0dhYSGTp01jG84Q6W37lgAJw4ZF8Wz61ujRo0nN9JKW6SVJhGSPjfEz0E2eNo2vcP7X\nj6wN8GjQ9LkLSso599xLoh2i6Y7uttHtjz/0cT8NVad9/7fP+KZmZPh0Wpgh0gsKCjQ5qD9GsjvM\n+dKlSzUhLk6zQLNAhw0b1uexR0vHPirJ6R5NAE2AA6JN/IFs6dKlmpGYqOmgKaApqR5NS/f2WT8M\nEx7WT6Nv7WmI9IwMH1fMC+2P8UhJBTt2HLh9McL1UXnypnLitwdIyMpibZWN8GtMX7KchjHGmF5l\n/TT2wZw5c1h49900NTfzis/H8y0tvD7IQx1winvHM2bMd1lQsqL9OQtKyvl2h2HOc3NzqWlwRtBM\nTxzabwco6ylHHHYC80v+0b68oKSc1hqnxdmtU6dGKyzTTxUWFvLqq8tpaYXkDOf7bWNtgMt+WGRN\ncaOpu/VZ/fGHPsxpzJ49W9NBF7k/CdBpita2etqCggJNT/dqerq307StHadzTEr3HBD5jVGjRmnK\nII+mDvJoImiSHBhj/JjuKSgoUF8CiodOeTBfApYL6SHESk5DRC4EZgJHA99S1bCDxIvIeqAGaAWa\nVXVMF/tpX51HXnY2t1ZXt+cxcgZ5uOje0Hbnj/30K6q37Hm8nHDTOS6cUkFt9YGb8zCmTUaGj7h0\noaFOufLu0PfJ4hmVaJ3X+nb0gFiaT+MjYCLw4F72UyBfVat7PyRjjDF7E5VCQ1XXgFPKRaBbpWBv\nu3LqVEpmzGhf3rY90Gkc/osmXg44uY9ZM2YQn+nUx6Yn5rTnLTpO5zi/pJxBKTl9cQr9QlpaGo3N\ntcQnO9emqT5AWnIWVdaCyuDkBMteX05LMyHvkwUl5TQ1BrjsksuiGN0Brrv1WT35A6wERu9h++fA\nKuA94Jo97Lf/lXsRWrp0qab4fHow6CDQdNBJYebSmD17tnrD5DuC8xbDhg3TlEyvpmR6D4h8RpvU\n1FT1JRDSjyXJravOysqKdnimnygoKNC4OFQ8u+e58MVZPqMnsQ85jV670xCRZUC4oVt/oarPR3iY\n01S1UkSGAMtEZI2qvt5zUXbfQ3Pncn9LC0VAHnAr7jhS2525NO7YsAGAhXffTVKmh+Kg+b8BFk7Z\n/a1poLeW6pKvjoxBPi6dPSzk2iyeUUnDru1RDMz0J8uWLYt2CCaMXis0VLWwB45R6f7+SkSeBcYA\nYQuNmTNntj/Oz88nfw/Dk/cEP7AzzPq6+r1PGJOdnW3VMKbP5ObmsrN+Mwo0bA8Qnyh4E4VAC3ha\n4vnrc8/ZyL4HiLKyMsrKyvbrGFHtES4iK4Hpqvr/wmxLBryqulNEUoCXgVmq+nKYfbWvzsPv93PJ\nhAn4mpo4A1gGzHO3TQfqgF/Mng3A7TNmEJ/u4ep5wwFnvoD8okyWP1xNkm/QAVtwpKWl0dBcS3yC\nh6vcazO/pJzmxgDpKZbX6Em5ubls37W5/X/woes2EZ/oofjuXMC97jUB/nfpUis4DkAxMzS6iEzE\n+awdDOwAVqnq2SKSCzysqt8Tka8Bz7hP8QGPqeqvujhenxUaAPmjR3PlqlUUAUNwqqlygcnAl8Ad\n7pAYc+bM4fYZM0jM9DD8qEQumpnDqHHpbvPacmqrW/ss5v7GEuF9Iy3TS3FQk/Cfn/opY6/NDh3e\n5oZyCk49q9NQ/mbgi5kmt6r6LPBsmPUVwPfcx58DJ/VxaBHJHjy4/XEGcC2h82O0ueWWW7h7xgya\ngLHXZjNqXHrfBdnP7dwZrnLPGNPf2TAi++D5sjKeT4Dr3W/J12wL8BFwPHAd0FhdTWqWF4AGL+i2\nzs1yk3yD+j7wXjR69GhWr1qFAN5BHgIBaGkKEJfoobVZ8cYJ2gotDQESUjwoXp5+4nmrEullaUk5\nIf976z+sD5lidX5JOc21ASZPmxaN8EwMslFuuykpKYkWbehUH9/ijqEUgJA8xvySchrrA2gzJLv9\nNRJkYOUz2goMAG966HU5oTCV1a/uouiu3XXoBddkcejxScwvKefZJ1+0gqOXWSLcdCVmqqdimTep\niZSUzs1FH5lSjm9bgKYwzWxLp1dAg1IzQHMYG1atYgjQ1GFIFYCn7thM0V25IeveXVJD8V1OwXL/\nQ/fYB1YvO2CbdpteYUOjG2OMiZjdaXRTa308O+oaWNAhR9FSE6AZ8IbJXzTWBzjskMOjEG3fOHTU\nKKd6anug03U5oTDVudMKWldwTRYrS6vd6qmHoxGyMWYfWU5jHyQlJdGqDbubi24L0ALcMXs2d999\nNzuqq0l08xcNNQFGjjyctWvX9ll80WCJcGNiT8z00+hp0Zru1RhjYplN92qMMaZXWaFhjDEmYlZo\nGGOMiZgVGsYYYyJmhYYxxpiIWaFhjDEmYlZoGGOMiZgVGsYYYyJmhYYxxpiIWaFhjDEmYlZoGGOM\niZgVGsYYYyIWlUJDRH4rIh+LyD9E5BkRyehiv/EiskZEPhWRm/s6TmOMMaGidafxMnCcqp4I/Bv4\neccdRMQL3AeMB44FLhWRY/o0yh5WVlYW7RD2KhZiBIuzp1mcPStW4twXUSk0VHWZqgbcxbeBg8Ps\nNiLHO+YAAAZ6SURBVAZYq6rrVbUZeAI4r69i7A2x8I8UCzGCxdnTLM6eFStx7ov+kNO4CngxzPrh\nwMag5U3uOmOMMVHSa9O9isgy4KAwm36hqs+7+9wCNKnq42H2s1mVjDGmn4nazH0iUgxcA5ylqg1h\ntp8CzFTV8e7yz4GAqv4mzL5WwBhjzD7o7sx9vXansSciMh74KXBGuALD9R5whIiMBCqAi4FLw+3Y\n3ZM2xhizb6KV0/g9kAosE5FVIvIHABHJFZEXAFS1BbgB8AOrgb+o6sdRitcYYwxRrJ4yxhgTe/pD\n66luiZWOgSJyoYj8S0RaRWT0HvZbLyIfundc7/RljO7rRxpntK9nlogsE5F/i8jLIjKoi/2icj0j\nuT4iMs/d/g8RGdVXsXWIYY9xiki+iOxwr98qEZkRhRgXiMhmEfloD/v0h2u5xzj7ybUcISIr3ff4\nP0WkpIv9Ir+eqhpTP0Ah4HEf/xr4dZh9vMBaYCQQB3wAHNPHcR4NHAmsBEbvYb91QFYUr+de4+wn\n1/NO4Gfu45vD/d2jdT0juT7AOcCL7uOTgb9H4W8dSZz5wJK+jq1DDKcDo4CPutge9WsZYZz94Voe\nBJzkPk4FPtnf/82Yu9PQGOkYqKprVPXfEe4etUR+hHFG/XoCE4BS93Ep8IM97NvX1zOS69Mev6q+\nDQwSkZy+DTPiv2NUG5ao6uvAtj3s0h+uZSRxQvSv5Zeq+oH7uBb4GMjtsFu3rmfMFRodDISOgQos\nF5H3ROSaaAfThf5wPXNUdbP7eDPQ1T91NK5nJNcn3D7hvvD0pkjiVODbbjXFiyJybJ9FF7n+cC0j\n0a+updsSdRTOl+1g3bqeUWlyuzex0jEwkjgjcJqqVorIEJzWZGvcbzA9pgfijPb1vCUkGFXdQ9+c\nXr+eYUR6fTp+6+zrViiRvN77wAhVrRORs4HncKov+5toX8tI9JtrKSKpwF+BG907jk67dFju8nr2\ny0JDVQv3tN3tGHgOcFYXu5QDI4KWR+CUnj1qb3FGeIxK9/dXIvIsThVCj37I9UCcUb+ebsLxIFX9\nUkSGAVu6OEavX88wIrk+Hfc52F3Xl/Yap6ruDHr8koj8QUSyVLW6j2KMRH+4lnvVX66liMQBTwN/\nVtXnwuzSresZc9VTQR0Dz9MIOgaKSDxOx8AlfRVjGGHrNUUkWUTS3McpwFigyxYjfaCr+tf+cD2X\nAEXu4yKcb20hong9I7k+S4Ar3NhOAbYHVbf1lb3GKSI5IiLu4zE4zfL7U4EB/eNa7lV/uJbu688H\nVqvqvV3s1r3r+f/bu5dQm6IwgOP/j7HnkJJXyStJYUAxuWWEkkeMTISYSDJQMsFcBoYmBjJQ3pmi\nlC5hICRGSkaUIj6DvW5OxznH8jxb/X91a9+911133dW992uvvfb3DfPJ/i/uBngKvARGy8fpcn4a\ncLmj3TqanQLPgMNDGOdGmnXCD8Br4Gr3OIHZNDtY7gOP2jrOlsznVOAmTSr9G8DkNs1nr/kBdgG7\nOtqcKtcfMGBH3TDHCewtc3cfuA2sHMIYz9FkgfhYfjd3tnQuB46zJXO5CvhSxjD2P3Pd78ynL/dJ\nkqr9d8tTkqThMWhIkqoZNCRJ1QwakqRqBg1JUjWDhiSpmkFDGiAiNkTEl4iYVz5fUlJCjF0/GhEH\n+nxtr3QNndcnRcTuPzti6e8yaEiDbQMu8a3U8FKaFDZjBr3o9KOXoKYAe359aNK/Z9CQ+ihJ3lbQ\nlB3eUnL4HCvHoxGxuTRdUArdPI+IfX36OhgRd0vG06Pl9AlgTunr5IB2Umu0MmGh1BLrgWuZ+Soi\n3gCLgSPAsszcD83yFE0hqzXAROBJRJzOzM9jnUTECDA3M5dHxDjgYkSspikmtTAzlw5ql38/S69U\nzTsNqb9twPlyfJ5vS1SdiR0TuJSZnzLzLU323e5aHyPASESMAveAecBcvk8Q2a+d1BreaUg9RMRU\nYC2wqNTuGE8TIB73aP6x4/gzvf+ujmfmma7vMbOmndQm3mlIvW0CzmbmzMyclZkzaOqPzwAm/GRf\n14GdJV07ETG9FIl619VXv3ZSa3inIfW2leZBdacLwHyaB9+jwPFyvt8uqYSmrn1EzAfulPIK74Ht\nmfkiIm5FxEPgSmYe6mr3DtgBvPmDP5f0W0yNLkmq5vKUJKmaQUOSVM2gIUmqZtCQJFUzaEiSqhk0\nJEnVDBqSpGoGDUlSta98UCfYvBJQdQAAAABJRU5ErkJggg==\n&quot;,</td>
      </tr>
      <tr>
        <td id="L1548" class="blob-num js-line-number" data-line-number="1548"></td>
        <td id="LC1548" class="blob-code js-file-line">       &quot;text&quot;: [</td>
      </tr>
      <tr>
        <td id="L1549" class="blob-num js-line-number" data-line-number="1549"></td>
        <td id="LC1549" class="blob-code js-file-line">        &quot;&lt;matplotlib.figure.Figure at 0x10b9c7c10&gt;&quot;</td>
      </tr>
      <tr>
        <td id="L1550" class="blob-num js-line-number" data-line-number="1550"></td>
        <td id="LC1550" class="blob-code js-file-line">       ]</td>
      </tr>
      <tr>
        <td id="L1551" class="blob-num js-line-number" data-line-number="1551"></td>
        <td id="LC1551" class="blob-code js-file-line">      }</td>
      </tr>
      <tr>
        <td id="L1552" class="blob-num js-line-number" data-line-number="1552"></td>
        <td id="LC1552" class="blob-code js-file-line">     ],</td>
      </tr>
      <tr>
        <td id="L1553" class="blob-num js-line-number" data-line-number="1553"></td>
        <td id="LC1553" class="blob-code js-file-line">     &quot;prompt_number&quot;: 138</td>
      </tr>
      <tr>
        <td id="L1554" class="blob-num js-line-number" data-line-number="1554"></td>
        <td id="LC1554" class="blob-code js-file-line">    },</td>
      </tr>
      <tr>
        <td id="L1555" class="blob-num js-line-number" data-line-number="1555"></td>
        <td id="LC1555" class="blob-code js-file-line">    {</td>
      </tr>
      <tr>
        <td id="L1556" class="blob-num js-line-number" data-line-number="1556"></td>
        <td id="LC1556" class="blob-code js-file-line">     &quot;cell_type&quot;: &quot;code&quot;,</td>
      </tr>
      <tr>
        <td id="L1557" class="blob-num js-line-number" data-line-number="1557"></td>
        <td id="LC1557" class="blob-code js-file-line">     &quot;collapsed&quot;: false,</td>
      </tr>
      <tr>
        <td id="L1558" class="blob-num js-line-number" data-line-number="1558"></td>
        <td id="LC1558" class="blob-code js-file-line">     &quot;input&quot;: [</td>
      </tr>
      <tr>
        <td id="L1559" class="blob-num js-line-number" data-line-number="1559"></td>
        <td id="LC1559" class="blob-code js-file-line">      &quot;# setting the figure\n&quot;,</td>
      </tr>
      <tr>
        <td id="L1560" class="blob-num js-line-number" data-line-number="1560"></td>
        <td id="LC1560" class="blob-code js-file-line">      &quot;fig = plt.figure()\n&quot;,</td>
      </tr>
      <tr>
        <td id="L1561" class="blob-num js-line-number" data-line-number="1561"></td>
        <td id="LC1561" class="blob-code js-file-line">      &quot;ax = fig.add_subplot(1, 1, 1)\n&quot;,</td>
      </tr>
      <tr>
        <td id="L1562" class="blob-num js-line-number" data-line-number="1562"></td>
        <td id="LC1562" class="blob-code js-file-line">      &quot;\n&quot;,</td>
      </tr>
      <tr>
        <td id="L1563" class="blob-num js-line-number" data-line-number="1563"></td>
        <td id="LC1563" class="blob-code js-file-line">      &quot;# labeling the axes\n&quot;,</td>
      </tr>
      <tr>
        <td id="L1564" class="blob-num js-line-number" data-line-number="1564"></td>
        <td id="LC1564" class="blob-code js-file-line">      &quot;ax.set_xlabel(&#39;Athlete&#39;)\n&quot;,</td>
      </tr>
      <tr>
        <td id="L1565" class="blob-num js-line-number" data-line-number="1565"></td>
        <td id="LC1565" class="blob-code js-file-line">      &quot;ax.set_ylabel(&#39;Country&#39;)\n&quot;,</td>
      </tr>
      <tr>
        <td id="L1566" class="blob-num js-line-number" data-line-number="1566"></td>
        <td id="LC1566" class="blob-code js-file-line">      &quot;ax.set_title(&#39;Athlete vs. Country : Correlation to Age&#39;)\n&quot;,</td>
      </tr>
      <tr>
        <td id="L1567" class="blob-num js-line-number" data-line-number="1567"></td>
        <td id="LC1567" class="blob-code js-file-line">      &quot;\n&quot;,</td>
      </tr>
      <tr>
        <td id="L1568" class="blob-num js-line-number" data-line-number="1568"></td>
        <td id="LC1568" class="blob-code js-file-line">      &quot;for i in xrange (len(colors)):\n&quot;,</td>
      </tr>
      <tr>
        <td id="L1569" class="blob-num js-line-number" data-line-number="1569"></td>
        <td id="LC1569" class="blob-code js-file-line">      &quot;    px = X_test[:, 0][y_test == i]\n&quot;,</td>
      </tr>
      <tr>
        <td id="L1570" class="blob-num js-line-number" data-line-number="1570"></td>
        <td id="LC1570" class="blob-code js-file-line">      &quot;    py = X_test[:, 1][y_test == i]\n&quot;,</td>
      </tr>
      <tr>
        <td id="L1571" class="blob-num js-line-number" data-line-number="1571"></td>
        <td id="LC1571" class="blob-code js-file-line">      &quot;    plt.scatter(px, py, c=colors[i], label=labels[i])\n&quot;,</td>
      </tr>
      <tr>
        <td id="L1572" class="blob-num js-line-number" data-line-number="1572"></td>
        <td id="LC1572" class="blob-code js-file-line">      &quot;\n&quot;,</td>
      </tr>
      <tr>
        <td id="L1573" class="blob-num js-line-number" data-line-number="1573"></td>
        <td id="LC1573" class="blob-code js-file-line">      &quot;pylab.legend(title=\&quot;Literacy\&quot;)\n&quot;,</td>
      </tr>
      <tr>
        <td id="L1574" class="blob-num js-line-number" data-line-number="1574"></td>
        <td id="LC1574" class="blob-code js-file-line">      &quot;pylab.legend(loc=&#39;upper right&#39;)&quot;</td>
      </tr>
      <tr>
        <td id="L1575" class="blob-num js-line-number" data-line-number="1575"></td>
        <td id="LC1575" class="blob-code js-file-line">     ],</td>
      </tr>
      <tr>
        <td id="L1576" class="blob-num js-line-number" data-line-number="1576"></td>
        <td id="LC1576" class="blob-code js-file-line">     &quot;language&quot;: &quot;python&quot;,</td>
      </tr>
      <tr>
        <td id="L1577" class="blob-num js-line-number" data-line-number="1577"></td>
        <td id="LC1577" class="blob-code js-file-line">     &quot;metadata&quot;: {},</td>
      </tr>
      <tr>
        <td id="L1578" class="blob-num js-line-number" data-line-number="1578"></td>
        <td id="LC1578" class="blob-code js-file-line">     &quot;outputs&quot;: [</td>
      </tr>
      <tr>
        <td id="L1579" class="blob-num js-line-number" data-line-number="1579"></td>
        <td id="LC1579" class="blob-code js-file-line">      {</td>
      </tr>
      <tr>
        <td id="L1580" class="blob-num js-line-number" data-line-number="1580"></td>
        <td id="LC1580" class="blob-code js-file-line">       &quot;metadata&quot;: {},</td>
      </tr>
      <tr>
        <td id="L1581" class="blob-num js-line-number" data-line-number="1581"></td>
        <td id="LC1581" class="blob-code js-file-line">       &quot;output_type&quot;: &quot;pyout&quot;,</td>
      </tr>
      <tr>
        <td id="L1582" class="blob-num js-line-number" data-line-number="1582"></td>
        <td id="LC1582" class="blob-code js-file-line">       &quot;prompt_number&quot;: 139,</td>
      </tr>
      <tr>
        <td id="L1583" class="blob-num js-line-number" data-line-number="1583"></td>
        <td id="LC1583" class="blob-code js-file-line">       &quot;text&quot;: [</td>
      </tr>
      <tr>
        <td id="L1584" class="blob-num js-line-number" data-line-number="1584"></td>
        <td id="LC1584" class="blob-code js-file-line">        &quot;&lt;matplotlib.legend.Legend at 0x10b8aa650&gt;&quot;</td>
      </tr>
      <tr>
        <td id="L1585" class="blob-num js-line-number" data-line-number="1585"></td>
        <td id="LC1585" class="blob-code js-file-line">       ]</td>
      </tr>
      <tr>
        <td id="L1586" class="blob-num js-line-number" data-line-number="1586"></td>
        <td id="LC1586" class="blob-code js-file-line">      },</td>
      </tr>
      <tr>
        <td id="L1587" class="blob-num js-line-number" data-line-number="1587"></td>
        <td id="LC1587" class="blob-code js-file-line">      {</td>
      </tr>
      <tr>
        <td id="L1588" class="blob-num js-line-number" data-line-number="1588"></td>
        <td id="LC1588" class="blob-code js-file-line">       &quot;metadata&quot;: {},</td>
      </tr>
      <tr>
        <td id="L1589" class="blob-num js-line-number" data-line-number="1589"></td>
        <td id="LC1589" class="blob-code js-file-line">       &quot;output_type&quot;: &quot;display_data&quot;,</td>
      </tr>
      <tr>
        <td id="L1590" class="blob-num js-line-number" data-line-number="1590"></td>
        <td id="LC1590" class="blob-code js-file-line">       &quot;png&quot;: &quot;iVBORw0KGgoAAAANSUhEUgAAAYQAAAEZCAYAAACXRVJOAAAABHNCSVQICAgIfAhkiAAAAAlwSFlz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\n&quot;,</td>
      </tr>
      <tr>
        <td id="L1591" class="blob-num js-line-number" data-line-number="1591"></td>
        <td id="LC1591" class="blob-code js-file-line">       &quot;text&quot;: [</td>
      </tr>
      <tr>
        <td id="L1592" class="blob-num js-line-number" data-line-number="1592"></td>
        <td id="LC1592" class="blob-code js-file-line">        &quot;&lt;matplotlib.figure.Figure at 0x114451e50&gt;&quot;</td>
      </tr>
      <tr>
        <td id="L1593" class="blob-num js-line-number" data-line-number="1593"></td>
        <td id="LC1593" class="blob-code js-file-line">       ]</td>
      </tr>
      <tr>
        <td id="L1594" class="blob-num js-line-number" data-line-number="1594"></td>
        <td id="LC1594" class="blob-code js-file-line">      }</td>
      </tr>
      <tr>
        <td id="L1595" class="blob-num js-line-number" data-line-number="1595"></td>
        <td id="LC1595" class="blob-code js-file-line">     ],</td>
      </tr>
      <tr>
        <td id="L1596" class="blob-num js-line-number" data-line-number="1596"></td>
        <td id="LC1596" class="blob-code js-file-line">     &quot;prompt_number&quot;: 139</td>
      </tr>
      <tr>
        <td id="L1597" class="blob-num js-line-number" data-line-number="1597"></td>
        <td id="LC1597" class="blob-code js-file-line">    },</td>
      </tr>
      <tr>
        <td id="L1598" class="blob-num js-line-number" data-line-number="1598"></td>
        <td id="LC1598" class="blob-code js-file-line">    {</td>
      </tr>
      <tr>
        <td id="L1599" class="blob-num js-line-number" data-line-number="1599"></td>
        <td id="LC1599" class="blob-code js-file-line">     &quot;cell_type&quot;: &quot;code&quot;,</td>
      </tr>
      <tr>
        <td id="L1600" class="blob-num js-line-number" data-line-number="1600"></td>
        <td id="LC1600" class="blob-code js-file-line">     &quot;collapsed&quot;: false,</td>
      </tr>
      <tr>
        <td id="L1601" class="blob-num js-line-number" data-line-number="1601"></td>
        <td id="LC1601" class="blob-code js-file-line">     &quot;input&quot;: [</td>
      </tr>
      <tr>
        <td id="L1602" class="blob-num js-line-number" data-line-number="1602"></td>
        <td id="LC1602" class="blob-code js-file-line">      &quot;# setting the figure\n&quot;,</td>
      </tr>
      <tr>
        <td id="L1603" class="blob-num js-line-number" data-line-number="1603"></td>
        <td id="LC1603" class="blob-code js-file-line">      &quot;fig = plt.figure()\n&quot;,</td>
      </tr>
      <tr>
        <td id="L1604" class="blob-num js-line-number" data-line-number="1604"></td>
        <td id="LC1604" class="blob-code js-file-line">      &quot;ax = fig.add_subplot(1, 1, 1)\n&quot;,</td>
      </tr>
      <tr>
        <td id="L1605" class="blob-num js-line-number" data-line-number="1605"></td>
        <td id="LC1605" class="blob-code js-file-line">      &quot;\n&quot;,</td>
      </tr>
      <tr>
        <td id="L1606" class="blob-num js-line-number" data-line-number="1606"></td>
        <td id="LC1606" class="blob-code js-file-line">      &quot;# labeling the axes\n&quot;,</td>
      </tr>
      <tr>
        <td id="L1607" class="blob-num js-line-number" data-line-number="1607"></td>
        <td id="LC1607" class="blob-code js-file-line">      &quot;ax.set_xlabel(&#39;Sport&#39;)\n&quot;,</td>
      </tr>
      <tr>
        <td id="L1608" class="blob-num js-line-number" data-line-number="1608"></td>
        <td id="LC1608" class="blob-code js-file-line">      &quot;ax.set_ylabel(&#39;Country&#39;)\n&quot;,</td>
      </tr>
      <tr>
        <td id="L1609" class="blob-num js-line-number" data-line-number="1609"></td>
        <td id="LC1609" class="blob-code js-file-line">      &quot;ax.set_title(&#39;Sport vs. Country : Correlation to Age&#39;)\n&quot;,</td>
      </tr>
      <tr>
        <td id="L1610" class="blob-num js-line-number" data-line-number="1610"></td>
        <td id="LC1610" class="blob-code js-file-line">      &quot;\n&quot;,</td>
      </tr>
      <tr>
        <td id="L1611" class="blob-num js-line-number" data-line-number="1611"></td>
        <td id="LC1611" class="blob-code js-file-line">      &quot;for i in xrange (len(colors)):\n&quot;,</td>
      </tr>
      <tr>
        <td id="L1612" class="blob-num js-line-number" data-line-number="1612"></td>
        <td id="LC1612" class="blob-code js-file-line">      &quot;    px = X_test[:, 3][y_test == i]   \n&quot;,</td>
      </tr>
      <tr>
        <td id="L1613" class="blob-num js-line-number" data-line-number="1613"></td>
        <td id="LC1613" class="blob-code js-file-line">      &quot;    py = X_test[:, 1][y_test == i]\n&quot;,</td>
      </tr>
      <tr>
        <td id="L1614" class="blob-num js-line-number" data-line-number="1614"></td>
        <td id="LC1614" class="blob-code js-file-line">      &quot;    plt.scatter(px, py, c=colors[i], label=labels[i])\n&quot;,</td>
      </tr>
      <tr>
        <td id="L1615" class="blob-num js-line-number" data-line-number="1615"></td>
        <td id="LC1615" class="blob-code js-file-line">      &quot;\n&quot;,</td>
      </tr>
      <tr>
        <td id="L1616" class="blob-num js-line-number" data-line-number="1616"></td>
        <td id="LC1616" class="blob-code js-file-line">      &quot;pylab.legend(title=\&quot;Old?\&quot;)\n&quot;,</td>
      </tr>
      <tr>
        <td id="L1617" class="blob-num js-line-number" data-line-number="1617"></td>
        <td id="LC1617" class="blob-code js-file-line">      &quot;pylab.legend(loc=&#39;upper right&#39;)&quot;</td>
      </tr>
      <tr>
        <td id="L1618" class="blob-num js-line-number" data-line-number="1618"></td>
        <td id="LC1618" class="blob-code js-file-line">     ],</td>
      </tr>
      <tr>
        <td id="L1619" class="blob-num js-line-number" data-line-number="1619"></td>
        <td id="LC1619" class="blob-code js-file-line">     &quot;language&quot;: &quot;python&quot;,</td>
      </tr>
      <tr>
        <td id="L1620" class="blob-num js-line-number" data-line-number="1620"></td>
        <td id="LC1620" class="blob-code js-file-line">     &quot;metadata&quot;: {},</td>
      </tr>
      <tr>
        <td id="L1621" class="blob-num js-line-number" data-line-number="1621"></td>
        <td id="LC1621" class="blob-code js-file-line">     &quot;outputs&quot;: [</td>
      </tr>
      <tr>
        <td id="L1622" class="blob-num js-line-number" data-line-number="1622"></td>
        <td id="LC1622" class="blob-code js-file-line">      {</td>
      </tr>
      <tr>
        <td id="L1623" class="blob-num js-line-number" data-line-number="1623"></td>
        <td id="LC1623" class="blob-code js-file-line">       &quot;metadata&quot;: {},</td>
      </tr>
      <tr>
        <td id="L1624" class="blob-num js-line-number" data-line-number="1624"></td>
        <td id="LC1624" class="blob-code js-file-line">       &quot;output_type&quot;: &quot;pyout&quot;,</td>
      </tr>
      <tr>
        <td id="L1625" class="blob-num js-line-number" data-line-number="1625"></td>
        <td id="LC1625" class="blob-code js-file-line">       &quot;prompt_number&quot;: 140,</td>
      </tr>
      <tr>
        <td id="L1626" class="blob-num js-line-number" data-line-number="1626"></td>
        <td id="LC1626" class="blob-code js-file-line">       &quot;text&quot;: [</td>
      </tr>
      <tr>
        <td id="L1627" class="blob-num js-line-number" data-line-number="1627"></td>
        <td id="LC1627" class="blob-code js-file-line">        &quot;&lt;matplotlib.legend.Legend at 0x11500e0d0&gt;&quot;</td>
      </tr>
      <tr>
        <td id="L1628" class="blob-num js-line-number" data-line-number="1628"></td>
        <td id="LC1628" class="blob-code js-file-line">       ]</td>
      </tr>
      <tr>
        <td id="L1629" class="blob-num js-line-number" data-line-number="1629"></td>
        <td id="LC1629" class="blob-code js-file-line">      },</td>
      </tr>
      <tr>
        <td id="L1630" class="blob-num js-line-number" data-line-number="1630"></td>
        <td id="LC1630" class="blob-code js-file-line">      {</td>
      </tr>
      <tr>
        <td id="L1631" class="blob-num js-line-number" data-line-number="1631"></td>
        <td id="LC1631" class="blob-code js-file-line">       &quot;metadata&quot;: {},</td>
      </tr>
      <tr>
        <td id="L1632" class="blob-num js-line-number" data-line-number="1632"></td>
        <td id="LC1632" class="blob-code js-file-line">       &quot;output_type&quot;: &quot;display_data&quot;,</td>
      </tr>
      <tr>
        <td id="L1633" class="blob-num js-line-number" data-line-number="1633"></td>
        <td id="LC1633" class="blob-code js-file-line">       &quot;png&quot;: &quot;iVBORw0KGgoAAAANSUhEUgAAAYQAAAEZCAYAAACXRVJOAAAABHNCSVQICAgIfAhkiAAAAAlwSFlz\nAAALEgAACxIB0t1+/AAAIABJREFUeJzsnXt8VNW1+L97ZvKevCYvEh5Bg1qpiAGqrdYrtQnR3oZe\nQG0pxQl6sb+rNq2A2CsoWBJ7tTzUq20FgUSkvsut3NrEqEC1trUWLXqtVnybUBTCU8Ijyf79cc4M\nkznnDDOTOZmZsL+fz/kk5zF7r7PPY5299lprCyklCoVCoVA44i2AQqFQKBIDpRAUCoVCASiFoFAo\nFAodpRAUCoVCASiFoFAoFAodpRAUCoVCASiFoFAMKoQQm4UQV0f52xFCiANCCBFruRTJgVIIcUQI\n8VUhxEtCiL1CiN1CiBeFEBNsqmuxEGKdHWWHUXeNEOL3Qoj9QohP9ZdW7QDU+4EQ4mK76wmqM0cI\ncZcQ4kP95bpdCLFCCFEwQCJIfTkhwe0jpfxISpktbQhOEkL0CiFO7WcZbiHEQSHE07GSS9EXpRDi\nhBAiB/hf4G4gHxgK3AYcsaEuV6zLjKDuy4DHgCZgqJSyGLgVsF0hoL0YLb92Y90uQohU4DngTKBG\nSpkNfAXYBZwbRXmOoPVYX8eQ7WMD/a1rGvARMFEIURIDeRTBSCnVEocFmADsCbG/DvgD8N/AXuDv\nwMUB+8uAp4DdwDvAvwfsWww8AawD9gHXoSmao8AB4FWT+m4CHg/adjdwd4A87wL7gfeA74ZxjgLt\nAZ57gmMWAh8AO4FmIEffNxH4OOj4D3ztoJ/nY/pv9gNvAOP1feuAHuCQfs7zgJFAL3AV8CGwBU0p\nXx9UxzbgW1Fc038H/glkhjjmTGAzsEeXtzZgXxPwC+Bp4CDwdf185+sydaF9xH0ZeEkv4zXgooAy\nNgFX6f9XAM+jKaTPgIeA3DDaxxHmPWba9ibn/Hu93IN6XZfr22fr5e4GfgOUnqB9nwfmAG3B9xQw\nDnhVl+Ux4FFgScD+b+pttQftuRoT73dAIi5xF+BkXYBs/UFtAi4B8oP21wHHgB8CTuAKNMWQp+//\nPXAvkAqMBT4FvqbvW4z28p+sr6cDi4AHQ8gzAvgccOvrTqAD7cs2C02xnKbvKwFGh3GOX9BfBOUh\njrlKfymM1Ot50icn5grhffoqhC69/QRwO/BHs2P1dd8LrwnI0NvlcuBPAceM1a+Ly0LevwHfsdj3\nCLA2xLmmANuBHwMu4Gv6C+x0fX+Tfo2/oq+n6eewFa0Hmab/3QVcoh9Tpa8X6OvBCuHrer2FaApw\nRRjt41MIJ7rHLNve5Nx7gVMD1i9GU1Ln6OXfA2wJ8ftyoBsYhqZI/hawLxVNwf8A7b6dgvYB9BN9\nfyXax8aXdFmv1M89Nd7vgURb4i7AybygvTDXAh+jvfx/AxTr++qA9qDj/wx8DxiuPxxZAftu972M\n9Id1c9BvFwPrTiDPC8BM/f9qYLv+fxbal9VUICOC87tAfxFYPnhoJpb/F7B+OpoycxCeQngmYN9o\n4JDZsfq674U3MmBbOtAJVOjrS4F7o7yezwC3h9h/IbAjaNuvgEX6/01Ak8n51gWs30SQYgdagCv1\n//0KwaT+fwO2htE+jjDvMcu2N6k7WCGsBv4rYD1Lv+4jLH6/EHhJ/78A7Xk5R1//F+ATk3vZpxB+\n4fs/YP9bwL9Ec50H86LGEOKIlPItKeUsKeVw4Cy0LvpdAYe0B/3kQ6BUXzqllJ8H7PsI7evRxydR\niPQrYLr+/3eB9bqcnwPfBv4f0CGE+F8hxBlhlLdb/1sa4phStPPy8RHa13O4NuKdAf8fAtKDbe8m\nfOz7R0p5GM3EMFP3rvkOmjklGnajXUMrygLr1vkw4DfSZD9B28qBy4UQe3wLmuIdEvwjIUSJEOIR\nIcQnQoh9aOcV7uB2GSe+x6Jpex99rrtez+6g8gO5EnhcP3Y3mtnNGyBr8LMS3GZzg9psGKHvy5MS\npRASBCnl22j22LMCNgc/HOVoZpwOwCOEcAfsG0FfJRDsKdIbhhhPoA3YDUX7mvxVgHzPSCknob14\n3gJWhVHe22gP5mUhjulA+zL1MQLty3Qnmgkr07dDCOEEisKo1y92mNubgRlo5pdDUso/R1BHIM8C\nNUKITIv9HcDwILfOcowvs2AC5f0IraeXH7BkSynvNPnd7WjjBGdJKXOBmfR95q3axyfrie6x/tDn\nugshstCUlaEthBDnA6OAhUKIHUKIHWiD9d/V74kdGJ+VEQH/fwQ0BrWZW0r5aIzOZdCgFEKcEEKc\nIYSYo798EUIMR/s6/2PAYcVCiHohRIoQ4nI0E9PTUspP0AYVfyqESBNCnI1mi38oRJU7gZGhfMyl\nlJ+hfXk1Ae/pSgohRLEQ4lv6Q3sM7UXdc6JzlFrffA5wixCiTnfJdOjutvfrhz0M3CCEGKm/fG4H\nHpFS9gL/QPvq/IYQIgXNbJB2onqDzrkiDDn/iPZyXAo8GEH5waxDU4BP6tfXIYQoEELcLIS4FPgT\n2pf0fP2aTkQb7HxE/304XjgPAbVCiElCCKcQIl0I4VPiwbjRrtV+ff+NQfst20dK+TGR32OhCK7r\nYWCWEGKsECIN7br/SUr5kclvvWjmuDPRxjLGon04ZQCX6nL2CCGuF0K4hBDfQhsv8LEK+H9CiHOF\nRpYQ4l+DlJ0C1BhCvBa0bu6jaF9cB/W/v+D4oG4d8CLHvYzeAqoCfj8U2IjWzd4OXBOwzzCADHjQ\n7KqdwCsh5PoeWm9ibsC2IWiKYi/aWMLzwBf0fRcCB05wrjVoA5QH0AYmnwcu1fcJ4Ba0r7hP0V7I\nuQG/9aJ9Te4E5qJ5OF1sdp5oX5w9HB8UnYxmltiDppj67A+ScSFB4wsW5/IGMD3E/hxghX4+B/Rr\nsxTdaQDN1u5ryzcI8GZCG08KtnX3sfPr287Vy9itt9lGYJi+L3BQeTTwii7HVr0NPgooJ2T7RHKP\nhWpbff/39eu4B7gsYNt2vfyngDKT3/nGeP7VZN99wGP6/+PRvIwOoJkAnwQWBt2DL+v1d6A9e+54\nvwcSbRF6Y8UFIcQHaF4WPcAxKWXEvtqDFSFEHXC1lPLCeMtyMiCEmAnMllL+S7xlUfQfIcSfgZ9L\nKZvjLUsyEbeAJR0JTJRSdsZZDsVJjG7zvw7NxVKRhAgh/gXNxLgLbTzoLDTvK0UEJMIYgsqbYo4k\nzBQEiugRQtSgmV12EDCIrkg6zuB44NkNaGapnaF/oggm3iaj99ACnnqA+6WU4XiuKBQKhcIG4m0y\nukBKuUMIUQS0CSHeklK+EGeZFAqF4qQkrgpBSrlD//uZEGIDmveEXyEIIZTJRKFQKKJAShmxOT5u\nYwhCiEwhRLb+fxYwCXg9+Lh4u2GFsyxatCjuMgwWOZNBRiWnkjPRl2iJZw+hBNigx0m5gPVSymfi\nKI9CoVCc1MRNIUgp30fLdKhQKBSKBCAR3E6TnokTJ8ZbhLBIBjmTQUZQcsYaJWdiEFe30xMhhJCJ\nLJ9CoVAkIkIIZBSDyvF2O1UoFApC5FxUnIBYfjQrhaBQKBICZQ2InFgrUjWGoFAoFApAKQSFQqFQ\n6CiFoFAoFApAKQSFQqFQ6CiFoFAoFBZ873vf46qrruqzbcuWLRQWFrJz5+DLrq3iEBQKRdzR/eYj\n/p2Ukg0bNvDaq69yakUFM2fOxOl0xkyuzs5OvvjFL7Ju3Tqqqqo4fPgwZ599NgsXLuTKK6+MWT3R\nYtVu0cYhqB6CQqFIWA4cOMCqVatYsWIFb775pmH/j2+4gUVXXoloaGD19dfzncmTY+q+6vF4+O//\n/m+uueYaDh06xG233cZpp51GXl4eX/ziF8nPz+drX/sab731lv83DoeD9957z79eV1fHLbfcAsDm\nzZsZNmwYy5cvp6SkhLKyMpqamvzH7t69m9raWnJzczn33HNZuHAhF144gLPoxjsr3wky9kmFQjH4\nMXvW9+7dK0ePHCn/LTNTXpeaKgszM+Vzzz3n3//ZZ5/J7NRUuRukBHkY5KisLPnyyy/7j+np6ZEL\nbrxRluTkyLK8PPnTn/xE9vb2RizftGnTZG1trSwsLJRbtmyRWVlZ8tlnn5Xd3d3yzjvvlKNGjZLH\njh2TUkophJDvvvuu/7d1dXXylltukVJKuWnTJulyueSiRYtkd3e3fPrpp2VmZqbcu3evlFLKb3/7\n23L69Omyq6tLvvnmm3L48OHywgsvjKjdArZH/M5VPQSFQpGQ3P/LX1K5YwcbDh3i3qNHWX3oEDdd\ne61//4EDB8hxucjX19OAoS4X+/bt8x9z19KltN13Hy/t38/ze/ey/r/+i7WrV0csy89//nM2bdrE\nrbfeypYtW/jmN7/J17/+dZxOJ/PmzaOrq4uXXnrJ8vcyoNeSkpLCrbfeitPp5NJLL8XtdvP222/T\n09PDr3/9a2677TbS09M588wz8Xq9AxqwpxSCQqFISDp37eLMI0f8618Adnd2+tdHjBiBZ8gQfuJ0\n0g6sAd5xOBg/frz/mN898QSLDx3iVLRJl28+dIiWJ5+MWJbi4mIKCwsZPXo0O3bsYMSIEf59QgiG\nDx9Oe3t7WGUVFBTgcBx/9WZmZnLw4EE+++wzuru7GT58uH/fsGHDIpa1PyiFoFAoEpKqmhruz8zk\nNWAXcHN6OpMuvdS/3+l08tvNm/nTV77C+JwcVo8ZQ8uWLeTn5/uPyS8s5J2A9A7vOBzkFRb2S66y\nsjI+/PBD/7qUko8//pihQ4cC2gv+0KFD/v07duwIK8VEUVERLpeLjz/+2L8t8P+BQCkEhUKRkFRV\nVbHorrv417w8KtLTyfrmN1n+i1/0OWb48OH87oUX+Oe+ffxh2zbGjBnTZ/8td9xBQ1YW16akMDs1\nlV9kZ/Pj226LWiYhBFdccQW//e1vef755zl27BjLli0jPT2d888/H4BzzjmH9evX09PTQ0tLC7//\n/e/DKtvpdDJ16lQWL15MV1cXb731FuvWrRvQxH9KISgUioTl6tmzad+zh31dXTQ//jiZmZkR/X7M\nmDH8eds2Tmls5Myf/pRX/u//OPXUU/sl0+mnn85DDz3ED37wA4qKivjtb3/Lxo0bcbm0XKF33303\nGzduJD8/n1/96ldMmTKlz+9DveDvvfde9u3bx5AhQ/B6vUyfPp3U1NR+yRsJKg5BoVDEnWjjEAY7\nN910E59++ilr16413a/iEBQKhWKQ8vbbb7Nt2zaklLz88susWbPG0MOwEzUfgkKhUCQIBw4cYPr0\n6XR0dFBSUsK8efOYPHnygNWvTEYKhSLuKJNRdCiTkUKhUChsQSkEhUKhUAAJoBCEEE4hxKtCiI3x\nlkWhUChOZuKuEIAfAm8CyoCoUCgUcSSuCkEIMQz4BvAAMHDheApTWltbmTztEiZPu4TW1tZ4i6NQ\nKAaYePcQVgA3Ar1xluOkp7W1lRneyyif/Cblk99khvcypRQUijBYvHgxM2fOtNw/cuRInnvuuQGU\nKHriFocghPgm8KmU8lUhxESr4xYvXuz/f+LEiUycaHmooh/ct3IF0+/I52teT59tNTU1cZRKoUgM\nmpqaWLZsGe+99x45OTlMmTKFn/70p+Tm5p4w15AQwvZ8RJs3b2bz5s39LieegWnnA5OFEN8A0oEc\nIcSDUso+89IFKgSFQqEIROpTaL762qtUnBr7KTQBli1bxs9+9jMefPBBvv71r/PJJ59w7bXXUl1d\nzR/+8IeEiJ8I/li+LcoEfnFTCFLKm4GbAYQQFwHzgpWBYuC47pobmOG9zL/+8E17WN98QxwlUii0\nyN1HHnmEgwcPUlNTw+jRo/vsv/HHc/j1081MmJrK/6zu4anfPsmTjz0Vsy/y/fv3s3jxYtauXcuk\nSZMAKC8v57HHHuOUU07hoYceMtS1bt06Fi5cyOeff86cOXNiIsdAEe8xhEDir2ZPYmpqaljf/AQf\nPjWaD58azfrmJ5S5SBFX9u3bx5e+fA5rn76FZ9/9GV+96Dyef/55//5du3bxy1/8gkVbyvjObUNY\n+Gwpf3ntRV555RX/Mb29vdy88CaKhuQzZGgBt/9XQ0Rf9C+99BKHDx9m6tSpfbZnZWXxjW98g7a2\ntj7b33zzTa699lrWr19PR0cHu3fv5pNPPomyBQaehMhlJKXcAmyJtxwnOzU1NUoJKBKGX97/S0or\nD/KDh0oBOHtSGnNvup5X//ImoPUesnJScedrJqKUNAcFQ9P7TKG5/K6lbGh7gNteGkLPMcmKy5ZT\nUjyEq6/697Bk2LVrF4WFhX1mOPNRWlrKX//6V8444wz/tieeeILa2lq++tWvArBkyRLuvffe6Bog\nDiRSD0GhUCj87O7cRemZx19RQ7+Qzu7dfafQLPSU8MRPdrG7/RjPrenkn+8c7TOF5v/+7tdMW5zL\nkFPTGHpGOt+6OZvftmwIW4bCwkJ27dpFb6/REbKjo4PCoNnXOjo6+kx7mZmZSUFBQdj1xRulEBQK\nRUIyqaqG5+//nPdf62L/rm4eubmTmkmX+Pc7nU5afvs8u/40ipvHt/PK6gLaWjb3mULTk1/IjneO\n+tf/+c4x8vPCn0LzK1/5CmlpaTwZNA/zwYMHaWlpoaqqqs/2srKyPtNeHjp0iN27d4ddX9yRUibs\noomnUCgGO1bP+qoHVsqSMo9052TIGVdeLj///POIyt22bZv0FOXIS/+jRE769yGyaEi+fPfddyMq\n484775QlJSWypaVFHj16VL7//vvy0ksvlePHj5dHjhyRixYtkt/73veklFK+8cYb0u12yxdffFEe\nOXJEzp07V7pcLvncc89FVGe4WLWbvj3id25CjCEoFAqFGf9+9Wz+/erZUf9+zJgxvPLn13jiiSdw\nOp2sWfxthg4dGlEZN954IwUFBcybN493333XH4fw8MMPk5qa2ifO4Itf/CL33Xcf3/3ud/1eRsOH\nD49a/oFGzYegUCjijpoPITrUfAgKhUKhsAWlEBQKhUIBKIWgUCgUCh2lEBIUlYpaoVAMNEohJCAq\nFbW9NDY2MnJkMSNHFtPY2BhvcRSKhEG5nSYgKhW1fTQ2NnL7nbdy1T2a6+Ht9bcCsGDBgniKpVAk\nBEohKE4qVq26m6vuGdpH2a5adLdSCAmA3XMGKE6MMhklINddcwMP37SHTc2dbGru5OGb9nDdNfan\nom5tbWXapElMmzQpIU1Ualxl8BJNVG08loaGBnKAJn3JARoaGuKd0eHkuBCcxKkrWlpaZO3UGlk7\ntUa2tLQMSH0lGRmyCWQTyJKMjAGpN1xaWlpkQYlbXt80XF7fNFwWlLijkq+hoUFm5jj85WTmOGRD\nQ4MNEisGIxUej2wCKfWlCWSFxxNvsQwQZeoKFamsAGDapEmc0tbGP9xap/H0g728X13Nk888E2fJ\nNCZPu4TyyW/6TT2bmjv58KnRPPVkS8RlNTY2smrV3QDMnv1DZS5KYsrKyjiyYwcAaaWldHR02Frf\nqIICbunsxKuvNwNLPB62J1gCu2gjldUYggKAnbt28VyOg5n6YOsD9e2ctWtXnKWyhwULFiglMAgo\nKyvj8x07uEdfr9+xg7KyMluVwqw5c6hfuNC/Xg/MT7JZ0UKhFIICAJnjZGbQYOvWtbGdm7Y/qCk+\nFcEc1pWBN2DbDXpvwS58HxJLli8HNGUwmD4u1KCyAsB0Eo9EmthDTfF5clNXV0d+SQb5JRnU1dUB\nYGYPGQg/pQULFrB992627949qJQBqB6CQue8cRdye/3x+WHX1Ldz8/zvx1EiI2qKz5OTuro6Htuw\njqt1c+bq+nUAHBKC+oAxxnrgqHJd7RdKISgA2LplC/+xv5d/XN8OwH8c7GXrli0wyL6AFMnHhv/9\nFVcHmTMfnPsrFi5ZwpKFC/FZ9I8AtyxZEhcZBwtKISj8jAGWHtTmjm0G3o+rNAqFRq80zmfcK3v9\n5pq1uj3/lkFmz48Hyu1UAWhBX94pU7ijqwuAmzIyaN6wISlMNK2traxctgyAa+bOTQqZE41EbsPs\n7HR6Hcf86UbW1Lfj6E3hwIHDcZYscYnW7TTuwWehFk7iwLR40NLSIqdWV8up1dUJFZQWikQPqEsG\nEr0NGxoaZEoasmCYSxYMc8mUNFQw4Qkg2QLThBDpwBYgDUgFfiOl/M+gY2S85FMkB9MmTWJyW1uf\nQKGnEiigLhlIhjZUwYSRkXSBaVLKw0KIr0kpDwkhXMCLQoivSilfjJdMCoUiMVHBhANDXAeVpZSH\n9H9TASfQGUdxFEnINXPn4n3xRQgc+5g7N85SJReqDRU+4jqoLIRwAFuBCuAXUsr5QfuVyUhxQhJ5\nQDRZUG04uIjWZJQQXkZCiFygFfixlHJzwHa5aNEi/3ETJ05k4sSJAy5fPGhtbeW+lSsALW3DQDyg\nyk6rsAOlbOxn8+bNbN682b9+2223JbeXEXALMC9oW/+G2pOUWKV6jgSVFlphB4nuwTRYIQm9jAqB\nbinlXiFEBloP4TYp5XMBx8h4yRdPYpnqOVxGjiym9rb0PnVuXHSYDz741LY6FYOfZPBgipRk6PEk\nnZcRUAo06+MIDmBdoDJQKBSKRCM4gNP74otJE8AZDvF0O30dGBev+hOZeKR6nj37h/4J58GX3O4n\nttapGPwMNg+mlcuWcUdX1/GU211drFy2TCkEhX34Uj37BpXXN9s/qOwbQF61SBtUvnn+T9SgsqLf\n1NTU0Lxhg9/E0pygJhaFTjQDDwO1cJIOKicLyZjqIpmxs70bGhpkeXmRLC8viqszgRBCZuU7ZFa+\nQ+pjiCFJSUmR2W6HzHY7ZEpKiu3yRTpI7vV6ZV5xuswrTpder9d2+XwQ5aBy3F/6IYVTCiFhUd4j\nA4ud7Z0oHmZCCJkRIEdGTmilkJKSYpB7oJRCOIrZ6/UazmeglIJSCIOMeHx9t7S0yNqpNbJ2as0J\n65xaXS2bQLuF9JfU1OrqAZHzZMTO9i4vL5LXNw2XT8qx8kk5Vl7fNFyWlxfFpOxIyMp3GOTIyndY\nHp/tNh6f7bY+fqDJK043yJdXnD4gdUerENQUmkG0trYybdIkpk2aRGtra9xk8E6ZwuS2Ns1lb8oU\n22VpbW1l6uW1vN3xAm93vMDUy2sH5Pyrq6vJKUghpyCF6urqkMc2NjYyYlQxI0YV09jYGHWdjY2N\njBxZzMiR/StnMPE/d36Kt/ANvIVv8D93Jp6rcUFBAW6PE7fHmVBTuw46otEiA7UwwD2ERDGDxOPr\nu/zUoTK70Onv3mYXOmX5qUMtj49FW1VVVRm61FVVVabHxsqskSjmkUix894sLS01XIfS0tKYlB0J\nViYjj8dj2O7xeOJmMgoXZTJKcoWQKGaQeMiRXeAydr8LXCF/01+zVrbHpE6PeZ3DK4xmjeEVkZs1\nEsU8Eg12mRHdHqehTdweZ8zKjwSzQeVQpqSBHlSOlGQbVFZupwlIPHy3hYn10GxbIGrSeyOjRo3i\n053a5KPFJaewfft26urqeOrpRwGY/I1v09TUFFXZJ0N79/Yap8sMxdGjR22SJDZo17opzlKEj1II\nASRKEE08fLenfHM6q+vX+ddX17dzxZSZIX8TSQi/2bHnjZvI6vrn+9R5wbkXm/7++7NiEzhnZwDe\nqFGj+OiTd8kp0h6rjz55l+zsbHoch7han/7R18bRKgU7OK38bFbX/82/vrq+nS9UjI2jRH1JE3ms\nrm/3r6+ubyfDlRdHiQYx0XQrBmohDl5GJ7NvfSTd20hs2qGOraqqktkel8z2uCzHD3w0NDTI4RVF\ncnhF/3zl7fK5T03BYNP2rQeaO/KLBsbTJBIqKyul2+OUbo9TVlZWxlscAx6Px29K8ng88RYn4SHZ\nktuFw8ma3C4ZiCRp2bRJkzilrY1/uDUT1OkHe3l/ECY4c3uczFoxtE+CwLU3tBu2rb/xMzo/7Yqb\n7IrBTzImt1MkGBkZGaS4NJvsse5Uurpi89LauWsXz+U4mKmbTR6ob+esXbtiUnY8sEpwhsm3S/dR\naTB3nMgUpwifxsZG1i5fDsCsOXNUupV+ohSCAtCUgSP1KF79pb2mvp2MjAxLpRDJeIvMcTLznuNf\nyQBb1zpjfAYDh1WCsyEFp7C6/n3/cavr2xk25FS++tWvsv5GbVD5iikzE2r8IJlpbGzkzoULuUdf\nr1+4EEAphX6gFEICkAj51VNcmjIIfGk3X99ueXwkA99aINFOk22Di+3btzNq1CiafqQphbIizctI\no6nf5cdjFr1EZu3y5cwGntLXZ+vblEKIHqUQ4kwy51cP1w0yHum87WTcRRdR39bmX68H5l90EUCA\nAogtra2tzPBexvQ78gGY4b2M9c1PJMV9Yhf7u7poBpbq6/MAESMz58mKGlSOM4kyo5TPZHRVgMmo\n92jsxhEG09etb5DcZxw6BWwfJI/HLHqJTmlmJv8VYLprBn6ckcGOQ4fiKVZCoAaVbSYRzDp20tXV\nRUZGht9M1BvDQWUYnEFVx3SvKQ5GFkw1WLF6Ruz6GMjKyPCPYfXZpoieaHxVB2ohQbKd2plHJlHy\nJynCJx75kFpaWmRBidtfZ0GJO6HuE6v72E65GxoaZI5eXxPIHEiKvFQDASoOwT7sNusM9t7HYCNe\n5ptENrtZPSPHsh22tpVyOzVHmYySmMFoTlHYQ8oBZZ4KZMGCBQOuBBobG1m1SptqdvbsHw4uJRRN\nt2KgFk4Ck5Fi4KmqqpI5OU6Zk+M8YboMM7xer8FkZHcmy0S/B+NhMooHyZI+HWUyshdl1hkcVFdX\n89LLz/fxpjr/3ItpC3AjPRHFaWlcefRon1QcD6am8umRI7bIDInjjRaKgR5UjgcjRxZTe1t6HxPY\nxkWH+eCDxJpUSJmMbOZkNusMpgf65Zc3cVVQAN6D9ZsiskX3HD3KGGCp7l3UrG+zm43AEv3/c2yv\nLXKsnpGT+dlJNuKmEIQQw4EHgWK0LDArpZT3hP6VYqA5GQKieqWMKAXCMSGYE9BznaNvs5PssjI2\nwHEZgSllZbbWqTBiZ/r0RCCePYRjwA1SyteEEG7gr0KINinl3+MokyKI+1auYPod+X2+qO9buSJp\nFcK5537whp57AAAgAElEQVSNNQFzMKypbyely8Hd9B7PTQQsCZECITM/nwOdnfxSXz8MZOfn2yYz\nwIsbN3IP9JVx40Zb61QYmTBhAimHHPxJj9dJOexgwoQJcZYqdoSeEgsQQtiSdEZK+U8p5Wv6/weB\nvwPqk0dhK21tbZx/7sU8WN/Bg/UdnH/uxRTm5ERUhhv4OfBHffm5vk0x+Fm5bBl3d3fzl4O9/OVg\nL3d3d/vHTQYDJ1QIwJ+EEI8LIb4hhD39YiHESKAS+LMd5SvCo7W1lcnTLmHytEtobW0FtDGDh2/a\nw6bmTjY1d/LwTXu47prY5SFqbW1l2qRJTJs0yV+n3bS1tbFvXzf79nXT1tbGrDlzqEcbC2hGM8fM\nmjPH8vfDyst5HZjsdjDZ7eB1fRtAXV0d+SUZ5JdkUFdXFzOZI5UxUsyuveIk5ERuSGhKYxLwCPAu\n8FPg9GhcmizKdwOvAP9msk8uWrTIv2zatCmGjlmKQEK5B7a0tMjaqTWydmpNTF0GE8mVsqGhQVZ4\nPLLC4zmhG6GV26nX65UZAdszYuyOGomMkTDYXEPtJJHu2UA2bdrU513JQLidCiEuBh4CsoDXgP+U\nUr4UrTISQqQA/wv8Tkp5l8l+GYl8iuiJR/RtMrhSmmHleriv6wDfu7Ooz/aH5n/Gnp2JnYFTJc6L\njGRwQbfN7VQIUQjMAK5ES2p/PZoH3FjgCWBkpJXq5QpgNfCmmTJQKBQKxcASjpfRS2i9gm9JKT8J\n2P6KEOKXFr8JhwuA7wHbhBCv6tv+U0qpPkviQDzmLIhk1rVEwsr18J133mF1/Tr/9mSZLnOwzVdh\nJ8k8f0lYhLInAU5gWTS2qFgsJEjqCik12+HU6mo5tbo6IWyGdmA1VhCLc7ez7HjQ0NAgy8uLZHl5\nUR97vtfrlXnF6TKvON32dBaxxK5xIim1NvF40qTHk5ZUbWLG1OpqORfkVH2ZC3JqdXW8xTJAlGMI\n4byU/4Q+kc5AL4miEBJ1IGkgiMW5J/Og5WB6mcUDr9cr0zKFPP3LmfL0L2fKtEyR1O14QWWlzAH5\nZX3JAXlBZWW8xTIQrUI44aCybhYqAx4HfFMRSSnlr2PcWTGrW55IvoEgWQc/Y0Eszj1ZBy3r6up4\nfMO6PnmPLp8yk6ampvgKlkRkZ6ci0nvxLtVCjJrndSAPOzhwwP5UH3Zw9qhR7Hj33T7TdpZWVLDN\npqlTo8XOXEbpwG7g4qDttisExeDhw9e7uHPaBwAUn5ISX2HCZOPGRwx5j3415xGgKW4yJRsiVeJd\nWtanDZvn7IijRP3j0J49eIEn9cSG3oO9/M+ePfEVKoaEE5j2gJRyVuCC5h100nDN3LnagCfaF/JN\nGRlcY/PgZ2NjIyNHFjNyZDGNjY221uXDLDgpFud+3rgLeW5VJ1+anMOXJufw3KpOzht3YexPIMb0\n9hrnHvBtU4Fc4ZGTnRfWtmQhMz+fB3IclN87lPJ7h/JAjoNMm9OWDCTh9BDuAcaFsW3QUlNTQ/OG\nDX7f42abfY8bGxu5/c5b/aYKn0eLnRNxhEpi199z//PWFwxf2n9+6oXYCW8TORmFrKlv96+vqW+n\nMKvkpEj4FytGeobTXP83/3pzfTtnV4yNo0T9I3tYPjNvOdrnXt66dvAoBMsxBCHEV4DzgRuA5YDP\nHpUNTJFS2n5VE2UMYaAZObKYsy+TfPr+MUAzsWx7Qtiac33ytEv4x84X+Oc7Wk7/IaelcXrJhTGx\n89s9hmDXDFbTJk3ihbY2uvK0jnTG3l4ujGJayLq6On63fj0Al86YEfUYRDIERAUzbdIkXmlro1Nv\nQ8/eXiYkyfhbamoqqe4eAI4edHL06FEmT7sETvlrn2eT98cn3HiYHWMIqWgvf6f+18d+4DLTXyhi\nQlfXUTY3H+wzEJfhsDd92rMtm8F1jKv1Xsnq+nY+enVzTMq208/dzt7Ufin5PMfBVXcdH1TeLyUZ\nEZRRV1fHhubm42mrm5sBIlYKyer//rf33mNXUBv+7b334izViUlNTcWV0cOsFcefh9TUVEaMGEHH\ns519npOyIusB5bq6OjZufASA2trvJL5DwonckICR0bgvxWIhQdxOB5qzzjldXt80XD4px8on5Vh5\nfdNwedY5p9taZ1a+w1BnVr4jZuXb5edeWpZrkLu0LDcmZXs8aYayPZ402dLSIvOKMvxutHlF1q64\nxS6XbALNw1t33S12uSKWZWp1taGcRPR/Dybb7ZC1cwvleVNz5XlTc2Xt3EKZ7Y7dfWUXVs9Dttu4\n3ep84jHVqg+idDsNZwwhTQixCi1Fhe94KaUM9jpSxIhTTj0FeNNkW/Ji16xZRw4fBnJMtvWfw8eO\nWW/b1+PPic9RNfGgFd3dks3Ne/r0dru7Tw4zcDJ6qYVzJz8O/AJ4AOjRt50cVzROxCOVQO+RFFYH\nDKCurm+H7sR3Dx2SP4w19e/719fUtzOyKDbKs0dqLzAfzfM66JFaTvyrjx7lfd2V/iKOsnLZMlOF\nd+mMGX4zEegznc2YEbEs18ydy7eee44f6rrv8H74TRKk+XClu/AuHdLX7fRH/4yjROFx9KDT8Dx0\ndzk566yzWBMwSL6mvp0zTkveQXIDJ+pCAH+NpusRi4WT1GQkZehUD3alonamILMLnTK70CmdKSRF\nNHFLS4vMcrlkidshS9wOmeVyxUzurHynwdyRle+UYyoqZKFutmkCWQhyTEWFZTler1cWu1yy2OWK\n2mRgd2ptuygvLzKYWMrLi+ItVlikpKTIrHyHzMp3yJSUFP/29PR06c5zSHeeQ6anp1v+PhlNRuG8\nlBcD1wGlgMe3RFNZxMKdxArBDDtTQDQ0NBhSDMQy576d2JUPyQmGl7AT5PDsbIM9f3h2dszqNSO/\nKN3wYs0vsn4ZJQoNDQ2Gl2Ky3FdmVFZWGs6nMkTqinilPolWIYSTuuIDTExEUkrbjdonq9upFXa6\nb44YVcy3bumb4/83Sw7z0Xb7XF0Tnex8F1+7Or+Pi+Gm1XsoceRyS2dnn3QeSzwetu/ebZssnuIM\nZvys71wL62/8jM5PE3uuBbDPLTge5GQ78d47tM91aL6+nf0Hek7wy4HFttQVUsqRUUmkUCQ5DqeD\n8jEZ1C3VXAw3NXficO5j1g1zqF+40H9cPTA/htNZmjH5G99OytTaoLkAJ7MSOJkIZ4IcL+Y9hAdt\nkUhhiZ2DzRd/9RtJ+8Kxiynf/K5pm/hebkuWLwc0ZWD3C8/nv77+xkcBuEIl2YsLo04bO6gHlcMx\nGd3LcYWQgZbkbquU0vbgNGUyMtLa2sp9K1cAmoKIlSun3RGYdskdrSzhRvxWV1fz562bAThv3ETa\n2toGQkRFAjNq1Cg+3al5thWXnML2BMt0CtGbjKIZ6M0DWqMZsIiirhgMryjCoXZqjWHQsnZqTUzK\nbmlpkRlZKbJgmEsWDHPJjKyUuHkwRTK/Q0tLi8x2OPy577MdjqTwvEo07Jx8Z6BJlrlRsMvLyPAD\nLaXFP6KpLIq6YtxMCivs9GA6Y/Qog2fGGaNHxaTsSIkk4vfU0lKDe+mppaUDLHFyk8yTI5mRLBHj\n0SqEcMYQNgasOoDRwGMRd0UUCU1NTQ3rm5/wm3XWN8fOrLNz1yeGiM2H5n8S4heJwb4dO6ijb+77\nph1aLv/GxkbW6mMIswZgDCFZuW/lCqbfkd/n2t+3ckXC52A6WQknUnmZ/lcC3cBHUsqP7RNJEUsS\nIUNmenq65baBHlu4Zu5cvC++CHqSuJsyMmi2iPg9AjyQ42Cmnsjsgfp2evb30tjYyJ0LFx5PWKd7\nHCmlMPiJ5P5JSsLpRgBDgFrgm0BxNF2RaBaUyahfRGovt6trbxVlGy9zQriBbJ6CDGNyu4IMWeHx\nGMwGFR6P7XInI4MtME1K+wIhYwk2BqZdAfwM2KJv+hfgRinl4zbop+C65YnkU1gTyXzIk6ddwqtv\nbWbvzm4A8kpcVH5hYszmQ/hU/JEPXtOSzo08J51i+RWAhJ5reeTIYmpv6xust3HRYVwHegY8MC1Z\nmTZpEqe0tfEP3ex2+sFe3k+S+RCSGTvnVF4IfElK+aleURHwHFrSO8UgYcvzf+BYb9/5ELZ0/CFm\n5X+pNpf5T2jB7dqLP2ZF28bs2T/0z68Ams/5zfN/AjDggWnJzBhg6UFt6tFm4P2QRyc+iWCGtY0T\ndSGA19HjFfR1B/B6NN0Rk7LXADutykOZjPpFJCajLI/TmP/d44yZHGamoWTwQGloaJDl5UWyvLyo\nj6mjoaFBVng8ssLjSXoTiJ0ki5tmuCTL+RClycgRhs5oAVqFEHVCiFnA08DvYqSP1gKXxKgsRRC+\n+ZCfqq7mqerq0DNsmVnmYmSt83kwffjUaD58arR//mGr7YnE5s2b6Tywh84De9i8ebN/+4QJExg7\nfjxjx49nwoQJAyJLY2MjowoKGFVQQGNj44DU2V8iugeTgJXLlnFHVxdewAvc0dXl7y0MCqw0BXAa\n8FX9/2lo8yovB24FRkWjfSzqGYnqIcQdq8yeJzNVVVWGNqmqqorLV2JDQ4PMCYiJyAHVM4kDgz0O\nIdSL+rfA2SbbzwY2RlOZRT1KISQAuS6XdDqRbo9Tuj1O6XQic6OY6nEwke1xGadL9Lji8lJQnk2J\nwWA3GYUaVC6RUm4z6VFsE0IM2HyOixcv9v8/ceJEJk6cOFBVn1TITMl/3DO8j0fNg/UdJ/iVQnFy\n4TOB+cxEzQkyqLx58+Y+Js2osdIUwPZo9kW6oHoICUFmjlOeNy1HllSkypKKVHnetByZmRObQeVk\nRZmMFMkKsY5DEEI8AjwvpVwZtH02UCWl/Hb/1REIIUaimaDGmOyTVvIpYkuqELhyHH3cTrv393L0\nJG9/q2yn8XA9VOkyFOESbRxCKIUwBNgAHAX+qm8eD6QBU6SUO6KUNbCOh4GLgALgU+BWKeXagP1J\nqRAaGxu5f602Q9T3ZyXHDFHZ+U7q7uo7E1TTj9o5sMfemaCSsa0UikQnWoVg6XYqpfwncD5wG/AB\nWjzJbVLKL8dCGeh1TJdSlkkp06SUwwOVQbLS2NjI7XfeyrduSedbt6Rz+523RuUiWFdXR0FBOgUF\n6dTV1cVe0CBs9Dq1pLGxkcaAtmo8QVs1NjYyYlQxI0YV9zmutbWVaZMmMW3SJFpbW22WOna0trYy\nedolTJ52SdzlTtY2VMSYaOxMA7WQhGMIwyuKDJ4pwyuKIirD6/Ua8r/YPUG30+k0up067R1DyCtK\nM7RVXlGa6bFWOXGSxesjmEQKykvWNlRYg42BaYoBZuPGR/zpor/m9XDVPUPZuPGRkL/p79fmsGEe\nzq528/iSnTy+ZCdnV7sZNswT8jf9rfNYT7fltuAe0v1r72ZMgHxjqt3cv/bupA0UCkwL/TWvh+l3\n5PuzvsaCUL2p4GuWrG0YKVa9oLq6OjzFGXiKM6LujSdSb68/KIUQJuFe8DNOGcvq+nY2NXeyqbmT\n1fXtnHHKWH8Z4XTLe3p7LbeZydHa2soM72WUT36T8slvMsN7WVQ35Zdqc/n59jP5+fYz+VJtbshj\nI63TTO5jh3pZE9BWa+rbOXaol7q6Oh7fsI7vLi/mu8uLeXzDOj5t7+T1toNcfksJl99SwuttB9m3\n5/OIzzFSrKKD+2ti2W2SCM9sWzRYmS0jvWaxioxOhJdla2sr3ilTmNzWpiV8nDKF1tZW6urqeGzD\nOmb8rIgZPyvisQ3rTqgUgq99rJ6/hCCabsVALSSIySiS7n2FxyOngRye55DD8xxymh5AFEm3vPzU\noTK70OmvL7vQKctPHWopRyymv4zUTBVJnVZyV1VVSVca/qk1XWnIqqoq6fEYTUlZ+cZcS4Vlblvd\nMa3KjoWJ5bwLxhuu8XkXjI+J3FZmS6trZnY+Xq83Ju2aKKYxq2DC/KJ0Q5vkF6VblmPWVudfNMG2\n6WejBbtmTFNEPutTLfDE3uPZHV+jb7ccAL1bblbG2eecBacc4S9P7Qdgojcf3j/LUo5YcKCjg0v3\n97Lx+nYALj3Yy4GO2ASmWcnd1tbWx61z4oVVtLW1UVBgnFBHmPhLZGRksHXLFmYDvuSps4GtW7ZA\nDLyV1i5fzj1w/JoBS5YvZ+v48WFfSyuKSwop/nJ+0DUu7LfM0WAWbHXdd79reu6ReoENthnTzJ7j\nRR98yDiM92wyohRCjJk1Z45pauStW7ZY/yiI6665gRney5h+Rz4AD9+0h/XNN1i+/H3H+/AdHym1\nwBMBaYpDZaiOVZ0+v/4+ctR+hzX16/zra+rbOaNiLGvq/9Zn283zf8LWLVv4E/Bmnmb93Lm3l5KI\npRh4rK5xLPj+LPO03RMmTLC8Zr5kg4MVq5nOsh8uY3XAvba6vp0rpsyMqOxhnmE8fNM7/vVYXssB\nJ5puxUAtJKHJSErz1MiRmhl8piBfl95XrtXsU2bHR3qOkZpBwq0zmlmzvF6v9HjSpMeT5jddNTQ0\nyOEVRXJ4xfFU1BUVFQbvqIqKishOPoTcdpmMpOz/NTuR7MFtFUmdsTLFJYrJyCeL2UxnXq9X5hel\ny/yi9BN681ldezuvZTQQ6+R2ibDEQyF4vV5Z7HLJYperz80Riwve36n3plZXy7kga90OWet2yLkx\nTqpm9hKOBXbK7c4zji2482LnLms170Ek1zIlJUVmeZwyy+OUKSkpUcti59SNZgokVnM+VFVVyZwc\np8zJccqqqqpYiSyl1F587jyHdOc55EC9L8zaxev1yrzidJlX3FepVFVVyWyPS2Z7XDE/91AohRAD\nzAbS7Pb/jwQ7s2zaOfetnXLbrRD6S0pKiqEHE41SsDNWwM5rb+czhUnKdrvfGWbXwSznldfrtcyF\nNRAohRADipxOw4uryObgLCvMvqrsfCmUlxs9U8rLQwfUmclYWVkp3XlO6c5zysrKypjKbdZLq6ys\nNDx0vnrjQfBXfKxmorNTqcYimNKKYpfL0DssDpFWvbKy0p+CPfA6Op1Ofy/LFzDpznOYfAw4YiK3\nFWbXwSxNel5xusz2uGTt3EJ53tRced7UXFk7t1BmewYmpXy0CkENKgfQ02PM22O2zW6qq6t56eXn\nuUpPNLem/nmqq6tpa2tLmNS7ZjJmZ2fT4zgUkCDvb4wbN46tW7f2W26fr7dvEHaG9zLWNz/B1q1b\nGTduHE0/0jK1f6FiLFu3bo3VaUYso3fKFO7QBy69L75IMjif7NmzByg12dZ/jvT28kCOg5n6PfFA\nfTscNMbZAIwbN4633v2b4f7Ztm0bqVmSWcuPJ150uVxkZMdERNs4dqSXzc178C4tA6B5XgfHjiR4\nbrZotMhALQxwD8GdkmLo3rr7YfONlpwc41dljs2pqCM1G+TkOA1fP1n5Zl9ssZE7FrEWdmP29ShM\nzBqJZjJKyxKGmIi0LBGTsk89fZjhup16+jDTY90mvSm33isw62WZta1IIJNRptv4PGS67e3B+ECl\nrug/4886izHAfH0Zo29LJOyK+lywYAHnn3sxzXN20DxnB+efe3FIn/Pubsnm5j18aXIOX5qcw+bm\nPcgQHz91dXXkl2SQX9I3PUBjYyMjRxYzcmRx1NGwdiYCtGrvuro6SlJSKElJCVnnlOpqurucrJ3T\nwdo5HXR3OTl69GjEctg5N7ErzcFErxYT8Zen9jPRm48rzUFZWRkFQlAgBGVlZVGV/cWzvhjWtmjI\nBdz7e2n6UTtNP2rHvb+X0PH1/aempoYfLFjAEo+HJR4PP1iwgLa2Nq6YMpOH5n/GQ/M/44opM2lq\nasLlMAbPmG1LKKLRIgO1MMA9hJaWFlmUmurX/kWpqXFxIauqqjJ8rfsmZrHLhS/SHkJRWa7h6yct\ny5ggr7KyUnq9XtMvqEjqtDp3OxMBhqrTbKA0WZPEmbnuOhwOwzmWlpZGXHYk96zVeJBV4sUskIUB\nMhaCzIpDD8HqfKye44EANagcG+x07YsEswFbO80moQYWGxoaZHl5kSwvP+6SaDUIbTaonFdsTA+Q\nV5we8UC22aCyWZoLj8c8Y2qkWLV3sctlMA35BkoT5f6JlIqKCv+gbUVFhfTo5xV4jp4on8dIXLYj\nGVT2gObCrC9z+yFjuEQ6uG+ny20oolUIalA5iESJ2DSL4I0HvkRpvsFjXwTsMM8w1gVEDq+rb+es\nirG8aOOAbqJcm1Akg4xmbN++vc96gVmukCiJpE2sHAK6u42ZccsrK1n16qvco6/XAxWVlVFKaQ+J\n8hyHTTRaZKAW4tBDSGTsNBlh4dNt9RXf0tIi81JT5QS3Q05wO2ReCPNaLExGViSSyWgwUVpaGhOT\nkd1UVlZKj94zGAh342QxC6JMRrHBKlrX7ijR4MhHQGblO2RWft9gG7tC5LPyHaZeQ6HMOpG0iVUk\np9V5muF2u/1mA7fb7d9eUVHhj1YNJ22FVVoHM6za2yqiPRIivadicQ9alZGeni6z8p0yK98p09O1\nbJ+lpaX+l21/lEEk7W1lMrKTSOSTMn5moEhQCiEGWH3JtrS0SKf+YHhAOiGmg7nBX2JWX+t2YuYy\nmpXvsDWKNZLzdLvdhmPdbrflNbMiVufT35dzNLmt+vtlalVGenq6oQ19SqG/RNLe8QgyjPR+iMds\nhtGgFEIMyM1LMbwUc/NSZFZ6uuGlnRWjB6bC4zEMUlm9nO0kJQ3DjZ6SprW/2aByLIjkPK180bNz\njVGi2bnW0aCxiMqNxcs50sHJWEQqW5VhNtdEVn5s4kciaW+rOAQ7ifR+yDW533JD3G/xIlqFoOIQ\nApAmM5XJ3l7SDh/254b3AvcAaYcPW5aTCDNEBcoSPLOXmXypmQ6Gj0ln3fwO1s3vYPiYdFIztdtj\nwYIFfPDBp3zwwacR58P3YTWlY7/pMYl6NdsWQ5JhyslIZ3T7y8Z9XDvq71w76u/8ZeM+2+VzOp24\nPdridDptrw+sn8tIzr3X5N4y25a0RKNFBmphgHsIp5aWytyAr+TcHIc8VbejNoXpgtfS0iIzslL8\ns4BlZKVEnGaYEKYUK3tnsNugT5Y8h8Nfdp5D6w7nFWX4y84r0r5unSnI1EwhT/9ypjz9y5kyNVNI\nZ0ps2r+hoUGmBZSdlilkQ0NDTExGntRUwzXzpKaGlKW/JqNYfK3baTIKlaLZbLvT6TRe+yhyeJmN\nE5m1t9l1dzgctpqMQs3aF0kCupzUVMP55IS43+IFymTUf1paWmS2w+H3nMl2OGRLS4usqKgwvLSt\nBi/PGD3KcMOcMXpUyHrDHVS2eplZzQlQbmKOMjOLnX/RBDlkaKEhfcGQoYUxadfC0lxD2YWlubKq\nqko7T12RASEfRrNB5YaGBpkJ/muWyYnz9kc6iBhMLJP12TGoHEphmZWR40k3XJ8cT2Qm0VDjb1ku\nlyzOc8jiPIfMcrlCmgrtGlS2iimJ1GTU0NAg00CWuB2yxO2QaWHcb/EgWoUQ1zgEIcQlwF2AE3hA\nSnlHPOWpqanh8aef9nf/G/QkbNu3b2fUqFHMefddAIoqKti+fTutra3+Y6/Rj9256xOuumdonykD\nH5r/Sch6FyxYYDDFtLS0+GdIu+4abfal+9febSj7/iV307mnk6uDtq+d8wFpncbEfL3dxm3tH3xI\nSrpg4nf6Tun42v/Exhe9u+cI3qVlQW3ymT5dZgFH5F4APB5PSL/tAwcOGLYtWLCAJ598krff0WIi\nzqisPKFZy6y9I8FsysmBiD2IRYyDWRm9HKMu6Po0zbGePrW1tbXPvVlTU8Nvfveo4R58aP6jHOjo\n4L7ubrzaJaaZXq4LYam2MzHhh693cee0DwAoPiUlqjJ8983a5csB+EHDnH7dS4lG3MYQhBBO4F7g\nEmA0MF0IcWa85PGxdOlStrS1saWtjaVLl/q3b9++nd1SsltKvzLwTpnC5LY2Jre14Z0yhdbWVtLT\njektfduqq6spFIJCIaiurraUobW1lamX1/J2xwu83fECUy+vjWos4hgwD206zGb9/2MHe1lX386m\n5k42NXeyrr6dYZ5huDPz2LT2eG6iTWv34M7Mi7hOMzx5xrmCPXmFVFdX09W9l1krhjJrxVC6uvf6\n2yU7O9tvY87Otk5rWVdXx/+9/RqlZ6VTelY6//f2a/7cQpGM5VRXV5Ob6yI319Xn2ljZ4mtqanjy\nmWd48pln+rxgNblduD0uv9zZ2dm4C1y4C45vs7p/YsE1c+dqU0SiXfebMjK4Zu5cy+Nlj1Hxyx5h\ner/6ss6WT36T8slvMsN72Qnlfh2Y7HYw2e3gdeDzPb2sDrgHV9e38/me6Ozw48aN8+dbGjduHGA+\nXnXeuAt5blWn//5+blUn5427kO/P+iFrAmRZU9/O92f9MGSdEyZMYOz48YwdP54JEyaEPNa2sTO7\niKZbEYsF+ArQErD+Y+DHQcfEuicVkqqqKoNpyMqEYdUtt7KDRlJ2+alDDV348lOHWpqMUk1yvaQ6\nNR/pTJBf1pdM3dRlZmI565zTDV3ns845PSbtOqaiQroD5HPnOOSYigqZZZLPPivPYTleYEZmltPQ\nVplZzoiC+ELljorENGQmNyb2crfbbev8BlJGZo7Kzc82ZmRNc5rer1amFyuzpdk9m+VxyjMuyJS5\nxU6ZW6z9H80cEZWVlabBc2bPSKi0L5HGpYR7T9jpsn0iSEKT0VDg44D1T4Dz4iQLAK8++6zfm8jH\n3GefBbQv0d+tXw/ApTNmWJbxfvvfqZrt8ZteqmZ7eGHd3/no1cOWZQebnjr37sS7vG8XvnnODn/X\n9P4ldwNw8/yfsGDBAu5ZvJj0/T003dAOQNH+Xg67XLS1tVFdXc2rej3nV1WRIwT/9u67vK/npL8I\n2LplC/sO7CE4eb+2rf8c2rOHsft7eUiXb+z+Xv7p2gNmFikBMuUQV68IMoHpvw3GkYY/Uydo/29a\nu4f7Vq5g+h35fcq4b+UKU5PLyy9vMpjiHqzfxMplgu91dfGkW+tIf++g5k1kZbaRKV2mcs8K3hbC\nHJpvM0cAACAASURBVAPG+yEaM1Ek5iWRcoyzL3bz+JKdAJxd7eaN5w9yzxHj/Xr+VPMydx9o5+zq\nvmW8/UI7f976gqFt187poHp2gX/bpubOE7ZJXV0dTz39KACTv/Ftmpqa+FBPWxEo4/VdO03NqueM\nHWdZdiQmxJXLljGqq4v5+vppXdb3hJWJN5FNTPFUCGHNFLF48WL//xMnTmTixIk2iaMJtBFYoq+f\no2+rq6tjQ3Pz8Zwpzc2cW1XFTRkZoE+GclNGBs1z5/L8lS9EVKfZpCoywklVnOnpHDp4kHv1bvc8\nIEU3UwXb5KdNmsQYwGcMawbeB/bs2k/zvE7/cc3zOpDHQt8eZrZkM46lpfGXTMHIMzSZ/rKtiyFp\naRzt7GVN/fEX/Zr6do4d6fW7u4ZTX2+3g01r91C3XEvP3DSng97u2FhCd+7aRVuOA6+ex2llfTtn\n79oVk7KvmTtXm0An6P4xux+iSXUd7rUB6D4qeXPL530mcuk+av54njfuQm6vP35Pralv5+b53+eF\nF7fwpdpc5j9xCqC95N9+4TN2795NeVAZPV0uVl77Cc/8cjcAH2zrYnjpqZby1dXV8diGdQET56wL\nffImXHfNDczwXuZff/imPaxv1sbmImmrP/z1r3RBn/xJ2//614jliTWbN29m8+bN/S8omm5FLBbg\ny/Q1Gf0ncFPQMTHvSoUi0yQALTM93TK7pVm3vLS01NB1Li0ttTQZmZkO0k1MQEW6B5JZF9TnaRNo\nGgqVRtqsy5vmdsiMHIff9TAjxyHTQkzmEYlJxsqLpaA4R6ZmCr+LbmqmkAXFOdJhYmYRYFpfXkGG\nwRSQV5ARE5NRpGa0SExGvjYMvn9i5dIaSc6rrHxjsFVmrjH9te9+DZ4Sc2p1taWX0QWVlQa3YLM2\ncTis77WsXJPAuVxnRCYjX7sEpyGJtK0icUFPRpNRPBWCC3gXGAmkAq8BZwYdY0NTWWP14g+V7jgY\ns/lVffOoVlVVyQKQBQHjB2YvAI8nTZ43LUeWVKTKkopUed60HFleXnTCFNXBrqtWmL2IsvLNZkCz\ntutGkoo7u8CkTQpc2sMZVKcvvfQIkO58h3TnO+QIMJ1FrnZqjcwvMqbWzi9K959nuHmfzPLTRBPV\n7Ha7/TmBfC9+qxxMZsRCIUSaJt3qng33fvXJZxaHYKZAIo3EDzUvtVlyu0jGBCJtqwIThVAQ4j3V\nXxfnaIlWIcTNZCSl7BZCXA+0ormdrpZS/j1e8gC4UlIgKM2uKyWF6iuuoL652b+tHpgyY0bEtl4z\nl0oz00HZiOF8qbarT/d7664SPv7kQ8uyI7GDmtmXu/dD6y92M/LsDABebdmPOBIb00taqtEGlpaa\nznXX3MC0b09m6JnabfjGc108+egNeLKHsKG52W8CqwcKh5QaygDIyS5gdX273/zw8ZuHKS4stTxP\nK8yuTdmQETTPe82/3jyvg9FnnANY2/nNXGPNtllhZUqyk/y0IlYHmO5W17dTlFUS9v3qk6+pqQlo\nMj3+joPHj4cjEcnXc1TSPO/4GEPzvA56dJOWmZtqf92KQ1FZVUW9PiYH2r15blWV5fF2ymIL0WiR\ngVoY4B7CaJMAtNEVFf6ANZ9JJluP+DUzvUQa+Sil8Yu9paXFNJrYzi6omZkqPUS0aiRd7UjTX/uC\nf4bpSxpaemmz+sw8ZHLzs2PSJlYR1nanQI5F4rxIzCAtLS0yzeGQOfnakqYHZMZKvuDjHQ5HRCaj\nqqoqQyR1rLKMRpNS3qznlGiQbCajsIQbYIUwtbpaFoE/lXKR3h32dXsDZ2aq8HhkEcejiX3HSqnP\n7qRvDycFgPlMYB6/6cHj8fiPTU9P95sfAjNSWplHzExJZim+3XkmicXynJbHh6ozmNqpNbJwRIpf\n7sIRKbJ2ao0sLy+Sw0anSXeBU7oLnHLY6DRZXl4kKzweeQHIvHyHzMt3yAv09jaLYg2VEM3r9cr8\nonSZX9Q35Xa4WNnLY+UyGmkq80hexFZlW5URSVtZlWEVZWy23eFw+J+RQGVgtd2qbDBG9EejsPp7\nHazSu8cLpRBigMfjMXy5eDweOUbvOfh893NACpOBsbSUFMsyrDD7QjEro7S01LJsq68cszxJlZWV\npul7M3ONdt3MXEdM0v0OG2EcaB82olQ6nCaDi05kusNh+CI0G2iuqqqSmXkOw3hLZp4j4rTYZkSj\nEMJNvRDNV7xd6a8jndvarAyr+JtI8hNZ9RxaWlpkapoWb5Jd6JSpaVqcCSb3BLpMdvbegss3swrE\nWykohRAD3CaBUu48hyzMyDB4SmSaBVXlOyMeMDMb1LJKR2w1uGYZLGSSyyjbbZTP40mTaVnC4AmU\nliViMmdxblGqoYzcolTLtkpzO4zBZibtne1xWSqVUIPN4WKlDM0UbUNDQ0Qvv0gHM+1Mfx3J4LlV\nGVY9tUhSWlvdD1YfFFbHx6L3Fkkbmg3K5xXHJj1+tESrENScymHQm9HLzOXhBUolK640B6MvyvIH\nFo2+KIs3Nn0ecTnV1dW8/PImAM4992u0tbUhhHFw2mybX5ZUYch9ZNXeGTkOY+BXFNemsbGRVau0\ngL/Zs3/IggUL2Lz5aUNg0cZFT3Og4xyqOR6vUo0W3PfOh9sM+Xya5mwzDaqKFU6nk4xc7f+ufdDT\nY8xVlezs+/wzQ7s2z91he711dXVs3PgIALW13/Fft9eBafoxp9guxcCiFEIARz53GgJm5DEXGUXp\nhsRYxw5Lg2eGszeT1NRUw/YMl3VOILOAmZ6ulIjKvu6aG/jW1G/y8ELtITnYCb/59SpeGfcK9QsX\n+o+vB0adNpY19X/zb1tT387lU2byq4d/xba2gwHBP+10H3bylX+5kDX1z/c5/vxzLwaMAT1Lly7l\npZef5yq9jDX1z1NdXc23Lv12n2Ci1fXtXDFlJo8++qjhfOTRVFwZPYb27j6C4dgLzr2YP75yXDY/\nUnvxmtVpRmNjI7ffeatf7tvrbwVgz769fPh6bh859uzbx85du3ib48F984AzLALWjhzqNQ2qChUo\nZcY1c+fynS1b+OXRowC8lZrKvmefJT1bMGvF8WvmdDrp6emhsbHRn4Bt1hwtAZuVh9C4V15hybW3\n+O/7D7d1ccvNS0yksPYyev8/d7E64L5aXd/OFyrG8sYbb5g+U2Z07TNe4yMHIbvAYbgfHA4HB3Z3\nG47v2t9rGjAaKXV1dTy+YV3Avaxdt3EXXcSdbW19AtNGlY8xnLvvXktNTSXVrSnpowedHNWvX8IS\nTbdioBYG2GTkNLFJOkGmpTkMpoPUFORokNn5Dpmd75Cj9YFPKX0DwtpAV6jxAx/Bg1ppQkhHCn6b\nqSMFmSaErKyslMKJvysunNqYQCh7ebiDyrmFJmadwlQ5tbpaTgNZ7nbIcrdDTtO74GY28IwMYTTr\nZDssvVgaGhoM59PQ0GAa4JWeni4z3K7jgXNuLTBQCGEMYhPCf57hDJQOKcs1yD2kLFemmNwPKSAv\nqqw0mA0usrCXu03Mf9HESbS0tMii1FS/maoo1drkZmXS8pUTPCDa0tIicwrS/HLnFKRF5WVkNn6S\nliX8JlCf6TMtS1iWbTaobJXbKtttnAc82+3ot5eWlNLSVGplMjMbVE5JSTHePykpUckTKSiTUf/J\nyHNQd1dQl/9H7YCg7q4yw/b5e3vx6r7yzRw3IezevTuieoP95VNyBbPvGtYn10vTj9rZ/s7fuG71\n8D7bm6//Gx988ndDl3r9jY8CTaZ+0Gb+4g4TE45vWy3wxMHj5/kUmOYKavrRIePJSS3/y/29vXj1\n1EjNaNv++o/XDOezatHdFjmBOpi1oqzPsfetXEFWroMvfj2rTw6d/3vuc8vzNOPIMaNf/JFjR0iz\nuB8KCo3ZWwsKC9n8zDOUlZX5TVZ5WSUc7rbOBxVJnMTKZcv42dGjx/P2HD3KdVnmZre1y5cbcvws\nWb6cBQsWmNZ538oVXLmsOKy8T6HkNosJcKWKPtcNQpv0zExeMrWLq4NNtnM6EEehfEwGdUu1r/hN\nzZ0h5bMTs3st1d0TE3PmQKIUQhg4HMZmktJBPcdT9tYD8+fMCVmOWTc+FvRKk2n9TLaFwsrEMn36\ndCa3tfHDPO3l07W3l6fmzuUnP11oyFEjezDkJnIc1n63EbhFL+PcvZpsn3cdIjihnrYtMoJz6PgU\nghXBtuEhQ4bzy++/4w9+6jrQw2mnn0b7DmMgoMPlMjXfPDJ3Lo2NjXy+Ywf36cfWs4OKykpLc0Ik\n7N61i1XAHD3R3pkHe+nS00gHln3kIBCbrOUxQZoMaZht82Fmt5fdxrxKsltSXHIKq+vf929bXd9O\nWUlsrPq1td/h/u83+82w+z/r5rvf8TJ9+nRmbNrkD2Cd63Kx3ubAwQElmm7FQC0MtJdRerqxa5qe\nLkea5CfKTU83DZ6yIlQ3PhirVMJmLqOVlZVyhIl8I0pLIz5/MxOLleeMWY6akaWlprNJWQXreTyZ\nBm8ijyfTtKvtdDpN3TQjnXbRzHPIaRKU53a7LeU2M9+0tLSYenVVeDz9joeQUsoUp9Mgd4rTaWpi\nieRekzK64KxwSTd5pgLjZwKx8upKc5t4wLmF9Hg8BvfkcEy04WCVkyySvGHJaDKK+0s/pHADrBCm\nVldLR0Cgi0O3D5aXF5naKnMDjs3FOr+RlNLyZWGFlhNHKzsw/01lZaXMdjtktvv4i29qdbW8AGR+\nnkPm52mBXLFytbMKWLPy0Tcbs7ByAS0vL5IO5/EpNB1OZHl5kcz2uIzt7XFZBv9UVlZKd55TuvNO\nPO2imW3YyhZf4fHIaSCH5znk8Dxt/KTC47G0I0d6jSPBzF04O0TywUhyW/mOtyPnTrbbYQhKtJLb\n40kzzJPg8aTJrHzjWEFWviPiNokEKxf0SK9xSkqK/zkeKGUgpRpD+P/tnX94VNWZxz/vZCbJhATI\nhN/oAgbUVqyCPErtD1FA1NWqj23VdW3UrqvdWtpi1bbabZ9H2NVupb/WPrVUhVVQd+36g1aJQUm7\nKFhrRLE/pUUsRBGTQAIM+TVn/7g3k5m55wwZSGaG+n6eJw83N4dz3/veO3POec97vmdQeGbDBsr8\nNEbwhqDPbNjAh045nkkn7kyLVR7oMYSHh/hsStk97T3OunPhqquuoje0P63uq666iuXLl1vjtH2Z\nH9/d3Z9Z8Y0hHsYmsy329usN3XzGGTlpt2zbtstLG/Wlq+9duINt23ZRFQsHYsOd+1sCWR/Tpk3j\n1ltvHdJtFy8AHt3dP3+yKUvZKTNnBnVuZrp1+IeSXJ5DfX093/3hHVx+ZzUA373lDmbNmjUocfj9\n8QQ9u0nLXuuK28OZu/d0Et8cSivbuS9BRbSStcta086XJCqA3MOL+abos4oyOZRWJF8/5HmE4Oop\nrlmzJjA0tS9My95jywwx9fXEIpFIUrExEokc0qKqwcisWLx4sZk0abSZNKm/l+gKydjkPPqunZk5\nU1dXZ8JlJGWuw2VeeM210M6mXTNydLBn37d4Kpdsnbq6ukDdtqF9zO9Z20Ivfatk+yROgGTIyCZx\nkssIpu85ZPbuXSGMwcC1SG4wNHuyKZUGymZZ1GkbMcdisUCIqe+5Zb7H2bC9P7mGjHKVvxhq0BHC\n0HHRRRdRUiqcfX0N4PVQei0TXdl44403KAMW+78v9M+VlpYS7e5mad/57m46u4OzbgebJD7czApX\nLv62bdvo7kwkJ9e6OxNs27aNKaNGBTba2fjee1xR98lkT/OKuk+ycsWjrF+/nkhZiMsXeyqk9y7c\nwfr16522bNy4kZJwur+7e+yjr749fjOv6fLFqlWrCEfT647v76YXkpPKnfEEx0+flOxh3+4nAtzs\nJwJEo1Giw70MpL46LrroIiZWVAR8cvfu3TT37E7p3b7KzJkznaOaJUuW8O3bbuvPc/fXkZxwwgn8\n6oV3kvn8vT2GE044wenDXNj6l62BBIHn16+n5919/XasXcv8+fOtCqhZsX1McvvoAHbF2JaWFmpq\nalhxgzexXl46kkWLFlnfY9doyfX+NDc3M2HCBD/L0MsYa25uZsmSJYSB6/3/3/c5Th1hHewdLGoO\npRXJ1w95HiHY9HJC2OUeopVB3ZXUnkvmOgTXngq2DTfKIdDzmez3Bmtra5Px2Nra2qTtrh6KS5gu\nk0mTgvIFkyaNdsZpbZoup58xy9rTdPUSsfgbv+edWT5SFvRJ3165tj0VXLh6obnEol3xZduIwl7W\nLXjoilHb9oMYPjy7Gu1AR4xjxowIbI4ULZecdP9dREqDzy1Saq/H9owjZV5Z15xa5ijG9R73+STz\nM5KrhIjt+djmpbLVkQ/QEcLhMwIItyeSucKV7QnKAVvfNAR0ZvScH3viUWpqaoin9Qh3UFNTQxi4\nCfh8tZc2WNGWsG4pDFABnNme4Am/d3JuewJz2nSmTp1K866tKXVvZerUqdx9993WXs5DDz1kXW1p\nk07INQV0wYIFrHjsseSeACtuvNFftbwzWNjRS1yzZg3nnHNO0t/x9gRr1qzhk5edFyheFg0xe9ZZ\nrLixEYDTTz2LW2+9lcm1R/Hu2laO/qBn+2trOxgz6nXAm4t54mlPMuLCcw9NMsImaeHCNqK44zvf\ndJYfjL2TXfVeev75TCv3RpWXnr+OR37+cxYsWOC8ZuqIbPmi/v0GDpdoeQkfmN+/TuTE+ZX8vmEf\nIsIw/7Owry2BMYbyyjAfnFORVvZ3jfupqqoKzKlVVVUxe/Zs1q1dS9SvZ93atQyLlZH5Hvf55NNX\nXMhn7hoDwKevuJD/XvkEGzduhCmRtFXQGzduHJR7PyI5lFYkXz/keYRQbtlCs7y83JSXlwdXKltW\n5Y6eMMLZA3Wl35WUlASuGQqFrIqNuYrb5SJMVz16WCC1r3r0MGec1oZrK8qKymjg3isqo+4RgmVl\naiQSsY4Qyi1CeOWVbrVT23wBlhHZjBkznCqguaRSuuZgXKqhrq1WXSnHNk6srQ2kBJ/o7+thu6Zt\nq9DYmGFWO3LF9k64nrsrzdf1mbIpC4QszzLbdqglEYs6QcT9vWMbBbr26igk6Ajh8JlYUUH7gQNp\nvfjRFRVsaWkhGo0mY5WJnlLKwsHsgQPtHRCx110S7bKuWjzvY3OZ0tDAk/65a4Gtc+fS+PLLfL7c\nW0FbJtEhj0dWDq/g5IuivPRkOwBz6qrZ9Ljw1pZ3A3Fa10rs1xob+VxPgj/5ZT+3N8EDjY3M/cRc\nNvzmOe5f5MXoh40s4cOzPs5z6xo465pY8przro3x3H2tdLR2UFVVlYzfliQqGPV3US78Rnma/+65\n/fuU2ITwFjXzxNOPBFZvP3jzI3R1dVFaWpoclfTESzCml6lTp7L8S94ip/Gjp9DU1MTkyWMC4nbL\nvvl94vE40Wg0aZ/pKiXua+dEo1FKot670Rv3zs+cOZPlX3oNgONrT6KpqYlLzj6bO+Px/tXE8Tg/\nuesutjY1cSJws3/6RGBrUxMnnXIKFa8kWOX7dsbeBGNHjaKmpoauxG4ASkPes9nRtp0rM+xetWg7\nP7nrLus1pxwzhW2bX07rJX/kox8l3t7LjX7W1Knz5uU+f4C3E938+fP5r4We4OHpp57Fhpefs34W\nPCFESRsxNjQ0UBkrsdZdXm0XNry+Lf0dfLypiTb2sW1zVdo9Nr/1LuWVbnFEm1Cja15pyZJp3HO7\nN5L88he+2j/yKikhOsKLBcT3mKIXH9QGIYU/t7YSzUgl3dXqLYe/7bbb+lcZf3URd9x2Gz9NEe16\n67U44f2GsljMKkDXaXZnvXa3vwKVvQl+0dhIKNqbFnaaMGEC46onB1dmjp7iFEqLVY1LhomgX8jO\nRs/+MKuXvs2wau/Dt++xXsb721bmKsWRyWkzP8batQ1p93PazI/xTP0zNK5oo+47Xtrpiq8005MS\nqjB+TE2Arq5uMkMBXV3dmG7LKtZuk/XNzkwFrK+vZ/fenclJ4odu2Ul9fX3We7r00kt5euVKAM69\n4lLAawwSoU7+7jhvG9I3X/Majs7OTipGejezaVO2xFXY39XFZuBY/33YvDfBsK6upKDeUj/N9yvA\nxmefpbSSQHiytDwYMrGd6+P5xpeIr00Pc0bDL6WVSZ0EzxQ1PFhnZeLEiZSURZLHvGwvJyJJ9do+\nO0SEyspKfnzdX5Ph2T27eiiPVGIicWs9bwKb/Odf2ndyv/DsstaU8OkOyrtKIWq3Zf78+VahxoaG\nBhobG9nVsweAxsZGZs2aZU3bPe+88wiXGyYe5/n+zdfiSfHBouVQhhX5+qFI0k5tw0Rb2CAWi5na\n2tpAimVtba0zjc0WCnDZUVdXZwj1L+Qi1L86+nAnlXEM43PBFtaJRCLO4bprUx5byCgcCYaGPnDi\nNFNWEUpq7t+w3NPaL6vIbYMcV8jN5ZO6ujpr2MC2ojZSFqxDRJzhm2PGjw+Ee44ZP96cXFsbmMzM\nNrltC3W5rmnffyMUuMdsmzG5sD0Hl19d771L3M4qJmgpO2/ePHPMsUcF6j7m2KOcdbsm8W0hsImT\nRlnfH9ceI/kADRkNDvd9cUcytGF6DRLyxMKuBX7m99qu3ZvgnvLugPDZypt2sbNlN9ffc3SGMN1W\nOtp6qampSQ5Ho+GRNDc3M2JEOBCWsAtgCatXP8wN96XXvWrRw/SJakU6gqmpAxV4G1YdsoZvspE5\n4Vpe1ktdpm79DTvY3vwWL60uTU4WTj65nO3Nu7BtiSAhMP4EYqZPJhxXxgM3e89mwnFlTB17DG9t\n/wtnXl2dtPvMq6t57r42li9fzqpVq5LPsidekvOkclVliDnXpvuk8Z5Wnl65kmshLcz3wMqVhKvs\n+zjYQhK2SfkFCxbQW9rDlf+euQfDATra2lgNfNN/B2f5I4VMWWjA38uhMS1M0xfqsF3TRaZA3qLW\nVquoYZ8Qnm3k8ORTwdDd/YuaqR4XZvmN3rOpOSrCnnd6nanVJmJ/H5qamgIhpqNro1z4jXT7nrj9\nVUI9sG2zSfNVb6fQ0dFBNBrl/i/7n/muUjriHYwYYf9q/PWv1wU+r8u/1MxLq7vS3u8x5LavR7Gg\nDUIK+9oSRIeHuCZl5ez+tgRv08pPh4e40h8+/nThDhKJYKiiq7vbmTlUX19PJB5nqb9K85ZonPr6\n+r6RUBoH9gZFy+LtCcpi9sdVX19P3cUXc6cfx65bv54Vjz2W07xDT5fJGr7JxLZuwSZCBtDR0slr\nDV3pq1X3GXp7g3tKxNsTyeyTVLr2J3hr84G0Ona8+jy9BO3u7TZeZle0l6uXpodTbOEvV8jtuWca\nAiumE0BnIsEK0vdD6E4k7KJtFpf0lbOtHZk4eRKZmVoTJ0/ijc1/4enhobSQx/7dicAK3nh7giVL\nlvDrtWvT1hAsWbLEqXYa32N/DjZaWloCaxZaWlqc+fy9iaBTuvb10rrdpN1Ld2eCbsueF673Aewh\npvfebQEmpt9fPM6Y6FieXbY17ZqTR0+hvr6eYSPCXH7naMB79vX19bS391ptqawK2hLf2xvYS+TT\nF4/D1r7lqDmZd7RBSGGYY5KKbgKTdMs+vz25kAn8L6LOBBMnHGON87sm9Do7EgGF0HCZ8KH5lWmS\nzq+v28cFF1xmnRNw1Z1Lg1ASDvZm7vuiuzezbNn3Az2le2/YEbiXA3sTRGMlXL00OPGLMdZRSdfe\noE9KoyGu/l6wp/nRmWfxqxeeTc7ldO5P8PHT57KhaZ21Z2pjwYIFrFzxaLJ3u3KF17vt6TGBZ9zT\nY5g4dhxff/vttN7zv40dy9a2twNfIj1dieB7YulM9PGvX1vMZVdenPz9wZve4+EHlnHZZRdYR5K2\n9zWb/LWN6EjhrJRRlvcc2ljY1v9lvhAIx2JIey8PpNzjAwt3ML12lHPkIB0SfJYV9s9Z14HeQI/f\nGENVVZV1w6hh1fsD9Sy7YXvgeuVdpYw8rZprvtGVVrbp/mqn3ZUjQ5z52fR3c929rYwIjQzcf8Xw\nMHVLx2eMSp6iuzPYsevpKu4WQRuEAWDrn0Qiwpy66rSsnF8ua2PLli1pGSsTRk9hy5YtXHL22da6\nR4bDTGvvScse2VQdCkg6v75uXzLk4YWJ4FMXX8ny5cuddeeCK3yTC5GQUNbem8xIGrY3wfhYjHfY\n4/w/Nj37aDSYu/76c3ZJ674slhebGgH4+OlzvcyUmtxebVvPuTQcfMaN97Qyffp0eDt9C8fp06ez\n4zc7mX5WRkP+3N5AHdlCcQsWLODhBx5LNk4PP+A1TqFQjg8jRwLPQdoIx2Is8pMqwrEYLS0tXHL2\n2cx+pT+L55/2Jtg6ahTdjnpHVVZycmtr2pqaNY4eP2AdMXd0eFlnfQ1FSaKCjo4Oa/ZROCKc05a+\nhmdTrIKamhoyR17eOTe2d/O0U05hSkND2v3fN7rU+v9LoyHr+1DUHMrEw+H+AJ8Cfgv0AjOzlBvc\nmZaDgGOyy7YOQUSs+c4uXBN6tglK20RX6qrkgdY9GPfuwjZxacuhX7x4sVPO23VN28SdTaI6m9Rx\nLBbLqbwNV+6/y9+23dts93goqpc2aWhb3aFQ9h3TbLiejw3Xvbsmm2225PquuXDV49KfstnnOh8K\nBZUIQiH7Cn3bs1m8ePGg3eehwCFOKheqQTgeOBZYV0wNgvEumlwin3r98vLypOx03yKkefPmmeHD\nS5LZBwfDJSdQV1dnxoTDZkw4nMyEcUlU5Fp3Lrju3YVNRMwlu+y6H9c1bb6NxWLJOgby5Z5reRs2\nuXFj3P4WkeT99G3lOVgSyLaMMdt+CMbkLn+dy/vmundXppvNllzfNRe2elz37rLPdT4UCiUFDFN9\na7t/l3z4YN1nrhxqgyDGMkTLFyKyDrjRGGNV+vI/UHm2SlEU5chGRDDGuHJcnAxtYFJRFEU5Yhiy\nSWURaQDGWf70dWPM6oHW861vfSt5PGfOHObMmXPYtimKovwt0djYSGNj42HXoyEjRVGUvzGOTXX8\nwQAABzdJREFU5JBRzkYriqIog09BGgQRuVhE/grMBn4hIk8Xwg5FURSln4KGjA6GhowURVFy50gO\nGSmKoihFgDYIiqIoCqANgqIoiuKjDYKiKIoCaIOgKIqi+GiDoCiKogDaICiKoig+2iAoiqIogDYI\niqIoio82CIqiKAqgDYKiKIriow2CoiiKAmiDoCiKovhog6AoiqIA2iAoiqIoPtogKIqiKIA2CIqi\nKIqPNgiKoigKoA2CoiiK4qMNgqIoigJog6AoiqL4aIOgKIqiAAVqEETkP0Tk9yLyqoj8r4iMKIQd\niqIoSj+FGiE8A5xgjDkJ+BPwtQLZMSg0NjYW2oQBcSTYeSTYCGrnYKN2FgcFaRCMMQ3GmIT/64vA\nUYWwY7A4Ul6SI8HOI8FGUDsHG7WzOCiGOYRrgKcKbYSiKMr7nfBQVSwiDcA4y5++boxZ7Ze5Fegy\nxqwaKjsURVGUgSHGmMJcWOQq4FpgrjHmgKNMYYxTFEU5wjHGSK7/Z8hGCNkQkXOAm4AzXI0BHNoN\nKYqiKIdGQUYIIvIGUAq0+qc2GGP+Je+GKIqiKEkKFjJSFEVRiotiyDJKMtAFayJyjoj8QUTeEJFb\nCmDnp0TktyLSKyIzs5R7U0ReE5FXROTXRWpjoX0ZE5EGEfmTiDwjIiMd5Qriy4H4R0R+4P/9VRGZ\nkS/bMmzIaqeIzBGRPb7/XhGR2wpg430islNENmcpUwy+zGpnkfjyaBFZ53/GXxeRhY5yufnTGFM0\nP8B8IOQf3wHcYSlTAmwBJgMRYBPwgTzbeTxwLLAOmJml3FYgViBfHtTGIvHlt4Gb/eNbbM+8UL4c\niH+A84Cn/OPTgI0FeNYDsXMO8GS+bcuw4WPADGCz4+8F9+UA7SwGX44DTvaPK4E/Dsa7WVQjBDOw\nBWunAluMMW8aY7qBh4EL82UjgDHmD8aYPw2weEEmxgdoY8F9CXwCWOEfrwAuylI2374ciH+S9htj\nXgRGisjY/Jo54OdY0CQNY8z/AW1ZihSDLwdiJxTel+8YYzb5x3uB3wMTMorl7M+iahAycC1Ymwj8\nNeX37f65YsQAa0XkNyJybaGNsVAMvhxrjNnpH+8EXC9sIXw5EP/YyuR75f1A7DTA6X7o4CkR+WDe\nrBs4xeDLgVBUvhSRyXgjmhcz/pSzP/OedjoIC9byMgs+EDsHwEeMMW+LyGigQUT+4Pc+isXGQvvy\n1jRjjDFZ1p4MqS8dDNQ/mb3FfGdqDOR6TcDRxpj9InIu8DheSLHYKLQvB0LR+FJEKoFHgS/6I4VA\nkYzfs/oz7w2CMWZ+tr/7C9bOA+Y6iuwAjk75/Wi8lm9QOZidA6zjbf/fXSLyGN7QftC+xAbBxoL7\n0p+8G2eMeUdExgPvOuoYUl86GIh/Mssc5Z/LJwe10xjTkXL8tIj8SERixphWiodi8OVBKRZfikgE\n+BnwoDHmcUuRnP1ZVCGjlAVrFxr3grXfANNEZLKIlAKXAk/my0YL1liiiFSISJV/PAw4G3BmVwwx\nrnhnMfjySaDOP67D622lUUBfDsQ/TwKf8W2bDexOCYHli4PaKSJjRUT841PxUs6LqTGA4vDlQSkG\nX/rXvxf4nTHme45iufuzkDPllpnzN4BtwCv+z4/88xOAX6SUOxdvVn0L8LUC2HkxXmwuDrwDPJ1p\nJ3AMXrbHJuD1fNs5EBuLxJcxYC2eDPozwMhi8qXNP8B1wHUpZf7T//urZMk6K6SdwOd9320CXgBm\nF8DGh4BmoMt/N68pUl9mtbNIfPlRIOHb0Pd9ee7h+lMXpimKoihAkYWMFEVRlMKhDYKiKIoCaIOg\nKIqi+GiDoCiKogDaICiKoig+2iAoiqIogDYIigJ4cim+jPCrvqTxqYNQ5xki8uHBsE9R8kFBttBU\nlGLC/9L+e2CGMaZbRGJA2WHWGQbOBDqADYdvpaIMPdogKIonvPee8aSjMb4MgYi8CTyCtwI0DvyD\nMebPvrrkfUANsAu42hjzVxFZDhwATsbTjDkd6BWRfwS+YIxZn8d7UpSc0ZCRoniSGUeLyB9F5G4R\n+bh/3uDpv3wITwKgTzPmh8D9xpiTgJXAD1LqmgB82BhzCfBjYKkxZoY2BsqRgDYIyvseY8w+4BTg\nn/F6/I/4qrvg6dqAt+lM33zAbKBPmv1BPF0Z8BqQ/zHpejAF3UhFUXJBQ0aKAhhvp75fAr/099K9\nylYs5dj1Rb9/kE1TlLyhIwTlfY+IHCsi01JOzQDe9I8vTfn3Bf/4BeAy//gK4FeOqjuAqsGzVFGG\nFh0hKIq3SfkPRWQk0IMnw34dcD5QLSKv4k0WX+6X/wJwv4jchLehz9UpdaWOIlYDj4rIhcANxpjn\nh/Y2FOXwUPlrRXEgIluBU0zxbSSjKEOChowUxY32lpT3FTpCUBRFUQAdISiKoig+2iAoiqIogDYI\niqIoio82CIqiKAqgDYKiKIriow2CoiiKAsD/A7oD2Ghjj8iZAAAAAElFTkSuQmCC\n&quot;,</td>
      </tr>
      <tr>
        <td id="L1634" class="blob-num js-line-number" data-line-number="1634"></td>
        <td id="LC1634" class="blob-code js-file-line">       &quot;text&quot;: [</td>
      </tr>
      <tr>
        <td id="L1635" class="blob-num js-line-number" data-line-number="1635"></td>
        <td id="LC1635" class="blob-code js-file-line">        &quot;&lt;matplotlib.figure.Figure at 0x13291d7d0&gt;&quot;</td>
      </tr>
      <tr>
        <td id="L1636" class="blob-num js-line-number" data-line-number="1636"></td>
        <td id="LC1636" class="blob-code js-file-line">       ]</td>
      </tr>
      <tr>
        <td id="L1637" class="blob-num js-line-number" data-line-number="1637"></td>
        <td id="LC1637" class="blob-code js-file-line">      }</td>
      </tr>
      <tr>
        <td id="L1638" class="blob-num js-line-number" data-line-number="1638"></td>
        <td id="LC1638" class="blob-code js-file-line">     ],</td>
      </tr>
      <tr>
        <td id="L1639" class="blob-num js-line-number" data-line-number="1639"></td>
        <td id="LC1639" class="blob-code js-file-line">     &quot;prompt_number&quot;: 140</td>
      </tr>
      <tr>
        <td id="L1640" class="blob-num js-line-number" data-line-number="1640"></td>
        <td id="LC1640" class="blob-code js-file-line">    },</td>
      </tr>
      <tr>
        <td id="L1641" class="blob-num js-line-number" data-line-number="1641"></td>
        <td id="LC1641" class="blob-code js-file-line">    {</td>
      </tr>
      <tr>
        <td id="L1642" class="blob-num js-line-number" data-line-number="1642"></td>
        <td id="LC1642" class="blob-code js-file-line">     &quot;cell_type&quot;: &quot;markdown&quot;,</td>
      </tr>
      <tr>
        <td id="L1643" class="blob-num js-line-number" data-line-number="1643"></td>
        <td id="LC1643" class="blob-code js-file-line">     &quot;metadata&quot;: {},</td>
      </tr>
      <tr>
        <td id="L1644" class="blob-num js-line-number" data-line-number="1644"></td>
        <td id="LC1644" class="blob-code js-file-line">     &quot;source&quot;: [</td>
      </tr>
      <tr>
        <td id="L1645" class="blob-num js-line-number" data-line-number="1645"></td>
        <td id="LC1645" class="blob-code js-file-line">      &quot;# Fit a logistic regression model to the data&quot;</td>
      </tr>
      <tr>
        <td id="L1646" class="blob-num js-line-number" data-line-number="1646"></td>
        <td id="LC1646" class="blob-code js-file-line">     ]</td>
      </tr>
      <tr>
        <td id="L1647" class="blob-num js-line-number" data-line-number="1647"></td>
        <td id="LC1647" class="blob-code js-file-line">    },</td>
      </tr>
      <tr>
        <td id="L1648" class="blob-num js-line-number" data-line-number="1648"></td>
        <td id="LC1648" class="blob-code js-file-line">    {</td>
      </tr>
      <tr>
        <td id="L1649" class="blob-num js-line-number" data-line-number="1649"></td>
        <td id="LC1649" class="blob-code js-file-line">     &quot;cell_type&quot;: &quot;code&quot;,</td>
      </tr>
      <tr>
        <td id="L1650" class="blob-num js-line-number" data-line-number="1650"></td>
        <td id="LC1650" class="blob-code js-file-line">     &quot;collapsed&quot;: false,</td>
      </tr>
      <tr>
        <td id="L1651" class="blob-num js-line-number" data-line-number="1651"></td>
        <td id="LC1651" class="blob-code js-file-line">     &quot;input&quot;: [</td>
      </tr>
      <tr>
        <td id="L1652" class="blob-num js-line-number" data-line-number="1652"></td>
        <td id="LC1652" class="blob-code js-file-line">      &quot;model = LogisticRegression()\n&quot;,</td>
      </tr>
      <tr>
        <td id="L1653" class="blob-num js-line-number" data-line-number="1653"></td>
        <td id="LC1653" class="blob-code js-file-line">      &quot;model.fit(X_train, y_train)\n&quot;,</td>
      </tr>
      <tr>
        <td id="L1654" class="blob-num js-line-number" data-line-number="1654"></td>
        <td id="LC1654" class="blob-code js-file-line">      &quot;print(model)&quot;</td>
      </tr>
      <tr>
        <td id="L1655" class="blob-num js-line-number" data-line-number="1655"></td>
        <td id="LC1655" class="blob-code js-file-line">     ],</td>
      </tr>
      <tr>
        <td id="L1656" class="blob-num js-line-number" data-line-number="1656"></td>
        <td id="LC1656" class="blob-code js-file-line">     &quot;language&quot;: &quot;python&quot;,</td>
      </tr>
      <tr>
        <td id="L1657" class="blob-num js-line-number" data-line-number="1657"></td>
        <td id="LC1657" class="blob-code js-file-line">     &quot;metadata&quot;: {},</td>
      </tr>
      <tr>
        <td id="L1658" class="blob-num js-line-number" data-line-number="1658"></td>
        <td id="LC1658" class="blob-code js-file-line">     &quot;outputs&quot;: [</td>
      </tr>
      <tr>
        <td id="L1659" class="blob-num js-line-number" data-line-number="1659"></td>
        <td id="LC1659" class="blob-code js-file-line">      {</td>
      </tr>
      <tr>
        <td id="L1660" class="blob-num js-line-number" data-line-number="1660"></td>
        <td id="LC1660" class="blob-code js-file-line">       &quot;output_type&quot;: &quot;stream&quot;,</td>
      </tr>
      <tr>
        <td id="L1661" class="blob-num js-line-number" data-line-number="1661"></td>
        <td id="LC1661" class="blob-code js-file-line">       &quot;stream&quot;: &quot;stdout&quot;,</td>
      </tr>
      <tr>
        <td id="L1662" class="blob-num js-line-number" data-line-number="1662"></td>
        <td id="LC1662" class="blob-code js-file-line">       &quot;text&quot;: [</td>
      </tr>
      <tr>
        <td id="L1663" class="blob-num js-line-number" data-line-number="1663"></td>
        <td id="LC1663" class="blob-code js-file-line">        &quot;LogisticRegression(C=1.0, class_weight=None, dual=False, fit_intercept=True,\n&quot;,</td>
      </tr>
      <tr>
        <td id="L1664" class="blob-num js-line-number" data-line-number="1664"></td>
        <td id="LC1664" class="blob-code js-file-line">        &quot;          intercept_scaling=1, penalty=&#39;l2&#39;, random_state=None, tol=0.0001)\n&quot;</td>
      </tr>
      <tr>
        <td id="L1665" class="blob-num js-line-number" data-line-number="1665"></td>
        <td id="LC1665" class="blob-code js-file-line">       ]</td>
      </tr>
      <tr>
        <td id="L1666" class="blob-num js-line-number" data-line-number="1666"></td>
        <td id="LC1666" class="blob-code js-file-line">      }</td>
      </tr>
      <tr>
        <td id="L1667" class="blob-num js-line-number" data-line-number="1667"></td>
        <td id="LC1667" class="blob-code js-file-line">     ],</td>
      </tr>
      <tr>
        <td id="L1668" class="blob-num js-line-number" data-line-number="1668"></td>
        <td id="LC1668" class="blob-code js-file-line">     &quot;prompt_number&quot;: 181</td>
      </tr>
      <tr>
        <td id="L1669" class="blob-num js-line-number" data-line-number="1669"></td>
        <td id="LC1669" class="blob-code js-file-line">    },</td>
      </tr>
      <tr>
        <td id="L1670" class="blob-num js-line-number" data-line-number="1670"></td>
        <td id="LC1670" class="blob-code js-file-line">    {</td>
      </tr>
      <tr>
        <td id="L1671" class="blob-num js-line-number" data-line-number="1671"></td>
        <td id="LC1671" class="blob-code js-file-line">     &quot;cell_type&quot;: &quot;markdown&quot;,</td>
      </tr>
      <tr>
        <td id="L1672" class="blob-num js-line-number" data-line-number="1672"></td>
        <td id="LC1672" class="blob-code js-file-line">     &quot;metadata&quot;: {},</td>
      </tr>
      <tr>
        <td id="L1673" class="blob-num js-line-number" data-line-number="1673"></td>
        <td id="LC1673" class="blob-code js-file-line">     &quot;source&quot;: [</td>
      </tr>
      <tr>
        <td id="L1674" class="blob-num js-line-number" data-line-number="1674"></td>
        <td id="LC1674" class="blob-code js-file-line">      &quot;#### Make Predictions for the &#39;Old&#39; variable&quot;</td>
      </tr>
      <tr>
        <td id="L1675" class="blob-num js-line-number" data-line-number="1675"></td>
        <td id="LC1675" class="blob-code js-file-line">     ]</td>
      </tr>
      <tr>
        <td id="L1676" class="blob-num js-line-number" data-line-number="1676"></td>
        <td id="LC1676" class="blob-code js-file-line">    },</td>
      </tr>
      <tr>
        <td id="L1677" class="blob-num js-line-number" data-line-number="1677"></td>
        <td id="LC1677" class="blob-code js-file-line">    {</td>
      </tr>
      <tr>
        <td id="L1678" class="blob-num js-line-number" data-line-number="1678"></td>
        <td id="LC1678" class="blob-code js-file-line">     &quot;cell_type&quot;: &quot;code&quot;,</td>
      </tr>
      <tr>
        <td id="L1679" class="blob-num js-line-number" data-line-number="1679"></td>
        <td id="LC1679" class="blob-code js-file-line">     &quot;collapsed&quot;: false,</td>
      </tr>
      <tr>
        <td id="L1680" class="blob-num js-line-number" data-line-number="1680"></td>
        <td id="LC1680" class="blob-code js-file-line">     &quot;input&quot;: [</td>
      </tr>
      <tr>
        <td id="L1681" class="blob-num js-line-number" data-line-number="1681"></td>
        <td id="LC1681" class="blob-code js-file-line">      &quot;expected = y_train                   # the expected &#39;Old&#39; boolean variable\n&quot;,</td>
      </tr>
      <tr>
        <td id="L1682" class="blob-num js-line-number" data-line-number="1682"></td>
        <td id="LC1682" class="blob-code js-file-line">      &quot;predicted = model.predict(X_train)   # predict the expected value based on the model&quot;</td>
      </tr>
      <tr>
        <td id="L1683" class="blob-num js-line-number" data-line-number="1683"></td>
        <td id="LC1683" class="blob-code js-file-line">     ],</td>
      </tr>
      <tr>
        <td id="L1684" class="blob-num js-line-number" data-line-number="1684"></td>
        <td id="LC1684" class="blob-code js-file-line">     &quot;language&quot;: &quot;python&quot;,</td>
      </tr>
      <tr>
        <td id="L1685" class="blob-num js-line-number" data-line-number="1685"></td>
        <td id="LC1685" class="blob-code js-file-line">     &quot;metadata&quot;: {},</td>
      </tr>
      <tr>
        <td id="L1686" class="blob-num js-line-number" data-line-number="1686"></td>
        <td id="LC1686" class="blob-code js-file-line">     &quot;outputs&quot;: [],</td>
      </tr>
      <tr>
        <td id="L1687" class="blob-num js-line-number" data-line-number="1687"></td>
        <td id="LC1687" class="blob-code js-file-line">     &quot;prompt_number&quot;: 182</td>
      </tr>
      <tr>
        <td id="L1688" class="blob-num js-line-number" data-line-number="1688"></td>
        <td id="LC1688" class="blob-code js-file-line">    },</td>
      </tr>
      <tr>
        <td id="L1689" class="blob-num js-line-number" data-line-number="1689"></td>
        <td id="LC1689" class="blob-code js-file-line">    {</td>
      </tr>
      <tr>
        <td id="L1690" class="blob-num js-line-number" data-line-number="1690"></td>
        <td id="LC1690" class="blob-code js-file-line">     &quot;cell_type&quot;: &quot;markdown&quot;,</td>
      </tr>
      <tr>
        <td id="L1691" class="blob-num js-line-number" data-line-number="1691"></td>
        <td id="LC1691" class="blob-code js-file-line">     &quot;metadata&quot;: {},</td>
      </tr>
      <tr>
        <td id="L1692" class="blob-num js-line-number" data-line-number="1692"></td>
        <td id="LC1692" class="blob-code js-file-line">     &quot;source&quot;: [</td>
      </tr>
      <tr>
        <td id="L1693" class="blob-num js-line-number" data-line-number="1693"></td>
        <td id="LC1693" class="blob-code js-file-line">      &quot;#### Summarize the fit of the model &quot;</td>
      </tr>
      <tr>
        <td id="L1694" class="blob-num js-line-number" data-line-number="1694"></td>
        <td id="LC1694" class="blob-code js-file-line">     ]</td>
      </tr>
      <tr>
        <td id="L1695" class="blob-num js-line-number" data-line-number="1695"></td>
        <td id="LC1695" class="blob-code js-file-line">    },</td>
      </tr>
      <tr>
        <td id="L1696" class="blob-num js-line-number" data-line-number="1696"></td>
        <td id="LC1696" class="blob-code js-file-line">    {</td>
      </tr>
      <tr>
        <td id="L1697" class="blob-num js-line-number" data-line-number="1697"></td>
        <td id="LC1697" class="blob-code js-file-line">     &quot;cell_type&quot;: &quot;code&quot;,</td>
      </tr>
      <tr>
        <td id="L1698" class="blob-num js-line-number" data-line-number="1698"></td>
        <td id="LC1698" class="blob-code js-file-line">     &quot;collapsed&quot;: false,</td>
      </tr>
      <tr>
        <td id="L1699" class="blob-num js-line-number" data-line-number="1699"></td>
        <td id="LC1699" class="blob-code js-file-line">     &quot;input&quot;: [</td>
      </tr>
      <tr>
        <td id="L1700" class="blob-num js-line-number" data-line-number="1700"></td>
        <td id="LC1700" class="blob-code js-file-line">      &quot;print(metrics.classification_report(expected,predicted)) \n&quot;,</td>
      </tr>
      <tr>
        <td id="L1701" class="blob-num js-line-number" data-line-number="1701"></td>
        <td id="LC1701" class="blob-code js-file-line">      &quot;print(metrics.confusion_matrix(expected,predicted))&quot;</td>
      </tr>
      <tr>
        <td id="L1702" class="blob-num js-line-number" data-line-number="1702"></td>
        <td id="LC1702" class="blob-code js-file-line">     ],</td>
      </tr>
      <tr>
        <td id="L1703" class="blob-num js-line-number" data-line-number="1703"></td>
        <td id="LC1703" class="blob-code js-file-line">     &quot;language&quot;: &quot;python&quot;,</td>
      </tr>
      <tr>
        <td id="L1704" class="blob-num js-line-number" data-line-number="1704"></td>
        <td id="LC1704" class="blob-code js-file-line">     &quot;metadata&quot;: {},</td>
      </tr>
      <tr>
        <td id="L1705" class="blob-num js-line-number" data-line-number="1705"></td>
        <td id="LC1705" class="blob-code js-file-line">     &quot;outputs&quot;: [</td>
      </tr>
      <tr>
        <td id="L1706" class="blob-num js-line-number" data-line-number="1706"></td>
        <td id="LC1706" class="blob-code js-file-line">      {</td>
      </tr>
      <tr>
        <td id="L1707" class="blob-num js-line-number" data-line-number="1707"></td>
        <td id="LC1707" class="blob-code js-file-line">       &quot;output_type&quot;: &quot;stream&quot;,</td>
      </tr>
      <tr>
        <td id="L1708" class="blob-num js-line-number" data-line-number="1708"></td>
        <td id="LC1708" class="blob-code js-file-line">       &quot;stream&quot;: &quot;stdout&quot;,</td>
      </tr>
      <tr>
        <td id="L1709" class="blob-num js-line-number" data-line-number="1709"></td>
        <td id="LC1709" class="blob-code js-file-line">       &quot;text&quot;: [</td>
      </tr>
      <tr>
        <td id="L1710" class="blob-num js-line-number" data-line-number="1710"></td>
        <td id="LC1710" class="blob-code js-file-line">        &quot;             precision    recall  f1-score   support\n&quot;,</td>
      </tr>
      <tr>
        <td id="L1711" class="blob-num js-line-number" data-line-number="1711"></td>
        <td id="LC1711" class="blob-code js-file-line">        &quot;\n&quot;,</td>
      </tr>
      <tr>
        <td id="L1712" class="blob-num js-line-number" data-line-number="1712"></td>
        <td id="LC1712" class="blob-code js-file-line">        &quot;      False       0.56      0.84      0.67      3544\n&quot;,</td>
      </tr>
      <tr>
        <td id="L1713" class="blob-num js-line-number" data-line-number="1713"></td>
        <td id="LC1713" class="blob-code js-file-line">        &quot;       True       0.50      0.19      0.27      2919\n&quot;,</td>
      </tr>
      <tr>
        <td id="L1714" class="blob-num js-line-number" data-line-number="1714"></td>
        <td id="LC1714" class="blob-code js-file-line">        &quot;\n&quot;,</td>
      </tr>
      <tr>
        <td id="L1715" class="blob-num js-line-number" data-line-number="1715"></td>
        <td id="LC1715" class="blob-code js-file-line">        &quot;avg / total       0.53      0.55      0.49      6463\n&quot;,</td>
      </tr>
      <tr>
        <td id="L1716" class="blob-num js-line-number" data-line-number="1716"></td>
        <td id="LC1716" class="blob-code js-file-line">        &quot;\n&quot;,</td>
      </tr>
      <tr>
        <td id="L1717" class="blob-num js-line-number" data-line-number="1717"></td>
        <td id="LC1717" class="blob-code js-file-line">        &quot;[[2989  555]\n&quot;,</td>
      </tr>
      <tr>
        <td id="L1718" class="blob-num js-line-number" data-line-number="1718"></td>
        <td id="LC1718" class="blob-code js-file-line">        &quot; [2367  552]]\n&quot;</td>
      </tr>
      <tr>
        <td id="L1719" class="blob-num js-line-number" data-line-number="1719"></td>
        <td id="LC1719" class="blob-code js-file-line">       ]</td>
      </tr>
      <tr>
        <td id="L1720" class="blob-num js-line-number" data-line-number="1720"></td>
        <td id="LC1720" class="blob-code js-file-line">      }</td>
      </tr>
      <tr>
        <td id="L1721" class="blob-num js-line-number" data-line-number="1721"></td>
        <td id="LC1721" class="blob-code js-file-line">     ],</td>
      </tr>
      <tr>
        <td id="L1722" class="blob-num js-line-number" data-line-number="1722"></td>
        <td id="LC1722" class="blob-code js-file-line">     &quot;prompt_number&quot;: 183</td>
      </tr>
      <tr>
        <td id="L1723" class="blob-num js-line-number" data-line-number="1723"></td>
        <td id="LC1723" class="blob-code js-file-line">    },</td>
      </tr>
      <tr>
        <td id="L1724" class="blob-num js-line-number" data-line-number="1724"></td>
        <td id="LC1724" class="blob-code js-file-line">    {</td>
      </tr>
      <tr>
        <td id="L1725" class="blob-num js-line-number" data-line-number="1725"></td>
        <td id="LC1725" class="blob-code js-file-line">     &quot;cell_type&quot;: &quot;code&quot;,</td>
      </tr>
      <tr>
        <td id="L1726" class="blob-num js-line-number" data-line-number="1726"></td>
        <td id="LC1726" class="blob-code js-file-line">     &quot;collapsed&quot;: false,</td>
      </tr>
      <tr>
        <td id="L1727" class="blob-num js-line-number" data-line-number="1727"></td>
        <td id="LC1727" class="blob-code js-file-line">     &quot;input&quot;: [</td>
      </tr>
      <tr>
        <td id="L1728" class="blob-num js-line-number" data-line-number="1728"></td>
        <td id="LC1728" class="blob-code js-file-line">      &quot;# confusion matrix\n&quot;,</td>
      </tr>
      <tr>
        <td id="L1729" class="blob-num js-line-number" data-line-number="1729"></td>
        <td id="LC1729" class="blob-code js-file-line">      &quot;# [TP][FP]\n&quot;,</td>
      </tr>
      <tr>
        <td id="L1730" class="blob-num js-line-number" data-line-number="1730"></td>
        <td id="LC1730" class="blob-code js-file-line">      &quot;# [FN][TN]&quot;</td>
      </tr>
      <tr>
        <td id="L1731" class="blob-num js-line-number" data-line-number="1731"></td>
        <td id="LC1731" class="blob-code js-file-line">     ],</td>
      </tr>
      <tr>
        <td id="L1732" class="blob-num js-line-number" data-line-number="1732"></td>
        <td id="LC1732" class="blob-code js-file-line">     &quot;language&quot;: &quot;python&quot;,</td>
      </tr>
      <tr>
        <td id="L1733" class="blob-num js-line-number" data-line-number="1733"></td>
        <td id="LC1733" class="blob-code js-file-line">     &quot;metadata&quot;: {},</td>
      </tr>
      <tr>
        <td id="L1734" class="blob-num js-line-number" data-line-number="1734"></td>
        <td id="LC1734" class="blob-code js-file-line">     &quot;outputs&quot;: [],</td>
      </tr>
      <tr>
        <td id="L1735" class="blob-num js-line-number" data-line-number="1735"></td>
        <td id="LC1735" class="blob-code js-file-line">     &quot;prompt_number&quot;: 184</td>
      </tr>
      <tr>
        <td id="L1736" class="blob-num js-line-number" data-line-number="1736"></td>
        <td id="LC1736" class="blob-code js-file-line">    },</td>
      </tr>
      <tr>
        <td id="L1737" class="blob-num js-line-number" data-line-number="1737"></td>
        <td id="LC1737" class="blob-code js-file-line">    {</td>
      </tr>
      <tr>
        <td id="L1738" class="blob-num js-line-number" data-line-number="1738"></td>
        <td id="LC1738" class="blob-code js-file-line">     &quot;cell_type&quot;: &quot;markdown&quot;,</td>
      </tr>
      <tr>
        <td id="L1739" class="blob-num js-line-number" data-line-number="1739"></td>
        <td id="LC1739" class="blob-code js-file-line">     &quot;metadata&quot;: {},</td>
      </tr>
      <tr>
        <td id="L1740" class="blob-num js-line-number" data-line-number="1740"></td>
        <td id="LC1740" class="blob-code js-file-line">     &quot;source&quot;: [</td>
      </tr>
      <tr>
        <td id="L1741" class="blob-num js-line-number" data-line-number="1741"></td>
        <td id="LC1741" class="blob-code js-file-line">      &quot;### Run the model on the test data&quot;</td>
      </tr>
      <tr>
        <td id="L1742" class="blob-num js-line-number" data-line-number="1742"></td>
        <td id="LC1742" class="blob-code js-file-line">     ]</td>
      </tr>
      <tr>
        <td id="L1743" class="blob-num js-line-number" data-line-number="1743"></td>
        <td id="LC1743" class="blob-code js-file-line">    },</td>
      </tr>
      <tr>
        <td id="L1744" class="blob-num js-line-number" data-line-number="1744"></td>
        <td id="LC1744" class="blob-code js-file-line">    {</td>
      </tr>
      <tr>
        <td id="L1745" class="blob-num js-line-number" data-line-number="1745"></td>
        <td id="LC1745" class="blob-code js-file-line">     &quot;cell_type&quot;: &quot;code&quot;,</td>
      </tr>
      <tr>
        <td id="L1746" class="blob-num js-line-number" data-line-number="1746"></td>
        <td id="LC1746" class="blob-code js-file-line">     &quot;collapsed&quot;: false,</td>
      </tr>
      <tr>
        <td id="L1747" class="blob-num js-line-number" data-line-number="1747"></td>
        <td id="LC1747" class="blob-code js-file-line">     &quot;input&quot;: [</td>
      </tr>
      <tr>
        <td id="L1748" class="blob-num js-line-number" data-line-number="1748"></td>
        <td id="LC1748" class="blob-code js-file-line">      &quot;expected = y_test                   # the expected &#39;Old&#39; boolean variable\n&quot;,</td>
      </tr>
      <tr>
        <td id="L1749" class="blob-num js-line-number" data-line-number="1749"></td>
        <td id="LC1749" class="blob-code js-file-line">      &quot;predicted = model.predict(X_test)   # predict the expected value based on the model&quot;</td>
      </tr>
      <tr>
        <td id="L1750" class="blob-num js-line-number" data-line-number="1750"></td>
        <td id="LC1750" class="blob-code js-file-line">     ],</td>
      </tr>
      <tr>
        <td id="L1751" class="blob-num js-line-number" data-line-number="1751"></td>
        <td id="LC1751" class="blob-code js-file-line">     &quot;language&quot;: &quot;python&quot;,</td>
      </tr>
      <tr>
        <td id="L1752" class="blob-num js-line-number" data-line-number="1752"></td>
        <td id="LC1752" class="blob-code js-file-line">     &quot;metadata&quot;: {},</td>
      </tr>
      <tr>
        <td id="L1753" class="blob-num js-line-number" data-line-number="1753"></td>
        <td id="LC1753" class="blob-code js-file-line">     &quot;outputs&quot;: [],</td>
      </tr>
      <tr>
        <td id="L1754" class="blob-num js-line-number" data-line-number="1754"></td>
        <td id="LC1754" class="blob-code js-file-line">     &quot;prompt_number&quot;: 185</td>
      </tr>
      <tr>
        <td id="L1755" class="blob-num js-line-number" data-line-number="1755"></td>
        <td id="LC1755" class="blob-code js-file-line">    },</td>
      </tr>
      <tr>
        <td id="L1756" class="blob-num js-line-number" data-line-number="1756"></td>
        <td id="LC1756" class="blob-code js-file-line">    {</td>
      </tr>
      <tr>
        <td id="L1757" class="blob-num js-line-number" data-line-number="1757"></td>
        <td id="LC1757" class="blob-code js-file-line">     &quot;cell_type&quot;: &quot;markdown&quot;,</td>
      </tr>
      <tr>
        <td id="L1758" class="blob-num js-line-number" data-line-number="1758"></td>
        <td id="LC1758" class="blob-code js-file-line">     &quot;metadata&quot;: {},</td>
      </tr>
      <tr>
        <td id="L1759" class="blob-num js-line-number" data-line-number="1759"></td>
        <td id="LC1759" class="blob-code js-file-line">     &quot;source&quot;: [</td>
      </tr>
      <tr>
        <td id="L1760" class="blob-num js-line-number" data-line-number="1760"></td>
        <td id="LC1760" class="blob-code js-file-line">      &quot;#### Summarize the fit of the model on the test data&quot;</td>
      </tr>
      <tr>
        <td id="L1761" class="blob-num js-line-number" data-line-number="1761"></td>
        <td id="LC1761" class="blob-code js-file-line">     ]</td>
      </tr>
      <tr>
        <td id="L1762" class="blob-num js-line-number" data-line-number="1762"></td>
        <td id="LC1762" class="blob-code js-file-line">    },</td>
      </tr>
      <tr>
        <td id="L1763" class="blob-num js-line-number" data-line-number="1763"></td>
        <td id="LC1763" class="blob-code js-file-line">    {</td>
      </tr>
      <tr>
        <td id="L1764" class="blob-num js-line-number" data-line-number="1764"></td>
        <td id="LC1764" class="blob-code js-file-line">     &quot;cell_type&quot;: &quot;code&quot;,</td>
      </tr>
      <tr>
        <td id="L1765" class="blob-num js-line-number" data-line-number="1765"></td>
        <td id="LC1765" class="blob-code js-file-line">     &quot;collapsed&quot;: false,</td>
      </tr>
      <tr>
        <td id="L1766" class="blob-num js-line-number" data-line-number="1766"></td>
        <td id="LC1766" class="blob-code js-file-line">     &quot;input&quot;: [</td>
      </tr>
      <tr>
        <td id="L1767" class="blob-num js-line-number" data-line-number="1767"></td>
        <td id="LC1767" class="blob-code js-file-line">      &quot;print(metrics.classification_report(expected,predicted)) \n&quot;,</td>
      </tr>
      <tr>
        <td id="L1768" class="blob-num js-line-number" data-line-number="1768"></td>
        <td id="LC1768" class="blob-code js-file-line">      &quot;print(metrics.confusion_matrix(expected,predicted))&quot;</td>
      </tr>
      <tr>
        <td id="L1769" class="blob-num js-line-number" data-line-number="1769"></td>
        <td id="LC1769" class="blob-code js-file-line">     ],</td>
      </tr>
      <tr>
        <td id="L1770" class="blob-num js-line-number" data-line-number="1770"></td>
        <td id="LC1770" class="blob-code js-file-line">     &quot;language&quot;: &quot;python&quot;,</td>
      </tr>
      <tr>
        <td id="L1771" class="blob-num js-line-number" data-line-number="1771"></td>
        <td id="LC1771" class="blob-code js-file-line">     &quot;metadata&quot;: {},</td>
      </tr>
      <tr>
        <td id="L1772" class="blob-num js-line-number" data-line-number="1772"></td>
        <td id="LC1772" class="blob-code js-file-line">     &quot;outputs&quot;: [</td>
      </tr>
      <tr>
        <td id="L1773" class="blob-num js-line-number" data-line-number="1773"></td>
        <td id="LC1773" class="blob-code js-file-line">      {</td>
      </tr>
      <tr>
        <td id="L1774" class="blob-num js-line-number" data-line-number="1774"></td>
        <td id="LC1774" class="blob-code js-file-line">       &quot;output_type&quot;: &quot;stream&quot;,</td>
      </tr>
      <tr>
        <td id="L1775" class="blob-num js-line-number" data-line-number="1775"></td>
        <td id="LC1775" class="blob-code js-file-line">       &quot;stream&quot;: &quot;stdout&quot;,</td>
      </tr>
      <tr>
        <td id="L1776" class="blob-num js-line-number" data-line-number="1776"></td>
        <td id="LC1776" class="blob-code js-file-line">       &quot;text&quot;: [</td>
      </tr>
      <tr>
        <td id="L1777" class="blob-num js-line-number" data-line-number="1777"></td>
        <td id="LC1777" class="blob-code js-file-line">        &quot;             precision    recall  f1-score   support\n&quot;,</td>
      </tr>
      <tr>
        <td id="L1778" class="blob-num js-line-number" data-line-number="1778"></td>
        <td id="LC1778" class="blob-code js-file-line">        &quot;\n&quot;,</td>
      </tr>
      <tr>
        <td id="L1779" class="blob-num js-line-number" data-line-number="1779"></td>
        <td id="LC1779" class="blob-code js-file-line">        &quot;      False       0.56      0.85      0.67      1193\n&quot;,</td>
      </tr>
      <tr>
        <td id="L1780" class="blob-num js-line-number" data-line-number="1780"></td>
        <td id="LC1780" class="blob-code js-file-line">        &quot;       True       0.47      0.16      0.24       962\n&quot;,</td>
      </tr>
      <tr>
        <td id="L1781" class="blob-num js-line-number" data-line-number="1781"></td>
        <td id="LC1781" class="blob-code js-file-line">        &quot;\n&quot;,</td>
      </tr>
      <tr>
        <td id="L1782" class="blob-num js-line-number" data-line-number="1782"></td>
        <td id="LC1782" class="blob-code js-file-line">        &quot;avg / total       0.52      0.54      0.48      2155\n&quot;,</td>
      </tr>
      <tr>
        <td id="L1783" class="blob-num js-line-number" data-line-number="1783"></td>
        <td id="LC1783" class="blob-code js-file-line">        &quot;\n&quot;,</td>
      </tr>
      <tr>
        <td id="L1784" class="blob-num js-line-number" data-line-number="1784"></td>
        <td id="LC1784" class="blob-code js-file-line">        &quot;[[1014  179]\n&quot;,</td>
      </tr>
      <tr>
        <td id="L1785" class="blob-num js-line-number" data-line-number="1785"></td>
        <td id="LC1785" class="blob-code js-file-line">        &quot; [ 806  156]]\n&quot;</td>
      </tr>
      <tr>
        <td id="L1786" class="blob-num js-line-number" data-line-number="1786"></td>
        <td id="LC1786" class="blob-code js-file-line">       ]</td>
      </tr>
      <tr>
        <td id="L1787" class="blob-num js-line-number" data-line-number="1787"></td>
        <td id="LC1787" class="blob-code js-file-line">      }</td>
      </tr>
      <tr>
        <td id="L1788" class="blob-num js-line-number" data-line-number="1788"></td>
        <td id="LC1788" class="blob-code js-file-line">     ],</td>
      </tr>
      <tr>
        <td id="L1789" class="blob-num js-line-number" data-line-number="1789"></td>
        <td id="LC1789" class="blob-code js-file-line">     &quot;prompt_number&quot;: 186</td>
      </tr>
      <tr>
        <td id="L1790" class="blob-num js-line-number" data-line-number="1790"></td>
        <td id="LC1790" class="blob-code js-file-line">    },</td>
      </tr>
      <tr>
        <td id="L1791" class="blob-num js-line-number" data-line-number="1791"></td>
        <td id="LC1791" class="blob-code js-file-line">    {</td>
      </tr>
      <tr>
        <td id="L1792" class="blob-num js-line-number" data-line-number="1792"></td>
        <td id="LC1792" class="blob-code js-file-line">     &quot;cell_type&quot;: &quot;code&quot;,</td>
      </tr>
      <tr>
        <td id="L1793" class="blob-num js-line-number" data-line-number="1793"></td>
        <td id="LC1793" class="blob-code js-file-line">     &quot;collapsed&quot;: false,</td>
      </tr>
      <tr>
        <td id="L1794" class="blob-num js-line-number" data-line-number="1794"></td>
        <td id="LC1794" class="blob-code js-file-line">     &quot;input&quot;: [</td>
      </tr>
      <tr>
        <td id="L1795" class="blob-num js-line-number" data-line-number="1795"></td>
        <td id="LC1795" class="blob-code js-file-line">      &quot;print(model.score(X_train, y_train))&quot;</td>
      </tr>
      <tr>
        <td id="L1796" class="blob-num js-line-number" data-line-number="1796"></td>
        <td id="LC1796" class="blob-code js-file-line">     ],</td>
      </tr>
      <tr>
        <td id="L1797" class="blob-num js-line-number" data-line-number="1797"></td>
        <td id="LC1797" class="blob-code js-file-line">     &quot;language&quot;: &quot;python&quot;,</td>
      </tr>
      <tr>
        <td id="L1798" class="blob-num js-line-number" data-line-number="1798"></td>
        <td id="LC1798" class="blob-code js-file-line">     &quot;metadata&quot;: {},</td>
      </tr>
      <tr>
        <td id="L1799" class="blob-num js-line-number" data-line-number="1799"></td>
        <td id="LC1799" class="blob-code js-file-line">     &quot;outputs&quot;: [</td>
      </tr>
      <tr>
        <td id="L1800" class="blob-num js-line-number" data-line-number="1800"></td>
        <td id="LC1800" class="blob-code js-file-line">      {</td>
      </tr>
      <tr>
        <td id="L1801" class="blob-num js-line-number" data-line-number="1801"></td>
        <td id="LC1801" class="blob-code js-file-line">       &quot;output_type&quot;: &quot;stream&quot;,</td>
      </tr>
      <tr>
        <td id="L1802" class="blob-num js-line-number" data-line-number="1802"></td>
        <td id="LC1802" class="blob-code js-file-line">       &quot;stream&quot;: &quot;stdout&quot;,</td>
      </tr>
      <tr>
        <td id="L1803" class="blob-num js-line-number" data-line-number="1803"></td>
        <td id="LC1803" class="blob-code js-file-line">       &quot;text&quot;: [</td>
      </tr>
      <tr>
        <td id="L1804" class="blob-num js-line-number" data-line-number="1804"></td>
        <td id="LC1804" class="blob-code js-file-line">        &quot;0.547887977719\n&quot;</td>
      </tr>
      <tr>
        <td id="L1805" class="blob-num js-line-number" data-line-number="1805"></td>
        <td id="LC1805" class="blob-code js-file-line">       ]</td>
      </tr>
      <tr>
        <td id="L1806" class="blob-num js-line-number" data-line-number="1806"></td>
        <td id="LC1806" class="blob-code js-file-line">      }</td>
      </tr>
      <tr>
        <td id="L1807" class="blob-num js-line-number" data-line-number="1807"></td>
        <td id="LC1807" class="blob-code js-file-line">     ],</td>
      </tr>
      <tr>
        <td id="L1808" class="blob-num js-line-number" data-line-number="1808"></td>
        <td id="LC1808" class="blob-code js-file-line">     &quot;prompt_number&quot;: 188</td>
      </tr>
      <tr>
        <td id="L1809" class="blob-num js-line-number" data-line-number="1809"></td>
        <td id="LC1809" class="blob-code js-file-line">    },</td>
      </tr>
      <tr>
        <td id="L1810" class="blob-num js-line-number" data-line-number="1810"></td>
        <td id="LC1810" class="blob-code js-file-line">    {</td>
      </tr>
      <tr>
        <td id="L1811" class="blob-num js-line-number" data-line-number="1811"></td>
        <td id="LC1811" class="blob-code js-file-line">     &quot;cell_type&quot;: &quot;code&quot;,</td>
      </tr>
      <tr>
        <td id="L1812" class="blob-num js-line-number" data-line-number="1812"></td>
        <td id="LC1812" class="blob-code js-file-line">     &quot;collapsed&quot;: false,</td>
      </tr>
      <tr>
        <td id="L1813" class="blob-num js-line-number" data-line-number="1813"></td>
        <td id="LC1813" class="blob-code js-file-line">     &quot;input&quot;: [</td>
      </tr>
      <tr>
        <td id="L1814" class="blob-num js-line-number" data-line-number="1814"></td>
        <td id="LC1814" class="blob-code js-file-line">      &quot;print(model.score(X_test, y_test))&quot;</td>
      </tr>
      <tr>
        <td id="L1815" class="blob-num js-line-number" data-line-number="1815"></td>
        <td id="LC1815" class="blob-code js-file-line">     ],</td>
      </tr>
      <tr>
        <td id="L1816" class="blob-num js-line-number" data-line-number="1816"></td>
        <td id="LC1816" class="blob-code js-file-line">     &quot;language&quot;: &quot;python&quot;,</td>
      </tr>
      <tr>
        <td id="L1817" class="blob-num js-line-number" data-line-number="1817"></td>
        <td id="LC1817" class="blob-code js-file-line">     &quot;metadata&quot;: {},</td>
      </tr>
      <tr>
        <td id="L1818" class="blob-num js-line-number" data-line-number="1818"></td>
        <td id="LC1818" class="blob-code js-file-line">     &quot;outputs&quot;: [</td>
      </tr>
      <tr>
        <td id="L1819" class="blob-num js-line-number" data-line-number="1819"></td>
        <td id="LC1819" class="blob-code js-file-line">      {</td>
      </tr>
      <tr>
        <td id="L1820" class="blob-num js-line-number" data-line-number="1820"></td>
        <td id="LC1820" class="blob-code js-file-line">       &quot;output_type&quot;: &quot;stream&quot;,</td>
      </tr>
      <tr>
        <td id="L1821" class="blob-num js-line-number" data-line-number="1821"></td>
        <td id="LC1821" class="blob-code js-file-line">       &quot;stream&quot;: &quot;stdout&quot;,</td>
      </tr>
      <tr>
        <td id="L1822" class="blob-num js-line-number" data-line-number="1822"></td>
        <td id="LC1822" class="blob-code js-file-line">       &quot;text&quot;: [</td>
      </tr>
      <tr>
        <td id="L1823" class="blob-num js-line-number" data-line-number="1823"></td>
        <td id="LC1823" class="blob-code js-file-line">        &quot;0.542923433875\n&quot;</td>
      </tr>
      <tr>
        <td id="L1824" class="blob-num js-line-number" data-line-number="1824"></td>
        <td id="LC1824" class="blob-code js-file-line">       ]</td>
      </tr>
      <tr>
        <td id="L1825" class="blob-num js-line-number" data-line-number="1825"></td>
        <td id="LC1825" class="blob-code js-file-line">      }</td>
      </tr>
      <tr>
        <td id="L1826" class="blob-num js-line-number" data-line-number="1826"></td>
        <td id="LC1826" class="blob-code js-file-line">     ],</td>
      </tr>
      <tr>
        <td id="L1827" class="blob-num js-line-number" data-line-number="1827"></td>
        <td id="LC1827" class="blob-code js-file-line">     &quot;prompt_number&quot;: 189</td>
      </tr>
      <tr>
        <td id="L1828" class="blob-num js-line-number" data-line-number="1828"></td>
        <td id="LC1828" class="blob-code js-file-line">    },</td>
      </tr>
      <tr>
        <td id="L1829" class="blob-num js-line-number" data-line-number="1829"></td>
        <td id="LC1829" class="blob-code js-file-line">    {</td>
      </tr>
      <tr>
        <td id="L1830" class="blob-num js-line-number" data-line-number="1830"></td>
        <td id="LC1830" class="blob-code js-file-line">     &quot;cell_type&quot;: &quot;markdown&quot;,</td>
      </tr>
      <tr>
        <td id="L1831" class="blob-num js-line-number" data-line-number="1831"></td>
        <td id="LC1831" class="blob-code js-file-line">     &quot;metadata&quot;: {},</td>
      </tr>
      <tr>
        <td id="L1832" class="blob-num js-line-number" data-line-number="1832"></td>
        <td id="LC1832" class="blob-code js-file-line">     &quot;source&quot;: [</td>
      </tr>
      <tr>
        <td id="L1833" class="blob-num js-line-number" data-line-number="1833"></td>
        <td id="LC1833" class="blob-code js-file-line">      &quot;# Implement a Stochastic Gradient Descent (SGD) Machine Learning Algorithm&quot;</td>
      </tr>
      <tr>
        <td id="L1834" class="blob-num js-line-number" data-line-number="1834"></td>
        <td id="LC1834" class="blob-code js-file-line">     ]</td>
      </tr>
      <tr>
        <td id="L1835" class="blob-num js-line-number" data-line-number="1835"></td>
        <td id="LC1835" class="blob-code js-file-line">    },</td>
      </tr>
      <tr>
        <td id="L1836" class="blob-num js-line-number" data-line-number="1836"></td>
        <td id="LC1836" class="blob-code js-file-line">    {</td>
      </tr>
      <tr>
        <td id="L1837" class="blob-num js-line-number" data-line-number="1837"></td>
        <td id="LC1837" class="blob-code js-file-line">     &quot;cell_type&quot;: &quot;markdown&quot;,</td>
      </tr>
      <tr>
        <td id="L1838" class="blob-num js-line-number" data-line-number="1838"></td>
        <td id="LC1838" class="blob-code js-file-line">     &quot;metadata&quot;: {},</td>
      </tr>
      <tr>
        <td id="L1839" class="blob-num js-line-number" data-line-number="1839"></td>
        <td id="LC1839" class="blob-code js-file-line">     &quot;source&quot;: [</td>
      </tr>
      <tr>
        <td id="L1840" class="blob-num js-line-number" data-line-number="1840"></td>
        <td id="LC1840" class="blob-code js-file-line">      &quot;#### Train the classifier.&quot;</td>
      </tr>
      <tr>
        <td id="L1841" class="blob-num js-line-number" data-line-number="1841"></td>
        <td id="LC1841" class="blob-code js-file-line">     ]</td>
      </tr>
      <tr>
        <td id="L1842" class="blob-num js-line-number" data-line-number="1842"></td>
        <td id="LC1842" class="blob-code js-file-line">    },</td>
      </tr>
      <tr>
        <td id="L1843" class="blob-num js-line-number" data-line-number="1843"></td>
        <td id="LC1843" class="blob-code js-file-line">    {</td>
      </tr>
      <tr>
        <td id="L1844" class="blob-num js-line-number" data-line-number="1844"></td>
        <td id="LC1844" class="blob-code js-file-line">     &quot;cell_type&quot;: &quot;code&quot;,</td>
      </tr>
      <tr>
        <td id="L1845" class="blob-num js-line-number" data-line-number="1845"></td>
        <td id="LC1845" class="blob-code js-file-line">     &quot;collapsed&quot;: false,</td>
      </tr>
      <tr>
        <td id="L1846" class="blob-num js-line-number" data-line-number="1846"></td>
        <td id="LC1846" class="blob-code js-file-line">     &quot;input&quot;: [</td>
      </tr>
      <tr>
        <td id="L1847" class="blob-num js-line-number" data-line-number="1847"></td>
        <td id="LC1847" class="blob-code js-file-line">      &quot;clf = SGDClassifier()\n&quot;,</td>
      </tr>
      <tr>
        <td id="L1848" class="blob-num js-line-number" data-line-number="1848"></td>
        <td id="LC1848" class="blob-code js-file-line">      &quot;clf.fit(X_train, y_train)\n&quot;,</td>
      </tr>
      <tr>
        <td id="L1849" class="blob-num js-line-number" data-line-number="1849"></td>
        <td id="LC1849" class="blob-code js-file-line">      &quot;\n&quot;,</td>
      </tr>
      <tr>
        <td id="L1850" class="blob-num js-line-number" data-line-number="1850"></td>
        <td id="LC1850" class="blob-code js-file-line">      &quot;# Write out the classifier\u2019s equation.\n&quot;,</td>
      </tr>
      <tr>
        <td id="L1851" class="blob-num js-line-number" data-line-number="1851"></td>
        <td id="LC1851" class="blob-code js-file-line">      &quot;print &#39;Classifier Equation: &#39;\n&quot;,</td>
      </tr>
      <tr>
        <td id="L1852" class="blob-num js-line-number" data-line-number="1852"></td>
        <td id="LC1852" class="blob-code js-file-line">      &quot;print str(clf.intercept_[0]) + &#39; + (&#39; + str(clf.coef_[0][0]) + &#39;)* x1 + (&#39; + str(clf.coef_[0][1]) + &#39;)* x2 + (&#39; + str(clf.coef_[0][2]) + &#39;)* x3 + (&#39; + str(clf.coef_[0][3]) + &#39;)* x4  + (&#39; + str(clf.coef_[0][4]) + &#39;)* x5 + (&#39; + str(clf.coef_[0][5]) + &#39;)* x6 + (&#39; + str(clf.coef_[0][6]) + &#39;)* x7 + (&#39; + str(clf.coef_[0][7]) + &#39;)* x8 = 0&#39;&quot;</td>
      </tr>
      <tr>
        <td id="L1853" class="blob-num js-line-number" data-line-number="1853"></td>
        <td id="LC1853" class="blob-code js-file-line">     ],</td>
      </tr>
      <tr>
        <td id="L1854" class="blob-num js-line-number" data-line-number="1854"></td>
        <td id="LC1854" class="blob-code js-file-line">     &quot;language&quot;: &quot;python&quot;,</td>
      </tr>
      <tr>
        <td id="L1855" class="blob-num js-line-number" data-line-number="1855"></td>
        <td id="LC1855" class="blob-code js-file-line">     &quot;metadata&quot;: {},</td>
      </tr>
      <tr>
        <td id="L1856" class="blob-num js-line-number" data-line-number="1856"></td>
        <td id="LC1856" class="blob-code js-file-line">     &quot;outputs&quot;: [</td>
      </tr>
      <tr>
        <td id="L1857" class="blob-num js-line-number" data-line-number="1857"></td>
        <td id="LC1857" class="blob-code js-file-line">      {</td>
      </tr>
      <tr>
        <td id="L1858" class="blob-num js-line-number" data-line-number="1858"></td>
        <td id="LC1858" class="blob-code js-file-line">       &quot;output_type&quot;: &quot;stream&quot;,</td>
      </tr>
      <tr>
        <td id="L1859" class="blob-num js-line-number" data-line-number="1859"></td>
        <td id="LC1859" class="blob-code js-file-line">       &quot;stream&quot;: &quot;stdout&quot;,</td>
      </tr>
      <tr>
        <td id="L1860" class="blob-num js-line-number" data-line-number="1860"></td>
        <td id="LC1860" class="blob-code js-file-line">       &quot;text&quot;: [</td>
      </tr>
      <tr>
        <td id="L1861" class="blob-num js-line-number" data-line-number="1861"></td>
        <td id="LC1861" class="blob-code js-file-line">        &quot;Classifier Equation: \n&quot;,</td>
      </tr>
      <tr>
        <td id="L1862" class="blob-num js-line-number" data-line-number="1862"></td>
        <td id="LC1862" class="blob-code js-file-line">        &quot;-0.692962228269 + (-0.519121742348)* x1 + (0.526800743126)* x2 + (0.840674075197)* x3 + (1.26462755152)* x4  + (0.371593184188)* x5 + (0.962493477883)* x6 + (-0.199522722512)* x7 + (1.37161950048)* x8 = 0\n&quot;</td>
      </tr>
      <tr>
        <td id="L1863" class="blob-num js-line-number" data-line-number="1863"></td>
        <td id="LC1863" class="blob-code js-file-line">       ]</td>
      </tr>
      <tr>
        <td id="L1864" class="blob-num js-line-number" data-line-number="1864"></td>
        <td id="LC1864" class="blob-code js-file-line">      }</td>
      </tr>
      <tr>
        <td id="L1865" class="blob-num js-line-number" data-line-number="1865"></td>
        <td id="LC1865" class="blob-code js-file-line">     ],</td>
      </tr>
      <tr>
        <td id="L1866" class="blob-num js-line-number" data-line-number="1866"></td>
        <td id="LC1866" class="blob-code js-file-line">     &quot;prompt_number&quot;: 147</td>
      </tr>
      <tr>
        <td id="L1867" class="blob-num js-line-number" data-line-number="1867"></td>
        <td id="LC1867" class="blob-code js-file-line">    },</td>
      </tr>
      <tr>
        <td id="L1868" class="blob-num js-line-number" data-line-number="1868"></td>
        <td id="LC1868" class="blob-code js-file-line">    {</td>
      </tr>
      <tr>
        <td id="L1869" class="blob-num js-line-number" data-line-number="1869"></td>
        <td id="LC1869" class="blob-code js-file-line">     &quot;cell_type&quot;: &quot;markdown&quot;,</td>
      </tr>
      <tr>
        <td id="L1870" class="blob-num js-line-number" data-line-number="1870"></td>
        <td id="LC1870" class="blob-code js-file-line">     &quot;metadata&quot;: {},</td>
      </tr>
      <tr>
        <td id="L1871" class="blob-num js-line-number" data-line-number="1871"></td>
        <td id="LC1871" class="blob-code js-file-line">     &quot;source&quot;: [</td>
      </tr>
      <tr>
        <td id="L1872" class="blob-num js-line-number" data-line-number="1872"></td>
        <td id="LC1872" class="blob-code js-file-line">      &quot;### Discussion of the Coefficient values&quot;</td>
      </tr>
      <tr>
        <td id="L1873" class="blob-num js-line-number" data-line-number="1873"></td>
        <td id="LC1873" class="blob-code js-file-line">     ]</td>
      </tr>
      <tr>
        <td id="L1874" class="blob-num js-line-number" data-line-number="1874"></td>
        <td id="LC1874" class="blob-code js-file-line">    },</td>
      </tr>
      <tr>
        <td id="L1875" class="blob-num js-line-number" data-line-number="1875"></td>
        <td id="LC1875" class="blob-code js-file-line">    {</td>
      </tr>
      <tr>
        <td id="L1876" class="blob-num js-line-number" data-line-number="1876"></td>
        <td id="LC1876" class="blob-code js-file-line">     &quot;cell_type&quot;: &quot;markdown&quot;,</td>
      </tr>
      <tr>
        <td id="L1877" class="blob-num js-line-number" data-line-number="1877"></td>
        <td id="LC1877" class="blob-code js-file-line">     &quot;metadata&quot;: {},</td>
      </tr>
      <tr>
        <td id="L1878" class="blob-num js-line-number" data-line-number="1878"></td>
        <td id="LC1878" class="blob-code js-file-line">     &quot;source&quot;: [</td>
      </tr>
      <tr>
        <td id="L1879" class="blob-num js-line-number" data-line-number="1879"></td>
        <td id="LC1879" class="blob-code js-file-line">      &quot;* Intercept  = -0.69\n&quot;,</td>
      </tr>
      <tr>
        <td id="L1880" class="blob-num js-line-number" data-line-number="1880"></td>
        <td id="LC1880" class="blob-code js-file-line">      &quot;* Athlete    = -0.52\n&quot;,</td>
      </tr>
      <tr>
        <td id="L1881" class="blob-num js-line-number" data-line-number="1881"></td>
        <td id="LC1881" class="blob-code js-file-line">      &quot;* Country    = +0.53\n&quot;,</td>
      </tr>
      <tr>
        <td id="L1882" class="blob-num js-line-number" data-line-number="1882"></td>
        <td id="LC1882" class="blob-code js-file-line">      &quot;* Year       = +0.84\n&quot;,</td>
      </tr>
      <tr>
        <td id="L1883" class="blob-num js-line-number" data-line-number="1883"></td>
        <td id="LC1883" class="blob-code js-file-line">      &quot;* Sport      = +1.26\n&quot;,</td>
      </tr>
      <tr>
        <td id="L1884" class="blob-num js-line-number" data-line-number="1884"></td>
        <td id="LC1884" class="blob-code js-file-line">      &quot;* Bronze     = +0.37\n&quot;,</td>
      </tr>
      <tr>
        <td id="L1885" class="blob-num js-line-number" data-line-number="1885"></td>
        <td id="LC1885" class="blob-code js-file-line">      &quot;* Silver     = +0.96\n&quot;,</td>
      </tr>
      <tr>
        <td id="L1886" class="blob-num js-line-number" data-line-number="1886"></td>
        <td id="LC1886" class="blob-code js-file-line">      &quot;* Gold       = -0.20\n&quot;,</td>
      </tr>
      <tr>
        <td id="L1887" class="blob-num js-line-number" data-line-number="1887"></td>
        <td id="LC1887" class="blob-code js-file-line">      &quot;* Total      = +1.37&quot;</td>
      </tr>
      <tr>
        <td id="L1888" class="blob-num js-line-number" data-line-number="1888"></td>
        <td id="LC1888" class="blob-code js-file-line">     ]</td>
      </tr>
      <tr>
        <td id="L1889" class="blob-num js-line-number" data-line-number="1889"></td>
        <td id="LC1889" class="blob-code js-file-line">    },</td>
      </tr>
      <tr>
        <td id="L1890" class="blob-num js-line-number" data-line-number="1890"></td>
        <td id="LC1890" class="blob-code js-file-line">    {</td>
      </tr>
      <tr>
        <td id="L1891" class="blob-num js-line-number" data-line-number="1891"></td>
        <td id="LC1891" class="blob-code js-file-line">     &quot;cell_type&quot;: &quot;markdown&quot;,</td>
      </tr>
      <tr>
        <td id="L1892" class="blob-num js-line-number" data-line-number="1892"></td>
        <td id="LC1892" class="blob-code js-file-line">     &quot;metadata&quot;: {},</td>
      </tr>
      <tr>
        <td id="L1893" class="blob-num js-line-number" data-line-number="1893"></td>
        <td id="LC1893" class="blob-code js-file-line">     &quot;source&quot;: [</td>
      </tr>
      <tr>
        <td id="L1894" class="blob-num js-line-number" data-line-number="1894"></td>
        <td id="LC1894" class="blob-code js-file-line">      &quot;### What is the classifier\u2019s accuracy on the training data?&quot;</td>
      </tr>
      <tr>
        <td id="L1895" class="blob-num js-line-number" data-line-number="1895"></td>
        <td id="LC1895" class="blob-code js-file-line">     ]</td>
      </tr>
      <tr>
        <td id="L1896" class="blob-num js-line-number" data-line-number="1896"></td>
        <td id="LC1896" class="blob-code js-file-line">    },</td>
      </tr>
      <tr>
        <td id="L1897" class="blob-num js-line-number" data-line-number="1897"></td>
        <td id="LC1897" class="blob-code js-file-line">    {</td>
      </tr>
      <tr>
        <td id="L1898" class="blob-num js-line-number" data-line-number="1898"></td>
        <td id="LC1898" class="blob-code js-file-line">     &quot;cell_type&quot;: &quot;code&quot;,</td>
      </tr>
      <tr>
        <td id="L1899" class="blob-num js-line-number" data-line-number="1899"></td>
        <td id="LC1899" class="blob-code js-file-line">     &quot;collapsed&quot;: false,</td>
      </tr>
      <tr>
        <td id="L1900" class="blob-num js-line-number" data-line-number="1900"></td>
        <td id="LC1900" class="blob-code js-file-line">     &quot;input&quot;: [</td>
      </tr>
      <tr>
        <td id="L1901" class="blob-num js-line-number" data-line-number="1901"></td>
        <td id="LC1901" class="blob-code js-file-line">      &quot;y_train_prediction = clf.predict(X_train)\n&quot;,</td>
      </tr>
      <tr>
        <td id="L1902" class="blob-num js-line-number" data-line-number="1902"></td>
        <td id="LC1902" class="blob-code js-file-line">      &quot;metrics.accuracy_score(y_train, y_train_prediction)&quot;</td>
      </tr>
      <tr>
        <td id="L1903" class="blob-num js-line-number" data-line-number="1903"></td>
        <td id="LC1903" class="blob-code js-file-line">     ],</td>
      </tr>
      <tr>
        <td id="L1904" class="blob-num js-line-number" data-line-number="1904"></td>
        <td id="LC1904" class="blob-code js-file-line">     &quot;language&quot;: &quot;python&quot;,</td>
      </tr>
      <tr>
        <td id="L1905" class="blob-num js-line-number" data-line-number="1905"></td>
        <td id="LC1905" class="blob-code js-file-line">     &quot;metadata&quot;: {},</td>
      </tr>
      <tr>
        <td id="L1906" class="blob-num js-line-number" data-line-number="1906"></td>
        <td id="LC1906" class="blob-code js-file-line">     &quot;outputs&quot;: [</td>
      </tr>
      <tr>
        <td id="L1907" class="blob-num js-line-number" data-line-number="1907"></td>
        <td id="LC1907" class="blob-code js-file-line">      {</td>
      </tr>
      <tr>
        <td id="L1908" class="blob-num js-line-number" data-line-number="1908"></td>
        <td id="LC1908" class="blob-code js-file-line">       &quot;metadata&quot;: {},</td>
      </tr>
      <tr>
        <td id="L1909" class="blob-num js-line-number" data-line-number="1909"></td>
        <td id="LC1909" class="blob-code js-file-line">       &quot;output_type&quot;: &quot;pyout&quot;,</td>
      </tr>
      <tr>
        <td id="L1910" class="blob-num js-line-number" data-line-number="1910"></td>
        <td id="LC1910" class="blob-code js-file-line">       &quot;prompt_number&quot;: 148,</td>
      </tr>
      <tr>
        <td id="L1911" class="blob-num js-line-number" data-line-number="1911"></td>
        <td id="LC1911" class="blob-code js-file-line">       &quot;text&quot;: [</td>
      </tr>
      <tr>
        <td id="L1912" class="blob-num js-line-number" data-line-number="1912"></td>
        <td id="LC1912" class="blob-code js-file-line">        &quot;0.51555005415441746&quot;</td>
      </tr>
      <tr>
        <td id="L1913" class="blob-num js-line-number" data-line-number="1913"></td>
        <td id="LC1913" class="blob-code js-file-line">       ]</td>
      </tr>
      <tr>
        <td id="L1914" class="blob-num js-line-number" data-line-number="1914"></td>
        <td id="LC1914" class="blob-code js-file-line">      }</td>
      </tr>
      <tr>
        <td id="L1915" class="blob-num js-line-number" data-line-number="1915"></td>
        <td id="LC1915" class="blob-code js-file-line">     ],</td>
      </tr>
      <tr>
        <td id="L1916" class="blob-num js-line-number" data-line-number="1916"></td>
        <td id="LC1916" class="blob-code js-file-line">     &quot;prompt_number&quot;: 148</td>
      </tr>
      <tr>
        <td id="L1917" class="blob-num js-line-number" data-line-number="1917"></td>
        <td id="LC1917" class="blob-code js-file-line">    },</td>
      </tr>
      <tr>
        <td id="L1918" class="blob-num js-line-number" data-line-number="1918"></td>
        <td id="LC1918" class="blob-code js-file-line">    {</td>
      </tr>
      <tr>
        <td id="L1919" class="blob-num js-line-number" data-line-number="1919"></td>
        <td id="LC1919" class="blob-code js-file-line">     &quot;cell_type&quot;: &quot;markdown&quot;,</td>
      </tr>
      <tr>
        <td id="L1920" class="blob-num js-line-number" data-line-number="1920"></td>
        <td id="LC1920" class="blob-code js-file-line">     &quot;metadata&quot;: {},</td>
      </tr>
      <tr>
        <td id="L1921" class="blob-num js-line-number" data-line-number="1921"></td>
        <td id="LC1921" class="blob-code js-file-line">     &quot;source&quot;: [</td>
      </tr>
      <tr>
        <td id="L1922" class="blob-num js-line-number" data-line-number="1922"></td>
        <td id="LC1922" class="blob-code js-file-line">      &quot;#### The classifiers accuracy on the training set it approximately 51.6%&quot;</td>
      </tr>
      <tr>
        <td id="L1923" class="blob-num js-line-number" data-line-number="1923"></td>
        <td id="LC1923" class="blob-code js-file-line">     ]</td>
      </tr>
      <tr>
        <td id="L1924" class="blob-num js-line-number" data-line-number="1924"></td>
        <td id="LC1924" class="blob-code js-file-line">    },</td>
      </tr>
      <tr>
        <td id="L1925" class="blob-num js-line-number" data-line-number="1925"></td>
        <td id="LC1925" class="blob-code js-file-line">    {</td>
      </tr>
      <tr>
        <td id="L1926" class="blob-num js-line-number" data-line-number="1926"></td>
        <td id="LC1926" class="blob-code js-file-line">     &quot;cell_type&quot;: &quot;markdown&quot;,</td>
      </tr>
      <tr>
        <td id="L1927" class="blob-num js-line-number" data-line-number="1927"></td>
        <td id="LC1927" class="blob-code js-file-line">     &quot;metadata&quot;: {},</td>
      </tr>
      <tr>
        <td id="L1928" class="blob-num js-line-number" data-line-number="1928"></td>
        <td id="LC1928" class="blob-code js-file-line">     &quot;source&quot;: [</td>
      </tr>
      <tr>
        <td id="L1929" class="blob-num js-line-number" data-line-number="1929"></td>
        <td id="LC1929" class="blob-code js-file-line">      &quot;### What is the classifiers accuracy on the test set?&quot;</td>
      </tr>
      <tr>
        <td id="L1930" class="blob-num js-line-number" data-line-number="1930"></td>
        <td id="LC1930" class="blob-code js-file-line">     ]</td>
      </tr>
      <tr>
        <td id="L1931" class="blob-num js-line-number" data-line-number="1931"></td>
        <td id="LC1931" class="blob-code js-file-line">    },</td>
      </tr>
      <tr>
        <td id="L1932" class="blob-num js-line-number" data-line-number="1932"></td>
        <td id="LC1932" class="blob-code js-file-line">    {</td>
      </tr>
      <tr>
        <td id="L1933" class="blob-num js-line-number" data-line-number="1933"></td>
        <td id="LC1933" class="blob-code js-file-line">     &quot;cell_type&quot;: &quot;code&quot;,</td>
      </tr>
      <tr>
        <td id="L1934" class="blob-num js-line-number" data-line-number="1934"></td>
        <td id="LC1934" class="blob-code js-file-line">     &quot;collapsed&quot;: false,</td>
      </tr>
      <tr>
        <td id="L1935" class="blob-num js-line-number" data-line-number="1935"></td>
        <td id="LC1935" class="blob-code js-file-line">     &quot;input&quot;: [</td>
      </tr>
      <tr>
        <td id="L1936" class="blob-num js-line-number" data-line-number="1936"></td>
        <td id="LC1936" class="blob-code js-file-line">      &quot;y_test_prediction = clf.predict(X_test)\n&quot;,</td>
      </tr>
      <tr>
        <td id="L1937" class="blob-num js-line-number" data-line-number="1937"></td>
        <td id="LC1937" class="blob-code js-file-line">      &quot;metrics.accuracy_score(y_test, y_test_prediction)&quot;</td>
      </tr>
      <tr>
        <td id="L1938" class="blob-num js-line-number" data-line-number="1938"></td>
        <td id="LC1938" class="blob-code js-file-line">     ],</td>
      </tr>
      <tr>
        <td id="L1939" class="blob-num js-line-number" data-line-number="1939"></td>
        <td id="LC1939" class="blob-code js-file-line">     &quot;language&quot;: &quot;python&quot;,</td>
      </tr>
      <tr>
        <td id="L1940" class="blob-num js-line-number" data-line-number="1940"></td>
        <td id="LC1940" class="blob-code js-file-line">     &quot;metadata&quot;: {},</td>
      </tr>
      <tr>
        <td id="L1941" class="blob-num js-line-number" data-line-number="1941"></td>
        <td id="LC1941" class="blob-code js-file-line">     &quot;outputs&quot;: [</td>
      </tr>
      <tr>
        <td id="L1942" class="blob-num js-line-number" data-line-number="1942"></td>
        <td id="LC1942" class="blob-code js-file-line">      {</td>
      </tr>
      <tr>
        <td id="L1943" class="blob-num js-line-number" data-line-number="1943"></td>
        <td id="LC1943" class="blob-code js-file-line">       &quot;metadata&quot;: {},</td>
      </tr>
      <tr>
        <td id="L1944" class="blob-num js-line-number" data-line-number="1944"></td>
        <td id="LC1944" class="blob-code js-file-line">       &quot;output_type&quot;: &quot;pyout&quot;,</td>
      </tr>
      <tr>
        <td id="L1945" class="blob-num js-line-number" data-line-number="1945"></td>
        <td id="LC1945" class="blob-code js-file-line">       &quot;prompt_number&quot;: 149,</td>
      </tr>
      <tr>
        <td id="L1946" class="blob-num js-line-number" data-line-number="1946"></td>
        <td id="LC1946" class="blob-code js-file-line">       &quot;text&quot;: [</td>
      </tr>
      <tr>
        <td id="L1947" class="blob-num js-line-number" data-line-number="1947"></td>
        <td id="LC1947" class="blob-code js-file-line">        &quot;0.49930394431554526&quot;</td>
      </tr>
      <tr>
        <td id="L1948" class="blob-num js-line-number" data-line-number="1948"></td>
        <td id="LC1948" class="blob-code js-file-line">       ]</td>
      </tr>
      <tr>
        <td id="L1949" class="blob-num js-line-number" data-line-number="1949"></td>
        <td id="LC1949" class="blob-code js-file-line">      }</td>
      </tr>
      <tr>
        <td id="L1950" class="blob-num js-line-number" data-line-number="1950"></td>
        <td id="LC1950" class="blob-code js-file-line">     ],</td>
      </tr>
      <tr>
        <td id="L1951" class="blob-num js-line-number" data-line-number="1951"></td>
        <td id="LC1951" class="blob-code js-file-line">     &quot;prompt_number&quot;: 149</td>
      </tr>
      <tr>
        <td id="L1952" class="blob-num js-line-number" data-line-number="1952"></td>
        <td id="LC1952" class="blob-code js-file-line">    },</td>
      </tr>
      <tr>
        <td id="L1953" class="blob-num js-line-number" data-line-number="1953"></td>
        <td id="LC1953" class="blob-code js-file-line">    {</td>
      </tr>
      <tr>
        <td id="L1954" class="blob-num js-line-number" data-line-number="1954"></td>
        <td id="LC1954" class="blob-code js-file-line">     &quot;cell_type&quot;: &quot;markdown&quot;,</td>
      </tr>
      <tr>
        <td id="L1955" class="blob-num js-line-number" data-line-number="1955"></td>
        <td id="LC1955" class="blob-code js-file-line">     &quot;metadata&quot;: {},</td>
      </tr>
      <tr>
        <td id="L1956" class="blob-num js-line-number" data-line-number="1956"></td>
        <td id="LC1956" class="blob-code js-file-line">     &quot;source&quot;: [</td>
      </tr>
      <tr>
        <td id="L1957" class="blob-num js-line-number" data-line-number="1957"></td>
        <td id="LC1957" class="blob-code js-file-line">      &quot;#### The classifiers accuracy on the test set it approximately 49.9%&quot;</td>
      </tr>
      <tr>
        <td id="L1958" class="blob-num js-line-number" data-line-number="1958"></td>
        <td id="LC1958" class="blob-code js-file-line">     ]</td>
      </tr>
      <tr>
        <td id="L1959" class="blob-num js-line-number" data-line-number="1959"></td>
        <td id="LC1959" class="blob-code js-file-line">    },</td>
      </tr>
      <tr>
        <td id="L1960" class="blob-num js-line-number" data-line-number="1960"></td>
        <td id="LC1960" class="blob-code js-file-line">    {</td>
      </tr>
      <tr>
        <td id="L1961" class="blob-num js-line-number" data-line-number="1961"></td>
        <td id="LC1961" class="blob-code js-file-line">     &quot;cell_type&quot;: &quot;markdown&quot;,</td>
      </tr>
      <tr>
        <td id="L1962" class="blob-num js-line-number" data-line-number="1962"></td>
        <td id="LC1962" class="blob-code js-file-line">     &quot;metadata&quot;: {},</td>
      </tr>
      <tr>
        <td id="L1963" class="blob-num js-line-number" data-line-number="1963"></td>
        <td id="LC1963" class="blob-code js-file-line">     &quot;source&quot;: [</td>
      </tr>
      <tr>
        <td id="L1964" class="blob-num js-line-number" data-line-number="1964"></td>
        <td id="LC1964" class="blob-code js-file-line">      &quot;## What is the confusion matrix and what is the interpretation of each number in the matrix?&quot;</td>
      </tr>
      <tr>
        <td id="L1965" class="blob-num js-line-number" data-line-number="1965"></td>
        <td id="LC1965" class="blob-code js-file-line">     ]</td>
      </tr>
      <tr>
        <td id="L1966" class="blob-num js-line-number" data-line-number="1966"></td>
        <td id="LC1966" class="blob-code js-file-line">    },</td>
      </tr>
      <tr>
        <td id="L1967" class="blob-num js-line-number" data-line-number="1967"></td>
        <td id="LC1967" class="blob-code js-file-line">    {</td>
      </tr>
      <tr>
        <td id="L1968" class="blob-num js-line-number" data-line-number="1968"></td>
        <td id="LC1968" class="blob-code js-file-line">     &quot;cell_type&quot;: &quot;markdown&quot;,</td>
      </tr>
      <tr>
        <td id="L1969" class="blob-num js-line-number" data-line-number="1969"></td>
        <td id="LC1969" class="blob-code js-file-line">     &quot;metadata&quot;: {},</td>
      </tr>
      <tr>
        <td id="L1970" class="blob-num js-line-number" data-line-number="1970"></td>
        <td id="LC1970" class="blob-code js-file-line">     &quot;source&quot;: [</td>
      </tr>
      <tr>
        <td id="L1971" class="blob-num js-line-number" data-line-number="1971"></td>
        <td id="LC1971" class="blob-code js-file-line">      &quot;### Training Data confusion matrix&quot;</td>
      </tr>
      <tr>
        <td id="L1972" class="blob-num js-line-number" data-line-number="1972"></td>
        <td id="LC1972" class="blob-code js-file-line">     ]</td>
      </tr>
      <tr>
        <td id="L1973" class="blob-num js-line-number" data-line-number="1973"></td>
        <td id="LC1973" class="blob-code js-file-line">    },</td>
      </tr>
      <tr>
        <td id="L1974" class="blob-num js-line-number" data-line-number="1974"></td>
        <td id="LC1974" class="blob-code js-file-line">    {</td>
      </tr>
      <tr>
        <td id="L1975" class="blob-num js-line-number" data-line-number="1975"></td>
        <td id="LC1975" class="blob-code js-file-line">     &quot;cell_type&quot;: &quot;code&quot;,</td>
      </tr>
      <tr>
        <td id="L1976" class="blob-num js-line-number" data-line-number="1976"></td>
        <td id="LC1976" class="blob-code js-file-line">     &quot;collapsed&quot;: false,</td>
      </tr>
      <tr>
        <td id="L1977" class="blob-num js-line-number" data-line-number="1977"></td>
        <td id="LC1977" class="blob-code js-file-line">     &quot;input&quot;: [</td>
      </tr>
      <tr>
        <td id="L1978" class="blob-num js-line-number" data-line-number="1978"></td>
        <td id="LC1978" class="blob-code js-file-line">      &quot;train_confusion = metrics.confusion_matrix(y_train, y_train_prediction)\n&quot;,</td>
      </tr>
      <tr>
        <td id="L1979" class="blob-num js-line-number" data-line-number="1979"></td>
        <td id="LC1979" class="blob-code js-file-line">      &quot;train_confusion&quot;</td>
      </tr>
      <tr>
        <td id="L1980" class="blob-num js-line-number" data-line-number="1980"></td>
        <td id="LC1980" class="blob-code js-file-line">     ],</td>
      </tr>
      <tr>
        <td id="L1981" class="blob-num js-line-number" data-line-number="1981"></td>
        <td id="LC1981" class="blob-code js-file-line">     &quot;language&quot;: &quot;python&quot;,</td>
      </tr>
      <tr>
        <td id="L1982" class="blob-num js-line-number" data-line-number="1982"></td>
        <td id="LC1982" class="blob-code js-file-line">     &quot;metadata&quot;: {},</td>
      </tr>
      <tr>
        <td id="L1983" class="blob-num js-line-number" data-line-number="1983"></td>
        <td id="LC1983" class="blob-code js-file-line">     &quot;outputs&quot;: [</td>
      </tr>
      <tr>
        <td id="L1984" class="blob-num js-line-number" data-line-number="1984"></td>
        <td id="LC1984" class="blob-code js-file-line">      {</td>
      </tr>
      <tr>
        <td id="L1985" class="blob-num js-line-number" data-line-number="1985"></td>
        <td id="LC1985" class="blob-code js-file-line">       &quot;metadata&quot;: {},</td>
      </tr>
      <tr>
        <td id="L1986" class="blob-num js-line-number" data-line-number="1986"></td>
        <td id="LC1986" class="blob-code js-file-line">       &quot;output_type&quot;: &quot;pyout&quot;,</td>
      </tr>
      <tr>
        <td id="L1987" class="blob-num js-line-number" data-line-number="1987"></td>
        <td id="LC1987" class="blob-code js-file-line">       &quot;prompt_number&quot;: 150,</td>
      </tr>
      <tr>
        <td id="L1988" class="blob-num js-line-number" data-line-number="1988"></td>
        <td id="LC1988" class="blob-code js-file-line">       &quot;text&quot;: [</td>
      </tr>
      <tr>
        <td id="L1989" class="blob-num js-line-number" data-line-number="1989"></td>
        <td id="LC1989" class="blob-code js-file-line">        &quot;array([[2324, 1220],\n&quot;,</td>
      </tr>
      <tr>
        <td id="L1990" class="blob-num js-line-number" data-line-number="1990"></td>
        <td id="LC1990" class="blob-code js-file-line">        &quot;       [1911, 1008]])&quot;</td>
      </tr>
      <tr>
        <td id="L1991" class="blob-num js-line-number" data-line-number="1991"></td>
        <td id="LC1991" class="blob-code js-file-line">       ]</td>
      </tr>
      <tr>
        <td id="L1992" class="blob-num js-line-number" data-line-number="1992"></td>
        <td id="LC1992" class="blob-code js-file-line">      }</td>
      </tr>
      <tr>
        <td id="L1993" class="blob-num js-line-number" data-line-number="1993"></td>
        <td id="LC1993" class="blob-code js-file-line">     ],</td>
      </tr>
      <tr>
        <td id="L1994" class="blob-num js-line-number" data-line-number="1994"></td>
        <td id="LC1994" class="blob-code js-file-line">     &quot;prompt_number&quot;: 150</td>
      </tr>
      <tr>
        <td id="L1995" class="blob-num js-line-number" data-line-number="1995"></td>
        <td id="LC1995" class="blob-code js-file-line">    },</td>
      </tr>
      <tr>
        <td id="L1996" class="blob-num js-line-number" data-line-number="1996"></td>
        <td id="LC1996" class="blob-code js-file-line">    {</td>
      </tr>
      <tr>
        <td id="L1997" class="blob-num js-line-number" data-line-number="1997"></td>
        <td id="LC1997" class="blob-code js-file-line">     &quot;cell_type&quot;: &quot;code&quot;,</td>
      </tr>
      <tr>
        <td id="L1998" class="blob-num js-line-number" data-line-number="1998"></td>
        <td id="LC1998" class="blob-code js-file-line">     &quot;collapsed&quot;: false,</td>
      </tr>
      <tr>
        <td id="L1999" class="blob-num js-line-number" data-line-number="1999"></td>
        <td id="LC1999" class="blob-code js-file-line">     &quot;input&quot;: [</td>
      </tr>
      <tr>
        <td id="L2000" class="blob-num js-line-number" data-line-number="2000"></td>
        <td id="LC2000" class="blob-code js-file-line">      &quot;# confusion matrix - training set\n&quot;,</td>
      </tr>
      <tr>
        <td id="L2001" class="blob-num js-line-number" data-line-number="2001"></td>
        <td id="LC2001" class="blob-code js-file-line">      &quot;# [TP][FP]\n&quot;,</td>
      </tr>
      <tr>
        <td id="L2002" class="blob-num js-line-number" data-line-number="2002"></td>
        <td id="LC2002" class="blob-code js-file-line">      &quot;# [FN][TN]&quot;</td>
      </tr>
      <tr>
        <td id="L2003" class="blob-num js-line-number" data-line-number="2003"></td>
        <td id="LC2003" class="blob-code js-file-line">     ],</td>
      </tr>
      <tr>
        <td id="L2004" class="blob-num js-line-number" data-line-number="2004"></td>
        <td id="LC2004" class="blob-code js-file-line">     &quot;language&quot;: &quot;python&quot;,</td>
      </tr>
      <tr>
        <td id="L2005" class="blob-num js-line-number" data-line-number="2005"></td>
        <td id="LC2005" class="blob-code js-file-line">     &quot;metadata&quot;: {},</td>
      </tr>
      <tr>
        <td id="L2006" class="blob-num js-line-number" data-line-number="2006"></td>
        <td id="LC2006" class="blob-code js-file-line">     &quot;outputs&quot;: [],</td>
      </tr>
      <tr>
        <td id="L2007" class="blob-num js-line-number" data-line-number="2007"></td>
        <td id="LC2007" class="blob-code js-file-line">     &quot;prompt_number&quot;: 151</td>
      </tr>
      <tr>
        <td id="L2008" class="blob-num js-line-number" data-line-number="2008"></td>
        <td id="LC2008" class="blob-code js-file-line">    },</td>
      </tr>
      <tr>
        <td id="L2009" class="blob-num js-line-number" data-line-number="2009"></td>
        <td id="LC2009" class="blob-code js-file-line">    {</td>
      </tr>
      <tr>
        <td id="L2010" class="blob-num js-line-number" data-line-number="2010"></td>
        <td id="LC2010" class="blob-code js-file-line">     &quot;cell_type&quot;: &quot;markdown&quot;,</td>
      </tr>
      <tr>
        <td id="L2011" class="blob-num js-line-number" data-line-number="2011"></td>
        <td id="LC2011" class="blob-code js-file-line">     &quot;metadata&quot;: {},</td>
      </tr>
      <tr>
        <td id="L2012" class="blob-num js-line-number" data-line-number="2012"></td>
        <td id="LC2012" class="blob-code js-file-line">     &quot;source&quot;: [</td>
      </tr>
      <tr>
        <td id="L2013" class="blob-num js-line-number" data-line-number="2013"></td>
        <td id="LC2013" class="blob-code js-file-line">      &quot;### Test Data confusion matrix&quot;</td>
      </tr>
      <tr>
        <td id="L2014" class="blob-num js-line-number" data-line-number="2014"></td>
        <td id="LC2014" class="blob-code js-file-line">     ]</td>
      </tr>
      <tr>
        <td id="L2015" class="blob-num js-line-number" data-line-number="2015"></td>
        <td id="LC2015" class="blob-code js-file-line">    },</td>
      </tr>
      <tr>
        <td id="L2016" class="blob-num js-line-number" data-line-number="2016"></td>
        <td id="LC2016" class="blob-code js-file-line">    {</td>
      </tr>
      <tr>
        <td id="L2017" class="blob-num js-line-number" data-line-number="2017"></td>
        <td id="LC2017" class="blob-code js-file-line">     &quot;cell_type&quot;: &quot;code&quot;,</td>
      </tr>
      <tr>
        <td id="L2018" class="blob-num js-line-number" data-line-number="2018"></td>
        <td id="LC2018" class="blob-code js-file-line">     &quot;collapsed&quot;: false,</td>
      </tr>
      <tr>
        <td id="L2019" class="blob-num js-line-number" data-line-number="2019"></td>
        <td id="LC2019" class="blob-code js-file-line">     &quot;input&quot;: [</td>
      </tr>
      <tr>
        <td id="L2020" class="blob-num js-line-number" data-line-number="2020"></td>
        <td id="LC2020" class="blob-code js-file-line">      &quot;test_confusion = metrics.confusion_matrix(y_test, y_test_prediction)\n&quot;,</td>
      </tr>
      <tr>
        <td id="L2021" class="blob-num js-line-number" data-line-number="2021"></td>
        <td id="LC2021" class="blob-code js-file-line">      &quot;test_confusion&quot;</td>
      </tr>
      <tr>
        <td id="L2022" class="blob-num js-line-number" data-line-number="2022"></td>
        <td id="LC2022" class="blob-code js-file-line">     ],</td>
      </tr>
      <tr>
        <td id="L2023" class="blob-num js-line-number" data-line-number="2023"></td>
        <td id="LC2023" class="blob-code js-file-line">     &quot;language&quot;: &quot;python&quot;,</td>
      </tr>
      <tr>
        <td id="L2024" class="blob-num js-line-number" data-line-number="2024"></td>
        <td id="LC2024" class="blob-code js-file-line">     &quot;metadata&quot;: {},</td>
      </tr>
      <tr>
        <td id="L2025" class="blob-num js-line-number" data-line-number="2025"></td>
        <td id="LC2025" class="blob-code js-file-line">     &quot;outputs&quot;: [</td>
      </tr>
      <tr>
        <td id="L2026" class="blob-num js-line-number" data-line-number="2026"></td>
        <td id="LC2026" class="blob-code js-file-line">      {</td>
      </tr>
      <tr>
        <td id="L2027" class="blob-num js-line-number" data-line-number="2027"></td>
        <td id="LC2027" class="blob-code js-file-line">       &quot;metadata&quot;: {},</td>
      </tr>
      <tr>
        <td id="L2028" class="blob-num js-line-number" data-line-number="2028"></td>
        <td id="LC2028" class="blob-code js-file-line">       &quot;output_type&quot;: &quot;pyout&quot;,</td>
      </tr>
      <tr>
        <td id="L2029" class="blob-num js-line-number" data-line-number="2029"></td>
        <td id="LC2029" class="blob-code js-file-line">       &quot;prompt_number&quot;: 152,</td>
      </tr>
      <tr>
        <td id="L2030" class="blob-num js-line-number" data-line-number="2030"></td>
        <td id="LC2030" class="blob-code js-file-line">       &quot;text&quot;: [</td>
      </tr>
      <tr>
        <td id="L2031" class="blob-num js-line-number" data-line-number="2031"></td>
        <td id="LC2031" class="blob-code js-file-line">        &quot;array([[772, 421],\n&quot;,</td>
      </tr>
      <tr>
        <td id="L2032" class="blob-num js-line-number" data-line-number="2032"></td>
        <td id="LC2032" class="blob-code js-file-line">        &quot;       [658, 304]])&quot;</td>
      </tr>
      <tr>
        <td id="L2033" class="blob-num js-line-number" data-line-number="2033"></td>
        <td id="LC2033" class="blob-code js-file-line">       ]</td>
      </tr>
      <tr>
        <td id="L2034" class="blob-num js-line-number" data-line-number="2034"></td>
        <td id="LC2034" class="blob-code js-file-line">      }</td>
      </tr>
      <tr>
        <td id="L2035" class="blob-num js-line-number" data-line-number="2035"></td>
        <td id="LC2035" class="blob-code js-file-line">     ],</td>
      </tr>
      <tr>
        <td id="L2036" class="blob-num js-line-number" data-line-number="2036"></td>
        <td id="LC2036" class="blob-code js-file-line">     &quot;prompt_number&quot;: 152</td>
      </tr>
      <tr>
        <td id="L2037" class="blob-num js-line-number" data-line-number="2037"></td>
        <td id="LC2037" class="blob-code js-file-line">    },</td>
      </tr>
      <tr>
        <td id="L2038" class="blob-num js-line-number" data-line-number="2038"></td>
        <td id="LC2038" class="blob-code js-file-line">    {</td>
      </tr>
      <tr>
        <td id="L2039" class="blob-num js-line-number" data-line-number="2039"></td>
        <td id="LC2039" class="blob-code js-file-line">     &quot;cell_type&quot;: &quot;code&quot;,</td>
      </tr>
      <tr>
        <td id="L2040" class="blob-num js-line-number" data-line-number="2040"></td>
        <td id="LC2040" class="blob-code js-file-line">     &quot;collapsed&quot;: false,</td>
      </tr>
      <tr>
        <td id="L2041" class="blob-num js-line-number" data-line-number="2041"></td>
        <td id="LC2041" class="blob-code js-file-line">     &quot;input&quot;: [</td>
      </tr>
      <tr>
        <td id="L2042" class="blob-num js-line-number" data-line-number="2042"></td>
        <td id="LC2042" class="blob-code js-file-line">      &quot;# confusion matrix - test set\n&quot;,</td>
      </tr>
      <tr>
        <td id="L2043" class="blob-num js-line-number" data-line-number="2043"></td>
        <td id="LC2043" class="blob-code js-file-line">      &quot;# [TP][FP]\n&quot;,</td>
      </tr>
      <tr>
        <td id="L2044" class="blob-num js-line-number" data-line-number="2044"></td>
        <td id="LC2044" class="blob-code js-file-line">      &quot;# [FN][TN]&quot;</td>
      </tr>
      <tr>
        <td id="L2045" class="blob-num js-line-number" data-line-number="2045"></td>
        <td id="LC2045" class="blob-code js-file-line">     ],</td>
      </tr>
      <tr>
        <td id="L2046" class="blob-num js-line-number" data-line-number="2046"></td>
        <td id="LC2046" class="blob-code js-file-line">     &quot;language&quot;: &quot;python&quot;,</td>
      </tr>
      <tr>
        <td id="L2047" class="blob-num js-line-number" data-line-number="2047"></td>
        <td id="LC2047" class="blob-code js-file-line">     &quot;metadata&quot;: {},</td>
      </tr>
      <tr>
        <td id="L2048" class="blob-num js-line-number" data-line-number="2048"></td>
        <td id="LC2048" class="blob-code js-file-line">     &quot;outputs&quot;: [],</td>
      </tr>
      <tr>
        <td id="L2049" class="blob-num js-line-number" data-line-number="2049"></td>
        <td id="LC2049" class="blob-code js-file-line">     &quot;prompt_number&quot;: 153</td>
      </tr>
      <tr>
        <td id="L2050" class="blob-num js-line-number" data-line-number="2050"></td>
        <td id="LC2050" class="blob-code js-file-line">    },</td>
      </tr>
      <tr>
        <td id="L2051" class="blob-num js-line-number" data-line-number="2051"></td>
        <td id="LC2051" class="blob-code js-file-line">    {</td>
      </tr>
      <tr>
        <td id="L2052" class="blob-num js-line-number" data-line-number="2052"></td>
        <td id="LC2052" class="blob-code js-file-line">     &quot;cell_type&quot;: &quot;markdown&quot;,</td>
      </tr>
      <tr>
        <td id="L2053" class="blob-num js-line-number" data-line-number="2053"></td>
        <td id="LC2053" class="blob-code js-file-line">     &quot;metadata&quot;: {},</td>
      </tr>
      <tr>
        <td id="L2054" class="blob-num js-line-number" data-line-number="2054"></td>
        <td id="LC2054" class="blob-code js-file-line">     &quot;source&quot;: [</td>
      </tr>
      <tr>
        <td id="L2055" class="blob-num js-line-number" data-line-number="2055"></td>
        <td id="LC2055" class="blob-code js-file-line">      &quot;# SVM Classification&quot;</td>
      </tr>
      <tr>
        <td id="L2056" class="blob-num js-line-number" data-line-number="2056"></td>
        <td id="LC2056" class="blob-code js-file-line">     ]</td>
      </tr>
      <tr>
        <td id="L2057" class="blob-num js-line-number" data-line-number="2057"></td>
        <td id="LC2057" class="blob-code js-file-line">    },</td>
      </tr>
      <tr>
        <td id="L2058" class="blob-num js-line-number" data-line-number="2058"></td>
        <td id="LC2058" class="blob-code js-file-line">    {</td>
      </tr>
      <tr>
        <td id="L2059" class="blob-num js-line-number" data-line-number="2059"></td>
        <td id="LC2059" class="blob-code js-file-line">     &quot;cell_type&quot;: &quot;code&quot;,</td>
      </tr>
      <tr>
        <td id="L2060" class="blob-num js-line-number" data-line-number="2060"></td>
        <td id="LC2060" class="blob-code js-file-line">     &quot;collapsed&quot;: false,</td>
      </tr>
      <tr>
        <td id="L2061" class="blob-num js-line-number" data-line-number="2061"></td>
        <td id="LC2061" class="blob-code js-file-line">     &quot;input&quot;: [</td>
      </tr>
      <tr>
        <td id="L2062" class="blob-num js-line-number" data-line-number="2062"></td>
        <td id="LC2062" class="blob-code js-file-line">      &quot;from sklearn.svm import SVC&quot;</td>
      </tr>
      <tr>
        <td id="L2063" class="blob-num js-line-number" data-line-number="2063"></td>
        <td id="LC2063" class="blob-code js-file-line">     ],</td>
      </tr>
      <tr>
        <td id="L2064" class="blob-num js-line-number" data-line-number="2064"></td>
        <td id="LC2064" class="blob-code js-file-line">     &quot;language&quot;: &quot;python&quot;,</td>
      </tr>
      <tr>
        <td id="L2065" class="blob-num js-line-number" data-line-number="2065"></td>
        <td id="LC2065" class="blob-code js-file-line">     &quot;metadata&quot;: {},</td>
      </tr>
      <tr>
        <td id="L2066" class="blob-num js-line-number" data-line-number="2066"></td>
        <td id="LC2066" class="blob-code js-file-line">     &quot;outputs&quot;: [],</td>
      </tr>
      <tr>
        <td id="L2067" class="blob-num js-line-number" data-line-number="2067"></td>
        <td id="LC2067" class="blob-code js-file-line">     &quot;prompt_number&quot;: 154</td>
      </tr>
      <tr>
        <td id="L2068" class="blob-num js-line-number" data-line-number="2068"></td>
        <td id="LC2068" class="blob-code js-file-line">    },</td>
      </tr>
      <tr>
        <td id="L2069" class="blob-num js-line-number" data-line-number="2069"></td>
        <td id="LC2069" class="blob-code js-file-line">    {</td>
      </tr>
      <tr>
        <td id="L2070" class="blob-num js-line-number" data-line-number="2070"></td>
        <td id="LC2070" class="blob-code js-file-line">     &quot;cell_type&quot;: &quot;code&quot;,</td>
      </tr>
      <tr>
        <td id="L2071" class="blob-num js-line-number" data-line-number="2071"></td>
        <td id="LC2071" class="blob-code js-file-line">     &quot;collapsed&quot;: false,</td>
      </tr>
      <tr>
        <td id="L2072" class="blob-num js-line-number" data-line-number="2072"></td>
        <td id="LC2072" class="blob-code js-file-line">     &quot;input&quot;: [</td>
      </tr>
      <tr>
        <td id="L2073" class="blob-num js-line-number" data-line-number="2073"></td>
        <td id="LC2073" class="blob-code js-file-line">      &quot;model = SVC() \n&quot;,</td>
      </tr>
      <tr>
        <td id="L2074" class="blob-num js-line-number" data-line-number="2074"></td>
        <td id="LC2074" class="blob-code js-file-line">      &quot;model.fit(X_train,y_train) \n&quot;,</td>
      </tr>
      <tr>
        <td id="L2075" class="blob-num js-line-number" data-line-number="2075"></td>
        <td id="LC2075" class="blob-code js-file-line">      &quot;print(model)&quot;</td>
      </tr>
      <tr>
        <td id="L2076" class="blob-num js-line-number" data-line-number="2076"></td>
        <td id="LC2076" class="blob-code js-file-line">     ],</td>
      </tr>
      <tr>
        <td id="L2077" class="blob-num js-line-number" data-line-number="2077"></td>
        <td id="LC2077" class="blob-code js-file-line">     &quot;language&quot;: &quot;python&quot;,</td>
      </tr>
      <tr>
        <td id="L2078" class="blob-num js-line-number" data-line-number="2078"></td>
        <td id="LC2078" class="blob-code js-file-line">     &quot;metadata&quot;: {},</td>
      </tr>
      <tr>
        <td id="L2079" class="blob-num js-line-number" data-line-number="2079"></td>
        <td id="LC2079" class="blob-code js-file-line">     &quot;outputs&quot;: [</td>
      </tr>
      <tr>
        <td id="L2080" class="blob-num js-line-number" data-line-number="2080"></td>
        <td id="LC2080" class="blob-code js-file-line">      {</td>
      </tr>
      <tr>
        <td id="L2081" class="blob-num js-line-number" data-line-number="2081"></td>
        <td id="LC2081" class="blob-code js-file-line">       &quot;output_type&quot;: &quot;stream&quot;,</td>
      </tr>
      <tr>
        <td id="L2082" class="blob-num js-line-number" data-line-number="2082"></td>
        <td id="LC2082" class="blob-code js-file-line">       &quot;stream&quot;: &quot;stdout&quot;,</td>
      </tr>
      <tr>
        <td id="L2083" class="blob-num js-line-number" data-line-number="2083"></td>
        <td id="LC2083" class="blob-code js-file-line">       &quot;text&quot;: [</td>
      </tr>
      <tr>
        <td id="L2084" class="blob-num js-line-number" data-line-number="2084"></td>
        <td id="LC2084" class="blob-code js-file-line">        &quot;SVC(C=1.0, cache_size=200, class_weight=None, coef0=0.0, degree=3, gamma=0.0,\n&quot;,</td>
      </tr>
      <tr>
        <td id="L2085" class="blob-num js-line-number" data-line-number="2085"></td>
        <td id="LC2085" class="blob-code js-file-line">        &quot;  kernel=&#39;rbf&#39;, max_iter=-1, probability=False, random_state=None,\n&quot;,</td>
      </tr>
      <tr>
        <td id="L2086" class="blob-num js-line-number" data-line-number="2086"></td>
        <td id="LC2086" class="blob-code js-file-line">        &quot;  shrinking=True, tol=0.001, verbose=False)\n&quot;</td>
      </tr>
      <tr>
        <td id="L2087" class="blob-num js-line-number" data-line-number="2087"></td>
        <td id="LC2087" class="blob-code js-file-line">       ]</td>
      </tr>
      <tr>
        <td id="L2088" class="blob-num js-line-number" data-line-number="2088"></td>
        <td id="LC2088" class="blob-code js-file-line">      }</td>
      </tr>
      <tr>
        <td id="L2089" class="blob-num js-line-number" data-line-number="2089"></td>
        <td id="LC2089" class="blob-code js-file-line">     ],</td>
      </tr>
      <tr>
        <td id="L2090" class="blob-num js-line-number" data-line-number="2090"></td>
        <td id="LC2090" class="blob-code js-file-line">     &quot;prompt_number&quot;: 155</td>
      </tr>
      <tr>
        <td id="L2091" class="blob-num js-line-number" data-line-number="2091"></td>
        <td id="LC2091" class="blob-code js-file-line">    },</td>
      </tr>
      <tr>
        <td id="L2092" class="blob-num js-line-number" data-line-number="2092"></td>
        <td id="LC2092" class="blob-code js-file-line">    {</td>
      </tr>
      <tr>
        <td id="L2093" class="blob-num js-line-number" data-line-number="2093"></td>
        <td id="LC2093" class="blob-code js-file-line">     &quot;cell_type&quot;: &quot;code&quot;,</td>
      </tr>
      <tr>
        <td id="L2094" class="blob-num js-line-number" data-line-number="2094"></td>
        <td id="LC2094" class="blob-code js-file-line">     &quot;collapsed&quot;: false,</td>
      </tr>
      <tr>
        <td id="L2095" class="blob-num js-line-number" data-line-number="2095"></td>
        <td id="LC2095" class="blob-code js-file-line">     &quot;input&quot;: [</td>
      </tr>
      <tr>
        <td id="L2096" class="blob-num js-line-number" data-line-number="2096"></td>
        <td id="LC2096" class="blob-code js-file-line">      &quot;expected = y_train \n&quot;,</td>
      </tr>
      <tr>
        <td id="L2097" class="blob-num js-line-number" data-line-number="2097"></td>
        <td id="LC2097" class="blob-code js-file-line">      &quot;predicted = model.predict(X_train)&quot;</td>
      </tr>
      <tr>
        <td id="L2098" class="blob-num js-line-number" data-line-number="2098"></td>
        <td id="LC2098" class="blob-code js-file-line">     ],</td>
      </tr>
      <tr>
        <td id="L2099" class="blob-num js-line-number" data-line-number="2099"></td>
        <td id="LC2099" class="blob-code js-file-line">     &quot;language&quot;: &quot;python&quot;,</td>
      </tr>
      <tr>
        <td id="L2100" class="blob-num js-line-number" data-line-number="2100"></td>
        <td id="LC2100" class="blob-code js-file-line">     &quot;metadata&quot;: {},</td>
      </tr>
      <tr>
        <td id="L2101" class="blob-num js-line-number" data-line-number="2101"></td>
        <td id="LC2101" class="blob-code js-file-line">     &quot;outputs&quot;: [],</td>
      </tr>
      <tr>
        <td id="L2102" class="blob-num js-line-number" data-line-number="2102"></td>
        <td id="LC2102" class="blob-code js-file-line">     &quot;prompt_number&quot;: 156</td>
      </tr>
      <tr>
        <td id="L2103" class="blob-num js-line-number" data-line-number="2103"></td>
        <td id="LC2103" class="blob-code js-file-line">    },</td>
      </tr>
      <tr>
        <td id="L2104" class="blob-num js-line-number" data-line-number="2104"></td>
        <td id="LC2104" class="blob-code js-file-line">    {</td>
      </tr>
      <tr>
        <td id="L2105" class="blob-num js-line-number" data-line-number="2105"></td>
        <td id="LC2105" class="blob-code js-file-line">     &quot;cell_type&quot;: &quot;code&quot;,</td>
      </tr>
      <tr>
        <td id="L2106" class="blob-num js-line-number" data-line-number="2106"></td>
        <td id="LC2106" class="blob-code js-file-line">     &quot;collapsed&quot;: false,</td>
      </tr>
      <tr>
        <td id="L2107" class="blob-num js-line-number" data-line-number="2107"></td>
        <td id="LC2107" class="blob-code js-file-line">     &quot;input&quot;: [</td>
      </tr>
      <tr>
        <td id="L2108" class="blob-num js-line-number" data-line-number="2108"></td>
        <td id="LC2108" class="blob-code js-file-line">      &quot;print(metrics.classification_report(expected,predicted))&quot;</td>
      </tr>
      <tr>
        <td id="L2109" class="blob-num js-line-number" data-line-number="2109"></td>
        <td id="LC2109" class="blob-code js-file-line">     ],</td>
      </tr>
      <tr>
        <td id="L2110" class="blob-num js-line-number" data-line-number="2110"></td>
        <td id="LC2110" class="blob-code js-file-line">     &quot;language&quot;: &quot;python&quot;,</td>
      </tr>
      <tr>
        <td id="L2111" class="blob-num js-line-number" data-line-number="2111"></td>
        <td id="LC2111" class="blob-code js-file-line">     &quot;metadata&quot;: {},</td>
      </tr>
      <tr>
        <td id="L2112" class="blob-num js-line-number" data-line-number="2112"></td>
        <td id="LC2112" class="blob-code js-file-line">     &quot;outputs&quot;: [</td>
      </tr>
      <tr>
        <td id="L2113" class="blob-num js-line-number" data-line-number="2113"></td>
        <td id="LC2113" class="blob-code js-file-line">      {</td>
      </tr>
      <tr>
        <td id="L2114" class="blob-num js-line-number" data-line-number="2114"></td>
        <td id="LC2114" class="blob-code js-file-line">       &quot;output_type&quot;: &quot;stream&quot;,</td>
      </tr>
      <tr>
        <td id="L2115" class="blob-num js-line-number" data-line-number="2115"></td>
        <td id="LC2115" class="blob-code js-file-line">       &quot;stream&quot;: &quot;stdout&quot;,</td>
      </tr>
      <tr>
        <td id="L2116" class="blob-num js-line-number" data-line-number="2116"></td>
        <td id="LC2116" class="blob-code js-file-line">       &quot;text&quot;: [</td>
      </tr>
      <tr>
        <td id="L2117" class="blob-num js-line-number" data-line-number="2117"></td>
        <td id="LC2117" class="blob-code js-file-line">        &quot;             precision    recall  f1-score   support\n&quot;,</td>
      </tr>
      <tr>
        <td id="L2118" class="blob-num js-line-number" data-line-number="2118"></td>
        <td id="LC2118" class="blob-code js-file-line">        &quot;\n&quot;,</td>
      </tr>
      <tr>
        <td id="L2119" class="blob-num js-line-number" data-line-number="2119"></td>
        <td id="LC2119" class="blob-code js-file-line">        &quot;      False       0.60      0.78      0.68      3544\n&quot;,</td>
      </tr>
      <tr>
        <td id="L2120" class="blob-num js-line-number" data-line-number="2120"></td>
        <td id="LC2120" class="blob-code js-file-line">        &quot;       True       0.58      0.37      0.45      2919\n&quot;,</td>
      </tr>
      <tr>
        <td id="L2121" class="blob-num js-line-number" data-line-number="2121"></td>
        <td id="LC2121" class="blob-code js-file-line">        &quot;\n&quot;,</td>
      </tr>
      <tr>
        <td id="L2122" class="blob-num js-line-number" data-line-number="2122"></td>
        <td id="LC2122" class="blob-code js-file-line">        &quot;avg / total       0.59      0.59      0.57      6463\n&quot;,</td>
      </tr>
      <tr>
        <td id="L2123" class="blob-num js-line-number" data-line-number="2123"></td>
        <td id="LC2123" class="blob-code js-file-line">        &quot;\n&quot;</td>
      </tr>
      <tr>
        <td id="L2124" class="blob-num js-line-number" data-line-number="2124"></td>
        <td id="LC2124" class="blob-code js-file-line">       ]</td>
      </tr>
      <tr>
        <td id="L2125" class="blob-num js-line-number" data-line-number="2125"></td>
        <td id="LC2125" class="blob-code js-file-line">      }</td>
      </tr>
      <tr>
        <td id="L2126" class="blob-num js-line-number" data-line-number="2126"></td>
        <td id="LC2126" class="blob-code js-file-line">     ],</td>
      </tr>
      <tr>
        <td id="L2127" class="blob-num js-line-number" data-line-number="2127"></td>
        <td id="LC2127" class="blob-code js-file-line">     &quot;prompt_number&quot;: 157</td>
      </tr>
      <tr>
        <td id="L2128" class="blob-num js-line-number" data-line-number="2128"></td>
        <td id="LC2128" class="blob-code js-file-line">    },</td>
      </tr>
      <tr>
        <td id="L2129" class="blob-num js-line-number" data-line-number="2129"></td>
        <td id="LC2129" class="blob-code js-file-line">    {</td>
      </tr>
      <tr>
        <td id="L2130" class="blob-num js-line-number" data-line-number="2130"></td>
        <td id="LC2130" class="blob-code js-file-line">     &quot;cell_type&quot;: &quot;code&quot;,</td>
      </tr>
      <tr>
        <td id="L2131" class="blob-num js-line-number" data-line-number="2131"></td>
        <td id="LC2131" class="blob-code js-file-line">     &quot;collapsed&quot;: false,</td>
      </tr>
      <tr>
        <td id="L2132" class="blob-num js-line-number" data-line-number="2132"></td>
        <td id="LC2132" class="blob-code js-file-line">     &quot;input&quot;: [</td>
      </tr>
      <tr>
        <td id="L2133" class="blob-num js-line-number" data-line-number="2133"></td>
        <td id="LC2133" class="blob-code js-file-line">      &quot; print(metrics.confusion_matrix(expected,predicted))&quot;</td>
      </tr>
      <tr>
        <td id="L2134" class="blob-num js-line-number" data-line-number="2134"></td>
        <td id="LC2134" class="blob-code js-file-line">     ],</td>
      </tr>
      <tr>
        <td id="L2135" class="blob-num js-line-number" data-line-number="2135"></td>
        <td id="LC2135" class="blob-code js-file-line">     &quot;language&quot;: &quot;python&quot;,</td>
      </tr>
      <tr>
        <td id="L2136" class="blob-num js-line-number" data-line-number="2136"></td>
        <td id="LC2136" class="blob-code js-file-line">     &quot;metadata&quot;: {},</td>
      </tr>
      <tr>
        <td id="L2137" class="blob-num js-line-number" data-line-number="2137"></td>
        <td id="LC2137" class="blob-code js-file-line">     &quot;outputs&quot;: [</td>
      </tr>
      <tr>
        <td id="L2138" class="blob-num js-line-number" data-line-number="2138"></td>
        <td id="LC2138" class="blob-code js-file-line">      {</td>
      </tr>
      <tr>
        <td id="L2139" class="blob-num js-line-number" data-line-number="2139"></td>
        <td id="LC2139" class="blob-code js-file-line">       &quot;output_type&quot;: &quot;stream&quot;,</td>
      </tr>
      <tr>
        <td id="L2140" class="blob-num js-line-number" data-line-number="2140"></td>
        <td id="LC2140" class="blob-code js-file-line">       &quot;stream&quot;: &quot;stdout&quot;,</td>
      </tr>
      <tr>
        <td id="L2141" class="blob-num js-line-number" data-line-number="2141"></td>
        <td id="LC2141" class="blob-code js-file-line">       &quot;text&quot;: [</td>
      </tr>
      <tr>
        <td id="L2142" class="blob-num js-line-number" data-line-number="2142"></td>
        <td id="LC2142" class="blob-code js-file-line">        &quot;[[2769  775]\n&quot;,</td>
      </tr>
      <tr>
        <td id="L2143" class="blob-num js-line-number" data-line-number="2143"></td>
        <td id="LC2143" class="blob-code js-file-line">        &quot; [1849 1070]]\n&quot;</td>
      </tr>
      <tr>
        <td id="L2144" class="blob-num js-line-number" data-line-number="2144"></td>
        <td id="LC2144" class="blob-code js-file-line">       ]</td>
      </tr>
      <tr>
        <td id="L2145" class="blob-num js-line-number" data-line-number="2145"></td>
        <td id="LC2145" class="blob-code js-file-line">      }</td>
      </tr>
      <tr>
        <td id="L2146" class="blob-num js-line-number" data-line-number="2146"></td>
        <td id="LC2146" class="blob-code js-file-line">     ],</td>
      </tr>
      <tr>
        <td id="L2147" class="blob-num js-line-number" data-line-number="2147"></td>
        <td id="LC2147" class="blob-code js-file-line">     &quot;prompt_number&quot;: 158</td>
      </tr>
      <tr>
        <td id="L2148" class="blob-num js-line-number" data-line-number="2148"></td>
        <td id="LC2148" class="blob-code js-file-line">    },</td>
      </tr>
      <tr>
        <td id="L2149" class="blob-num js-line-number" data-line-number="2149"></td>
        <td id="LC2149" class="blob-code js-file-line">    {</td>
      </tr>
      <tr>
        <td id="L2150" class="blob-num js-line-number" data-line-number="2150"></td>
        <td id="LC2150" class="blob-code js-file-line">     &quot;cell_type&quot;: &quot;code&quot;,</td>
      </tr>
      <tr>
        <td id="L2151" class="blob-num js-line-number" data-line-number="2151"></td>
        <td id="LC2151" class="blob-code js-file-line">     &quot;collapsed&quot;: false,</td>
      </tr>
      <tr>
        <td id="L2152" class="blob-num js-line-number" data-line-number="2152"></td>
        <td id="LC2152" class="blob-code js-file-line">     &quot;input&quot;: [</td>
      </tr>
      <tr>
        <td id="L2153" class="blob-num js-line-number" data-line-number="2153"></td>
        <td id="LC2153" class="blob-code js-file-line">      &quot;print(model.score(X_train, y_train))&quot;</td>
      </tr>
      <tr>
        <td id="L2154" class="blob-num js-line-number" data-line-number="2154"></td>
        <td id="LC2154" class="blob-code js-file-line">     ],</td>
      </tr>
      <tr>
        <td id="L2155" class="blob-num js-line-number" data-line-number="2155"></td>
        <td id="LC2155" class="blob-code js-file-line">     &quot;language&quot;: &quot;python&quot;,</td>
      </tr>
      <tr>
        <td id="L2156" class="blob-num js-line-number" data-line-number="2156"></td>
        <td id="LC2156" class="blob-code js-file-line">     &quot;metadata&quot;: {},</td>
      </tr>
      <tr>
        <td id="L2157" class="blob-num js-line-number" data-line-number="2157"></td>
        <td id="LC2157" class="blob-code js-file-line">     &quot;outputs&quot;: [</td>
      </tr>
      <tr>
        <td id="L2158" class="blob-num js-line-number" data-line-number="2158"></td>
        <td id="LC2158" class="blob-code js-file-line">      {</td>
      </tr>
      <tr>
        <td id="L2159" class="blob-num js-line-number" data-line-number="2159"></td>
        <td id="LC2159" class="blob-code js-file-line">       &quot;output_type&quot;: &quot;stream&quot;,</td>
      </tr>
      <tr>
        <td id="L2160" class="blob-num js-line-number" data-line-number="2160"></td>
        <td id="LC2160" class="blob-code js-file-line">       &quot;stream&quot;: &quot;stdout&quot;,</td>
      </tr>
      <tr>
        <td id="L2161" class="blob-num js-line-number" data-line-number="2161"></td>
        <td id="LC2161" class="blob-code js-file-line">       &quot;text&quot;: [</td>
      </tr>
      <tr>
        <td id="L2162" class="blob-num js-line-number" data-line-number="2162"></td>
        <td id="LC2162" class="blob-code js-file-line">        &quot;0.593996596008\n&quot;</td>
      </tr>
      <tr>
        <td id="L2163" class="blob-num js-line-number" data-line-number="2163"></td>
        <td id="LC2163" class="blob-code js-file-line">       ]</td>
      </tr>
      <tr>
        <td id="L2164" class="blob-num js-line-number" data-line-number="2164"></td>
        <td id="LC2164" class="blob-code js-file-line">      }</td>
      </tr>
      <tr>
        <td id="L2165" class="blob-num js-line-number" data-line-number="2165"></td>
        <td id="LC2165" class="blob-code js-file-line">     ],</td>
      </tr>
      <tr>
        <td id="L2166" class="blob-num js-line-number" data-line-number="2166"></td>
        <td id="LC2166" class="blob-code js-file-line">     &quot;prompt_number&quot;: 159</td>
      </tr>
      <tr>
        <td id="L2167" class="blob-num js-line-number" data-line-number="2167"></td>
        <td id="LC2167" class="blob-code js-file-line">    },</td>
      </tr>
      <tr>
        <td id="L2168" class="blob-num js-line-number" data-line-number="2168"></td>
        <td id="LC2168" class="blob-code js-file-line">    {</td>
      </tr>
      <tr>
        <td id="L2169" class="blob-num js-line-number" data-line-number="2169"></td>
        <td id="LC2169" class="blob-code js-file-line">     &quot;cell_type&quot;: &quot;code&quot;,</td>
      </tr>
      <tr>
        <td id="L2170" class="blob-num js-line-number" data-line-number="2170"></td>
        <td id="LC2170" class="blob-code js-file-line">     &quot;collapsed&quot;: false,</td>
      </tr>
      <tr>
        <td id="L2171" class="blob-num js-line-number" data-line-number="2171"></td>
        <td id="LC2171" class="blob-code js-file-line">     &quot;input&quot;: [</td>
      </tr>
      <tr>
        <td id="L2172" class="blob-num js-line-number" data-line-number="2172"></td>
        <td id="LC2172" class="blob-code js-file-line">      &quot;print(model.score(X_test, y_test))&quot;</td>
      </tr>
      <tr>
        <td id="L2173" class="blob-num js-line-number" data-line-number="2173"></td>
        <td id="LC2173" class="blob-code js-file-line">     ],</td>
      </tr>
      <tr>
        <td id="L2174" class="blob-num js-line-number" data-line-number="2174"></td>
        <td id="LC2174" class="blob-code js-file-line">     &quot;language&quot;: &quot;python&quot;,</td>
      </tr>
      <tr>
        <td id="L2175" class="blob-num js-line-number" data-line-number="2175"></td>
        <td id="LC2175" class="blob-code js-file-line">     &quot;metadata&quot;: {},</td>
      </tr>
      <tr>
        <td id="L2176" class="blob-num js-line-number" data-line-number="2176"></td>
        <td id="LC2176" class="blob-code js-file-line">     &quot;outputs&quot;: [</td>
      </tr>
      <tr>
        <td id="L2177" class="blob-num js-line-number" data-line-number="2177"></td>
        <td id="LC2177" class="blob-code js-file-line">      {</td>
      </tr>
      <tr>
        <td id="L2178" class="blob-num js-line-number" data-line-number="2178"></td>
        <td id="LC2178" class="blob-code js-file-line">       &quot;output_type&quot;: &quot;stream&quot;,</td>
      </tr>
      <tr>
        <td id="L2179" class="blob-num js-line-number" data-line-number="2179"></td>
        <td id="LC2179" class="blob-code js-file-line">       &quot;stream&quot;: &quot;stdout&quot;,</td>
      </tr>
      <tr>
        <td id="L2180" class="blob-num js-line-number" data-line-number="2180"></td>
        <td id="LC2180" class="blob-code js-file-line">       &quot;text&quot;: [</td>
      </tr>
      <tr>
        <td id="L2181" class="blob-num js-line-number" data-line-number="2181"></td>
        <td id="LC2181" class="blob-code js-file-line">        &quot;0.588399071926\n&quot;</td>
      </tr>
      <tr>
        <td id="L2182" class="blob-num js-line-number" data-line-number="2182"></td>
        <td id="LC2182" class="blob-code js-file-line">       ]</td>
      </tr>
      <tr>
        <td id="L2183" class="blob-num js-line-number" data-line-number="2183"></td>
        <td id="LC2183" class="blob-code js-file-line">      }</td>
      </tr>
      <tr>
        <td id="L2184" class="blob-num js-line-number" data-line-number="2184"></td>
        <td id="LC2184" class="blob-code js-file-line">     ],</td>
      </tr>
      <tr>
        <td id="L2185" class="blob-num js-line-number" data-line-number="2185"></td>
        <td id="LC2185" class="blob-code js-file-line">     &quot;prompt_number&quot;: 160</td>
      </tr>
      <tr>
        <td id="L2186" class="blob-num js-line-number" data-line-number="2186"></td>
        <td id="LC2186" class="blob-code js-file-line">    },</td>
      </tr>
      <tr>
        <td id="L2187" class="blob-num js-line-number" data-line-number="2187"></td>
        <td id="LC2187" class="blob-code js-file-line">    {</td>
      </tr>
      <tr>
        <td id="L2188" class="blob-num js-line-number" data-line-number="2188"></td>
        <td id="LC2188" class="blob-code js-file-line">     &quot;cell_type&quot;: &quot;markdown&quot;,</td>
      </tr>
      <tr>
        <td id="L2189" class="blob-num js-line-number" data-line-number="2189"></td>
        <td id="LC2189" class="blob-code js-file-line">     &quot;metadata&quot;: {},</td>
      </tr>
      <tr>
        <td id="L2190" class="blob-num js-line-number" data-line-number="2190"></td>
        <td id="LC2190" class="blob-code js-file-line">     &quot;source&quot;: [</td>
      </tr>
      <tr>
        <td id="L2191" class="blob-num js-line-number" data-line-number="2191"></td>
        <td id="LC2191" class="blob-code js-file-line">      &quot;# SVM Regression&quot;</td>
      </tr>
      <tr>
        <td id="L2192" class="blob-num js-line-number" data-line-number="2192"></td>
        <td id="LC2192" class="blob-code js-file-line">     ]</td>
      </tr>
      <tr>
        <td id="L2193" class="blob-num js-line-number" data-line-number="2193"></td>
        <td id="LC2193" class="blob-code js-file-line">    },</td>
      </tr>
      <tr>
        <td id="L2194" class="blob-num js-line-number" data-line-number="2194"></td>
        <td id="LC2194" class="blob-code js-file-line">    {</td>
      </tr>
      <tr>
        <td id="L2195" class="blob-num js-line-number" data-line-number="2195"></td>
        <td id="LC2195" class="blob-code js-file-line">     &quot;cell_type&quot;: &quot;code&quot;,</td>
      </tr>
      <tr>
        <td id="L2196" class="blob-num js-line-number" data-line-number="2196"></td>
        <td id="LC2196" class="blob-code js-file-line">     &quot;collapsed&quot;: false,</td>
      </tr>
      <tr>
        <td id="L2197" class="blob-num js-line-number" data-line-number="2197"></td>
        <td id="LC2197" class="blob-code js-file-line">     &quot;input&quot;: [</td>
      </tr>
      <tr>
        <td id="L2198" class="blob-num js-line-number" data-line-number="2198"></td>
        <td id="LC2198" class="blob-code js-file-line">      &quot;from sklearn.svm import SVR&quot;</td>
      </tr>
      <tr>
        <td id="L2199" class="blob-num js-line-number" data-line-number="2199"></td>
        <td id="LC2199" class="blob-code js-file-line">     ],</td>
      </tr>
      <tr>
        <td id="L2200" class="blob-num js-line-number" data-line-number="2200"></td>
        <td id="LC2200" class="blob-code js-file-line">     &quot;language&quot;: &quot;python&quot;,</td>
      </tr>
      <tr>
        <td id="L2201" class="blob-num js-line-number" data-line-number="2201"></td>
        <td id="LC2201" class="blob-code js-file-line">     &quot;metadata&quot;: {},</td>
      </tr>
      <tr>
        <td id="L2202" class="blob-num js-line-number" data-line-number="2202"></td>
        <td id="LC2202" class="blob-code js-file-line">     &quot;outputs&quot;: [],</td>
      </tr>
      <tr>
        <td id="L2203" class="blob-num js-line-number" data-line-number="2203"></td>
        <td id="LC2203" class="blob-code js-file-line">     &quot;prompt_number&quot;: 161</td>
      </tr>
      <tr>
        <td id="L2204" class="blob-num js-line-number" data-line-number="2204"></td>
        <td id="LC2204" class="blob-code js-file-line">    },</td>
      </tr>
      <tr>
        <td id="L2205" class="blob-num js-line-number" data-line-number="2205"></td>
        <td id="LC2205" class="blob-code js-file-line">    {</td>
      </tr>
      <tr>
        <td id="L2206" class="blob-num js-line-number" data-line-number="2206"></td>
        <td id="LC2206" class="blob-code js-file-line">     &quot;cell_type&quot;: &quot;code&quot;,</td>
      </tr>
      <tr>
        <td id="L2207" class="blob-num js-line-number" data-line-number="2207"></td>
        <td id="LC2207" class="blob-code js-file-line">     &quot;collapsed&quot;: false,</td>
      </tr>
      <tr>
        <td id="L2208" class="blob-num js-line-number" data-line-number="2208"></td>
        <td id="LC2208" class="blob-code js-file-line">     &quot;input&quot;: [</td>
      </tr>
      <tr>
        <td id="L2209" class="blob-num js-line-number" data-line-number="2209"></td>
        <td id="LC2209" class="blob-code js-file-line">      &quot;model = SVR()\n&quot;,</td>
      </tr>
      <tr>
        <td id="L2210" class="blob-num js-line-number" data-line-number="2210"></td>
        <td id="LC2210" class="blob-code js-file-line">      &quot;model.fit(X_train,y_train) \n&quot;,</td>
      </tr>
      <tr>
        <td id="L2211" class="blob-num js-line-number" data-line-number="2211"></td>
        <td id="LC2211" class="blob-code js-file-line">      &quot;print(model)&quot;</td>
      </tr>
      <tr>
        <td id="L2212" class="blob-num js-line-number" data-line-number="2212"></td>
        <td id="LC2212" class="blob-code js-file-line">     ],</td>
      </tr>
      <tr>
        <td id="L2213" class="blob-num js-line-number" data-line-number="2213"></td>
        <td id="LC2213" class="blob-code js-file-line">     &quot;language&quot;: &quot;python&quot;,</td>
      </tr>
      <tr>
        <td id="L2214" class="blob-num js-line-number" data-line-number="2214"></td>
        <td id="LC2214" class="blob-code js-file-line">     &quot;metadata&quot;: {},</td>
      </tr>
      <tr>
        <td id="L2215" class="blob-num js-line-number" data-line-number="2215"></td>
        <td id="LC2215" class="blob-code js-file-line">     &quot;outputs&quot;: [</td>
      </tr>
      <tr>
        <td id="L2216" class="blob-num js-line-number" data-line-number="2216"></td>
        <td id="LC2216" class="blob-code js-file-line">      {</td>
      </tr>
      <tr>
        <td id="L2217" class="blob-num js-line-number" data-line-number="2217"></td>
        <td id="LC2217" class="blob-code js-file-line">       &quot;output_type&quot;: &quot;stream&quot;,</td>
      </tr>
      <tr>
        <td id="L2218" class="blob-num js-line-number" data-line-number="2218"></td>
        <td id="LC2218" class="blob-code js-file-line">       &quot;stream&quot;: &quot;stdout&quot;,</td>
      </tr>
      <tr>
        <td id="L2219" class="blob-num js-line-number" data-line-number="2219"></td>
        <td id="LC2219" class="blob-code js-file-line">       &quot;text&quot;: [</td>
      </tr>
      <tr>
        <td id="L2220" class="blob-num js-line-number" data-line-number="2220"></td>
        <td id="LC2220" class="blob-code js-file-line">        &quot;SVR(C=1.0, cache_size=200, coef0=0.0, degree=3, epsilon=0.1, gamma=0.0,\n&quot;,</td>
      </tr>
      <tr>
        <td id="L2221" class="blob-num js-line-number" data-line-number="2221"></td>
        <td id="LC2221" class="blob-code js-file-line">        &quot;  kernel=&#39;rbf&#39;, max_iter=-1, probability=False, random_state=None,\n&quot;,</td>
      </tr>
      <tr>
        <td id="L2222" class="blob-num js-line-number" data-line-number="2222"></td>
        <td id="LC2222" class="blob-code js-file-line">        &quot;  shrinking=True, tol=0.001, verbose=False)\n&quot;</td>
      </tr>
      <tr>
        <td id="L2223" class="blob-num js-line-number" data-line-number="2223"></td>
        <td id="LC2223" class="blob-code js-file-line">       ]</td>
      </tr>
      <tr>
        <td id="L2224" class="blob-num js-line-number" data-line-number="2224"></td>
        <td id="LC2224" class="blob-code js-file-line">      }</td>
      </tr>
      <tr>
        <td id="L2225" class="blob-num js-line-number" data-line-number="2225"></td>
        <td id="LC2225" class="blob-code js-file-line">     ],</td>
      </tr>
      <tr>
        <td id="L2226" class="blob-num js-line-number" data-line-number="2226"></td>
        <td id="LC2226" class="blob-code js-file-line">     &quot;prompt_number&quot;: 162</td>
      </tr>
      <tr>
        <td id="L2227" class="blob-num js-line-number" data-line-number="2227"></td>
        <td id="LC2227" class="blob-code js-file-line">    },</td>
      </tr>
      <tr>
        <td id="L2228" class="blob-num js-line-number" data-line-number="2228"></td>
        <td id="LC2228" class="blob-code js-file-line">    {</td>
      </tr>
      <tr>
        <td id="L2229" class="blob-num js-line-number" data-line-number="2229"></td>
        <td id="LC2229" class="blob-code js-file-line">     &quot;cell_type&quot;: &quot;code&quot;,</td>
      </tr>
      <tr>
        <td id="L2230" class="blob-num js-line-number" data-line-number="2230"></td>
        <td id="LC2230" class="blob-code js-file-line">     &quot;collapsed&quot;: false,</td>
      </tr>
      <tr>
        <td id="L2231" class="blob-num js-line-number" data-line-number="2231"></td>
        <td id="LC2231" class="blob-code js-file-line">     &quot;input&quot;: [</td>
      </tr>
      <tr>
        <td id="L2232" class="blob-num js-line-number" data-line-number="2232"></td>
        <td id="LC2232" class="blob-code js-file-line">      &quot;expected = y_train \n&quot;,</td>
      </tr>
      <tr>
        <td id="L2233" class="blob-num js-line-number" data-line-number="2233"></td>
        <td id="LC2233" class="blob-code js-file-line">      &quot;predicted = model.predict(X_train)&quot;</td>
      </tr>
      <tr>
        <td id="L2234" class="blob-num js-line-number" data-line-number="2234"></td>
        <td id="LC2234" class="blob-code js-file-line">     ],</td>
      </tr>
      <tr>
        <td id="L2235" class="blob-num js-line-number" data-line-number="2235"></td>
        <td id="LC2235" class="blob-code js-file-line">     &quot;language&quot;: &quot;python&quot;,</td>
      </tr>
      <tr>
        <td id="L2236" class="blob-num js-line-number" data-line-number="2236"></td>
        <td id="LC2236" class="blob-code js-file-line">     &quot;metadata&quot;: {},</td>
      </tr>
      <tr>
        <td id="L2237" class="blob-num js-line-number" data-line-number="2237"></td>
        <td id="LC2237" class="blob-code js-file-line">     &quot;outputs&quot;: [],</td>
      </tr>
      <tr>
        <td id="L2238" class="blob-num js-line-number" data-line-number="2238"></td>
        <td id="LC2238" class="blob-code js-file-line">     &quot;prompt_number&quot;: 163</td>
      </tr>
      <tr>
        <td id="L2239" class="blob-num js-line-number" data-line-number="2239"></td>
        <td id="LC2239" class="blob-code js-file-line">    },</td>
      </tr>
      <tr>
        <td id="L2240" class="blob-num js-line-number" data-line-number="2240"></td>
        <td id="LC2240" class="blob-code js-file-line">    {</td>
      </tr>
      <tr>
        <td id="L2241" class="blob-num js-line-number" data-line-number="2241"></td>
        <td id="LC2241" class="blob-code js-file-line">     &quot;cell_type&quot;: &quot;code&quot;,</td>
      </tr>
      <tr>
        <td id="L2242" class="blob-num js-line-number" data-line-number="2242"></td>
        <td id="LC2242" class="blob-code js-file-line">     &quot;collapsed&quot;: false,</td>
      </tr>
      <tr>
        <td id="L2243" class="blob-num js-line-number" data-line-number="2243"></td>
        <td id="LC2243" class="blob-code js-file-line">     &quot;input&quot;: [</td>
      </tr>
      <tr>
        <td id="L2244" class="blob-num js-line-number" data-line-number="2244"></td>
        <td id="LC2244" class="blob-code js-file-line">      &quot;mse=np.mean((predicted-expected)**2)  &quot;</td>
      </tr>
      <tr>
        <td id="L2245" class="blob-num js-line-number" data-line-number="2245"></td>
        <td id="LC2245" class="blob-code js-file-line">     ],</td>
      </tr>
      <tr>
        <td id="L2246" class="blob-num js-line-number" data-line-number="2246"></td>
        <td id="LC2246" class="blob-code js-file-line">     &quot;language&quot;: &quot;python&quot;,</td>
      </tr>
      <tr>
        <td id="L2247" class="blob-num js-line-number" data-line-number="2247"></td>
        <td id="LC2247" class="blob-code js-file-line">     &quot;metadata&quot;: {},</td>
      </tr>
      <tr>
        <td id="L2248" class="blob-num js-line-number" data-line-number="2248"></td>
        <td id="LC2248" class="blob-code js-file-line">     &quot;outputs&quot;: [],</td>
      </tr>
      <tr>
        <td id="L2249" class="blob-num js-line-number" data-line-number="2249"></td>
        <td id="LC2249" class="blob-code js-file-line">     &quot;prompt_number&quot;: 164</td>
      </tr>
      <tr>
        <td id="L2250" class="blob-num js-line-number" data-line-number="2250"></td>
        <td id="LC2250" class="blob-code js-file-line">    },</td>
      </tr>
      <tr>
        <td id="L2251" class="blob-num js-line-number" data-line-number="2251"></td>
        <td id="LC2251" class="blob-code js-file-line">    {</td>
      </tr>
      <tr>
        <td id="L2252" class="blob-num js-line-number" data-line-number="2252"></td>
        <td id="LC2252" class="blob-code js-file-line">     &quot;cell_type&quot;: &quot;code&quot;,</td>
      </tr>
      <tr>
        <td id="L2253" class="blob-num js-line-number" data-line-number="2253"></td>
        <td id="LC2253" class="blob-code js-file-line">     &quot;collapsed&quot;: false,</td>
      </tr>
      <tr>
        <td id="L2254" class="blob-num js-line-number" data-line-number="2254"></td>
        <td id="LC2254" class="blob-code js-file-line">     &quot;input&quot;: [</td>
      </tr>
      <tr>
        <td id="L2255" class="blob-num js-line-number" data-line-number="2255"></td>
        <td id="LC2255" class="blob-code js-file-line">      &quot;print(mse)&quot;</td>
      </tr>
      <tr>
        <td id="L2256" class="blob-num js-line-number" data-line-number="2256"></td>
        <td id="LC2256" class="blob-code js-file-line">     ],</td>
      </tr>
      <tr>
        <td id="L2257" class="blob-num js-line-number" data-line-number="2257"></td>
        <td id="LC2257" class="blob-code js-file-line">     &quot;language&quot;: &quot;python&quot;,</td>
      </tr>
      <tr>
        <td id="L2258" class="blob-num js-line-number" data-line-number="2258"></td>
        <td id="LC2258" class="blob-code js-file-line">     &quot;metadata&quot;: {},</td>
      </tr>
      <tr>
        <td id="L2259" class="blob-num js-line-number" data-line-number="2259"></td>
        <td id="LC2259" class="blob-code js-file-line">     &quot;outputs&quot;: [</td>
      </tr>
      <tr>
        <td id="L2260" class="blob-num js-line-number" data-line-number="2260"></td>
        <td id="LC2260" class="blob-code js-file-line">      {</td>
      </tr>
      <tr>
        <td id="L2261" class="blob-num js-line-number" data-line-number="2261"></td>
        <td id="LC2261" class="blob-code js-file-line">       &quot;output_type&quot;: &quot;stream&quot;,</td>
      </tr>
      <tr>
        <td id="L2262" class="blob-num js-line-number" data-line-number="2262"></td>
        <td id="LC2262" class="blob-code js-file-line">       &quot;stream&quot;: &quot;stdout&quot;,</td>
      </tr>
      <tr>
        <td id="L2263" class="blob-num js-line-number" data-line-number="2263"></td>
        <td id="LC2263" class="blob-code js-file-line">       &quot;text&quot;: [</td>
      </tr>
      <tr>
        <td id="L2264" class="blob-num js-line-number" data-line-number="2264"></td>
        <td id="LC2264" class="blob-code js-file-line">        &quot;0.266451423801\n&quot;</td>
      </tr>
      <tr>
        <td id="L2265" class="blob-num js-line-number" data-line-number="2265"></td>
        <td id="LC2265" class="blob-code js-file-line">       ]</td>
      </tr>
      <tr>
        <td id="L2266" class="blob-num js-line-number" data-line-number="2266"></td>
        <td id="LC2266" class="blob-code js-file-line">      }</td>
      </tr>
      <tr>
        <td id="L2267" class="blob-num js-line-number" data-line-number="2267"></td>
        <td id="LC2267" class="blob-code js-file-line">     ],</td>
      </tr>
      <tr>
        <td id="L2268" class="blob-num js-line-number" data-line-number="2268"></td>
        <td id="LC2268" class="blob-code js-file-line">     &quot;prompt_number&quot;: 165</td>
      </tr>
      <tr>
        <td id="L2269" class="blob-num js-line-number" data-line-number="2269"></td>
        <td id="LC2269" class="blob-code js-file-line">    },</td>
      </tr>
      <tr>
        <td id="L2270" class="blob-num js-line-number" data-line-number="2270"></td>
        <td id="LC2270" class="blob-code js-file-line">    {</td>
      </tr>
      <tr>
        <td id="L2271" class="blob-num js-line-number" data-line-number="2271"></td>
        <td id="LC2271" class="blob-code js-file-line">     &quot;cell_type&quot;: &quot;code&quot;,</td>
      </tr>
      <tr>
        <td id="L2272" class="blob-num js-line-number" data-line-number="2272"></td>
        <td id="LC2272" class="blob-code js-file-line">     &quot;collapsed&quot;: false,</td>
      </tr>
      <tr>
        <td id="L2273" class="blob-num js-line-number" data-line-number="2273"></td>
        <td id="LC2273" class="blob-code js-file-line">     &quot;input&quot;: [</td>
      </tr>
      <tr>
        <td id="L2274" class="blob-num js-line-number" data-line-number="2274"></td>
        <td id="LC2274" class="blob-code js-file-line">      &quot;print(model.score(X_train, y_train))&quot;</td>
      </tr>
      <tr>
        <td id="L2275" class="blob-num js-line-number" data-line-number="2275"></td>
        <td id="LC2275" class="blob-code js-file-line">     ],</td>
      </tr>
      <tr>
        <td id="L2276" class="blob-num js-line-number" data-line-number="2276"></td>
        <td id="LC2276" class="blob-code js-file-line">     &quot;language&quot;: &quot;python&quot;,</td>
      </tr>
      <tr>
        <td id="L2277" class="blob-num js-line-number" data-line-number="2277"></td>
        <td id="LC2277" class="blob-code js-file-line">     &quot;metadata&quot;: {},</td>
      </tr>
      <tr>
        <td id="L2278" class="blob-num js-line-number" data-line-number="2278"></td>
        <td id="LC2278" class="blob-code js-file-line">     &quot;outputs&quot;: [</td>
      </tr>
      <tr>
        <td id="L2279" class="blob-num js-line-number" data-line-number="2279"></td>
        <td id="LC2279" class="blob-code js-file-line">      {</td>
      </tr>
      <tr>
        <td id="L2280" class="blob-num js-line-number" data-line-number="2280"></td>
        <td id="LC2280" class="blob-code js-file-line">       &quot;output_type&quot;: &quot;stream&quot;,</td>
      </tr>
      <tr>
        <td id="L2281" class="blob-num js-line-number" data-line-number="2281"></td>
        <td id="LC2281" class="blob-code js-file-line">       &quot;stream&quot;: &quot;stdout&quot;,</td>
      </tr>
      <tr>
        <td id="L2282" class="blob-num js-line-number" data-line-number="2282"></td>
        <td id="LC2282" class="blob-code js-file-line">       &quot;text&quot;: [</td>
      </tr>
      <tr>
        <td id="L2283" class="blob-num js-line-number" data-line-number="2283"></td>
        <td id="LC2283" class="blob-code js-file-line">        &quot;-0.0758669065467\n&quot;</td>
      </tr>
      <tr>
        <td id="L2284" class="blob-num js-line-number" data-line-number="2284"></td>
        <td id="LC2284" class="blob-code js-file-line">       ]</td>
      </tr>
      <tr>
        <td id="L2285" class="blob-num js-line-number" data-line-number="2285"></td>
        <td id="LC2285" class="blob-code js-file-line">      }</td>
      </tr>
      <tr>
        <td id="L2286" class="blob-num js-line-number" data-line-number="2286"></td>
        <td id="LC2286" class="blob-code js-file-line">     ],</td>
      </tr>
      <tr>
        <td id="L2287" class="blob-num js-line-number" data-line-number="2287"></td>
        <td id="LC2287" class="blob-code js-file-line">     &quot;prompt_number&quot;: 166</td>
      </tr>
      <tr>
        <td id="L2288" class="blob-num js-line-number" data-line-number="2288"></td>
        <td id="LC2288" class="blob-code js-file-line">    },</td>
      </tr>
      <tr>
        <td id="L2289" class="blob-num js-line-number" data-line-number="2289"></td>
        <td id="LC2289" class="blob-code js-file-line">    {</td>
      </tr>
      <tr>
        <td id="L2290" class="blob-num js-line-number" data-line-number="2290"></td>
        <td id="LC2290" class="blob-code js-file-line">     &quot;cell_type&quot;: &quot;code&quot;,</td>
      </tr>
      <tr>
        <td id="L2291" class="blob-num js-line-number" data-line-number="2291"></td>
        <td id="LC2291" class="blob-code js-file-line">     &quot;collapsed&quot;: false,</td>
      </tr>
      <tr>
        <td id="L2292" class="blob-num js-line-number" data-line-number="2292"></td>
        <td id="LC2292" class="blob-code js-file-line">     &quot;input&quot;: [</td>
      </tr>
      <tr>
        <td id="L2293" class="blob-num js-line-number" data-line-number="2293"></td>
        <td id="LC2293" class="blob-code js-file-line">      &quot;print(model.score(X_test, y_test))&quot;</td>
      </tr>
      <tr>
        <td id="L2294" class="blob-num js-line-number" data-line-number="2294"></td>
        <td id="LC2294" class="blob-code js-file-line">     ],</td>
      </tr>
      <tr>
        <td id="L2295" class="blob-num js-line-number" data-line-number="2295"></td>
        <td id="LC2295" class="blob-code js-file-line">     &quot;language&quot;: &quot;python&quot;,</td>
      </tr>
      <tr>
        <td id="L2296" class="blob-num js-line-number" data-line-number="2296"></td>
        <td id="LC2296" class="blob-code js-file-line">     &quot;metadata&quot;: {},</td>
      </tr>
      <tr>
        <td id="L2297" class="blob-num js-line-number" data-line-number="2297"></td>
        <td id="LC2297" class="blob-code js-file-line">     &quot;outputs&quot;: [</td>
      </tr>
      <tr>
        <td id="L2298" class="blob-num js-line-number" data-line-number="2298"></td>
        <td id="LC2298" class="blob-code js-file-line">      {</td>
      </tr>
      <tr>
        <td id="L2299" class="blob-num js-line-number" data-line-number="2299"></td>
        <td id="LC2299" class="blob-code js-file-line">       &quot;output_type&quot;: &quot;stream&quot;,</td>
      </tr>
      <tr>
        <td id="L2300" class="blob-num js-line-number" data-line-number="2300"></td>
        <td id="LC2300" class="blob-code js-file-line">       &quot;stream&quot;: &quot;stdout&quot;,</td>
      </tr>
      <tr>
        <td id="L2301" class="blob-num js-line-number" data-line-number="2301"></td>
        <td id="LC2301" class="blob-code js-file-line">       &quot;text&quot;: [</td>
      </tr>
      <tr>
        <td id="L2302" class="blob-num js-line-number" data-line-number="2302"></td>
        <td id="LC2302" class="blob-code js-file-line">        &quot;-0.144318378336\n&quot;</td>
      </tr>
      <tr>
        <td id="L2303" class="blob-num js-line-number" data-line-number="2303"></td>
        <td id="LC2303" class="blob-code js-file-line">       ]</td>
      </tr>
      <tr>
        <td id="L2304" class="blob-num js-line-number" data-line-number="2304"></td>
        <td id="LC2304" class="blob-code js-file-line">      }</td>
      </tr>
      <tr>
        <td id="L2305" class="blob-num js-line-number" data-line-number="2305"></td>
        <td id="LC2305" class="blob-code js-file-line">     ],</td>
      </tr>
      <tr>
        <td id="L2306" class="blob-num js-line-number" data-line-number="2306"></td>
        <td id="LC2306" class="blob-code js-file-line">     &quot;prompt_number&quot;: 167</td>
      </tr>
      <tr>
        <td id="L2307" class="blob-num js-line-number" data-line-number="2307"></td>
        <td id="LC2307" class="blob-code js-file-line">    },</td>
      </tr>
      <tr>
        <td id="L2308" class="blob-num js-line-number" data-line-number="2308"></td>
        <td id="LC2308" class="blob-code js-file-line">    {</td>
      </tr>
      <tr>
        <td id="L2309" class="blob-num js-line-number" data-line-number="2309"></td>
        <td id="LC2309" class="blob-code js-file-line">     &quot;cell_type&quot;: &quot;markdown&quot;,</td>
      </tr>
      <tr>
        <td id="L2310" class="blob-num js-line-number" data-line-number="2310"></td>
        <td id="LC2310" class="blob-code js-file-line">     &quot;metadata&quot;: {},</td>
      </tr>
      <tr>
        <td id="L2311" class="blob-num js-line-number" data-line-number="2311"></td>
        <td id="LC2311" class="blob-code js-file-line">     &quot;source&quot;: [</td>
      </tr>
      <tr>
        <td id="L2312" class="blob-num js-line-number" data-line-number="2312"></td>
        <td id="LC2312" class="blob-code js-file-line">      &quot;# GaussianNaiveBayes&quot;</td>
      </tr>
      <tr>
        <td id="L2313" class="blob-num js-line-number" data-line-number="2313"></td>
        <td id="LC2313" class="blob-code js-file-line">     ]</td>
      </tr>
      <tr>
        <td id="L2314" class="blob-num js-line-number" data-line-number="2314"></td>
        <td id="LC2314" class="blob-code js-file-line">    },</td>
      </tr>
      <tr>
        <td id="L2315" class="blob-num js-line-number" data-line-number="2315"></td>
        <td id="LC2315" class="blob-code js-file-line">    {</td>
      </tr>
      <tr>
        <td id="L2316" class="blob-num js-line-number" data-line-number="2316"></td>
        <td id="LC2316" class="blob-code js-file-line">     &quot;cell_type&quot;: &quot;code&quot;,</td>
      </tr>
      <tr>
        <td id="L2317" class="blob-num js-line-number" data-line-number="2317"></td>
        <td id="LC2317" class="blob-code js-file-line">     &quot;collapsed&quot;: false,</td>
      </tr>
      <tr>
        <td id="L2318" class="blob-num js-line-number" data-line-number="2318"></td>
        <td id="LC2318" class="blob-code js-file-line">     &quot;input&quot;: [</td>
      </tr>
      <tr>
        <td id="L2319" class="blob-num js-line-number" data-line-number="2319"></td>
        <td id="LC2319" class="blob-code js-file-line">      &quot;from sklearn  import datasets\n&quot;,</td>
      </tr>
      <tr>
        <td id="L2320" class="blob-num js-line-number" data-line-number="2320"></td>
        <td id="LC2320" class="blob-code js-file-line">      &quot;from sklearn.naive_bayes import GaussianNB&quot;</td>
      </tr>
      <tr>
        <td id="L2321" class="blob-num js-line-number" data-line-number="2321"></td>
        <td id="LC2321" class="blob-code js-file-line">     ],</td>
      </tr>
      <tr>
        <td id="L2322" class="blob-num js-line-number" data-line-number="2322"></td>
        <td id="LC2322" class="blob-code js-file-line">     &quot;language&quot;: &quot;python&quot;,</td>
      </tr>
      <tr>
        <td id="L2323" class="blob-num js-line-number" data-line-number="2323"></td>
        <td id="LC2323" class="blob-code js-file-line">     &quot;metadata&quot;: {},</td>
      </tr>
      <tr>
        <td id="L2324" class="blob-num js-line-number" data-line-number="2324"></td>
        <td id="LC2324" class="blob-code js-file-line">     &quot;outputs&quot;: [],</td>
      </tr>
      <tr>
        <td id="L2325" class="blob-num js-line-number" data-line-number="2325"></td>
        <td id="LC2325" class="blob-code js-file-line">     &quot;prompt_number&quot;: 168</td>
      </tr>
      <tr>
        <td id="L2326" class="blob-num js-line-number" data-line-number="2326"></td>
        <td id="LC2326" class="blob-code js-file-line">    },</td>
      </tr>
      <tr>
        <td id="L2327" class="blob-num js-line-number" data-line-number="2327"></td>
        <td id="LC2327" class="blob-code js-file-line">    {</td>
      </tr>
      <tr>
        <td id="L2328" class="blob-num js-line-number" data-line-number="2328"></td>
        <td id="LC2328" class="blob-code js-file-line">     &quot;cell_type&quot;: &quot;code&quot;,</td>
      </tr>
      <tr>
        <td id="L2329" class="blob-num js-line-number" data-line-number="2329"></td>
        <td id="LC2329" class="blob-code js-file-line">     &quot;collapsed&quot;: false,</td>
      </tr>
      <tr>
        <td id="L2330" class="blob-num js-line-number" data-line-number="2330"></td>
        <td id="LC2330" class="blob-code js-file-line">     &quot;input&quot;: [</td>
      </tr>
      <tr>
        <td id="L2331" class="blob-num js-line-number" data-line-number="2331"></td>
        <td id="LC2331" class="blob-code js-file-line">      &quot;model = GaussianNB()\n&quot;,</td>
      </tr>
      <tr>
        <td id="L2332" class="blob-num js-line-number" data-line-number="2332"></td>
        <td id="LC2332" class="blob-code js-file-line">      &quot;model.fit(X_train,y_train) \n&quot;,</td>
      </tr>
      <tr>
        <td id="L2333" class="blob-num js-line-number" data-line-number="2333"></td>
        <td id="LC2333" class="blob-code js-file-line">      &quot;print(model)&quot;</td>
      </tr>
      <tr>
        <td id="L2334" class="blob-num js-line-number" data-line-number="2334"></td>
        <td id="LC2334" class="blob-code js-file-line">     ],</td>
      </tr>
      <tr>
        <td id="L2335" class="blob-num js-line-number" data-line-number="2335"></td>
        <td id="LC2335" class="blob-code js-file-line">     &quot;language&quot;: &quot;python&quot;,</td>
      </tr>
      <tr>
        <td id="L2336" class="blob-num js-line-number" data-line-number="2336"></td>
        <td id="LC2336" class="blob-code js-file-line">     &quot;metadata&quot;: {},</td>
      </tr>
      <tr>
        <td id="L2337" class="blob-num js-line-number" data-line-number="2337"></td>
        <td id="LC2337" class="blob-code js-file-line">     &quot;outputs&quot;: [</td>
      </tr>
      <tr>
        <td id="L2338" class="blob-num js-line-number" data-line-number="2338"></td>
        <td id="LC2338" class="blob-code js-file-line">      {</td>
      </tr>
      <tr>
        <td id="L2339" class="blob-num js-line-number" data-line-number="2339"></td>
        <td id="LC2339" class="blob-code js-file-line">       &quot;output_type&quot;: &quot;stream&quot;,</td>
      </tr>
      <tr>
        <td id="L2340" class="blob-num js-line-number" data-line-number="2340"></td>
        <td id="LC2340" class="blob-code js-file-line">       &quot;stream&quot;: &quot;stdout&quot;,</td>
      </tr>
      <tr>
        <td id="L2341" class="blob-num js-line-number" data-line-number="2341"></td>
        <td id="LC2341" class="blob-code js-file-line">       &quot;text&quot;: [</td>
      </tr>
      <tr>
        <td id="L2342" class="blob-num js-line-number" data-line-number="2342"></td>
        <td id="LC2342" class="blob-code js-file-line">        &quot;GaussianNB()\n&quot;</td>
      </tr>
      <tr>
        <td id="L2343" class="blob-num js-line-number" data-line-number="2343"></td>
        <td id="LC2343" class="blob-code js-file-line">       ]</td>
      </tr>
      <tr>
        <td id="L2344" class="blob-num js-line-number" data-line-number="2344"></td>
        <td id="LC2344" class="blob-code js-file-line">      }</td>
      </tr>
      <tr>
        <td id="L2345" class="blob-num js-line-number" data-line-number="2345"></td>
        <td id="LC2345" class="blob-code js-file-line">     ],</td>
      </tr>
      <tr>
        <td id="L2346" class="blob-num js-line-number" data-line-number="2346"></td>
        <td id="LC2346" class="blob-code js-file-line">     &quot;prompt_number&quot;: 169</td>
      </tr>
      <tr>
        <td id="L2347" class="blob-num js-line-number" data-line-number="2347"></td>
        <td id="LC2347" class="blob-code js-file-line">    },</td>
      </tr>
      <tr>
        <td id="L2348" class="blob-num js-line-number" data-line-number="2348"></td>
        <td id="LC2348" class="blob-code js-file-line">    {</td>
      </tr>
      <tr>
        <td id="L2349" class="blob-num js-line-number" data-line-number="2349"></td>
        <td id="LC2349" class="blob-code js-file-line">     &quot;cell_type&quot;: &quot;code&quot;,</td>
      </tr>
      <tr>
        <td id="L2350" class="blob-num js-line-number" data-line-number="2350"></td>
        <td id="LC2350" class="blob-code js-file-line">     &quot;collapsed&quot;: false,</td>
      </tr>
      <tr>
        <td id="L2351" class="blob-num js-line-number" data-line-number="2351"></td>
        <td id="LC2351" class="blob-code js-file-line">     &quot;input&quot;: [</td>
      </tr>
      <tr>
        <td id="L2352" class="blob-num js-line-number" data-line-number="2352"></td>
        <td id="LC2352" class="blob-code js-file-line">      &quot;expected = y_train \n&quot;,</td>
      </tr>
      <tr>
        <td id="L2353" class="blob-num js-line-number" data-line-number="2353"></td>
        <td id="LC2353" class="blob-code js-file-line">      &quot;predicted = model.predict(X_train)&quot;</td>
      </tr>
      <tr>
        <td id="L2354" class="blob-num js-line-number" data-line-number="2354"></td>
        <td id="LC2354" class="blob-code js-file-line">     ],</td>
      </tr>
      <tr>
        <td id="L2355" class="blob-num js-line-number" data-line-number="2355"></td>
        <td id="LC2355" class="blob-code js-file-line">     &quot;language&quot;: &quot;python&quot;,</td>
      </tr>
      <tr>
        <td id="L2356" class="blob-num js-line-number" data-line-number="2356"></td>
        <td id="LC2356" class="blob-code js-file-line">     &quot;metadata&quot;: {},</td>
      </tr>
      <tr>
        <td id="L2357" class="blob-num js-line-number" data-line-number="2357"></td>
        <td id="LC2357" class="blob-code js-file-line">     &quot;outputs&quot;: [],</td>
      </tr>
      <tr>
        <td id="L2358" class="blob-num js-line-number" data-line-number="2358"></td>
        <td id="LC2358" class="blob-code js-file-line">     &quot;prompt_number&quot;: 170</td>
      </tr>
      <tr>
        <td id="L2359" class="blob-num js-line-number" data-line-number="2359"></td>
        <td id="LC2359" class="blob-code js-file-line">    },</td>
      </tr>
      <tr>
        <td id="L2360" class="blob-num js-line-number" data-line-number="2360"></td>
        <td id="LC2360" class="blob-code js-file-line">    {</td>
      </tr>
      <tr>
        <td id="L2361" class="blob-num js-line-number" data-line-number="2361"></td>
        <td id="LC2361" class="blob-code js-file-line">     &quot;cell_type&quot;: &quot;code&quot;,</td>
      </tr>
      <tr>
        <td id="L2362" class="blob-num js-line-number" data-line-number="2362"></td>
        <td id="LC2362" class="blob-code js-file-line">     &quot;collapsed&quot;: false,</td>
      </tr>
      <tr>
        <td id="L2363" class="blob-num js-line-number" data-line-number="2363"></td>
        <td id="LC2363" class="blob-code js-file-line">     &quot;input&quot;: [</td>
      </tr>
      <tr>
        <td id="L2364" class="blob-num js-line-number" data-line-number="2364"></td>
        <td id="LC2364" class="blob-code js-file-line">      &quot;print(metrics.classification_report(expected,predicted)) \n&quot;,</td>
      </tr>
      <tr>
        <td id="L2365" class="blob-num js-line-number" data-line-number="2365"></td>
        <td id="LC2365" class="blob-code js-file-line">      &quot;print(metrics.confusion_matrix(expected,predicted))&quot;</td>
      </tr>
      <tr>
        <td id="L2366" class="blob-num js-line-number" data-line-number="2366"></td>
        <td id="LC2366" class="blob-code js-file-line">     ],</td>
      </tr>
      <tr>
        <td id="L2367" class="blob-num js-line-number" data-line-number="2367"></td>
        <td id="LC2367" class="blob-code js-file-line">     &quot;language&quot;: &quot;python&quot;,</td>
      </tr>
      <tr>
        <td id="L2368" class="blob-num js-line-number" data-line-number="2368"></td>
        <td id="LC2368" class="blob-code js-file-line">     &quot;metadata&quot;: {},</td>
      </tr>
      <tr>
        <td id="L2369" class="blob-num js-line-number" data-line-number="2369"></td>
        <td id="LC2369" class="blob-code js-file-line">     &quot;outputs&quot;: [</td>
      </tr>
      <tr>
        <td id="L2370" class="blob-num js-line-number" data-line-number="2370"></td>
        <td id="LC2370" class="blob-code js-file-line">      {</td>
      </tr>
      <tr>
        <td id="L2371" class="blob-num js-line-number" data-line-number="2371"></td>
        <td id="LC2371" class="blob-code js-file-line">       &quot;output_type&quot;: &quot;stream&quot;,</td>
      </tr>
      <tr>
        <td id="L2372" class="blob-num js-line-number" data-line-number="2372"></td>
        <td id="LC2372" class="blob-code js-file-line">       &quot;stream&quot;: &quot;stdout&quot;,</td>
      </tr>
      <tr>
        <td id="L2373" class="blob-num js-line-number" data-line-number="2373"></td>
        <td id="LC2373" class="blob-code js-file-line">       &quot;text&quot;: [</td>
      </tr>
      <tr>
        <td id="L2374" class="blob-num js-line-number" data-line-number="2374"></td>
        <td id="LC2374" class="blob-code js-file-line">        &quot;             precision    recall  f1-score   support\n&quot;,</td>
      </tr>
      <tr>
        <td id="L2375" class="blob-num js-line-number" data-line-number="2375"></td>
        <td id="LC2375" class="blob-code js-file-line">        &quot;\n&quot;,</td>
      </tr>
      <tr>
        <td id="L2376" class="blob-num js-line-number" data-line-number="2376"></td>
        <td id="LC2376" class="blob-code js-file-line">        &quot;      False       0.64      0.36      0.46      3544\n&quot;,</td>
      </tr>
      <tr>
        <td id="L2377" class="blob-num js-line-number" data-line-number="2377"></td>
        <td id="LC2377" class="blob-code js-file-line">        &quot;       True       0.49      0.76      0.60      2919\n&quot;,</td>
      </tr>
      <tr>
        <td id="L2378" class="blob-num js-line-number" data-line-number="2378"></td>
        <td id="LC2378" class="blob-code js-file-line">        &quot;\n&quot;,</td>
      </tr>
      <tr>
        <td id="L2379" class="blob-num js-line-number" data-line-number="2379"></td>
        <td id="LC2379" class="blob-code js-file-line">        &quot;avg / total       0.57      0.54      0.52      6463\n&quot;,</td>
      </tr>
      <tr>
        <td id="L2380" class="blob-num js-line-number" data-line-number="2380"></td>
        <td id="LC2380" class="blob-code js-file-line">        &quot;\n&quot;,</td>
      </tr>
      <tr>
        <td id="L2381" class="blob-num js-line-number" data-line-number="2381"></td>
        <td id="LC2381" class="blob-code js-file-line">        &quot;[[1272 2272]\n&quot;,</td>
      </tr>
      <tr>
        <td id="L2382" class="blob-num js-line-number" data-line-number="2382"></td>
        <td id="LC2382" class="blob-code js-file-line">        &quot; [ 714 2205]]\n&quot;</td>
      </tr>
      <tr>
        <td id="L2383" class="blob-num js-line-number" data-line-number="2383"></td>
        <td id="LC2383" class="blob-code js-file-line">       ]</td>
      </tr>
      <tr>
        <td id="L2384" class="blob-num js-line-number" data-line-number="2384"></td>
        <td id="LC2384" class="blob-code js-file-line">      }</td>
      </tr>
      <tr>
        <td id="L2385" class="blob-num js-line-number" data-line-number="2385"></td>
        <td id="LC2385" class="blob-code js-file-line">     ],</td>
      </tr>
      <tr>
        <td id="L2386" class="blob-num js-line-number" data-line-number="2386"></td>
        <td id="LC2386" class="blob-code js-file-line">     &quot;prompt_number&quot;: 171</td>
      </tr>
      <tr>
        <td id="L2387" class="blob-num js-line-number" data-line-number="2387"></td>
        <td id="LC2387" class="blob-code js-file-line">    },</td>
      </tr>
      <tr>
        <td id="L2388" class="blob-num js-line-number" data-line-number="2388"></td>
        <td id="LC2388" class="blob-code js-file-line">    {</td>
      </tr>
      <tr>
        <td id="L2389" class="blob-num js-line-number" data-line-number="2389"></td>
        <td id="LC2389" class="blob-code js-file-line">     &quot;cell_type&quot;: &quot;code&quot;,</td>
      </tr>
      <tr>
        <td id="L2390" class="blob-num js-line-number" data-line-number="2390"></td>
        <td id="LC2390" class="blob-code js-file-line">     &quot;collapsed&quot;: false,</td>
      </tr>
      <tr>
        <td id="L2391" class="blob-num js-line-number" data-line-number="2391"></td>
        <td id="LC2391" class="blob-code js-file-line">     &quot;input&quot;: [</td>
      </tr>
      <tr>
        <td id="L2392" class="blob-num js-line-number" data-line-number="2392"></td>
        <td id="LC2392" class="blob-code js-file-line">      &quot;print(model.score(X_train, y_train))&quot;</td>
      </tr>
      <tr>
        <td id="L2393" class="blob-num js-line-number" data-line-number="2393"></td>
        <td id="LC2393" class="blob-code js-file-line">     ],</td>
      </tr>
      <tr>
        <td id="L2394" class="blob-num js-line-number" data-line-number="2394"></td>
        <td id="LC2394" class="blob-code js-file-line">     &quot;language&quot;: &quot;python&quot;,</td>
      </tr>
      <tr>
        <td id="L2395" class="blob-num js-line-number" data-line-number="2395"></td>
        <td id="LC2395" class="blob-code js-file-line">     &quot;metadata&quot;: {},</td>
      </tr>
      <tr>
        <td id="L2396" class="blob-num js-line-number" data-line-number="2396"></td>
        <td id="LC2396" class="blob-code js-file-line">     &quot;outputs&quot;: [</td>
      </tr>
      <tr>
        <td id="L2397" class="blob-num js-line-number" data-line-number="2397"></td>
        <td id="LC2397" class="blob-code js-file-line">      {</td>
      </tr>
      <tr>
        <td id="L2398" class="blob-num js-line-number" data-line-number="2398"></td>
        <td id="LC2398" class="blob-code js-file-line">       &quot;output_type&quot;: &quot;stream&quot;,</td>
      </tr>
      <tr>
        <td id="L2399" class="blob-num js-line-number" data-line-number="2399"></td>
        <td id="LC2399" class="blob-code js-file-line">       &quot;stream&quot;: &quot;stdout&quot;,</td>
      </tr>
      <tr>
        <td id="L2400" class="blob-num js-line-number" data-line-number="2400"></td>
        <td id="LC2400" class="blob-code js-file-line">       &quot;text&quot;: [</td>
      </tr>
      <tr>
        <td id="L2401" class="blob-num js-line-number" data-line-number="2401"></td>
        <td id="LC2401" class="blob-code js-file-line">        &quot;0.537985455671\n&quot;</td>
      </tr>
      <tr>
        <td id="L2402" class="blob-num js-line-number" data-line-number="2402"></td>
        <td id="LC2402" class="blob-code js-file-line">       ]</td>
      </tr>
      <tr>
        <td id="L2403" class="blob-num js-line-number" data-line-number="2403"></td>
        <td id="LC2403" class="blob-code js-file-line">      }</td>
      </tr>
      <tr>
        <td id="L2404" class="blob-num js-line-number" data-line-number="2404"></td>
        <td id="LC2404" class="blob-code js-file-line">     ],</td>
      </tr>
      <tr>
        <td id="L2405" class="blob-num js-line-number" data-line-number="2405"></td>
        <td id="LC2405" class="blob-code js-file-line">     &quot;prompt_number&quot;: 172</td>
      </tr>
      <tr>
        <td id="L2406" class="blob-num js-line-number" data-line-number="2406"></td>
        <td id="LC2406" class="blob-code js-file-line">    },</td>
      </tr>
      <tr>
        <td id="L2407" class="blob-num js-line-number" data-line-number="2407"></td>
        <td id="LC2407" class="blob-code js-file-line">    {</td>
      </tr>
      <tr>
        <td id="L2408" class="blob-num js-line-number" data-line-number="2408"></td>
        <td id="LC2408" class="blob-code js-file-line">     &quot;cell_type&quot;: &quot;code&quot;,</td>
      </tr>
      <tr>
        <td id="L2409" class="blob-num js-line-number" data-line-number="2409"></td>
        <td id="LC2409" class="blob-code js-file-line">     &quot;collapsed&quot;: false,</td>
      </tr>
      <tr>
        <td id="L2410" class="blob-num js-line-number" data-line-number="2410"></td>
        <td id="LC2410" class="blob-code js-file-line">     &quot;input&quot;: [</td>
      </tr>
      <tr>
        <td id="L2411" class="blob-num js-line-number" data-line-number="2411"></td>
        <td id="LC2411" class="blob-code js-file-line">      &quot;print(model.score(X_test, y_test))&quot;</td>
      </tr>
      <tr>
        <td id="L2412" class="blob-num js-line-number" data-line-number="2412"></td>
        <td id="LC2412" class="blob-code js-file-line">     ],</td>
      </tr>
      <tr>
        <td id="L2413" class="blob-num js-line-number" data-line-number="2413"></td>
        <td id="LC2413" class="blob-code js-file-line">     &quot;language&quot;: &quot;python&quot;,</td>
      </tr>
      <tr>
        <td id="L2414" class="blob-num js-line-number" data-line-number="2414"></td>
        <td id="LC2414" class="blob-code js-file-line">     &quot;metadata&quot;: {},</td>
      </tr>
      <tr>
        <td id="L2415" class="blob-num js-line-number" data-line-number="2415"></td>
        <td id="LC2415" class="blob-code js-file-line">     &quot;outputs&quot;: [</td>
      </tr>
      <tr>
        <td id="L2416" class="blob-num js-line-number" data-line-number="2416"></td>
        <td id="LC2416" class="blob-code js-file-line">      {</td>
      </tr>
      <tr>
        <td id="L2417" class="blob-num js-line-number" data-line-number="2417"></td>
        <td id="LC2417" class="blob-code js-file-line">       &quot;output_type&quot;: &quot;stream&quot;,</td>
      </tr>
      <tr>
        <td id="L2418" class="blob-num js-line-number" data-line-number="2418"></td>
        <td id="LC2418" class="blob-code js-file-line">       &quot;stream&quot;: &quot;stdout&quot;,</td>
      </tr>
      <tr>
        <td id="L2419" class="blob-num js-line-number" data-line-number="2419"></td>
        <td id="LC2419" class="blob-code js-file-line">       &quot;text&quot;: [</td>
      </tr>
      <tr>
        <td id="L2420" class="blob-num js-line-number" data-line-number="2420"></td>
        <td id="LC2420" class="blob-code js-file-line">        &quot;0.543851508121\n&quot;</td>
      </tr>
      <tr>
        <td id="L2421" class="blob-num js-line-number" data-line-number="2421"></td>
        <td id="LC2421" class="blob-code js-file-line">       ]</td>
      </tr>
      <tr>
        <td id="L2422" class="blob-num js-line-number" data-line-number="2422"></td>
        <td id="LC2422" class="blob-code js-file-line">      }</td>
      </tr>
      <tr>
        <td id="L2423" class="blob-num js-line-number" data-line-number="2423"></td>
        <td id="LC2423" class="blob-code js-file-line">     ],</td>
      </tr>
      <tr>
        <td id="L2424" class="blob-num js-line-number" data-line-number="2424"></td>
        <td id="LC2424" class="blob-code js-file-line">     &quot;prompt_number&quot;: 173</td>
      </tr>
      <tr>
        <td id="L2425" class="blob-num js-line-number" data-line-number="2425"></td>
        <td id="LC2425" class="blob-code js-file-line">    },</td>
      </tr>
      <tr>
        <td id="L2426" class="blob-num js-line-number" data-line-number="2426"></td>
        <td id="LC2426" class="blob-code js-file-line">    {</td>
      </tr>
      <tr>
        <td id="L2427" class="blob-num js-line-number" data-line-number="2427"></td>
        <td id="LC2427" class="blob-code js-file-line">     &quot;cell_type&quot;: &quot;markdown&quot;,</td>
      </tr>
      <tr>
        <td id="L2428" class="blob-num js-line-number" data-line-number="2428"></td>
        <td id="LC2428" class="blob-code js-file-line">     &quot;metadata&quot;: {},</td>
      </tr>
      <tr>
        <td id="L2429" class="blob-num js-line-number" data-line-number="2429"></td>
        <td id="LC2429" class="blob-code js-file-line">     &quot;source&quot;: [</td>
      </tr>
      <tr>
        <td id="L2430" class="blob-num js-line-number" data-line-number="2430"></td>
        <td id="LC2430" class="blob-code js-file-line">      &quot;# k-Nearest Neighbor&quot;</td>
      </tr>
      <tr>
        <td id="L2431" class="blob-num js-line-number" data-line-number="2431"></td>
        <td id="LC2431" class="blob-code js-file-line">     ]</td>
      </tr>
      <tr>
        <td id="L2432" class="blob-num js-line-number" data-line-number="2432"></td>
        <td id="LC2432" class="blob-code js-file-line">    },</td>
      </tr>
      <tr>
        <td id="L2433" class="blob-num js-line-number" data-line-number="2433"></td>
        <td id="LC2433" class="blob-code js-file-line">    {</td>
      </tr>
      <tr>
        <td id="L2434" class="blob-num js-line-number" data-line-number="2434"></td>
        <td id="LC2434" class="blob-code js-file-line">     &quot;cell_type&quot;: &quot;code&quot;,</td>
      </tr>
      <tr>
        <td id="L2435" class="blob-num js-line-number" data-line-number="2435"></td>
        <td id="LC2435" class="blob-code js-file-line">     &quot;collapsed&quot;: false,</td>
      </tr>
      <tr>
        <td id="L2436" class="blob-num js-line-number" data-line-number="2436"></td>
        <td id="LC2436" class="blob-code js-file-line">     &quot;input&quot;: [</td>
      </tr>
      <tr>
        <td id="L2437" class="blob-num js-line-number" data-line-number="2437"></td>
        <td id="LC2437" class="blob-code js-file-line">      &quot;from sklearn.neighbors import KNeighborsClassifier&quot;</td>
      </tr>
      <tr>
        <td id="L2438" class="blob-num js-line-number" data-line-number="2438"></td>
        <td id="LC2438" class="blob-code js-file-line">     ],</td>
      </tr>
      <tr>
        <td id="L2439" class="blob-num js-line-number" data-line-number="2439"></td>
        <td id="LC2439" class="blob-code js-file-line">     &quot;language&quot;: &quot;python&quot;,</td>
      </tr>
      <tr>
        <td id="L2440" class="blob-num js-line-number" data-line-number="2440"></td>
        <td id="LC2440" class="blob-code js-file-line">     &quot;metadata&quot;: {},</td>
      </tr>
      <tr>
        <td id="L2441" class="blob-num js-line-number" data-line-number="2441"></td>
        <td id="LC2441" class="blob-code js-file-line">     &quot;outputs&quot;: [],</td>
      </tr>
      <tr>
        <td id="L2442" class="blob-num js-line-number" data-line-number="2442"></td>
        <td id="LC2442" class="blob-code js-file-line">     &quot;prompt_number&quot;: 174</td>
      </tr>
      <tr>
        <td id="L2443" class="blob-num js-line-number" data-line-number="2443"></td>
        <td id="LC2443" class="blob-code js-file-line">    },</td>
      </tr>
      <tr>
        <td id="L2444" class="blob-num js-line-number" data-line-number="2444"></td>
        <td id="LC2444" class="blob-code js-file-line">    {</td>
      </tr>
      <tr>
        <td id="L2445" class="blob-num js-line-number" data-line-number="2445"></td>
        <td id="LC2445" class="blob-code js-file-line">     &quot;cell_type&quot;: &quot;code&quot;,</td>
      </tr>
      <tr>
        <td id="L2446" class="blob-num js-line-number" data-line-number="2446"></td>
        <td id="LC2446" class="blob-code js-file-line">     &quot;collapsed&quot;: false,</td>
      </tr>
      <tr>
        <td id="L2447" class="blob-num js-line-number" data-line-number="2447"></td>
        <td id="LC2447" class="blob-code js-file-line">     &quot;input&quot;: [</td>
      </tr>
      <tr>
        <td id="L2448" class="blob-num js-line-number" data-line-number="2448"></td>
        <td id="LC2448" class="blob-code js-file-line">      &quot;# fit a k-nearest neighbor model to the data\n&quot;,</td>
      </tr>
      <tr>
        <td id="L2449" class="blob-num js-line-number" data-line-number="2449"></td>
        <td id="LC2449" class="blob-code js-file-line">      &quot;model = KNeighborsClassifier(n_neighbors=2000, algorithm=&#39;ball_tree&#39;)\n&quot;,</td>
      </tr>
      <tr>
        <td id="L2450" class="blob-num js-line-number" data-line-number="2450"></td>
        <td id="LC2450" class="blob-code js-file-line">      &quot;model.fit(X_train,y_train) \n&quot;,</td>
      </tr>
      <tr>
        <td id="L2451" class="blob-num js-line-number" data-line-number="2451"></td>
        <td id="LC2451" class="blob-code js-file-line">      &quot;print(model)&quot;</td>
      </tr>
      <tr>
        <td id="L2452" class="blob-num js-line-number" data-line-number="2452"></td>
        <td id="LC2452" class="blob-code js-file-line">     ],</td>
      </tr>
      <tr>
        <td id="L2453" class="blob-num js-line-number" data-line-number="2453"></td>
        <td id="LC2453" class="blob-code js-file-line">     &quot;language&quot;: &quot;python&quot;,</td>
      </tr>
      <tr>
        <td id="L2454" class="blob-num js-line-number" data-line-number="2454"></td>
        <td id="LC2454" class="blob-code js-file-line">     &quot;metadata&quot;: {},</td>
      </tr>
      <tr>
        <td id="L2455" class="blob-num js-line-number" data-line-number="2455"></td>
        <td id="LC2455" class="blob-code js-file-line">     &quot;outputs&quot;: [</td>
      </tr>
      <tr>
        <td id="L2456" class="blob-num js-line-number" data-line-number="2456"></td>
        <td id="LC2456" class="blob-code js-file-line">      {</td>
      </tr>
      <tr>
        <td id="L2457" class="blob-num js-line-number" data-line-number="2457"></td>
        <td id="LC2457" class="blob-code js-file-line">       &quot;output_type&quot;: &quot;stream&quot;,</td>
      </tr>
      <tr>
        <td id="L2458" class="blob-num js-line-number" data-line-number="2458"></td>
        <td id="LC2458" class="blob-code js-file-line">       &quot;stream&quot;: &quot;stdout&quot;,</td>
      </tr>
      <tr>
        <td id="L2459" class="blob-num js-line-number" data-line-number="2459"></td>
        <td id="LC2459" class="blob-code js-file-line">       &quot;text&quot;: [</td>
      </tr>
      <tr>
        <td id="L2460" class="blob-num js-line-number" data-line-number="2460"></td>
        <td id="LC2460" class="blob-code js-file-line">        &quot;KNeighborsClassifier(algorithm=&#39;ball_tree&#39;, leaf_size=30, metric=&#39;minkowski&#39;,\n&quot;,</td>
      </tr>
      <tr>
        <td id="L2461" class="blob-num js-line-number" data-line-number="2461"></td>
        <td id="LC2461" class="blob-code js-file-line">        &quot;           metric_params=None, n_neighbors=2000, p=2, weights=&#39;uniform&#39;)\n&quot;</td>
      </tr>
      <tr>
        <td id="L2462" class="blob-num js-line-number" data-line-number="2462"></td>
        <td id="LC2462" class="blob-code js-file-line">       ]</td>
      </tr>
      <tr>
        <td id="L2463" class="blob-num js-line-number" data-line-number="2463"></td>
        <td id="LC2463" class="blob-code js-file-line">      }</td>
      </tr>
      <tr>
        <td id="L2464" class="blob-num js-line-number" data-line-number="2464"></td>
        <td id="LC2464" class="blob-code js-file-line">     ],</td>
      </tr>
      <tr>
        <td id="L2465" class="blob-num js-line-number" data-line-number="2465"></td>
        <td id="LC2465" class="blob-code js-file-line">     &quot;prompt_number&quot;: 175</td>
      </tr>
      <tr>
        <td id="L2466" class="blob-num js-line-number" data-line-number="2466"></td>
        <td id="LC2466" class="blob-code js-file-line">    },</td>
      </tr>
      <tr>
        <td id="L2467" class="blob-num js-line-number" data-line-number="2467"></td>
        <td id="LC2467" class="blob-code js-file-line">    {</td>
      </tr>
      <tr>
        <td id="L2468" class="blob-num js-line-number" data-line-number="2468"></td>
        <td id="LC2468" class="blob-code js-file-line">     &quot;cell_type&quot;: &quot;code&quot;,</td>
      </tr>
      <tr>
        <td id="L2469" class="blob-num js-line-number" data-line-number="2469"></td>
        <td id="LC2469" class="blob-code js-file-line">     &quot;collapsed&quot;: false,</td>
      </tr>
      <tr>
        <td id="L2470" class="blob-num js-line-number" data-line-number="2470"></td>
        <td id="LC2470" class="blob-code js-file-line">     &quot;input&quot;: [</td>
      </tr>
      <tr>
        <td id="L2471" class="blob-num js-line-number" data-line-number="2471"></td>
        <td id="LC2471" class="blob-code js-file-line">      &quot;# make predictions\n&quot;,</td>
      </tr>
      <tr>
        <td id="L2472" class="blob-num js-line-number" data-line-number="2472"></td>
        <td id="LC2472" class="blob-code js-file-line">      &quot;expected = y_train \n&quot;,</td>
      </tr>
      <tr>
        <td id="L2473" class="blob-num js-line-number" data-line-number="2473"></td>
        <td id="LC2473" class="blob-code js-file-line">      &quot;predicted = model.predict(X_train)&quot;</td>
      </tr>
      <tr>
        <td id="L2474" class="blob-num js-line-number" data-line-number="2474"></td>
        <td id="LC2474" class="blob-code js-file-line">     ],</td>
      </tr>
      <tr>
        <td id="L2475" class="blob-num js-line-number" data-line-number="2475"></td>
        <td id="LC2475" class="blob-code js-file-line">     &quot;language&quot;: &quot;python&quot;,</td>
      </tr>
      <tr>
        <td id="L2476" class="blob-num js-line-number" data-line-number="2476"></td>
        <td id="LC2476" class="blob-code js-file-line">     &quot;metadata&quot;: {},</td>
      </tr>
      <tr>
        <td id="L2477" class="blob-num js-line-number" data-line-number="2477"></td>
        <td id="LC2477" class="blob-code js-file-line">     &quot;outputs&quot;: [],</td>
      </tr>
      <tr>
        <td id="L2478" class="blob-num js-line-number" data-line-number="2478"></td>
        <td id="LC2478" class="blob-code js-file-line">     &quot;prompt_number&quot;: 176</td>
      </tr>
      <tr>
        <td id="L2479" class="blob-num js-line-number" data-line-number="2479"></td>
        <td id="LC2479" class="blob-code js-file-line">    },</td>
      </tr>
      <tr>
        <td id="L2480" class="blob-num js-line-number" data-line-number="2480"></td>
        <td id="LC2480" class="blob-code js-file-line">    {</td>
      </tr>
      <tr>
        <td id="L2481" class="blob-num js-line-number" data-line-number="2481"></td>
        <td id="LC2481" class="blob-code js-file-line">     &quot;cell_type&quot;: &quot;code&quot;,</td>
      </tr>
      <tr>
        <td id="L2482" class="blob-num js-line-number" data-line-number="2482"></td>
        <td id="LC2482" class="blob-code js-file-line">     &quot;collapsed&quot;: false,</td>
      </tr>
      <tr>
        <td id="L2483" class="blob-num js-line-number" data-line-number="2483"></td>
        <td id="LC2483" class="blob-code js-file-line">     &quot;input&quot;: [</td>
      </tr>
      <tr>
        <td id="L2484" class="blob-num js-line-number" data-line-number="2484"></td>
        <td id="LC2484" class="blob-code js-file-line">      &quot;# summarize the fit of the model\n&quot;,</td>
      </tr>
      <tr>
        <td id="L2485" class="blob-num js-line-number" data-line-number="2485"></td>
        <td id="LC2485" class="blob-code js-file-line">      &quot;print(metrics.classification_report(expected,predicted)) &quot;</td>
      </tr>
      <tr>
        <td id="L2486" class="blob-num js-line-number" data-line-number="2486"></td>
        <td id="LC2486" class="blob-code js-file-line">     ],</td>
      </tr>
      <tr>
        <td id="L2487" class="blob-num js-line-number" data-line-number="2487"></td>
        <td id="LC2487" class="blob-code js-file-line">     &quot;language&quot;: &quot;python&quot;,</td>
      </tr>
      <tr>
        <td id="L2488" class="blob-num js-line-number" data-line-number="2488"></td>
        <td id="LC2488" class="blob-code js-file-line">     &quot;metadata&quot;: {},</td>
      </tr>
      <tr>
        <td id="L2489" class="blob-num js-line-number" data-line-number="2489"></td>
        <td id="LC2489" class="blob-code js-file-line">     &quot;outputs&quot;: [</td>
      </tr>
      <tr>
        <td id="L2490" class="blob-num js-line-number" data-line-number="2490"></td>
        <td id="LC2490" class="blob-code js-file-line">      {</td>
      </tr>
      <tr>
        <td id="L2491" class="blob-num js-line-number" data-line-number="2491"></td>
        <td id="LC2491" class="blob-code js-file-line">       &quot;output_type&quot;: &quot;stream&quot;,</td>
      </tr>
      <tr>
        <td id="L2492" class="blob-num js-line-number" data-line-number="2492"></td>
        <td id="LC2492" class="blob-code js-file-line">       &quot;stream&quot;: &quot;stdout&quot;,</td>
      </tr>
      <tr>
        <td id="L2493" class="blob-num js-line-number" data-line-number="2493"></td>
        <td id="LC2493" class="blob-code js-file-line">       &quot;text&quot;: [</td>
      </tr>
      <tr>
        <td id="L2494" class="blob-num js-line-number" data-line-number="2494"></td>
        <td id="LC2494" class="blob-code js-file-line">        &quot;             precision    recall  f1-score   support\n&quot;,</td>
      </tr>
      <tr>
        <td id="L2495" class="blob-num js-line-number" data-line-number="2495"></td>
        <td id="LC2495" class="blob-code js-file-line">        &quot;\n&quot;,</td>
      </tr>
      <tr>
        <td id="L2496" class="blob-num js-line-number" data-line-number="2496"></td>
        <td id="LC2496" class="blob-code js-file-line">        &quot;      False       0.55      0.99      0.71      3544\n&quot;,</td>
      </tr>
      <tr>
        <td id="L2497" class="blob-num js-line-number" data-line-number="2497"></td>
        <td id="LC2497" class="blob-code js-file-line">        &quot;       True       0.53      0.01      0.03      2919\n&quot;,</td>
      </tr>
      <tr>
        <td id="L2498" class="blob-num js-line-number" data-line-number="2498"></td>
        <td id="LC2498" class="blob-code js-file-line">        &quot;\n&quot;,</td>
      </tr>
      <tr>
        <td id="L2499" class="blob-num js-line-number" data-line-number="2499"></td>
        <td id="LC2499" class="blob-code js-file-line">        &quot;avg / total       0.54      0.55      0.40      6463\n&quot;,</td>
      </tr>
      <tr>
        <td id="L2500" class="blob-num js-line-number" data-line-number="2500"></td>
        <td id="LC2500" class="blob-code js-file-line">        &quot;\n&quot;</td>
      </tr>
      <tr>
        <td id="L2501" class="blob-num js-line-number" data-line-number="2501"></td>
        <td id="LC2501" class="blob-code js-file-line">       ]</td>
      </tr>
      <tr>
        <td id="L2502" class="blob-num js-line-number" data-line-number="2502"></td>
        <td id="LC2502" class="blob-code js-file-line">      }</td>
      </tr>
      <tr>
        <td id="L2503" class="blob-num js-line-number" data-line-number="2503"></td>
        <td id="LC2503" class="blob-code js-file-line">     ],</td>
      </tr>
      <tr>
        <td id="L2504" class="blob-num js-line-number" data-line-number="2504"></td>
        <td id="LC2504" class="blob-code js-file-line">     &quot;prompt_number&quot;: 177</td>
      </tr>
      <tr>
        <td id="L2505" class="blob-num js-line-number" data-line-number="2505"></td>
        <td id="LC2505" class="blob-code js-file-line">    },</td>
      </tr>
      <tr>
        <td id="L2506" class="blob-num js-line-number" data-line-number="2506"></td>
        <td id="LC2506" class="blob-code js-file-line">    {</td>
      </tr>
      <tr>
        <td id="L2507" class="blob-num js-line-number" data-line-number="2507"></td>
        <td id="LC2507" class="blob-code js-file-line">     &quot;cell_type&quot;: &quot;code&quot;,</td>
      </tr>
      <tr>
        <td id="L2508" class="blob-num js-line-number" data-line-number="2508"></td>
        <td id="LC2508" class="blob-code js-file-line">     &quot;collapsed&quot;: false,</td>
      </tr>
      <tr>
        <td id="L2509" class="blob-num js-line-number" data-line-number="2509"></td>
        <td id="LC2509" class="blob-code js-file-line">     &quot;input&quot;: [</td>
      </tr>
      <tr>
        <td id="L2510" class="blob-num js-line-number" data-line-number="2510"></td>
        <td id="LC2510" class="blob-code js-file-line">      &quot;# summarize the confusion matrix\n&quot;,</td>
      </tr>
      <tr>
        <td id="L2511" class="blob-num js-line-number" data-line-number="2511"></td>
        <td id="LC2511" class="blob-code js-file-line">      &quot;print(metrics.confusion_matrix(expected,predicted))&quot;</td>
      </tr>
      <tr>
        <td id="L2512" class="blob-num js-line-number" data-line-number="2512"></td>
        <td id="LC2512" class="blob-code js-file-line">     ],</td>
      </tr>
      <tr>
        <td id="L2513" class="blob-num js-line-number" data-line-number="2513"></td>
        <td id="LC2513" class="blob-code js-file-line">     &quot;language&quot;: &quot;python&quot;,</td>
      </tr>
      <tr>
        <td id="L2514" class="blob-num js-line-number" data-line-number="2514"></td>
        <td id="LC2514" class="blob-code js-file-line">     &quot;metadata&quot;: {},</td>
      </tr>
      <tr>
        <td id="L2515" class="blob-num js-line-number" data-line-number="2515"></td>
        <td id="LC2515" class="blob-code js-file-line">     &quot;outputs&quot;: [</td>
      </tr>
      <tr>
        <td id="L2516" class="blob-num js-line-number" data-line-number="2516"></td>
        <td id="LC2516" class="blob-code js-file-line">      {</td>
      </tr>
      <tr>
        <td id="L2517" class="blob-num js-line-number" data-line-number="2517"></td>
        <td id="LC2517" class="blob-code js-file-line">       &quot;output_type&quot;: &quot;stream&quot;,</td>
      </tr>
      <tr>
        <td id="L2518" class="blob-num js-line-number" data-line-number="2518"></td>
        <td id="LC2518" class="blob-code js-file-line">       &quot;stream&quot;: &quot;stdout&quot;,</td>
      </tr>
      <tr>
        <td id="L2519" class="blob-num js-line-number" data-line-number="2519"></td>
        <td id="LC2519" class="blob-code js-file-line">       &quot;text&quot;: [</td>
      </tr>
      <tr>
        <td id="L2520" class="blob-num js-line-number" data-line-number="2520"></td>
        <td id="LC2520" class="blob-code js-file-line">        &quot;[[3510   34]\n&quot;,</td>
      </tr>
      <tr>
        <td id="L2521" class="blob-num js-line-number" data-line-number="2521"></td>
        <td id="LC2521" class="blob-code js-file-line">        &quot; [2880   39]]\n&quot;</td>
      </tr>
      <tr>
        <td id="L2522" class="blob-num js-line-number" data-line-number="2522"></td>
        <td id="LC2522" class="blob-code js-file-line">       ]</td>
      </tr>
      <tr>
        <td id="L2523" class="blob-num js-line-number" data-line-number="2523"></td>
        <td id="LC2523" class="blob-code js-file-line">      }</td>
      </tr>
      <tr>
        <td id="L2524" class="blob-num js-line-number" data-line-number="2524"></td>
        <td id="LC2524" class="blob-code js-file-line">     ],</td>
      </tr>
      <tr>
        <td id="L2525" class="blob-num js-line-number" data-line-number="2525"></td>
        <td id="LC2525" class="blob-code js-file-line">     &quot;prompt_number&quot;: 178</td>
      </tr>
      <tr>
        <td id="L2526" class="blob-num js-line-number" data-line-number="2526"></td>
        <td id="LC2526" class="blob-code js-file-line">    },</td>
      </tr>
      <tr>
        <td id="L2527" class="blob-num js-line-number" data-line-number="2527"></td>
        <td id="LC2527" class="blob-code js-file-line">    {</td>
      </tr>
      <tr>
        <td id="L2528" class="blob-num js-line-number" data-line-number="2528"></td>
        <td id="LC2528" class="blob-code js-file-line">     &quot;cell_type&quot;: &quot;code&quot;,</td>
      </tr>
      <tr>
        <td id="L2529" class="blob-num js-line-number" data-line-number="2529"></td>
        <td id="LC2529" class="blob-code js-file-line">     &quot;collapsed&quot;: false,</td>
      </tr>
      <tr>
        <td id="L2530" class="blob-num js-line-number" data-line-number="2530"></td>
        <td id="LC2530" class="blob-code js-file-line">     &quot;input&quot;: [</td>
      </tr>
      <tr>
        <td id="L2531" class="blob-num js-line-number" data-line-number="2531"></td>
        <td id="LC2531" class="blob-code js-file-line">      &quot;print(model.score(X_train, y_train))&quot;</td>
      </tr>
      <tr>
        <td id="L2532" class="blob-num js-line-number" data-line-number="2532"></td>
        <td id="LC2532" class="blob-code js-file-line">     ],</td>
      </tr>
      <tr>
        <td id="L2533" class="blob-num js-line-number" data-line-number="2533"></td>
        <td id="LC2533" class="blob-code js-file-line">     &quot;language&quot;: &quot;python&quot;,</td>
      </tr>
      <tr>
        <td id="L2534" class="blob-num js-line-number" data-line-number="2534"></td>
        <td id="LC2534" class="blob-code js-file-line">     &quot;metadata&quot;: {},</td>
      </tr>
      <tr>
        <td id="L2535" class="blob-num js-line-number" data-line-number="2535"></td>
        <td id="LC2535" class="blob-code js-file-line">     &quot;outputs&quot;: [</td>
      </tr>
      <tr>
        <td id="L2536" class="blob-num js-line-number" data-line-number="2536"></td>
        <td id="LC2536" class="blob-code js-file-line">      {</td>
      </tr>
      <tr>
        <td id="L2537" class="blob-num js-line-number" data-line-number="2537"></td>
        <td id="LC2537" class="blob-code js-file-line">       &quot;output_type&quot;: &quot;stream&quot;,</td>
      </tr>
      <tr>
        <td id="L2538" class="blob-num js-line-number" data-line-number="2538"></td>
        <td id="LC2538" class="blob-code js-file-line">       &quot;stream&quot;: &quot;stdout&quot;,</td>
      </tr>
      <tr>
        <td id="L2539" class="blob-num js-line-number" data-line-number="2539"></td>
        <td id="LC2539" class="blob-code js-file-line">       &quot;text&quot;: [</td>
      </tr>
      <tr>
        <td id="L2540" class="blob-num js-line-number" data-line-number="2540"></td>
        <td id="LC2540" class="blob-code js-file-line">        &quot;0.549125792975\n&quot;</td>
      </tr>
      <tr>
        <td id="L2541" class="blob-num js-line-number" data-line-number="2541"></td>
        <td id="LC2541" class="blob-code js-file-line">       ]</td>
      </tr>
      <tr>
        <td id="L2542" class="blob-num js-line-number" data-line-number="2542"></td>
        <td id="LC2542" class="blob-code js-file-line">      }</td>
      </tr>
      <tr>
        <td id="L2543" class="blob-num js-line-number" data-line-number="2543"></td>
        <td id="LC2543" class="blob-code js-file-line">     ],</td>
      </tr>
      <tr>
        <td id="L2544" class="blob-num js-line-number" data-line-number="2544"></td>
        <td id="LC2544" class="blob-code js-file-line">     &quot;prompt_number&quot;: 179</td>
      </tr>
      <tr>
        <td id="L2545" class="blob-num js-line-number" data-line-number="2545"></td>
        <td id="LC2545" class="blob-code js-file-line">    },</td>
      </tr>
      <tr>
        <td id="L2546" class="blob-num js-line-number" data-line-number="2546"></td>
        <td id="LC2546" class="blob-code js-file-line">    {</td>
      </tr>
      <tr>
        <td id="L2547" class="blob-num js-line-number" data-line-number="2547"></td>
        <td id="LC2547" class="blob-code js-file-line">     &quot;cell_type&quot;: &quot;code&quot;,</td>
      </tr>
      <tr>
        <td id="L2548" class="blob-num js-line-number" data-line-number="2548"></td>
        <td id="LC2548" class="blob-code js-file-line">     &quot;collapsed&quot;: false,</td>
      </tr>
      <tr>
        <td id="L2549" class="blob-num js-line-number" data-line-number="2549"></td>
        <td id="LC2549" class="blob-code js-file-line">     &quot;input&quot;: [</td>
      </tr>
      <tr>
        <td id="L2550" class="blob-num js-line-number" data-line-number="2550"></td>
        <td id="LC2550" class="blob-code js-file-line">      &quot;print(model.score(X_test, y_test))&quot;</td>
      </tr>
      <tr>
        <td id="L2551" class="blob-num js-line-number" data-line-number="2551"></td>
        <td id="LC2551" class="blob-code js-file-line">     ],</td>
      </tr>
      <tr>
        <td id="L2552" class="blob-num js-line-number" data-line-number="2552"></td>
        <td id="LC2552" class="blob-code js-file-line">     &quot;language&quot;: &quot;python&quot;,</td>
      </tr>
      <tr>
        <td id="L2553" class="blob-num js-line-number" data-line-number="2553"></td>
        <td id="LC2553" class="blob-code js-file-line">     &quot;metadata&quot;: {},</td>
      </tr>
      <tr>
        <td id="L2554" class="blob-num js-line-number" data-line-number="2554"></td>
        <td id="LC2554" class="blob-code js-file-line">     &quot;outputs&quot;: [</td>
      </tr>
      <tr>
        <td id="L2555" class="blob-num js-line-number" data-line-number="2555"></td>
        <td id="LC2555" class="blob-code js-file-line">      {</td>
      </tr>
      <tr>
        <td id="L2556" class="blob-num js-line-number" data-line-number="2556"></td>
        <td id="LC2556" class="blob-code js-file-line">       &quot;output_type&quot;: &quot;stream&quot;,</td>
      </tr>
      <tr>
        <td id="L2557" class="blob-num js-line-number" data-line-number="2557"></td>
        <td id="LC2557" class="blob-code js-file-line">       &quot;stream&quot;: &quot;stdout&quot;,</td>
      </tr>
      <tr>
        <td id="L2558" class="blob-num js-line-number" data-line-number="2558"></td>
        <td id="LC2558" class="blob-code js-file-line">       &quot;text&quot;: [</td>
      </tr>
      <tr>
        <td id="L2559" class="blob-num js-line-number" data-line-number="2559"></td>
        <td id="LC2559" class="blob-code js-file-line">        &quot;0.548027842227\n&quot;</td>
      </tr>
      <tr>
        <td id="L2560" class="blob-num js-line-number" data-line-number="2560"></td>
        <td id="LC2560" class="blob-code js-file-line">       ]</td>
      </tr>
      <tr>
        <td id="L2561" class="blob-num js-line-number" data-line-number="2561"></td>
        <td id="LC2561" class="blob-code js-file-line">      }</td>
      </tr>
      <tr>
        <td id="L2562" class="blob-num js-line-number" data-line-number="2562"></td>
        <td id="LC2562" class="blob-code js-file-line">     ],</td>
      </tr>
      <tr>
        <td id="L2563" class="blob-num js-line-number" data-line-number="2563"></td>
        <td id="LC2563" class="blob-code js-file-line">     &quot;prompt_number&quot;: 180</td>
      </tr>
      <tr>
        <td id="L2564" class="blob-num js-line-number" data-line-number="2564"></td>
        <td id="LC2564" class="blob-code js-file-line">    }</td>
      </tr>
      <tr>
        <td id="L2565" class="blob-num js-line-number" data-line-number="2565"></td>
        <td id="LC2565" class="blob-code js-file-line">   ],</td>
      </tr>
      <tr>
        <td id="L2566" class="blob-num js-line-number" data-line-number="2566"></td>
        <td id="LC2566" class="blob-code js-file-line">   &quot;metadata&quot;: {}</td>
      </tr>
      <tr>
        <td id="L2567" class="blob-num js-line-number" data-line-number="2567"></td>
        <td id="LC2567" class="blob-code js-file-line">  }</td>
      </tr>
      <tr>
        <td id="L2568" class="blob-num js-line-number" data-line-number="2568"></td>
        <td id="LC2568" class="blob-code js-file-line"> ]</td>
      </tr>
      <tr>
        <td id="L2569" class="blob-num js-line-number" data-line-number="2569"></td>
        <td id="LC2569" class="blob-code js-file-line">}</td>
      </tr>
</table>

  </div>

  </div>
</div>

<a href="#jump-to-line" rel="facebox[.linejump]" data-hotkey="l" style="display:none">Jump to Line</a>
<div id="jump-to-line" style="display:none">
  <form accept-charset="UTF-8" class="js-jump-to-line-form">
    <input class="linejump-input js-jump-to-line-field" type="text" placeholder="Jump to line&hellip;" autofocus>
    <button type="submit" class="button">Go</button>
  </form>
</div>

        </div>

      </div><!-- /.repo-container -->
      <div class="modal-backdrop"></div>
    </div><!-- /.container -->
  </div><!-- /.site -->


    </div><!-- /.wrapper -->

      <div class="container">
  <div class="site-footer" role="contentinfo">
    <ul class="site-footer-links right">
      <li><a href="https://status.github.com/">Status</a></li>
      <li><a href="https://developer.github.com">API</a></li>
      <li><a href="http://training.github.com">Training</a></li>
      <li><a href="http://shop.github.com">Shop</a></li>
      <li><a href="/blog">Blog</a></li>
      <li><a href="/about">About</a></li>

    </ul>

    <a href="/" aria-label="Homepage">
      <span class="mega-octicon octicon-mark-github" title="GitHub"></span>
    </a>

    <ul class="site-footer-links">
      <li>&copy; 2014 <span title="0.13918s from github-fe121-cp1-prd.iad.github.net">GitHub</span>, Inc.</li>
        <li><a href="/site/terms">Terms</a></li>
        <li><a href="/site/privacy">Privacy</a></li>
        <li><a href="/security">Security</a></li>
        <li><a href="/contact">Contact</a></li>
    </ul>
  </div><!-- /.site-footer -->
</div><!-- /.container -->


    <div class="fullscreen-overlay js-fullscreen-overlay" id="fullscreen_overlay">
  <div class="fullscreen-container js-suggester-container">
    <div class="textarea-wrap">
      <textarea name="fullscreen-contents" id="fullscreen-contents" class="fullscreen-contents js-fullscreen-contents" placeholder=""></textarea>
      <div class="suggester-container">
        <div class="suggester fullscreen-suggester js-suggester js-navigation-container"></div>
      </div>
    </div>
  </div>
  <div class="fullscreen-sidebar">
    <a href="#" class="exit-fullscreen js-exit-fullscreen tooltipped tooltipped-w" aria-label="Exit Zen Mode">
      <span class="mega-octicon octicon-screen-normal"></span>
    </a>
    <a href="#" class="theme-switcher js-theme-switcher tooltipped tooltipped-w"
      aria-label="Switch themes">
      <span class="octicon octicon-color-mode"></span>
    </a>
  </div>
</div>



    <div id="ajax-error-message" class="flash flash-error">
      <span class="octicon octicon-alert"></span>
      <a href="#" class="octicon octicon-x flash-close js-ajax-error-dismiss" aria-label="Dismiss error"></a>
      Something went wrong with that request. Please try again.
    </div>


      <script crossorigin="anonymous" src="https://assets-cdn.github.com/assets/frameworks-153d6254b838872c8db73c8bd92905913f6f5b2164b7e40e5292286bd5a39403.js" type="text/javascript"></script>
      <script async="async" crossorigin="anonymous" src="https://assets-cdn.github.com/assets/github-328122e491be5b60198f717bbe44dc993b1277b3e7f1b6cd767447d7f58c8784.js" type="text/javascript"></script>
      
      
  </body>
</html>

